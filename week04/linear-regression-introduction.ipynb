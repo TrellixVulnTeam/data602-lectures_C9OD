{
 "cells": [
  {
   "cell_type": "markdown",
   "metadata": {},
   "source": [
    "# Notation and Operation Review\n",
    "\n",
    ">For a refresher see Zico Kolter's [*Linear Algebra Review and Reference*](http://www.cs.cmu.edu/~zkolter/course/linalg/linalg_notes.pdf)\n",
    "\n"
   ]
  },
  {
   "cell_type": "markdown",
   "metadata": {},
   "source": [
    "## Matrices (2-d arrays):\n",
    "\n",
    "$$\\begin{equation*}\n",
    "X_{ij} = \n",
    "\\begin{pmatrix}\n",
    "x_{11} & \\dots & x_{1j} \\\\\n",
    "x_{21} & \\dots & x_{2j} \\\\\n",
    "x_{31} & \\dots & x_{3j} \\\\\n",
    "\\dots & \\dots & \\dots \\\\\n",
    "x_{i1} & \\dots & x_{ij}\n",
    "\\end{pmatrix}\n",
    "\\end{equation*}\n",
    "$$\n",
    "\n",
    "### Example:\n",
    "$$\\begin{equation*}\n",
    "X_{ij} = \n",
    "\\begin{pmatrix}\n",
    "1 & 3 \\\\\n",
    "2 & 5 \\\\\n",
    "3 & 7 \n",
    "\\end{pmatrix}\n",
    "\\end{equation*}\n",
    "$$\n",
    "\n",
    "$X_{1,1} = 1, X_{1,2} = 3, \\dots$\n",
    "\n",
    "\n",
    "> A **Vector** is sometime used to describe a $nx1$ matrix, with elements described by $x_{1},x_{2},\\dots,x_{i}$"
   ]
  },
  {
   "cell_type": "code",
   "execution_count": 121,
   "metadata": {},
   "outputs": [
    {
     "name": "stdout",
     "output_type": "stream",
     "text": [
      "[[1 3]\n",
      " [2 5]\n",
      " [3 7]]\n"
     ]
    }
   ],
   "source": [
    "import numpy as np\n",
    "\n",
    "X = np.array([[1,3], [2,5], [3,7]])\n",
    "print(X)"
   ]
  },
  {
   "cell_type": "markdown",
   "metadata": {},
   "source": [
    "### Multiplying by a scalar (i.e., coefficient and/or weight)\n",
    "\n",
    "$$\\begin{equation*}\n",
    "2*X_{ij} = 2*\n",
    "\\begin{pmatrix}\n",
    "1 & 3 \\\\\n",
    "2 & 5 \\\\\n",
    "3 & 7 \n",
    "\\end{pmatrix} = \n",
    "\\begin{pmatrix}\n",
    "2*1 & 2*3 \\\\\n",
    "2*2 & 2*5 \\\\\n",
    "2*3 & 2*7 \n",
    "\\end{pmatrix} =\n",
    "\\begin{pmatrix}\n",
    "2 & 6 \\\\\n",
    "4 & 10 \\\\\n",
    "6 & 14 \n",
    "\\end{pmatrix}\n",
    "\\end{equation*}\n",
    "$$"
   ]
  },
  {
   "cell_type": "code",
   "execution_count": 122,
   "metadata": {},
   "outputs": [
    {
     "name": "stdout",
     "output_type": "stream",
     "text": [
      "[[ 2  6]\n",
      " [ 4 10]\n",
      " [ 6 14]]\n"
     ]
    }
   ],
   "source": [
    "print(2*X)"
   ]
  },
  {
   "cell_type": "markdown",
   "metadata": {},
   "source": [
    "### Multiplying by a vector\n",
    "\n",
    "$$\\begin{equation*}\n",
    "(2, 3) *\n",
    "\\begin{pmatrix}\n",
    "1 & 3 \\\\\n",
    "2 & 5 \\\\\n",
    "3 & 7 \n",
    "\\end{pmatrix} = \n",
    "\\begin{pmatrix}\n",
    "2*1 & 3*3 \\\\\n",
    "2*2 & 3*5 \\\\\n",
    "2*3 & 3*7 \n",
    "\\end{pmatrix} =\n",
    "\\begin{pmatrix}\n",
    "2 & 9 \\\\\n",
    "4 & 15 \\\\\n",
    "6 & 21 \n",
    "\\end{pmatrix}\n",
    "\\end{equation*}\n",
    "$$"
   ]
  },
  {
   "cell_type": "code",
   "execution_count": 123,
   "metadata": {},
   "outputs": [
    {
     "name": "stdout",
     "output_type": "stream",
     "text": [
      "[[ 2  9]\n",
      " [ 4 15]\n",
      " [ 6 21]]\n"
     ]
    }
   ],
   "source": [
    "print(np.array([2,3])*X)"
   ]
  },
  {
   "cell_type": "markdown",
   "metadata": {},
   "source": [
    "### Transpose ($X^{T}$)\n",
    "\n",
    "$$\\begin{equation*}\n",
    "X_{3,2} = \n",
    "\\begin{pmatrix}\n",
    "1 & 3 \\\\\n",
    "2 & 5 \\\\\n",
    "3 & 7 \n",
    "\\end{pmatrix}\n",
    "\\end{equation*}\n",
    "$$\n",
    "\n",
    "$$\\begin{equation*}\n",
    "X^{T} = \n",
    "\\begin{pmatrix}\n",
    "1 & 2 & 3 \\\\\n",
    "3 & 5 & 7 \\\\\n",
    "\\end{pmatrix} = A_{2,3}\n",
    "\\end{equation*}\n",
    "$$"
   ]
  },
  {
   "cell_type": "code",
   "execution_count": 124,
   "metadata": {},
   "outputs": [
    {
     "name": "stdout",
     "output_type": "stream",
     "text": [
      "[[1 2 3]\n",
      " [3 5 7]]\n"
     ]
    }
   ],
   "source": [
    "print(X.T)"
   ]
  },
  {
   "cell_type": "markdown",
   "metadata": {},
   "source": [
    "### Dot product\n",
    "\n",
    "$$\\begin{equation*}\n",
    "X^{T}X = \n",
    "\\begin{pmatrix}\n",
    "1 & 2 & 3 \\\\\n",
    "3 & 5 & 7 \\\\\n",
    "\\end{pmatrix}\n",
    "* \n",
    "\\begin{pmatrix}\n",
    "1 & 3 \\\\\n",
    "2 & 5 \\\\\n",
    "3 & 7 \n",
    "\\end{pmatrix}\n",
    "= \n",
    "\\begin{pmatrix}\n",
    "1*1+2*2+3*3 & 1*3+2*5+3*7 \\\\\n",
    "3*1+5*2+7*3 & 3*3+5*5+7*7 \\\\\n",
    "\\end{pmatrix}\n",
    "=\n",
    "\\begin{pmatrix}\n",
    "14 & 34 \\\\\n",
    "34 & 83 \\\\ \n",
    "\\end{pmatrix}\n",
    "\\end{equation*}\n",
    "$$"
   ]
  },
  {
   "cell_type": "code",
   "execution_count": 125,
   "metadata": {},
   "outputs": [
    {
     "name": "stdout",
     "output_type": "stream",
     "text": [
      "[[14 34]\n",
      " [34 83]]\n"
     ]
    }
   ],
   "source": [
    "X_dot = np.dot(X.T, X)\n",
    "print(X_dot)"
   ]
  },
  {
   "cell_type": "markdown",
   "metadata": {},
   "source": [
    "### Inverse of square matrix\n",
    "\n",
    "#### Inverse of matrix only exists for square matrices ${m,m}$\n",
    "\n",
    "$$\n",
    "\\begin{equation}\n",
    "(X^TX)^{-1} =\n",
    "\\begin{pmatrix}\n",
    "14 & 34 \\\\\n",
    "34 & 83 \\\\ \n",
    "\\end{pmatrix}^{-1}=\n",
    "\\begin{pmatrix}\n",
    "\\begin{array}{cc|cc}\n",
    "14 & 34 & 1 & 0\\\\\n",
    "34 & 83 & 0 & 1\\\\ \n",
    "\\end{array}\n",
    "\\end{pmatrix}=\n",
    "\\begin{pmatrix}\n",
    "13.833 & -5.667 \\\\\n",
    "-5.667 & 2.333\n",
    "\\end{pmatrix}\n",
    "\\end{equation}\n",
    "$$\n",
    "\n",
    "For information on finding the inverse see [Gauss-Jordan Elimination](https://online.stat.psu.edu/statprogram/reviews/matrix-algebra/gauss-jordan-elimination)"
   ]
  },
  {
   "cell_type": "code",
   "execution_count": 126,
   "metadata": {},
   "outputs": [
    {
     "name": "stdout",
     "output_type": "stream",
     "text": [
      "[[13.83333333 -5.66666667]\n",
      " [-5.66666667  2.33333333]]\n"
     ]
    }
   ],
   "source": [
    "from numpy.linalg import inv\n",
    "\n",
    "print(inv(X_dot))"
   ]
  },
  {
   "cell_type": "markdown",
   "metadata": {},
   "source": [
    "## That gives us most of what we need in order to understand least squares regression\n",
    "\n",
    "###  See documentation [numpy.](https://numpy.org/doc/stable/index.html) for additional documentation:\n",
    "\n",
    "[numpy.linalg.inv](https://numpy.org/doc/stable/reference/generated/numpy.linalg.inv.html)\n",
    "<br>[numpy.dot](https://numpy.org/doc/stable/reference/generated/numpy.dot.html)\n",
    "<br>[numpy.transpose](https://numpy.org/doc/stable/reference/generated/numpy.transpose.html) "
   ]
  },
  {
   "cell_type": "markdown",
   "metadata": {},
   "source": [
    "# Linear Regression - Supervised Learning for Continuous Outcomes\n",
    "Loosely following Chapter 10 of Python Machine Learning 3rd Edition, Raschka\n",
    "\n",
    ">Disclaimer: Regression is a huge field. It is impossible to cover it all in one class (or even two).\n",
    "\n",
    "<img src='files/diagrams/ols.png'>\n",
    "\n",
    "[Image Source](https://scikit-learn.org/stable/auto_examples/linear_model/plot_ols.html)\n",
    "\n",
    ">For a sense of the depth and potential complexity of regression models, see [Mostly Harmless Econometrics](https://www.mostlyharmlesseconometrics.com)"
   ]
  },
  {
   "cell_type": "markdown",
   "metadata": {},
   "source": [
    "# Ordinary Least Squares (OLS) Linear Regression\n",
    "\n",
    ">[All models are wrong, but some are useful.](https://en.wikipedia.org/wiki/All_models_are_wrong)\n",
    "<br><br>George Box\n",
    "\n",
    "Linear regression is one of the most popular, widely used, and foundational concepts in statistics, econometrics, and machine learning.  \n",
    "\n",
    "Boils down having a numeric target value ($y$) we want to either predict or understand the variance drivers. We use data ($X$) we think impacts our target to understand the underlying **linear** relationship.\n",
    "\n",
    "### Big Assumption: \n",
    "- The regression function $E(Y|X)$ is **linear** in the inputs $X_{1},\\dots,X_{p}$\n",
    "- Transformations can be applied to satisfy that requirment.\n",
    "\n",
    "Typically will see it expressed as $y = \\beta X$, or formally:  \n",
    "\n",
    "$$\n",
    "f(X)=\\beta_{0}+\\sum{X{j}\\beta_{j}}\n",
    "$$\n",
    "\n",
    "- Linear model assumes the function is linear or reasonably linear.\n",
    "- The true $\\beta_{j}$'s are unknown parameters (coefficients/weights). \n",
    "- The features must be able to be represented within a non-null numeric matrix.\n",
    "\n",
    "\n",
    "### Goal - Minimize the mean-squared error. Why?\n",
    "Residuals will be positive and negative, need to penalize negative and positive equally.\n",
    "\n",
    "Sum of errors: $\\epsilon_{1} + \\epsilon_{2} + \\dots + \\epsilon_{n}$  \n",
    "RSS: $\\epsilon_{1}^2 + \\epsilon_{2}^2 + \\dots + \\epsilon_{n}^2$  \n",
    "MSE: $\\frac{1}{N}\\sum{\\epsilon_{i}^2}$\n",
    "\n",
    "\n",
    "Most statistical programs solve for the $\\beta$ values using plain old linear alegbra, in what is called the closed-form:  \n",
    "\n",
    "$\\hat\\beta = (X^TX)^{-1}X^{T}y$"
   ]
  },
  {
   "cell_type": "markdown",
   "metadata": {},
   "source": [
    "### Closed Form Derivation\n",
    "\n",
    "$$RSS(\\beta)=\\sum{(y_{i}-f(x_{i}))^2}$$\n",
    "\n",
    "$$=\\sum(y_{i}-\\beta_{0}-\\sum{x_{ij}\\beta{j}})^2$$\n",
    "\n",
    "$(x_i,y_i)$ should be independent from other $(x_i,y_i)$'s  \n",
    "- Time series models violate this without special treatment\n",
    "\n",
    "We are seeking a $f(X)$ that minimizes the sum of squared residuals from $Y$:\n",
    "\n",
    "<img src='files/diagrams/esl-3-1.png'>\n",
    "\n",
    "\n",
    "[Image source: Elements of Statistical Learning, Figure 3.1](https://www.statlearning.com)"
   ]
  },
  {
   "cell_type": "markdown",
   "metadata": {},
   "source": [
    "$$\n",
    "RSS(\\beta)=(y-X\\beta)^T(y-X\\beta)\n",
    "$$\n",
    "\n",
    "#### Differentiating:\n",
    "$$\n",
    "\\frac{dRSS}{d\\beta}=-2X^T(y-X\\beta)\n",
    "$$\n",
    "\n",
    "#### And again:\n",
    "$$\n",
    "\\frac{d^2RSS}{d\\beta d \\beta^T}=2X^TX\n",
    "$$\n",
    "\n",
    "#### Setting the first derivative to zero:\n",
    "$$ \n",
    "X^T(y-X\\beta)=0\n",
    "$$\n",
    "\n",
    "#### And we get:\n",
    "$$\n",
    "\\hat{\\beta}=(X^TX)^{-1}X^Ty\n",
    "$$\n",
    "\n",
    "#### And our predicted values are:\n",
    "$$\n",
    "\\hat{y}=X\\hat{\\beta}\n",
    "$$\n",
    "\n",
    "#### And relates to $y$ by:\n",
    "$$\n",
    "y = \\hat{y} + \\epsilon =X\\hat{\\beta}+\\epsilon \n",
    "$$"
   ]
  },
  {
   "cell_type": "markdown",
   "metadata": {},
   "source": [
    "### Unique solution means we can derive with pure linear algebra!"
   ]
  },
  {
   "cell_type": "markdown",
   "metadata": {},
   "source": [
    "## Slope and Intercept\n",
    "### Remember in its simple form: $$y=mx+b$$\n",
    "\n",
    "<img src='files/diagrams/slope.png' style=\"height: 350px;width: 350px;\">\n",
    "\n",
    "[Image source](https://en.wikipedia.org/wiki/Linear_regression#/media/File:Linear_least_squares_example2.png)\n",
    "\n",
    "Since we need an estimate for the intercept, we'll need to manually add the constant. \n",
    "\n",
    "- Intercept: where the line go through the y-axis.  \n",
    "- Slope: for a 1-unit change in x, y will increase by $\\beta$\n"
   ]
  },
  {
   "cell_type": "markdown",
   "metadata": {},
   "source": [
    "# Example - Credit Data\n",
    "[Data from Elements of Statistical Learning](https://www.statlearning.com)"
   ]
  },
  {
   "cell_type": "code",
   "execution_count": 127,
   "metadata": {},
   "outputs": [
    {
     "data": {
      "text/html": [
       "<div>\n",
       "<style scoped>\n",
       "    .dataframe tbody tr th:only-of-type {\n",
       "        vertical-align: middle;\n",
       "    }\n",
       "\n",
       "    .dataframe tbody tr th {\n",
       "        vertical-align: top;\n",
       "    }\n",
       "\n",
       "    .dataframe thead th {\n",
       "        text-align: right;\n",
       "    }\n",
       "</style>\n",
       "<table border=\"1\" class=\"dataframe\">\n",
       "  <thead>\n",
       "    <tr style=\"text-align: right;\">\n",
       "      <th></th>\n",
       "      <th>Income</th>\n",
       "      <th>Limit</th>\n",
       "      <th>Rating</th>\n",
       "      <th>Cards</th>\n",
       "      <th>Age</th>\n",
       "      <th>Education</th>\n",
       "      <th>Gender</th>\n",
       "      <th>Student</th>\n",
       "      <th>Married</th>\n",
       "      <th>Ethnicity</th>\n",
       "      <th>Balance</th>\n",
       "    </tr>\n",
       "  </thead>\n",
       "  <tbody>\n",
       "    <tr>\n",
       "      <th>0</th>\n",
       "      <td>14.891</td>\n",
       "      <td>3606</td>\n",
       "      <td>283</td>\n",
       "      <td>2</td>\n",
       "      <td>34</td>\n",
       "      <td>11</td>\n",
       "      <td>Male</td>\n",
       "      <td>No</td>\n",
       "      <td>Yes</td>\n",
       "      <td>Caucasian</td>\n",
       "      <td>333</td>\n",
       "    </tr>\n",
       "    <tr>\n",
       "      <th>1</th>\n",
       "      <td>106.025</td>\n",
       "      <td>6645</td>\n",
       "      <td>483</td>\n",
       "      <td>3</td>\n",
       "      <td>82</td>\n",
       "      <td>15</td>\n",
       "      <td>Female</td>\n",
       "      <td>Yes</td>\n",
       "      <td>Yes</td>\n",
       "      <td>Asian</td>\n",
       "      <td>903</td>\n",
       "    </tr>\n",
       "    <tr>\n",
       "      <th>2</th>\n",
       "      <td>104.593</td>\n",
       "      <td>7075</td>\n",
       "      <td>514</td>\n",
       "      <td>4</td>\n",
       "      <td>71</td>\n",
       "      <td>11</td>\n",
       "      <td>Male</td>\n",
       "      <td>No</td>\n",
       "      <td>No</td>\n",
       "      <td>Asian</td>\n",
       "      <td>580</td>\n",
       "    </tr>\n",
       "    <tr>\n",
       "      <th>3</th>\n",
       "      <td>148.924</td>\n",
       "      <td>9504</td>\n",
       "      <td>681</td>\n",
       "      <td>3</td>\n",
       "      <td>36</td>\n",
       "      <td>11</td>\n",
       "      <td>Female</td>\n",
       "      <td>No</td>\n",
       "      <td>No</td>\n",
       "      <td>Asian</td>\n",
       "      <td>964</td>\n",
       "    </tr>\n",
       "    <tr>\n",
       "      <th>4</th>\n",
       "      <td>55.882</td>\n",
       "      <td>4897</td>\n",
       "      <td>357</td>\n",
       "      <td>2</td>\n",
       "      <td>68</td>\n",
       "      <td>16</td>\n",
       "      <td>Male</td>\n",
       "      <td>No</td>\n",
       "      <td>Yes</td>\n",
       "      <td>Caucasian</td>\n",
       "      <td>331</td>\n",
       "    </tr>\n",
       "  </tbody>\n",
       "</table>\n",
       "</div>"
      ],
      "text/plain": [
       "    Income  Limit  Rating  Cards  Age  Education  Gender Student Married  \\\n",
       "0   14.891   3606     283      2   34         11    Male      No     Yes   \n",
       "1  106.025   6645     483      3   82         15  Female     Yes     Yes   \n",
       "2  104.593   7075     514      4   71         11    Male      No      No   \n",
       "3  148.924   9504     681      3   36         11  Female      No      No   \n",
       "4   55.882   4897     357      2   68         16    Male      No     Yes   \n",
       "\n",
       "   Ethnicity  Balance  \n",
       "0  Caucasian      333  \n",
       "1      Asian      903  \n",
       "2      Asian      580  \n",
       "3      Asian      964  \n",
       "4  Caucasian      331  "
      ]
     },
     "execution_count": 127,
     "metadata": {},
     "output_type": "execute_result"
    }
   ],
   "source": [
    "import pandas as pd\n",
    "import numpy as np\n",
    "import matplotlib.pyplot as plt\n",
    "%matplotlib inline\n",
    "\n",
    "credit = pd.read_csv('data/islr-credit.csv')\n",
    "credit = credit.iloc[:, 1:]\n",
    "credit.head()"
   ]
  },
  {
   "cell_type": "markdown",
   "metadata": {},
   "source": [
    "## Find Function so $Rating=f(Limit)$\n",
    "We'll need to convert the pandas objects to numpy arrays."
   ]
  },
  {
   "cell_type": "code",
   "execution_count": 128,
   "metadata": {},
   "outputs": [
    {
     "data": {
      "text/plain": [
       "((400, 1), (400, 1))"
      ]
     },
     "execution_count": 128,
     "metadata": {},
     "output_type": "execute_result"
    }
   ],
   "source": [
    "X = np.array(credit['Limit']).reshape(-1,1)\n",
    "y = np.array(credit['Rating']).reshape(-1,1)\n",
    "\n",
    "X.shape, y.shape"
   ]
  },
  {
   "cell_type": "markdown",
   "metadata": {},
   "source": [
    "And since we are going to implement a version, we'll need to manually add the constant for the intercept. Why?\n",
    "\n",
    "$y=\\beta_{0}(1)+\\beta_{i}x_{i}$"
   ]
  },
  {
   "cell_type": "code",
   "execution_count": 129,
   "metadata": {},
   "outputs": [
    {
     "data": {
      "text/plain": [
       "array([[1.000e+00, 3.606e+03],\n",
       "       [1.000e+00, 6.645e+03],\n",
       "       [1.000e+00, 7.075e+03],\n",
       "       [1.000e+00, 9.504e+03],\n",
       "       [1.000e+00, 4.897e+03]])"
      ]
     },
     "execution_count": 129,
     "metadata": {},
     "output_type": "execute_result"
    }
   ],
   "source": [
    "from numpy.linalg import inv\n",
    "\n",
    "'''\n",
    "- Manually adding the constant\n",
    "- Sometimes this is done via the API (check the docs)\n",
    "''' \n",
    "const = np.ones(shape=y.shape)\n",
    "mat = np.concatenate( (const, X), axis=1)\n",
    "\n",
    "# first 5 examples\n",
    "mat[:5,:]"
   ]
  },
  {
   "cell_type": "markdown",
   "metadata": {},
   "source": [
    "## Betas\n",
    "We have a feature matrix that has 2 columns, so we'll get estimate for the constant ($\\beta_{0}$) and the credit limit ($\\beta_{1}$)."
   ]
  },
  {
   "cell_type": "markdown",
   "metadata": {},
   "source": [
    "### Calculate the coefficient estimates\n",
    "Recall $\\hat\\beta = (X^TX)^{-1}X^{T}y$"
   ]
  },
  {
   "cell_type": "code",
   "execution_count": 130,
   "metadata": {},
   "outputs": [
    {
     "name": "stdout",
     "output_type": "stream",
     "text": [
      "Beta 0: 38.492\n",
      "Beta 1: 0.067\n"
     ]
    }
   ],
   "source": [
    "betas = inv(mat.transpose().dot(mat)).dot(mat.transpose()).dot(y)\n",
    "b0, b1 = betas\n",
    "\n",
    "print(f'Beta 0: {np.round(b0[0],3)}')\n",
    "print(f'Beta 1: {np.round(b1[0],3)}')"
   ]
  },
  {
   "cell_type": "markdown",
   "metadata": {},
   "source": [
    "### Predict $\\hat{y}$ and plot the fit\n",
    "\n",
    "$$\n",
    "\\begin{equation}\n",
    "\\hat{y}=\\hat{\\beta}X=\n",
    "\\hat{\\beta_{0}}\n",
    "\\begin{pmatrix}\n",
    "1 \\\\\n",
    "\\dots \\\\\n",
    "1\n",
    "\\end{pmatrix}+\n",
    "\\hat{\\beta_{1}}\n",
    "\\begin{pmatrix}\n",
    "3606 \\\\\n",
    "\\dots \\\\\n",
    "5524\n",
    "\\end{pmatrix}\n",
    "\\end{equation}\n",
    "$$"
   ]
  },
  {
   "cell_type": "code",
   "execution_count": 131,
   "metadata": {},
   "outputs": [
    {
     "data": {
      "text/plain": [
       "array([[279.45644998],\n",
       "       [482.53232508],\n",
       "       [511.26632517],\n",
       "       [673.58001409],\n",
       "       [365.72527352]])"
      ]
     },
     "execution_count": 131,
     "metadata": {},
     "output_type": "execute_result"
    }
   ],
   "source": [
    "yhat = mat.dot(betas)\n",
    "yhat[:5, :]"
   ]
  },
  {
   "cell_type": "code",
   "execution_count": 132,
   "metadata": {},
   "outputs": [
    {
     "data": {
      "image/png": "[encoded data removed]",
      "text/plain": [
       "<Figure size 432x288 with 1 Axes>"
      ]
     },
     "metadata": {
      "needs_background": "light"
     },
     "output_type": "display_data"
    }
   ],
   "source": [
    "plt.plot(X, y, 'bo')\n",
    "plt.plot(X, yhat, 'r')\n",
    "plt.xlabel('Credit Limit')\n",
    "plt.ylabel('Credit Rating')\n",
    "plt.title('$Rating=f(Limit)$', loc='left')\n",
    "plt.show()"
   ]
  },
  {
   "cell_type": "markdown",
   "metadata": {},
   "source": [
    "## Quantifying fit with metrics\n",
    "Common metrics:\n",
    "\n",
    "### $R^2$ [Wikipedia](https://en.wikipedia.org/wiki/Coefficient_of_determination)\n",
    "$$1 - \\frac{\\sum (\\hat {y}-y)^{2}}{\\sum ({\\bar y}-y)^{2}}$$\n",
    "\n",
    "### Mean squared error (MSE) [Wikipedia](https://en.wikipedia.org/wiki/Mean_squared_error)\n",
    "$$\\frac{\\sum (\\hat {y}-y)^{2}}{n}$$\n",
    "\n",
    "### Mean Absolute Error (MAE) [Wikipedia](https://en.wikipedia.org/wiki/Mean_absolute_error)\n",
    "$$1/n\\sum |\\hat {y}-y|$$\n",
    "\n",
    "### Root mean squared error (RMSE) [Wikipedia](https://en.wikipedia.org/wiki/Root_mean_square)\n",
    "$$\\sqrt \\frac{\\sum (\\hat {y}-y)^{2}}{n}$$\n",
    "\n",
    "#### Notes:\n",
    "- $r^2$ expresses the percent of variance explained (bound between 0% and 100%).  \n",
    "- RMSE expresses the variance in unit terms.  \n",
    "- MSE/MAE are heavily influenced by outliers.  \n",
    "- Usually RMSE is chosen for optimizing since it's an unbiased estimator.\n",
    "- If there are a lot of outliers, MAE may be a better choice.\n",
    "\n",
    "### Further reading:\n",
    "[$r^2$ vs. RMSE](https://www.statology.org/rmse-vs-r-squared/)"
   ]
  },
  {
   "cell_type": "markdown",
   "metadata": {},
   "source": [
    "# Intrepretability\n",
    "A nice property of linear regression is the relatively simple intrepretations that can be drawn. The implementation in statsmodels includes all the output needed to evaluate and interpret model output.\n",
    "\n",
    "[statsmodels OLS regression](https://www.statsmodels.org/stable/regression.html)"
   ]
  },
  {
   "cell_type": "code",
   "execution_count": 133,
   "metadata": {},
   "outputs": [
    {
     "data": {
      "text/plain": [
       "array([38.49178871,  0.06682326])"
      ]
     },
     "execution_count": 133,
     "metadata": {},
     "output_type": "execute_result"
    }
   ],
   "source": [
    "# betas we calculated:\n",
    "betas.reshape(1,-1)[0]"
   ]
  },
  {
   "cell_type": "markdown",
   "metadata": {},
   "source": [
    "statsmodels output:"
   ]
  },
  {
   "cell_type": "code",
   "execution_count": 134,
   "metadata": {},
   "outputs": [
    {
     "name": "stdout",
     "output_type": "stream",
     "text": [
      "                            OLS Regression Results                            \n",
      "==============================================================================\n",
      "Dep. Variable:                      y   R-squared:                       0.994\n",
      "Model:                            OLS   Adj. R-squared:                  0.994\n",
      "Method:                 Least Squares   F-statistic:                 6.348e+04\n",
      "Date:                Sat, 18 Sep 2021   Prob (F-statistic):               0.00\n",
      "Time:                        13:11:53   Log-Likelihood:                -1568.1\n",
      "No. Observations:                 400   AIC:                             3140.\n",
      "Df Residuals:                     398   BIC:                             3148.\n",
      "Df Model:                           1                                         \n",
      "Covariance Type:            nonrobust                                         \n",
      "==============================================================================\n",
      "                 coef    std err          t      P>|t|      [0.025      0.975]\n",
      "------------------------------------------------------------------------------\n",
      "const         38.4918      1.397     27.555      0.000      35.746      41.238\n",
      "x1             0.0668      0.000    251.949      0.000       0.066       0.067\n",
      "==============================================================================\n",
      "Omnibus:                        7.074   Durbin-Watson:                   2.077\n",
      "Prob(Omnibus):                  0.029   Jarque-Bera (JB):                5.177\n",
      "Skew:                           0.155   Prob(JB):                       0.0751\n",
      "Kurtosis:                       2.537   Cond. No.                     1.20e+04\n",
      "==============================================================================\n",
      "\n",
      "Warnings:\n",
      "[1] Standard Errors assume that the covariance matrix of the errors is correctly specified.\n",
      "[2] The condition number is large, 1.2e+04. This might indicate that there are\n",
      "strong multicollinearity or other numerical problems.\n"
     ]
    }
   ],
   "source": [
    "import statsmodels.api as smf\n",
    "\n",
    "simpleModel = smf.OLS(y, mat).fit()\n",
    "print(simpleModel.summary())"
   ]
  },
  {
   "cell_type": "markdown",
   "metadata": {},
   "source": [
    "## Results Discussion:\n",
    "- Overall $r^2$ of 99% - very strong linear relationship as we saw in the initial plot we created.  \n",
    "- You can ignore the t-statistic on the constant - it isn't meaningful.  \n",
    "- The t-statistic for the credit limit (x1) is very high (252), with a [p-value](https://en.wikipedia.org/wiki/P-value) of essentially 0 - recall a p-value is the probably that the effect we are seeing is by random chance.  \n",
    "- We can conclude there is a very strong linear relationship.\n",
    "\n",
    "### Further reading:\n",
    "[Rethinking p-values](https://www.vox.com/2016/3/15/11225162/p-value-simple-definition-hacking)  \n",
    "[Econometrics](https://en.wikipedia.org/wiki/Econometrics)"
   ]
  },
  {
   "cell_type": "markdown",
   "metadata": {},
   "source": [
    "# p-Hacking\n",
    "\n",
    "<img src='files/diagrams/bad-coef.png' style=\"width: 500px;\">\n",
    "\n",
    ">Taken from \"Having Too Little or Too Much Time Is Linked to Lower Subjective Well-Being\", Sharif et al."
   ]
  },
  {
   "cell_type": "markdown",
   "metadata": {},
   "source": [
    "# scikit-learn's LinearRegression\n",
    "[scikit-learn's LinearRegression](https://scikit-learn.org/stable/modules/linear_model.html#ordinary-least-squares)\n",
    "\n",
    "This will probably be the implementation you'd want to use for comparing various regression models for prediction problems since the API will be similar.\n",
    "\n",
    "scikit-learn is geared more towards prediction and won't have some of the friendly output that statsmodels has - if you are going for an intrepretation, you may be better off using statsmodels."
   ]
  },
  {
   "cell_type": "code",
   "execution_count": 135,
   "metadata": {},
   "outputs": [
    {
     "data": {
      "text/plain": [
       "array([[38.49178871,  0.06682326]])"
      ]
     },
     "execution_count": 135,
     "metadata": {},
     "output_type": "execute_result"
    }
   ],
   "source": [
    "from sklearn.linear_model import LinearRegression\n",
    "\n",
    "# we added the intercept manually, so turn that option off\n",
    "skOLS = LinearRegression(fit_intercept=False).fit(mat,y)\n",
    "skOLS.coef_"
   ]
  },
  {
   "cell_type": "markdown",
   "metadata": {},
   "source": [
    "#### And they all provide the same coefficient/model estimates - assuming the same set-up."
   ]
  },
  {
   "cell_type": "code",
   "execution_count": 136,
   "metadata": {},
   "outputs": [
    {
     "name": "stdout",
     "output_type": "stream",
     "text": [
      "[38.49178871  0.06682326]\n",
      "[38.49178871  0.06682326]\n",
      "[38.49178871  0.06682326]\n"
     ]
    }
   ],
   "source": [
    "print(betas.reshape(1,-1)[0])\n",
    "print(simpleModel.params)\n",
    "print(skOLS.coef_[0])"
   ]
  },
  {
   "cell_type": "markdown",
   "metadata": {},
   "source": [
    "# Weakness - Outlier Sensitivity\n",
    "There aren't any outliers in the data, I'm going to introduce one."
   ]
  },
  {
   "cell_type": "code",
   "execution_count": 137,
   "metadata": {},
   "outputs": [
    {
     "name": "stdout",
     "output_type": "stream",
     "text": [
      "                            OLS Regression Results                            \n",
      "==============================================================================\n",
      "Dep. Variable:                      y   R-squared:                       0.086\n",
      "Model:                            OLS   Adj. R-squared:                  0.084\n",
      "Method:                 Least Squares   F-statistic:                     37.54\n",
      "Date:                Sat, 18 Sep 2021   Prob (F-statistic):           2.16e-09\n",
      "Time:                        13:11:53   Log-Likelihood:                -2565.7\n",
      "No. Observations:                 400   AIC:                             5135.\n",
      "Df Residuals:                     398   BIC:                             5143.\n",
      "Df Model:                           1                                         \n",
      "Covariance Type:            nonrobust                                         \n",
      "==============================================================================\n",
      "                 coef    std err          t      P>|t|      [0.025      0.975]\n",
      "------------------------------------------------------------------------------\n",
      "const        325.3864      8.837     36.820      0.000     308.013     342.760\n",
      "x1             0.0058      0.001      6.127      0.000       0.004       0.008\n",
      "==============================================================================\n",
      "Omnibus:                       42.701   Durbin-Watson:                   2.058\n",
      "Prob(Omnibus):                  0.000   Jarque-Bera (JB):              192.528\n",
      "Skew:                           0.295   Prob(JB):                     1.56e-42\n",
      "Kurtosis:                       6.347   Cond. No.                     1.12e+04\n",
      "==============================================================================\n",
      "\n",
      "Warnings:\n",
      "[1] Standard Errors assume that the covariance matrix of the errors is correctly specified.\n",
      "[2] The condition number is large, 1.12e+04. This might indicate that there are\n",
      "strong multicollinearity or other numerical problems.\n"
     ]
    }
   ],
   "source": [
    "matCopy = mat.copy()\n",
    "matCopy[4, 1] = matCopy[4, 1] + 150000\n",
    "\n",
    "outModel = smf.OLS(y, matCopy).fit()\n",
    "print(outModel.summary())"
   ]
  },
  {
   "cell_type": "code",
   "execution_count": 138,
   "metadata": {},
   "outputs": [
    {
     "data": {
      "image/png": "[encoded data removed]",
      "text/plain": [
       "<Figure size 432x288 with 1 Axes>"
      ]
     },
     "metadata": {
      "needs_background": "light"
     },
     "output_type": "display_data"
    }
   ],
   "source": [
    "yhat_out = outModel.predict(matCopy)\n",
    "\n",
    "plt.plot(matCopy[:,1], y, 'bo')\n",
    "plt.plot(matCopy[:,1], yhat_out, 'r')\n",
    "plt.xlabel('Credit Limit')\n",
    "plt.ylabel('Actual / Expected Credit Rating')\n",
    "plt.show()"
   ]
  },
  {
   "cell_type": "markdown",
   "metadata": {},
   "source": [
    "## Why the sensitivity?\n",
    "Recall we are minimizing the sum of squared residuals. That really big outlier is going to a lot of influence.  \n",
    "\n",
    "## How to combat?\n",
    "- [RANdom SAmple Consensus (RANSAC)](https://scikit-learn.org/stable/modules/generated/sklearn.linear_model.RANSACRegressor.html)  \n",
    "- Replace or remove the outliers. \n"
   ]
  },
  {
   "cell_type": "markdown",
   "metadata": {},
   "source": [
    "## RANSAC\n",
    "- Select random samples. \n",
    "- Tests non-sample points and creates a inlier list (opposite of outlier).  \n",
    "- Refits models with all inliers.  \n",
    "- Evaluates error.  \n",
    "- Stops or repeats until iterations/threshold met.\n",
    "- **Not guaranteed to get same answer each time* - why?**\n",
    "\n",
    "> [More details](https://scikit-learn.org/stable/modules/linear_model.html#ransac-regression)\n",
    "\n",
    "<img src='files/diagrams/ransac.png'>\n",
    "\n",
    "[Image Source](https://scikit-learn.org/stable/auto_examples/linear_model/plot_ransac.html)"
   ]
  },
  {
   "cell_type": "code",
   "execution_count": 139,
   "metadata": {},
   "outputs": [
    {
     "data": {
      "image/png": "[encoded data removed]",
      "text/plain": [
       "<Figure size 432x288 with 1 Axes>"
      ]
     },
     "metadata": {
      "needs_background": "light"
     },
     "output_type": "display_data"
    }
   ],
   "source": [
    "from sklearn.linear_model import RANSACRegressor\n",
    "\n",
    "ransac = RANSACRegressor().fit(matCopy, y)\n",
    "yhat_ransac = ransac.predict(matCopy)\n",
    "\n",
    "plt.plot(matCopy[:,1], y, 'bo')\n",
    "plt.plot(matCopy[:,1], yhat_ransac, 'r')\n",
    "plt.xlabel('Credit Limit')\n",
    "plt.ylabel('Actual / Expected Credit Rating')\n",
    "plt.show()"
   ]
  },
  {
   "cell_type": "markdown",
   "metadata": {},
   "source": [
    "# Strength: Robust to Overfitting\n",
    ">Simple is better than complex.\n",
    "\n",
    "### No Overfitting\n",
    "<img src='files/diagrams/reg.png'  style=\"width: 400px;\"> \n",
    "\n",
    "### Severe Overfitting\n",
    "<img src='files/diagrams/poly.png'  style=\"width: 400px;\">"
   ]
  },
  {
   "cell_type": "markdown",
   "metadata": {},
   "source": [
    "# Multiple Regression\n",
    "Instead of an $mx1$ input matrix, we'll have $mxn$.\n",
    "\n",
    "### $y = w_{0} + w_{1}x_{1} + \\dots + w_{m}x_{m} = \\sum{w_{i}x_{i}}=w^{T}x$\n",
    "\n",
    "Coefficients still reference the effect on $y$ of a 1-unit change to a $x$ - all else held constant.\n",
    "\n",
    "Example with the Boston housing dataset:"
   ]
  },
  {
   "cell_type": "markdown",
   "metadata": {},
   "source": [
    "## Boston Housing Data"
   ]
  },
  {
   "cell_type": "code",
   "execution_count": 140,
   "metadata": {},
   "outputs": [
    {
     "name": "stdout",
     "output_type": "stream",
     "text": [
      "Rows: 506\n",
      "Features: 13\n"
     ]
    }
   ],
   "source": [
    "import pandas as pd\n",
    "import numpy as np\n",
    "from sklearn.datasets import load_boston\n",
    "from matplotlib import pyplot as plt\n",
    "%matplotlib inline\n",
    "\n",
    "X, y = load_boston(return_X_y=True)\n",
    "x0, x1 = X.shape\n",
    "\n",
    "'''\n",
    "Documentation available with this command: print(load_boston()['DESCR'])\n",
    "'''\n",
    "\n",
    "print(f'Rows: {x0:,}\\nFeatures: {x1}')"
   ]
  },
  {
   "cell_type": "code",
   "execution_count": 141,
   "metadata": {},
   "outputs": [
    {
     "data": {
      "text/html": [
       "<div>\n",
       "<style scoped>\n",
       "    .dataframe tbody tr th:only-of-type {\n",
       "        vertical-align: middle;\n",
       "    }\n",
       "\n",
       "    .dataframe tbody tr th {\n",
       "        vertical-align: top;\n",
       "    }\n",
       "\n",
       "    .dataframe thead th {\n",
       "        text-align: right;\n",
       "    }\n",
       "</style>\n",
       "<table border=\"1\" class=\"dataframe\">\n",
       "  <thead>\n",
       "    <tr style=\"text-align: right;\">\n",
       "      <th></th>\n",
       "      <th>CRIM</th>\n",
       "      <th>ZN</th>\n",
       "      <th>INDUS</th>\n",
       "      <th>CHAS</th>\n",
       "      <th>NOX</th>\n",
       "      <th>RM</th>\n",
       "      <th>AGE</th>\n",
       "      <th>DIS</th>\n",
       "      <th>RAD</th>\n",
       "      <th>TAX</th>\n",
       "      <th>PTRATIO</th>\n",
       "      <th>B</th>\n",
       "      <th>LSTAT</th>\n",
       "      <th>MED</th>\n",
       "    </tr>\n",
       "  </thead>\n",
       "  <tbody>\n",
       "    <tr>\n",
       "      <th>0</th>\n",
       "      <td>0.00632</td>\n",
       "      <td>18.0</td>\n",
       "      <td>2.31</td>\n",
       "      <td>0.0</td>\n",
       "      <td>0.538</td>\n",
       "      <td>6.575</td>\n",
       "      <td>65.2</td>\n",
       "      <td>4.0900</td>\n",
       "      <td>1.0</td>\n",
       "      <td>296.0</td>\n",
       "      <td>15.3</td>\n",
       "      <td>396.90</td>\n",
       "      <td>4.98</td>\n",
       "      <td>24.0</td>\n",
       "    </tr>\n",
       "    <tr>\n",
       "      <th>1</th>\n",
       "      <td>0.02731</td>\n",
       "      <td>0.0</td>\n",
       "      <td>7.07</td>\n",
       "      <td>0.0</td>\n",
       "      <td>0.469</td>\n",
       "      <td>6.421</td>\n",
       "      <td>78.9</td>\n",
       "      <td>4.9671</td>\n",
       "      <td>2.0</td>\n",
       "      <td>242.0</td>\n",
       "      <td>17.8</td>\n",
       "      <td>396.90</td>\n",
       "      <td>9.14</td>\n",
       "      <td>21.6</td>\n",
       "    </tr>\n",
       "    <tr>\n",
       "      <th>2</th>\n",
       "      <td>0.02729</td>\n",
       "      <td>0.0</td>\n",
       "      <td>7.07</td>\n",
       "      <td>0.0</td>\n",
       "      <td>0.469</td>\n",
       "      <td>7.185</td>\n",
       "      <td>61.1</td>\n",
       "      <td>4.9671</td>\n",
       "      <td>2.0</td>\n",
       "      <td>242.0</td>\n",
       "      <td>17.8</td>\n",
       "      <td>392.83</td>\n",
       "      <td>4.03</td>\n",
       "      <td>34.7</td>\n",
       "    </tr>\n",
       "    <tr>\n",
       "      <th>3</th>\n",
       "      <td>0.03237</td>\n",
       "      <td>0.0</td>\n",
       "      <td>2.18</td>\n",
       "      <td>0.0</td>\n",
       "      <td>0.458</td>\n",
       "      <td>6.998</td>\n",
       "      <td>45.8</td>\n",
       "      <td>6.0622</td>\n",
       "      <td>3.0</td>\n",
       "      <td>222.0</td>\n",
       "      <td>18.7</td>\n",
       "      <td>394.63</td>\n",
       "      <td>2.94</td>\n",
       "      <td>33.4</td>\n",
       "    </tr>\n",
       "    <tr>\n",
       "      <th>4</th>\n",
       "      <td>0.06905</td>\n",
       "      <td>0.0</td>\n",
       "      <td>2.18</td>\n",
       "      <td>0.0</td>\n",
       "      <td>0.458</td>\n",
       "      <td>7.147</td>\n",
       "      <td>54.2</td>\n",
       "      <td>6.0622</td>\n",
       "      <td>3.0</td>\n",
       "      <td>222.0</td>\n",
       "      <td>18.7</td>\n",
       "      <td>396.90</td>\n",
       "      <td>5.33</td>\n",
       "      <td>36.2</td>\n",
       "    </tr>\n",
       "  </tbody>\n",
       "</table>\n",
       "</div>"
      ],
      "text/plain": [
       "      CRIM    ZN  INDUS  CHAS    NOX     RM   AGE     DIS  RAD    TAX  \\\n",
       "0  0.00632  18.0   2.31   0.0  0.538  6.575  65.2  4.0900  1.0  296.0   \n",
       "1  0.02731   0.0   7.07   0.0  0.469  6.421  78.9  4.9671  2.0  242.0   \n",
       "2  0.02729   0.0   7.07   0.0  0.469  7.185  61.1  4.9671  2.0  242.0   \n",
       "3  0.03237   0.0   2.18   0.0  0.458  6.998  45.8  6.0622  3.0  222.0   \n",
       "4  0.06905   0.0   2.18   0.0  0.458  7.147  54.2  6.0622  3.0  222.0   \n",
       "\n",
       "   PTRATIO       B  LSTAT   MED  \n",
       "0     15.3  396.90   4.98  24.0  \n",
       "1     17.8  396.90   9.14  21.6  \n",
       "2     17.8  392.83   4.03  34.7  \n",
       "3     18.7  394.63   2.94  33.4  \n",
       "4     18.7  396.90   5.33  36.2  "
      ]
     },
     "execution_count": 141,
     "metadata": {},
     "output_type": "execute_result"
    }
   ],
   "source": [
    "bostonDf = pd.DataFrame(load_boston()['data'], columns = load_boston().feature_names)\n",
    "bostonT = pd.DataFrame(y, columns=['MED'])\n",
    "\n",
    "bostonDf = pd.concat([bostonDf, bostonT], axis=1)\n",
    "bostonDf.head()"
   ]
  },
  {
   "cell_type": "code",
   "execution_count": 142,
   "metadata": {},
   "outputs": [
    {
     "name": "stdout",
     "output_type": "stream",
     "text": [
      ".. _boston_dataset:\n",
      "\n",
      "Boston house prices dataset\n",
      "---------------------------\n",
      "\n",
      "**Data Set Characteristics:**  \n",
      "\n",
      "    :Number of Instances: 506 \n",
      "\n",
      "    :Number of Attributes: 13 numeric/categorical predictive. Median Value (attribute 14) is usually the target.\n",
      "\n",
      "    :Attribute Information (in order):\n",
      "        - CRIM     per capita crime rate by town\n",
      "        - ZN       proportion of residential land zoned for lots over 25,000 sq.ft.\n",
      "        - INDUS    proportion of non-retail business acres per town\n",
      "        - CHAS     Charles River dummy variable (= 1 if tract bounds river; 0 otherwise)\n",
      "        - NOX      nitric oxides concentration (parts per 10 million)\n",
      "        - RM       average number of rooms per dwelling\n",
      "        - AGE      proportion of owner-occupied units built prior to 1940\n",
      "        - DIS      weighted distances to five Boston employment centres\n",
      "        - RAD      index of accessibility to radial highways\n",
      "        - TAX      full-value property-tax rate per $10,000\n",
      "        - PTRATIO  pupil-teacher ratio by town\n",
      "        - B        1000(Bk - 0.63)^2 where Bk is the proportion of black people by town\n",
      "        - LSTAT    % lower status of the population\n",
      "        - MEDV     Median value of owner-occupied homes in $1000's\n",
      "\n",
      "    :Missing Attribute Values: None\n",
      "\n",
      "    :Creator: Harrison, D. and Rubinfeld, D.L.\n",
      "\n",
      "This is a copy of UCI ML housing dataset.\n",
      "https://archive.ics.uci.edu/ml/machine-learning-databases/housing/\n",
      "\n",
      "\n",
      "This dataset was taken from the StatLib library which is maintained at Carnegie Mellon University.\n",
      "\n",
      "The Boston house-price data of Harrison, D. and Rubinfeld, D.L. 'Hedonic\n",
      "prices and the demand for clean air', J. Environ. Economics & Management,\n",
      "vol.5, 81-102, 1978.   Used in Belsley, Kuh & Welsch, 'Regression diagnostics\n",
      "...', Wiley, 1980.   N.B. Various transformations are used in the table on\n",
      "pages 244-261 of the latter.\n",
      "\n",
      "The Boston house-price data has been used in many machine learning papers that address regression\n",
      "problems.   \n",
      "     \n",
      ".. topic:: References\n",
      "\n",
      "   - Belsley, Kuh & Welsch, 'Regression diagnostics: Identifying Influential Data and Sources of Collinearity', Wiley, 1980. 244-261.\n",
      "   - Quinlan,R. (1993). Combining Instance-Based and Model-Based Learning. In Proceedings on the Tenth International Conference of Machine Learning, 236-243, University of Massachusetts, Amherst. Morgan Kaufmann.\n",
      "\n"
     ]
    }
   ],
   "source": [
    "print(load_boston()['DESCR'])"
   ]
  },
  {
   "cell_type": "markdown",
   "metadata": {},
   "source": [
    "## Remember to explore the data\n",
    "> Technically if you are focused on the coefficient intrepretation, your data should be normally distributed, always the t-statistics can be bias and unstable. For prediciton, it doesn't really matter."
   ]
  },
  {
   "cell_type": "code",
   "execution_count": 143,
   "metadata": {},
   "outputs": [
    {
     "data": {
      "image/png": "[encoded data removed]",
      "text/plain": [
       "<Figure size 720x720 with 16 Axes>"
      ]
     },
     "metadata": {
      "needs_background": "light"
     },
     "output_type": "display_data"
    }
   ],
   "source": [
    "plt.rcParams[\"figure.figsize\"] = (10,10)\n",
    "\n",
    "bostonDf.hist()\n",
    "plt.show()"
   ]
  },
  {
   "cell_type": "code",
   "execution_count": 144,
   "metadata": {},
   "outputs": [
    {
     "data": {
      "image/png": "[encoded data removed]",
      "text/plain": [
       "<Figure size 720x720 with 2 Axes>"
      ]
     },
     "metadata": {
      "needs_background": "light"
     },
     "output_type": "display_data"
    }
   ],
   "source": [
    "import seaborn as sns\n",
    "\n",
    "sns.heatmap(bostonDf.corr())\n",
    "plt.show()"
   ]
  },
  {
   "cell_type": "markdown",
   "metadata": {},
   "source": [
    "## Run the regression"
   ]
  },
  {
   "cell_type": "code",
   "execution_count": 145,
   "metadata": {},
   "outputs": [
    {
     "name": "stdout",
     "output_type": "stream",
     "text": [
      "                                 OLS Regression Results                                \n",
      "=======================================================================================\n",
      "Dep. Variable:                    MED   R-squared (uncentered):                   0.959\n",
      "Model:                            OLS   Adj. R-squared (uncentered):              0.958\n",
      "Method:                 Least Squares   F-statistic:                              891.3\n",
      "Date:                Sat, 18 Sep 2021   Prob (F-statistic):                        0.00\n",
      "Time:                        13:11:55   Log-Likelihood:                         -1523.8\n",
      "No. Observations:                 506   AIC:                                      3074.\n",
      "Df Residuals:                     493   BIC:                                      3128.\n",
      "Df Model:                          13                                                  \n",
      "Covariance Type:            nonrobust                                                  \n",
      "==============================================================================\n",
      "                 coef    std err          t      P>|t|      [0.025      0.975]\n",
      "------------------------------------------------------------------------------\n",
      "CRIM          -0.0929      0.034     -2.699      0.007      -0.161      -0.025\n",
      "ZN             0.0487      0.014      3.382      0.001       0.020       0.077\n",
      "INDUS         -0.0041      0.064     -0.063      0.950      -0.131       0.123\n",
      "CHAS           2.8540      0.904      3.157      0.002       1.078       4.630\n",
      "NOX           -2.8684      3.359     -0.854      0.394      -9.468       3.731\n",
      "RM             5.9281      0.309     19.178      0.000       5.321       6.535\n",
      "AGE           -0.0073      0.014     -0.526      0.599      -0.034       0.020\n",
      "DIS           -0.9685      0.196     -4.951      0.000      -1.353      -0.584\n",
      "RAD            0.1712      0.067      2.564      0.011       0.040       0.302\n",
      "TAX           -0.0094      0.004     -2.395      0.017      -0.017      -0.002\n",
      "PTRATIO       -0.3922      0.110     -3.570      0.000      -0.608      -0.176\n",
      "B              0.0149      0.003      5.528      0.000       0.010       0.020\n",
      "LSTAT         -0.4163      0.051     -8.197      0.000      -0.516      -0.317\n",
      "==============================================================================\n",
      "Omnibus:                      204.082   Durbin-Watson:                   0.999\n",
      "Prob(Omnibus):                  0.000   Jarque-Bera (JB):             1374.225\n",
      "Skew:                           1.609   Prob(JB):                    3.90e-299\n",
      "Kurtosis:                      10.404   Cond. No.                     8.50e+03\n",
      "==============================================================================\n",
      "\n",
      "Warnings:\n",
      "[1] Standard Errors assume that the covariance matrix of the errors is correctly specified.\n",
      "[2] The condition number is large, 8.5e+03. This might indicate that there are\n",
      "strong multicollinearity or other numerical problems.\n"
     ]
    }
   ],
   "source": [
    "import statsmodels.api as smf\n",
    "statsModelsCoefs = smf.OLS(bostonDf['MED'], bostonDf[load_boston().feature_names]).fit()\n",
    "print(statsModelsCoefs.summary())"
   ]
  },
  {
   "cell_type": "markdown",
   "metadata": {},
   "source": [
    "## Check Residuals"
   ]
  },
  {
   "cell_type": "code",
   "execution_count": 146,
   "metadata": {},
   "outputs": [
    {
     "data": {
      "image/png": "[encoded data removed]",
      "text/plain": [
       "<Figure size 720x720 with 1 Axes>"
      ]
     },
     "metadata": {
      "needs_background": "light"
     },
     "output_type": "display_data"
    }
   ],
   "source": [
    "yhat_boston = statsModelsCoefs.predict(bostonDf[load_boston().feature_names])\n",
    "resid_boston = y - yhat_boston\n",
    "\n",
    "plt.plot(yhat_boston, resid_boston, 'bo')\n",
    "plt.xlabel('Predicted')\n",
    "plt.ylabel('Residuals')\n",
    "plt.show()"
   ]
  },
  {
   "cell_type": "code",
   "execution_count": 147,
   "metadata": {},
   "outputs": [
    {
     "data": {
      "image/png": "[encoded data removed]",
      "text/plain": [
       "<Figure size 720x720 with 1 Axes>"
      ]
     },
     "metadata": {
      "needs_background": "light"
     },
     "output_type": "display_data"
    }
   ],
   "source": [
    "plt.plot(y, yhat_boston, 'ro')\n",
    "plt.xlabel('Actual')\n",
    "plt.ylabel('Predicted')\n",
    "plt.title('Actual vs. Predicted')\n",
    "plt.show()"
   ]
  },
  {
   "cell_type": "code",
   "execution_count": 148,
   "metadata": {},
   "outputs": [
    {
     "data": {
      "image/png": "[encoded data removed]",
      "text/plain": [
       "<Figure size 720x720 with 1 Axes>"
      ]
     },
     "metadata": {
      "needs_background": "light"
     },
     "output_type": "display_data"
    }
   ],
   "source": [
    "plt.hist(resid_boston)\n",
    "plt.title('Residual Distribution')\n",
    "plt.show()"
   ]
  },
  {
   "cell_type": "markdown",
   "metadata": {},
   "source": [
    "### Patterns in residuals are not ideal. You'll want these to look like normally distributed white noise (ideally). We might be able to make those residuals behave with feature transformations and other techniques we'll talk about later.\n",
    "\n",
    ">In certain cases, it may help to log-transform your target variable, which will compress some of the variance.\n",
    "\n",
    "[Log-linear models](https://en.wikipedia.org/wiki/Log-linear_model)"
   ]
  },
  {
   "cell_type": "code",
   "execution_count": 149,
   "metadata": {},
   "outputs": [
    {
     "name": "stdout",
     "output_type": "stream",
     "text": [
      "                                 OLS Regression Results                                \n",
      "=======================================================================================\n",
      "Dep. Variable:                    MED   R-squared (uncentered):                   0.993\n",
      "Model:                            OLS   Adj. R-squared (uncentered):              0.993\n",
      "Method:                 Least Squares   F-statistic:                              5532.\n",
      "Date:                Sat, 18 Sep 2021   Prob (F-statistic):                        0.00\n",
      "Time:                        13:11:56   Log-Likelihood:                         -21.839\n",
      "No. Observations:                 506   AIC:                                      69.68\n",
      "Df Residuals:                     493   BIC:                                      124.6\n",
      "Df Model:                          13                                                  \n",
      "Covariance Type:            nonrobust                                                  \n",
      "==============================================================================\n",
      "                 coef    std err          t      P>|t|      [0.025      0.975]\n",
      "------------------------------------------------------------------------------\n",
      "CRIM          -0.0086      0.002     -4.845      0.000      -0.012      -0.005\n",
      "ZN             0.0014      0.001      1.933      0.054   -2.38e-05       0.003\n",
      "INDUS         -0.0003      0.003     -0.092      0.927      -0.007       0.006\n",
      "CHAS           0.1197      0.046      2.577      0.010       0.028       0.211\n",
      "NOX            0.8978      0.173      5.201      0.000       0.559       1.237\n",
      "RM             0.3292      0.016     20.720      0.000       0.298       0.360\n",
      "AGE           -0.0007      0.001     -0.965      0.335      -0.002       0.001\n",
      "DIS            0.0080      0.010      0.792      0.429      -0.012       0.028\n",
      "RAD           -0.0009      0.003     -0.265      0.791      -0.008       0.006\n",
      "TAX           -0.0003      0.000     -1.464      0.144      -0.001       0.000\n",
      "PTRATIO        0.0248      0.006      4.391      0.000       0.014       0.036\n",
      "B              0.0010      0.000      7.526      0.000       0.001       0.001\n",
      "LSTAT         -0.0168      0.003     -6.449      0.000      -0.022      -0.012\n",
      "==============================================================================\n",
      "Omnibus:                      106.011   Durbin-Watson:                   0.894\n",
      "Prob(Omnibus):                  0.000   Jarque-Bera (JB):              635.268\n",
      "Skew:                           0.756   Prob(JB):                    1.13e-138\n",
      "Kurtosis:                       8.277   Cond. No.                     8.50e+03\n",
      "==============================================================================\n",
      "\n",
      "Warnings:\n",
      "[1] Standard Errors assume that the covariance matrix of the errors is correctly specified.\n",
      "[2] The condition number is large, 8.5e+03. This might indicate that there are\n",
      "strong multicollinearity or other numerical problems.\n"
     ]
    }
   ],
   "source": [
    "import statsmodels.api as smf\n",
    "logMED = np.log(bostonDf['MED'])\n",
    "\n",
    "statsModelsCoefs = smf.OLS(logMED, bostonDf[load_boston().feature_names]).fit()\n",
    "print(statsModelsCoefs.summary())"
   ]
  },
  {
   "cell_type": "code",
   "execution_count": 150,
   "metadata": {},
   "outputs": [
    {
     "data": {
      "image/png": "[encoded data removed]",
      "text/plain": [
       "<Figure size 720x720 with 1 Axes>"
      ]
     },
     "metadata": {
      "needs_background": "light"
     },
     "output_type": "display_data"
    }
   ],
   "source": [
    "logyhat_boston = statsModelsCoefs.predict(bostonDf[load_boston().feature_names])\n",
    "logresid_boston = logMED - logyhat_boston\n",
    "\n",
    "plt.plot(logyhat_boston, logresid_boston, 'bo')\n",
    "plt.xlabel('Predicted')\n",
    "plt.ylabel('Residuals')\n",
    "plt.show()"
   ]
  },
  {
   "cell_type": "code",
   "execution_count": 151,
   "metadata": {},
   "outputs": [
    {
     "data": {
      "image/png": "[encoded data removed]",
      "text/plain": [
       "<Figure size 720x720 with 1 Axes>"
      ]
     },
     "metadata": {
      "needs_background": "light"
     },
     "output_type": "display_data"
    }
   ],
   "source": [
    "plt.plot(np.exp(logMED), np.exp(logyhat_boston), 'ro')\n",
    "plt.xlabel('Actual')\n",
    "plt.ylabel('Predicted')\n",
    "plt.title('Actual vs. Predicted')\n",
    "plt.show()"
   ]
  },
  {
   "cell_type": "markdown",
   "metadata": {},
   "source": [
    "# What if we had categorical variables?"
   ]
  },
  {
   "cell_type": "markdown",
   "metadata": {},
   "source": [
    "## Role of [Dummy Variables](https://en.wikipedia.org/wiki/Dummy_variable_(statistics))\n",
    "A way to incorporate categorical data into modeling, since models require numerical matrices. Essentially acts to change the intercept.\n",
    "\n",
    "### Simple Example"
   ]
  },
  {
   "cell_type": "code",
   "execution_count": 152,
   "metadata": {},
   "outputs": [
    {
     "data": {
      "text/html": [
       "<div>\n",
       "<style scoped>\n",
       "    .dataframe tbody tr th:only-of-type {\n",
       "        vertical-align: middle;\n",
       "    }\n",
       "\n",
       "    .dataframe tbody tr th {\n",
       "        vertical-align: top;\n",
       "    }\n",
       "\n",
       "    .dataframe thead th {\n",
       "        text-align: right;\n",
       "    }\n",
       "</style>\n",
       "<table border=\"1\" class=\"dataframe\">\n",
       "  <thead>\n",
       "    <tr style=\"text-align: right;\">\n",
       "      <th></th>\n",
       "      <th>hgt</th>\n",
       "      <th>wgt</th>\n",
       "      <th>label</th>\n",
       "    </tr>\n",
       "  </thead>\n",
       "  <tbody>\n",
       "    <tr>\n",
       "      <th>0</th>\n",
       "      <td>2</td>\n",
       "      <td>4</td>\n",
       "      <td>1</td>\n",
       "    </tr>\n",
       "    <tr>\n",
       "      <th>1</th>\n",
       "      <td>3</td>\n",
       "      <td>6</td>\n",
       "      <td>1</td>\n",
       "    </tr>\n",
       "  </tbody>\n",
       "</table>\n",
       "</div>"
      ],
      "text/plain": [
       "   hgt  wgt  label\n",
       "0    2    4      1\n",
       "1    3    6      1"
      ]
     },
     "execution_count": 152,
     "metadata": {},
     "output_type": "execute_result"
    }
   ],
   "source": [
    "dummy = pd.DataFrame([[2,4,1],\n",
    "                     [3,6,1],\n",
    "                     [4,8,1],\n",
    "                     [6,12,1],\n",
    "                     [7,14,1],\n",
    "                     [2,6,0],\n",
    "                     [4,10,0],\n",
    "                     [6,14,0],\n",
    "                     [7,16,0],\n",
    "                     [3,8,0]], columns=['hgt', 'wgt', 'label'])\n",
    "\n",
    "\n",
    "dummy.head(2)"
   ]
  },
  {
   "cell_type": "markdown",
   "metadata": {},
   "source": [
    "### Persistent differences between these lines. Track parallel to one another."
   ]
  },
  {
   "cell_type": "code",
   "execution_count": 153,
   "metadata": {},
   "outputs": [
    {
     "data": {
      "image/png": "[encoded data removed]",
      "text/plain": [
       "<Figure size 720x720 with 1 Axes>"
      ]
     },
     "metadata": {
      "needs_background": "light"
     },
     "output_type": "display_data"
    }
   ],
   "source": [
    "class1 = dummy.query('label==1')\n",
    "class2 = dummy.query('label==0')\n",
    "\n",
    "plt.plot(class1['hgt'], class1['wgt'], 'bo')\n",
    "plt.plot(class2['hgt'], class2['wgt'], 'ro')\n",
    "plt.legend(['Label = 1', 'Label = 0'])\n",
    "plt.show()"
   ]
  },
  {
   "cell_type": "markdown",
   "metadata": {},
   "source": [
    "### Let's look at the means for the data by group"
   ]
  },
  {
   "cell_type": "code",
   "execution_count": 154,
   "metadata": {},
   "outputs": [
    {
     "data": {
      "text/plain": [
       "-2.0"
      ]
     },
     "execution_count": 154,
     "metadata": {},
     "output_type": "execute_result"
    }
   ],
   "source": [
    "dummy.groupby('label')['wgt'].mean().diff()[1]"
   ]
  },
  {
   "cell_type": "markdown",
   "metadata": {},
   "source": [
    "### Compare running a model with and without a dummy variable"
   ]
  },
  {
   "cell_type": "code",
   "execution_count": 155,
   "metadata": {},
   "outputs": [],
   "source": [
    "from sklearn.linear_model import LinearRegression\n",
    "\n",
    "Xa = np.array(dummy['hgt']).reshape(-1,1)\n",
    "Xb = np.array(dummy[['hgt','label']])\n",
    "\n",
    "y = np.array(dummy['wgt']).reshape(-1,1)\n",
    "\n",
    "bothOLS = LinearRegression().fit(Xa,y)\n",
    "yhat_both = bothOLS.predict(Xa)\n",
    "\n",
    "sepOLS = LinearRegression().fit(Xb, y)\n",
    "yhat_sep = sepOLS.predict(Xb)"
   ]
  },
  {
   "cell_type": "code",
   "execution_count": 156,
   "metadata": {},
   "outputs": [
    {
     "name": "stdout",
     "output_type": "stream",
     "text": [
      "No Dummy:\n",
      "\n",
      " Intercept: 1.0\n",
      " Slope: 2.0\n",
      "\n",
      "w/ Dummy:\n",
      "\n",
      " Intercept: 2.0\n",
      " Slope: 2.0\n",
      " Dummy: -1.9999999999999996\n"
     ]
    }
   ],
   "source": [
    "print('No Dummy:\\n')\n",
    "print(f' Intercept: {np.round(bothOLS.intercept_[0],2)}')\n",
    "print(f' Slope: {np.round(bothOLS.coef_[0][0],2)}\\n')\n",
    "\n",
    "print('w/ Dummy:\\n')\n",
    "print(f' Intercept: {np.round(sepOLS.intercept_[0], 2)}')\n",
    "print(f' Slope: {np.round(sepOLS.coef_[0][0],2)}')\n",
    "print(f' Dummy: {sepOLS.coef_[0][1]}')"
   ]
  },
  {
   "cell_type": "markdown",
   "metadata": {},
   "source": [
    "### The dummy captures the mean difference! Otherwise the slope is identical.\n",
    "\n",
    "If the dummy was present:\n",
    "$$\n",
    "y=1.0 + (2)(x_1) + (2)(1) \n",
    "$$\n",
    "\n",
    "If the dummy was not present:\n",
    "$$\n",
    "y=2.0 + (2)(x_1) + (2)(0)\n",
    "$$\n",
    "\n"
   ]
  },
  {
   "cell_type": "markdown",
   "metadata": {},
   "source": [
    "# Recall the California Housing Data\n",
    "[Example from \"Hands-on Machine Learning with Scikit-Learn, Keras & Tensorflow\"](https://github.com/ageron/handson-ml2)"
   ]
  },
  {
   "cell_type": "code",
   "execution_count": 157,
   "metadata": {},
   "outputs": [
    {
     "name": "stdout",
     "output_type": "stream",
     "text": [
      "<class 'pandas.core.frame.DataFrame'>\n",
      "RangeIndex: 20640 entries, 0 to 20639\n",
      "Data columns (total 10 columns):\n",
      " #   Column              Non-Null Count  Dtype  \n",
      "---  ------              --------------  -----  \n",
      " 0   longitude           20640 non-null  float64\n",
      " 1   latitude            20640 non-null  float64\n",
      " 2   housing_median_age  20640 non-null  int64  \n",
      " 3   total_rooms         20640 non-null  int64  \n",
      " 4   total_bedrooms      20433 non-null  float64\n",
      " 5   population          20640 non-null  int64  \n",
      " 6   households          20640 non-null  int64  \n",
      " 7   median_income       20640 non-null  float64\n",
      " 8   ocean_proximity     20640 non-null  object \n",
      " 9   median_house_value  20640 non-null  int64  \n",
      "dtypes: float64(4), int64(5), object(1)\n",
      "memory usage: 1.6+ MB\n"
     ]
    }
   ],
   "source": [
    "import pandas as pd\n",
    "import numpy as np\n",
    "\n",
    "housing = pd.read_csv('data/housing.csv')\n",
    "housing.info()"
   ]
  },
  {
   "cell_type": "code",
   "execution_count": 158,
   "metadata": {},
   "outputs": [
    {
     "data": {
      "text/html": [
       "<div>\n",
       "<style scoped>\n",
       "    .dataframe tbody tr th:only-of-type {\n",
       "        vertical-align: middle;\n",
       "    }\n",
       "\n",
       "    .dataframe tbody tr th {\n",
       "        vertical-align: top;\n",
       "    }\n",
       "\n",
       "    .dataframe thead th {\n",
       "        text-align: right;\n",
       "    }\n",
       "</style>\n",
       "<table border=\"1\" class=\"dataframe\">\n",
       "  <thead>\n",
       "    <tr style=\"text-align: right;\">\n",
       "      <th></th>\n",
       "      <th>longitude</th>\n",
       "      <th>latitude</th>\n",
       "      <th>housing_median_age</th>\n",
       "      <th>total_rooms</th>\n",
       "      <th>total_bedrooms</th>\n",
       "      <th>population</th>\n",
       "      <th>households</th>\n",
       "      <th>median_income</th>\n",
       "      <th>ocean_proximity</th>\n",
       "      <th>median_house_value</th>\n",
       "    </tr>\n",
       "  </thead>\n",
       "  <tbody>\n",
       "    <tr>\n",
       "      <th>0</th>\n",
       "      <td>-122.23</td>\n",
       "      <td>37.88</td>\n",
       "      <td>41</td>\n",
       "      <td>880</td>\n",
       "      <td>129.0</td>\n",
       "      <td>322</td>\n",
       "      <td>126</td>\n",
       "      <td>8.3252</td>\n",
       "      <td>NEAR BAY</td>\n",
       "      <td>452600</td>\n",
       "    </tr>\n",
       "    <tr>\n",
       "      <th>1</th>\n",
       "      <td>-122.22</td>\n",
       "      <td>37.86</td>\n",
       "      <td>21</td>\n",
       "      <td>7099</td>\n",
       "      <td>1106.0</td>\n",
       "      <td>2401</td>\n",
       "      <td>1138</td>\n",
       "      <td>8.3014</td>\n",
       "      <td>NEAR BAY</td>\n",
       "      <td>358500</td>\n",
       "    </tr>\n",
       "    <tr>\n",
       "      <th>2</th>\n",
       "      <td>-122.24</td>\n",
       "      <td>37.85</td>\n",
       "      <td>52</td>\n",
       "      <td>1467</td>\n",
       "      <td>190.0</td>\n",
       "      <td>496</td>\n",
       "      <td>177</td>\n",
       "      <td>7.2574</td>\n",
       "      <td>NEAR BAY</td>\n",
       "      <td>352100</td>\n",
       "    </tr>\n",
       "    <tr>\n",
       "      <th>3</th>\n",
       "      <td>-122.25</td>\n",
       "      <td>37.85</td>\n",
       "      <td>52</td>\n",
       "      <td>1274</td>\n",
       "      <td>235.0</td>\n",
       "      <td>558</td>\n",
       "      <td>219</td>\n",
       "      <td>5.6431</td>\n",
       "      <td>NEAR BAY</td>\n",
       "      <td>341300</td>\n",
       "    </tr>\n",
       "    <tr>\n",
       "      <th>4</th>\n",
       "      <td>-122.25</td>\n",
       "      <td>37.85</td>\n",
       "      <td>52</td>\n",
       "      <td>1627</td>\n",
       "      <td>280.0</td>\n",
       "      <td>565</td>\n",
       "      <td>259</td>\n",
       "      <td>3.8462</td>\n",
       "      <td>NEAR BAY</td>\n",
       "      <td>342200</td>\n",
       "    </tr>\n",
       "  </tbody>\n",
       "</table>\n",
       "</div>"
      ],
      "text/plain": [
       "   longitude  latitude  housing_median_age  total_rooms  total_bedrooms  \\\n",
       "0    -122.23     37.88                  41          880           129.0   \n",
       "1    -122.22     37.86                  21         7099          1106.0   \n",
       "2    -122.24     37.85                  52         1467           190.0   \n",
       "3    -122.25     37.85                  52         1274           235.0   \n",
       "4    -122.25     37.85                  52         1627           280.0   \n",
       "\n",
       "   population  households  median_income ocean_proximity  median_house_value  \n",
       "0         322         126         8.3252        NEAR BAY              452600  \n",
       "1        2401        1138         8.3014        NEAR BAY              358500  \n",
       "2         496         177         7.2574        NEAR BAY              352100  \n",
       "3         558         219         5.6431        NEAR BAY              341300  \n",
       "4         565         259         3.8462        NEAR BAY              342200  "
      ]
     },
     "execution_count": 158,
     "metadata": {},
     "output_type": "execute_result"
    }
   ],
   "source": [
    "housing.head()"
   ]
  },
  {
   "cell_type": "markdown",
   "metadata": {},
   "source": [
    "## Goal - Predict Median House Value\n",
    "\n",
    "#### Things we need to consider:\n",
    "- Ocean Proximity is categorical. \n",
    "- Missing values in Total Bedrooms.  \n",
    "- Data of significantly different scales."
   ]
  },
  {
   "cell_type": "code",
   "execution_count": 159,
   "metadata": {},
   "outputs": [
    {
     "data": {
      "image/png": "[encoded data removed]",
      "text/plain": [
       "<Figure size 720x720 with 1 Axes>"
      ]
     },
     "metadata": {
      "needs_background": "light"
     },
     "output_type": "display_data"
    }
   ],
   "source": [
    "housing.median_house_value.hist()\n",
    "plt.title('Distribution of Median Home Values')\n",
    "plt.show()"
   ]
  },
  {
   "cell_type": "markdown",
   "metadata": {},
   "source": [
    "# Exploratory Analysis"
   ]
  },
  {
   "cell_type": "code",
   "execution_count": 160,
   "metadata": {},
   "outputs": [
    {
     "data": {
      "image/png": "[encoded data removed]",
      "text/plain": [
       "<Figure size 576x576 with 9 Axes>"
      ]
     },
     "metadata": {
      "needs_background": "light"
     },
     "output_type": "display_data"
    }
   ],
   "source": [
    "housing.hist(bins=50, figsize=(8,8))\n",
    "plt.show()"
   ]
  },
  {
   "cell_type": "markdown",
   "metadata": {},
   "source": [
    "Interesting items of note:\n",
    "- Wide variances in scales. \n",
    "- Median house value truncated at $500,000  \n",
    "- Outliers are present"
   ]
  },
  {
   "cell_type": "code",
   "execution_count": 161,
   "metadata": {},
   "outputs": [
    {
     "data": {
      "image/png": "[encoded data removed]",
      "text/plain": [
       "<Figure size 720x720 with 1 Axes>"
      ]
     },
     "metadata": {
      "needs_background": "light"
     },
     "output_type": "display_data"
    }
   ],
   "source": [
    "housing.groupby('ocean_proximity')['median_house_value'].median().plot.barh()\n",
    "plt.xlabel('Median of Median Home Value')\n",
    "plt.ylabel('')\n",
    "plt.title('Price differences by Ocean Proximity')\n",
    "plt.show()"
   ]
  },
  {
   "cell_type": "markdown",
   "metadata": {},
   "source": [
    "Inland homes have significantly lower prices than homes closer to the water."
   ]
  },
  {
   "cell_type": "code",
   "execution_count": 162,
   "metadata": {},
   "outputs": [
    {
     "data": {
      "image/png": "[encoded data removed]",
      "text/plain": [
       "<Figure size 720x504 with 2 Axes>"
      ]
     },
     "metadata": {
      "needs_background": "light"
     },
     "output_type": "display_data"
    }
   ],
   "source": [
    "housing.plot(kind='scatter', x='longitude', y='latitude', alpha=0.4, s=housing['population']/100,\n",
    "            label='population', figsize=(10,7), c='median_house_value', cmap=plt.get_cmap('jet'),\n",
    "            colorbar=True)\n",
    "plt.legend('')\n",
    "plt.show()"
   ]
  },
  {
   "cell_type": "markdown",
   "metadata": {},
   "source": [
    "Higher values are largely clustered around the coast.\n",
    "\n",
    "[Example from \"Hands-on Machine Learning with Scikit-Learn, Keras & TensorFlow](https://github.com/ageron/handson-ml2)"
   ]
  },
  {
   "cell_type": "markdown",
   "metadata": {},
   "source": [
    "# Missing Values\n",
    "\n",
    "#### Options:\n",
    "- Drop rows (bad). \n",
    "- Drop columns (bad).  \n",
    "- Fill in the missing values (ding ding).  \n",
    "- If categorical, might want to add a dummy to indicate it was missing (ding ding).  \n",
    "- Best strategy will be situationally dependent. This can be treated as a hyperparameter - no perfect answer.\n",
    "\n",
    "#### Strategies:\n",
    "- Simple inputers with median, median, mode, random values.  \n",
    "- Estimate the missing value with another machine learning model (increasing overal complexity).  \n",
    "\n",
    ">Not all strategies will work for all data types, so you may need to split it up, e.g., one method for the numerical variables and another for the categorical variables."
   ]
  },
  {
   "cell_type": "code",
   "execution_count": 163,
   "metadata": {},
   "outputs": [
    {
     "data": {
      "text/plain": [
       "207"
      ]
     },
     "execution_count": 163,
     "metadata": {},
     "output_type": "execute_result"
    }
   ],
   "source": [
    "housing.total_bedrooms.isna().sum()"
   ]
  },
  {
   "cell_type": "markdown",
   "metadata": {},
   "source": [
    "### Filling with median"
   ]
  },
  {
   "cell_type": "code",
   "execution_count": 164,
   "metadata": {},
   "outputs": [
    {
     "data": {
      "text/plain": [
       "0"
      ]
     },
     "execution_count": 164,
     "metadata": {},
     "output_type": "execute_result"
    }
   ],
   "source": [
    "from sklearn.impute import SimpleImputer\n",
    "\n",
    "example_imputer = SimpleImputer(strategy='median')\n",
    "example_imputer.fit_transform(np.array(housing.total_bedrooms).reshape(-1,1))\n",
    "\n",
    "example_imputer = pd.Series(example_imputer)\n",
    "example_imputer.isna().sum()"
   ]
  },
  {
   "cell_type": "markdown",
   "metadata": {},
   "source": [
    "### If you wanted to add an indictor for the missing value\n",
    "> Probably more useful for categorical variables"
   ]
  },
  {
   "cell_type": "code",
   "execution_count": 165,
   "metadata": {},
   "outputs": [
    {
     "data": {
      "text/plain": [
       "array([[ 129.,    0.],\n",
       "       [1106.,    0.],\n",
       "       [ 190.,    0.],\n",
       "       ...,\n",
       "       [ 485.,    0.],\n",
       "       [ 409.,    0.],\n",
       "       [ 616.,    0.]])"
      ]
     },
     "execution_count": 165,
     "metadata": {},
     "output_type": "execute_result"
    }
   ],
   "source": [
    "from sklearn.impute import SimpleImputer\n",
    "\n",
    "example_imputer = SimpleImputer(strategy='median', add_indicator=True)\n",
    "example_imputer.fit_transform(np.array(housing.total_bedrooms).reshape(-1,1))"
   ]
  },
  {
   "cell_type": "markdown",
   "metadata": {},
   "source": [
    "# One-Hot Encoding\n",
    "\n",
    "From \"Hands-on Machine Learning with Scikit-Learn, Keras & TensorFlow\":\n",
    "> If a categorical attribute has a large number of possible categories, then one-hot encoding will result in a large number of input features. This may slow down training and degrade performance.\n",
    "\n",
    "#### Possible alternatives in that situation:\n",
    "- Recode to a numerical feature, e.g., distance to ocean.  \n",
    "- Convert to embeddings.  \n",
    "\n",
    "#### Real risk:\n",
    "May not have any islands in the training data, what would happen if we encountered that in our test/evaluation data?"
   ]
  },
  {
   "cell_type": "code",
   "execution_count": 166,
   "metadata": {},
   "outputs": [
    {
     "data": {
      "text/plain": [
       "<1H OCEAN     9136\n",
       "INLAND        6551\n",
       "NEAR OCEAN    2658\n",
       "NEAR BAY      2290\n",
       "ISLAND           5\n",
       "Name: ocean_proximity, dtype: int64"
      ]
     },
     "execution_count": 166,
     "metadata": {},
     "output_type": "execute_result"
    }
   ],
   "source": [
    "housing.ocean_proximity.value_counts()"
   ]
  },
  {
   "cell_type": "markdown",
   "metadata": {},
   "source": [
    "### Islands are really rare\n",
    "\n",
    "- Adding a dummy for this won't do much - it'll basically be zero.  \n",
    "- Replace to nearest category?"
   ]
  },
  {
   "cell_type": "code",
   "execution_count": 167,
   "metadata": {},
   "outputs": [
    {
     "data": {
      "text/plain": [
       "<20640x5 sparse matrix of type '<class 'numpy.float64'>'\n",
       "\twith 20640 stored elements in Compressed Sparse Row format>"
      ]
     },
     "execution_count": 167,
     "metadata": {},
     "output_type": "execute_result"
    }
   ],
   "source": [
    "from sklearn.preprocessing import OneHotEncoder\n",
    "\n",
    "example_ohe = OneHotEncoder()\n",
    "example_ohe = example_ohe.fit_transform(np.array(housing['ocean_proximity']).reshape(-1,1))\n",
    "example_ohe"
   ]
  },
  {
   "cell_type": "markdown",
   "metadata": {},
   "source": [
    "> Sparse matrix returns lists of coordinates in the matrix with a non-zero. It's a more efficient structure:"
   ]
  },
  {
   "cell_type": "code",
   "execution_count": 168,
   "metadata": {},
   "outputs": [
    {
     "name": "stdout",
     "output_type": "stream",
     "text": [
      "  (0, 3)\t1.0\n",
      "  (1, 3)\t1.0\n",
      "  (2, 3)\t1.0\n",
      "  (3, 3)\t1.0\n",
      "  (4, 3)\t1.0\n"
     ]
    }
   ],
   "source": [
    "print(example_ohe[:5,])"
   ]
  },
  {
   "cell_type": "markdown",
   "metadata": {},
   "source": [
    ">Can be converted back to a dense format:"
   ]
  },
  {
   "cell_type": "code",
   "execution_count": 169,
   "metadata": {},
   "outputs": [
    {
     "data": {
      "text/plain": [
       "array([[0., 0., 0., 1., 0.],\n",
       "       [0., 0., 0., 1., 0.],\n",
       "       [0., 0., 0., 1., 0.],\n",
       "       [0., 0., 0., 1., 0.],\n",
       "       [0., 0., 0., 1., 0.]])"
      ]
     },
     "execution_count": 169,
     "metadata": {},
     "output_type": "execute_result"
    }
   ],
   "source": [
    "example_ohe.toarray()[:5,:]"
   ]
  },
  {
   "cell_type": "markdown",
   "metadata": {},
   "source": [
    "### Should we use this for modeling?\n",
    "\n",
    ">In statistics, multicollinearity (also collinearity) is a phenomenon in which one predictor variable in a multiple regression model can be linearly predicted from the others with a substantial degree of accuracy. In this situation, the coefficient estimates of the multiple regression may change erratically in response to small changes in the model or the data. Multicollinearity does not reduce the predictive power or reliability of the model as a whole, at least within the sample data set; it only affects calculations regarding individual predictors. That is, a multivariate regression model with collinear predictors can indicate how well the entire bundle of predictors predicts the outcome variable, but it may not give valid results about any individual predictor, or about which predictors are redundant with respect to others.\n",
    "<br><br>[Wikipedia](https://en.wikipedia.org/wiki/Multicollinearity)\n",
    "\n",
    "### Could argue that this could be represented as an ordinal variable (island > near ocean > near bay > ...)\n",
    "See [OrdinalEncoder for as example](https://scikit-learn.org/stable/modules/generated/sklearn.preprocessing.OrdinalEncoder.html)"
   ]
  },
  {
   "cell_type": "markdown",
   "metadata": {},
   "source": [
    "# Scaling Numerical Variables\n",
    "\n",
    "## Don't skip this - most models don't perform well when variables are on different scales."
   ]
  },
  {
   "cell_type": "code",
   "execution_count": 170,
   "metadata": {},
   "outputs": [
    {
     "data": {
      "text/html": [
       "<div>\n",
       "<style scoped>\n",
       "    .dataframe tbody tr th:only-of-type {\n",
       "        vertical-align: middle;\n",
       "    }\n",
       "\n",
       "    .dataframe tbody tr th {\n",
       "        vertical-align: top;\n",
       "    }\n",
       "\n",
       "    .dataframe thead th {\n",
       "        text-align: right;\n",
       "    }\n",
       "</style>\n",
       "<table border=\"1\" class=\"dataframe\">\n",
       "  <thead>\n",
       "    <tr style=\"text-align: right;\">\n",
       "      <th></th>\n",
       "      <th>longitude</th>\n",
       "      <th>latitude</th>\n",
       "      <th>housing_median_age</th>\n",
       "      <th>total_rooms</th>\n",
       "      <th>total_bedrooms</th>\n",
       "      <th>population</th>\n",
       "      <th>households</th>\n",
       "      <th>median_income</th>\n",
       "      <th>median_house_value</th>\n",
       "    </tr>\n",
       "  </thead>\n",
       "  <tbody>\n",
       "    <tr>\n",
       "      <th>count</th>\n",
       "      <td>20640.0</td>\n",
       "      <td>20640.0</td>\n",
       "      <td>20640.0</td>\n",
       "      <td>20640.0</td>\n",
       "      <td>20433.0</td>\n",
       "      <td>20640.0</td>\n",
       "      <td>20640.0</td>\n",
       "      <td>20640.0</td>\n",
       "      <td>20640.0</td>\n",
       "    </tr>\n",
       "    <tr>\n",
       "      <th>mean</th>\n",
       "      <td>-120.0</td>\n",
       "      <td>36.0</td>\n",
       "      <td>29.0</td>\n",
       "      <td>2636.0</td>\n",
       "      <td>538.0</td>\n",
       "      <td>1425.0</td>\n",
       "      <td>500.0</td>\n",
       "      <td>4.0</td>\n",
       "      <td>206856.0</td>\n",
       "    </tr>\n",
       "    <tr>\n",
       "      <th>std</th>\n",
       "      <td>2.0</td>\n",
       "      <td>2.0</td>\n",
       "      <td>13.0</td>\n",
       "      <td>2182.0</td>\n",
       "      <td>421.0</td>\n",
       "      <td>1132.0</td>\n",
       "      <td>382.0</td>\n",
       "      <td>2.0</td>\n",
       "      <td>115396.0</td>\n",
       "    </tr>\n",
       "    <tr>\n",
       "      <th>min</th>\n",
       "      <td>-124.0</td>\n",
       "      <td>33.0</td>\n",
       "      <td>1.0</td>\n",
       "      <td>2.0</td>\n",
       "      <td>1.0</td>\n",
       "      <td>3.0</td>\n",
       "      <td>1.0</td>\n",
       "      <td>0.0</td>\n",
       "      <td>14999.0</td>\n",
       "    </tr>\n",
       "    <tr>\n",
       "      <th>25%</th>\n",
       "      <td>-122.0</td>\n",
       "      <td>34.0</td>\n",
       "      <td>18.0</td>\n",
       "      <td>1448.0</td>\n",
       "      <td>296.0</td>\n",
       "      <td>787.0</td>\n",
       "      <td>280.0</td>\n",
       "      <td>3.0</td>\n",
       "      <td>119600.0</td>\n",
       "    </tr>\n",
       "    <tr>\n",
       "      <th>50%</th>\n",
       "      <td>-118.0</td>\n",
       "      <td>34.0</td>\n",
       "      <td>29.0</td>\n",
       "      <td>2127.0</td>\n",
       "      <td>435.0</td>\n",
       "      <td>1166.0</td>\n",
       "      <td>409.0</td>\n",
       "      <td>4.0</td>\n",
       "      <td>179700.0</td>\n",
       "    </tr>\n",
       "    <tr>\n",
       "      <th>75%</th>\n",
       "      <td>-118.0</td>\n",
       "      <td>38.0</td>\n",
       "      <td>37.0</td>\n",
       "      <td>3148.0</td>\n",
       "      <td>647.0</td>\n",
       "      <td>1725.0</td>\n",
       "      <td>605.0</td>\n",
       "      <td>5.0</td>\n",
       "      <td>264725.0</td>\n",
       "    </tr>\n",
       "    <tr>\n",
       "      <th>max</th>\n",
       "      <td>-114.0</td>\n",
       "      <td>42.0</td>\n",
       "      <td>52.0</td>\n",
       "      <td>39320.0</td>\n",
       "      <td>6445.0</td>\n",
       "      <td>35682.0</td>\n",
       "      <td>6082.0</td>\n",
       "      <td>15.0</td>\n",
       "      <td>500001.0</td>\n",
       "    </tr>\n",
       "  </tbody>\n",
       "</table>\n",
       "</div>"
      ],
      "text/plain": [
       "       longitude  latitude  housing_median_age  total_rooms  total_bedrooms  \\\n",
       "count    20640.0   20640.0             20640.0      20640.0         20433.0   \n",
       "mean      -120.0      36.0                29.0       2636.0           538.0   \n",
       "std          2.0       2.0                13.0       2182.0           421.0   \n",
       "min       -124.0      33.0                 1.0          2.0             1.0   \n",
       "25%       -122.0      34.0                18.0       1448.0           296.0   \n",
       "50%       -118.0      34.0                29.0       2127.0           435.0   \n",
       "75%       -118.0      38.0                37.0       3148.0           647.0   \n",
       "max       -114.0      42.0                52.0      39320.0          6445.0   \n",
       "\n",
       "       population  households  median_income  median_house_value  \n",
       "count     20640.0     20640.0        20640.0             20640.0  \n",
       "mean       1425.0       500.0            4.0            206856.0  \n",
       "std        1132.0       382.0            2.0            115396.0  \n",
       "min           3.0         1.0            0.0             14999.0  \n",
       "25%         787.0       280.0            3.0            119600.0  \n",
       "50%        1166.0       409.0            4.0            179700.0  \n",
       "75%        1725.0       605.0            5.0            264725.0  \n",
       "max       35682.0      6082.0           15.0            500001.0  "
      ]
     },
     "execution_count": 170,
     "metadata": {},
     "output_type": "execute_result"
    }
   ],
   "source": [
    "housing.select_dtypes(['float','integer']).describe().round(0)"
   ]
  },
  {
   "cell_type": "markdown",
   "metadata": {},
   "source": [
    "## Two main methods:\n",
    "> Only fit these to the training data, no leaking information from the test set!\n",
    "\n",
    "\n",
    "### Min-max scaling\n",
    "- Simple  \n",
    "- Bound between 0 and 1 - a lot of algorithms like that, especially neural networks\n",
    "- scikit-learn gives you some additional flexibility in terms of the range  \n",
    "- Very susceptible to outliers\n",
    "\n",
    "$$\n",
    "x_{scaled} = \\frac{x - x_{min}}{x_{max}-x_{min}}\n",
    "$$\n",
    "\n",
    "### Standardization\n",
    "- Little more involved. \n",
    "- More robust to outliers. \n",
    "- No specific range boundary. \n",
    "\n",
    "$$\n",
    "x_{scaled} = \\frac{x - \\hat{x}}{\\sigma_{x}}\n",
    "$$"
   ]
  },
  {
   "cell_type": "markdown",
   "metadata": {},
   "source": [
    "Since we are doing regression and don't have a scaling boundary requirement and there are probably outliers, we'll use standardization."
   ]
  },
  {
   "cell_type": "code",
   "execution_count": 171,
   "metadata": {},
   "outputs": [
    {
     "data": {
      "image/png": "[encoded data removed]",
      "text/plain": [
       "<Figure size 720x720 with 1 Axes>"
      ]
     },
     "metadata": {
      "needs_background": "light"
     },
     "output_type": "display_data"
    },
    {
     "data": {
      "image/png": "[encoded data removed]",
      "text/plain": [
       "<Figure size 720x720 with 1 Axes>"
      ]
     },
     "metadata": {
      "needs_background": "light"
     },
     "output_type": "display_data"
    }
   ],
   "source": [
    "from sklearn.preprocessing import StandardScaler\n",
    "import matplotlib.pyplot as plt\n",
    "\n",
    "example_SS = StandardScaler()\n",
    "example_SS = example_SS.fit_transform(np.array(housing.total_rooms).reshape(-1,1))\n",
    "\n",
    "plt.hist(housing.total_rooms, bins=100)\n",
    "plt.title('Total Rooms', loc='left')\n",
    "plt.show()\n",
    "\n",
    "plt.hist(example_SS, bins=100)\n",
    "plt.title('Total Rooms - Standardized', loc='left')\n",
    "plt.show()"
   ]
  },
  {
   "cell_type": "markdown",
   "metadata": {},
   "source": [
    "# Training/Test Splits\n",
    "\n",
    ">Put the test data aside and never look at it again.\n",
    "\n",
    "- All of the feature transformations and model training should be on the training data.  \n",
    "- In production, you wouldn't exactly know what the incoming data would look like ahead of time.  \n",
    "- If you use the test data to inform **any** of the feature transformations or modeling, then you are letting that test data leak into the training data and that will (may) bias your evaluations. This is called **leakage** or **data snooping** - both are not good.\n",
    "\n",
    "### Simpliest form is splitting your data into two parts:\n",
    "- Training: will base feature transforms and modeling on this. \n",
    "- Test: evaluate the models on this data. \n",
    "\n",
    ">There are more robust methods that we'll talk about later. You can think of this simple splitting as a quick and dirty way to evaluate performance, but it isn't a methodology you'd want to use to estimate what your performance is truly likely to be."
   ]
  },
  {
   "cell_type": "markdown",
   "metadata": {},
   "source": [
    "### Split off the features and the target variable"
   ]
  },
  {
   "cell_type": "code",
   "execution_count": 172,
   "metadata": {},
   "outputs": [
    {
     "name": "stdout",
     "output_type": "stream",
     "text": [
      "<class 'pandas.core.frame.DataFrame'>\n",
      "RangeIndex: 20640 entries, 0 to 20639\n",
      "Data columns (total 9 columns):\n",
      " #   Column              Non-Null Count  Dtype  \n",
      "---  ------              --------------  -----  \n",
      " 0   housing_median_age  20640 non-null  int64  \n",
      " 1   total_rooms         20640 non-null  int64  \n",
      " 2   total_bedrooms      20433 non-null  float64\n",
      " 3   population          20640 non-null  int64  \n",
      " 4   households          20640 non-null  int64  \n",
      " 5   median_income       20640 non-null  float64\n",
      " 6   ocean_proximity     20640 non-null  object \n",
      " 7   longitude           20640 non-null  float64\n",
      " 8   latitude            20640 non-null  float64\n",
      "dtypes: float64(4), int64(4), object(1)\n",
      "memory usage: 1.4+ MB\n"
     ]
    }
   ],
   "source": [
    "y = housing.median_house_value\n",
    "\n",
    "features = ['housing_median_age', 'total_rooms', 'total_bedrooms', \n",
    "            'population', 'households', 'median_income', 'ocean_proximity', 'longitude', 'latitude'\n",
    "           ]\n",
    "\n",
    "X = housing[features]\n",
    "X.info()"
   ]
  },
  {
   "cell_type": "markdown",
   "metadata": {},
   "source": [
    "### Split into training and test sets\n",
    ">80/20 split is pretty standard, but not universal. For very large datasets, I've heard of 99/1 splits."
   ]
  },
  {
   "cell_type": "code",
   "execution_count": 173,
   "metadata": {},
   "outputs": [
    {
     "name": "stdout",
     "output_type": "stream",
     "text": [
      "Training samples: 16,512\n",
      "Test samples: 4,128\n"
     ]
    }
   ],
   "source": [
    "from sklearn.model_selection import train_test_split\n",
    "\n",
    "X_training, X_test, y_training, y_test = train_test_split(X, y, test_size=0.20)\n",
    "\n",
    "print(f'Training samples: {X_training.shape[0]:,}')\n",
    "print(f'Test samples: {X_test.shape[0]:,}')"
   ]
  },
  {
   "cell_type": "markdown",
   "metadata": {},
   "source": [
    ">Remember, the test data is only for evaluation."
   ]
  },
  {
   "cell_type": "code",
   "execution_count": 174,
   "metadata": {},
   "outputs": [
    {
     "name": "stdout",
     "output_type": "stream",
     "text": [
      "<class 'pandas.core.frame.DataFrame'>\n",
      "Int64Index: 16512 entries, 18353 to 3231\n",
      "Data columns (total 9 columns):\n",
      " #   Column              Non-Null Count  Dtype  \n",
      "---  ------              --------------  -----  \n",
      " 0   housing_median_age  16512 non-null  int64  \n",
      " 1   total_rooms         16512 non-null  int64  \n",
      " 2   total_bedrooms      16345 non-null  float64\n",
      " 3   population          16512 non-null  int64  \n",
      " 4   households          16512 non-null  int64  \n",
      " 5   median_income       16512 non-null  float64\n",
      " 6   ocean_proximity     16512 non-null  object \n",
      " 7   longitude           16512 non-null  float64\n",
      " 8   latitude            16512 non-null  float64\n",
      "dtypes: float64(4), int64(4), object(1)\n",
      "memory usage: 1.3+ MB\n"
     ]
    }
   ],
   "source": [
    "X_training.info()"
   ]
  },
  {
   "cell_type": "markdown",
   "metadata": {},
   "source": [
    "# Pipelines - essentially a process flow for the transformations and modeling\n",
    "\n",
    "- Fill missing values. \n",
    "- Create dummies for categorical.  \n",
    "- Standardize numerical variables.  \n",
    "- Fit the model.  \n",
    "\n",
    "### Pipelines can be made of collections of pipelines"
   ]
  },
  {
   "cell_type": "code",
   "execution_count": 175,
   "metadata": {},
   "outputs": [
    {
     "name": "stdout",
     "output_type": "stream",
     "text": [
      "ColumnTransformer(transformers=[('proc_numeric',\n",
      "                                 Pipeline(steps=[('impute_missing',\n",
      "                                                  SimpleImputer(strategy='median')),\n",
      "                                                 ('standardize_num',\n",
      "                                                  StandardScaler())]),\n",
      "                                 ['housing_median_age', 'total_rooms',\n",
      "                                  'total_bedrooms', 'population', 'households',\n",
      "                                  'median_income', 'longitude', 'latitude'])])\n",
      "ColumnTransformer(transformers=[('create_dummies',\n",
      "                                 OneHotEncoder(handle_unknown='ignore'),\n",
      "                                 ['ocean_proximity'])])\n",
      "Pipeline(steps=[('num_processing',\n",
      "                 ColumnTransformer(transformers=[('proc_numeric',\n",
      "                                                  Pipeline(steps=[('impute_missing',\n",
      "                                                                   SimpleImputer(strategy='median')),\n",
      "                                                                  ('standardize_num',\n",
      "                                                                   StandardScaler())]),\n",
      "                                                  ['housing_median_age',\n",
      "                                                   'total_rooms',\n",
      "                                                   'total_bedrooms',\n",
      "                                                   'population', 'households',\n",
      "                                                   'median_income', 'longitude',\n",
      "                                                   'latitude'])]))])\n"
     ]
    }
   ],
   "source": [
    "from sklearn.pipeline import Pipeline\n",
    "from sklearn.compose import ColumnTransformer\n",
    "from sklearn.impute import SimpleImputer\n",
    "from sklearn.preprocessing import OneHotEncoder\n",
    "from sklearn.preprocessing import StandardScaler\n",
    "\n",
    "cat_vars = ['ocean_proximity']\n",
    "num_vars = ['housing_median_age', 'total_rooms', 'total_bedrooms', 'population',\n",
    "            'households', 'median_income', 'longitude', 'latitude']\n",
    "\n",
    "num_pipeline = Pipeline([('impute_missing', SimpleImputer(strategy='median')),\n",
    "                           ('standardize_num', StandardScaler())\n",
    "                        ])\n",
    "\n",
    "num_transformer = ColumnTransformer(transformers=[('proc_numeric', num_pipeline, num_vars)])\n",
    "\n",
    "cat_transformer= ColumnTransformer(transformers=[\n",
    "    ('create_dummies', OneHotEncoder(handle_unknown='ignore'), cat_vars)\n",
    "        ]\n",
    "    )\n",
    "\n",
    "print(num_transformer)\n",
    "print(cat_transformer)\n",
    "\n",
    "processing_pipeline = Pipeline([('num_processing', num_transformer)])\n",
    "print(processing_pipeline)"
   ]
  },
  {
   "cell_type": "code",
   "execution_count": 176,
   "metadata": {},
   "outputs": [
    {
     "data": {
      "text/plain": [
       "Pipeline(steps=[('data_processing',\n",
       "                 Pipeline(steps=[('num_processing',\n",
       "                                  ColumnTransformer(transformers=[('proc_numeric',\n",
       "                                                                   Pipeline(steps=[('impute_missing',\n",
       "                                                                                    SimpleImputer(strategy='median')),\n",
       "                                                                                   ('standardize_num',\n",
       "                                                                                    StandardScaler())]),\n",
       "                                                                   ['housing_median_age',\n",
       "                                                                    'total_rooms',\n",
       "                                                                    'total_bedrooms',\n",
       "                                                                    'population',\n",
       "                                                                    'households',\n",
       "                                                                    'median_income',\n",
       "                                                                    'longitude',\n",
       "                                                                    'latitude'])]))])),\n",
       "                ('lm', LinearRegression())])"
      ]
     },
     "execution_count": 176,
     "metadata": {},
     "output_type": "execute_result"
    }
   ],
   "source": [
    "from sklearn.linear_model import LinearRegression\n",
    "\n",
    "modeling_pipeline = Pipeline([('data_processing', processing_pipeline), ('lm', LinearRegression())])\n",
    "modeling_pipeline.fit(X_training, y_training)"
   ]
  },
  {
   "cell_type": "markdown",
   "metadata": {},
   "source": [
    "# Evaluating the model\n",
    ">Really evaluatign the entire preprocessing process and the model itself."
   ]
  },
  {
   "cell_type": "code",
   "execution_count": 177,
   "metadata": {},
   "outputs": [],
   "source": [
    "housing_predictions = modeling_pipeline.predict(X_test)"
   ]
  },
  {
   "cell_type": "markdown",
   "metadata": {},
   "source": [
    "### Get the mean squared error, root mean squared error, and $R^2$"
   ]
  },
  {
   "cell_type": "code",
   "execution_count": 178,
   "metadata": {},
   "outputs": [
    {
     "data": {
      "text/plain": [
       "4774815330.207581"
      ]
     },
     "execution_count": 178,
     "metadata": {},
     "output_type": "execute_result"
    }
   ],
   "source": [
    "from sklearn.metrics import mean_squared_error\n",
    "mse = mean_squared_error(y_test, housing_predictions)\n",
    "mse"
   ]
  },
  {
   "cell_type": "code",
   "execution_count": 179,
   "metadata": {},
   "outputs": [
    {
     "data": {
      "text/plain": [
       "69100.03856878505"
      ]
     },
     "execution_count": 179,
     "metadata": {},
     "output_type": "execute_result"
    }
   ],
   "source": [
    "rmse = np.sqrt(mse)\n",
    "rmse"
   ]
  },
  {
   "cell_type": "code",
   "execution_count": 180,
   "metadata": {},
   "outputs": [
    {
     "data": {
      "text/plain": [
       "0.639788256064113"
      ]
     },
     "execution_count": 180,
     "metadata": {},
     "output_type": "execute_result"
    }
   ],
   "source": [
    "from sklearn.metrics import r2_score\n",
    "r2 = r2_score(y_test, housing_predictions)\n",
    "r2"
   ]
  },
  {
   "cell_type": "markdown",
   "metadata": {},
   "source": [
    "### Plot the test and predictions"
   ]
  },
  {
   "cell_type": "code",
   "execution_count": 181,
   "metadata": {},
   "outputs": [
    {
     "data": {
      "image/png": "[encoded data removed]",
      "text/plain": [
       "<Figure size 720x720 with 1 Axes>"
      ]
     },
     "metadata": {
      "needs_background": "light"
     },
     "output_type": "display_data"
    }
   ],
   "source": [
    "import matplotlib.pyplot as plt\n",
    "\n",
    "plt.plot(y_test, housing_predictions, 'ro')\n",
    "plt.xlabel('Actual')\n",
    "plt.ylabel('Predicted')\n",
    "plt.show()"
   ]
  },
  {
   "cell_type": "markdown",
   "metadata": {},
   "source": [
    "# Can we say if this is a good model or anything about its performance?"
   ]
  },
  {
   "cell_type": "markdown",
   "metadata": {},
   "source": [
    "# Reading\n",
    "\n",
    "[Spurious correlations (High $r^2$ useless relationships)](https://www.tylervigen.com/spurious-correlations)\n",
    "<br>[Mostly Harmless Econometrics](https://www.mostlyharmlesseconometrics.com)\n",
    "<br>[Additional examples from statsmodels](https://www.statsmodels.org/stable/examples/notebooks/generated/ols.html)\n",
    "<br> [Common pitfalls](https://scikit-learn.org/stable/auto_examples/inspection/plot_linear_model_coefficient_interpretation.html)"
   ]
  }
 ],
 "metadata": {
  "kernelspec": {
   "display_name": "Python 3",
   "language": "python",
   "name": "python3"
  },
  "language_info": {
   "codemirror_mode": {
    "name": "ipython",
    "version": 3
   },
   "file_extension": ".py",
   "mimetype": "text/x-python",
   "name": "python",
   "nbconvert_exporter": "python",
   "pygments_lexer": "ipython3",
   "version": "3.7.3"
  }
 },
 "nbformat": 4,
 "nbformat_minor": 4
}
