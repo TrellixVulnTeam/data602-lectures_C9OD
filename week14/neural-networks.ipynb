{
 "cells": [
  {
   "cell_type": "markdown",
   "metadata": {},
   "source": [
    "# Introduction to Neural Networks and Deep Learning\n",
    "This will introduce basic concepts regarding neural networks and is by no-means comprehensive. Neural networks can cover multiple full courses, so this does less than scratch the surface. See the reading and resources section for resources that go into additional depth.\n",
    "\n",
    "## Artificial Neural Networks (ANN)\n",
    "- Introduced in 1943, based on the concept of biological neurons.  \n",
    "- Generally used for image, speech, and text classification. Nothing preventing it from being used in simpler classification tasks, but performance generally is similar to other models we've talked about.\n",
    "  \n",
    "## Biological Neurons\n",
    "\n",
    "<img src='files/diagrams/brain.png' style='width: 600px'>\n",
    "\n",
    "[Image source Machine Learning with Python 3rd Edition Pg. 20](https://github.com/rasbt/python-machine-learning-book-3rd-edition/tree/master/ch02/images)\n",
    "\n",
    "- Built upon how the brain works to intake information, process and extrapolate it, and make decisions.  \n",
    "- Neurons can make very complex decisions. Artificial neurons perform various logical computations:\n",
    "\n",
    "<img src='files/diagrams/neuron-logic.png' stype='width: 500px'>\n",
    "\n",
    "- The brain uses `neurons`, but neural networks approximate this bahavior with `units` and `layers`.  \n",
    "- Neural networks have been around since the 1950s, but have become more popular in the last 20 years, coinciding with advancements in computing.  \n",
    "- The revolution really started in the 1980s, after a technique called backpropagation was developed, which makes deep neural networks much more efficient to compute.  "
   ]
  },
  {
   "cell_type": "markdown",
   "metadata": {},
   "source": [
    "## Single Layer (aka `Logistic Regression`)\n",
    "- Simpliest ANN architecture.  \n",
    "- Input layer and output layer.  \n",
    "- The activation function normalizes the output. Logistic regression uses a sigmoid function, but there are others that may be more robust for your neural network models.  \n",
    "\n",
    "<img src='files/diagrams/singlelayer.png' style='width: 500px'>\n",
    "\n",
    "\n",
    "[Image source Machine Learning with Python 3rd Edition Pg. 386](https://github.com/rasbt/python-machine-learning-book-3rd-edition/tree/master/ch12)\n",
    "\n",
    "- The logistic regression model we manually created in [Week 6](https://github.com/appliedecon/data602-lectures/tree/main/week06) is essentially a single-layer neural network that uses a sigmoid activation function.\n",
    "\n",
    "We can think of this `single layer` as $y=f(x)$"
   ]
  },
  {
   "cell_type": "markdown",
   "metadata": {},
   "source": [
    "## Hidden Layers\n",
    "<img src='files/diagrams/multilayer.png' style='width: 600px'>\n",
    "\n",
    "\n",
    "[Image source Machine Learning with Python 3rd Edition Pg. 388](https://github.com/rasbt/python-machine-learning-book-3rd-edition/tree/master/ch12)\n",
    "\n",
    "- Many different types of neural networks. This is a feedforward, fully connected network, also called a `Multi-layer Perceptron (MLP)`.  \n",
    "- Think of these as nested functions, with a 3-layer specified as:\n",
    "$$\n",
    "y = f_{NN}(x)=f_3(f_2(f_1(x)))\n",
    "$$\n",
    "\n",
    "- Allows complex, non-linear, relationships to be learned.  \n",
    "- $a_0^{(in)}$ and $A_0^{(h)}$ are bias units, and will equal $1$.  \n",
    "- The output of each unit gets passed into an activation function to normalize the output and allow for non-linear approximations.  \n",
    "- If there was not an activation functions, chains of linear combinations will only result in a linear transformation and that wouldn't be able to capture complexities of higher-order problems, i.e., a deep network without activation functions would be the same as a single-layer network.  \n",
    "\n",
    "Recall:\n",
    "$$\n",
    "y = f_{NN}(x)=f_3(f_2(f_1(x)))\n",
    "$$\n",
    "\n",
    "Individually these functions will be represented as:\n",
    "$$\n",
    "f_l(z)=g_l(W_{lz}+b_t)\n",
    "$$\n",
    "\n",
    "- $l$ is the layer\n",
    "- $g_l$ is the activation function, which requires a matrix of weights, $W_l$, and a vector, $b_l$ for each layer. $g_l$ can be any of the functions detailed below.  \n",
    "- Theoretically, a deep neural network can capture any continuous function when activation functions are used.  \n",
    "\n",
    "Linear Activation (regression): \n",
    "$$\n",
    "\\phi(x) = z\n",
    "$$\n",
    "\n",
    "Sigmoid (logistic regression, ANN):\n",
    "$$\n",
    "\\phi(z)=\\frac{1}{1+e^{-z}}\n",
    "$$\n",
    "\n",
    "Hyperbolic tangent - tanh (ANN):\n",
    "$$\n",
    "\\phi(z)=\\frac{e^z-e^{-z}}{e^z+e^{-z}}\n",
    "$$\n",
    "\n",
    "ReLU (ANN):\n",
    "$$\n",
    "\\phi(z)= \\begin{cases}\n",
    "    0, & \\text{if}\\ z<0\\\\\n",
    "    z, & \\text{if}\\ z>0\n",
    "    \\end{cases}\n",
    "$$"
   ]
  },
  {
   "cell_type": "code",
   "execution_count": 14,
   "metadata": {},
   "outputs": [
    {
     "data": {
      "image/png": "[encoded data removed]",
      "text/plain": [
       "<Figure size 432x288 with 1 Axes>"
      ]
     },
     "metadata": {
      "needs_background": "light"
     },
     "output_type": "display_data"
    }
   ],
   "source": [
    "import numpy as np\n",
    "import matplotlib.pyplot as plt\n",
    "%matplotlib inline\n",
    "\n",
    "z = np.arange(-3.0, 3.0, 0.01)\n",
    "\n",
    "def sigmoid(z):\n",
    "    return 1/(1+np.exp(-z))\n",
    "\n",
    "def tanh(z):\n",
    "    return (np.exp(z)-np.exp(-z))/(np.exp(z)+np.exp(-z))\n",
    "\n",
    "def relu(z):\n",
    "    return np.where(z<0, 0, z)\n",
    "    \n",
    "plt.plot(z, sigmoid(z), 'b--')\n",
    "plt.plot(z, tanh(z), 'r--')\n",
    "plt.plot(z, relu(z), 'g--')\n",
    "plt.legend(['Sigmoid','tanh', 'ReLU'])\n",
    "plt.hlines(0, -3, 3)\n",
    "plt.vlines(0, -3, 3)\n",
    "plt.show()"
   ]
  },
  {
   "cell_type": "markdown",
   "metadata": {},
   "source": [
    "- Generally, `ReLu` is the default activation function that you should use, but it really could be treated `hyperparameter`. This is because its derivative is always 1 (derivative of a constant $=1$) for positive values so it addresses issues that arise from gradients that approach zero (`vanishing gradients`).  \n",
    "- The output layer will have a unit per class, which generalizes the `one-versus-all` technique. For a binary class, this output layer would have only one unit.  \n",
    "\n",
    "<img src='files/diagrams/12_03.png' style='width: 500px'>\n",
    "\n",
    "[Image source Machine Learning with Python 3rd Edition Pg. 390](https://github.com/rasbt/python-machine-learning-book-3rd-edition/tree/master/ch12)\n",
    "\n",
    "\n",
    "- `Number of layers` and `number of units` are hyperparameters that will need to be tuned.  \n",
    "\n",
    "#### The `hidden layers` can represent \"concepts\" or \"features\" that aren't explicitly in the data, but the network might discover a latent approximation.\n",
    "You won't know what these are, but the neural net may infer them.\n",
    "\n",
    "<img src='files/diagrams/housing_price.png' style='width: 600px'>\n",
    "\n",
    "[Image source Andrew Ng](https://www.youtube.com/watch?v=n1l-9lIMW7E&list=PLkDaE6sCZn6Ec-XTbcX1uRg2_u4xOEky0&index=3)\n",
    "\n",
    "### Basic Process\n",
    "- Start at input layer, propagate patterns of training data through to the output layer.  \n",
    "- Calculate the error we want to minimize (cost function).  \n",
    "- Backpropagate error by finding its derivative to each weight and update the model. The below diagram illusrates backpropagation:  \n",
    "\n",
    "<img src='files/diagrams/12_12-back.png' style='width: 600px'>\n",
    "\n",
    "[Image source Machine Learning with Python 3rd Edition Pg. 421](https://github.com/rasbt/python-machine-learning-book-3rd-edition/tree/master/ch12)\n",
    "\n",
    "- Typically use `mini-batch` for training - samples of the data during each weight update.  \n",
    "- Training can be more complicated because there can be millions of weights that need to be trained with deep neural networks. Getting stuck in `local minimas` can be a problem.\n",
    "\n",
    "<img src='files/diagrams/12_13-cost.png' style='width: 500px'>\n",
    "\n",
    "[Image source Machine Learning with Python 3rd Edition Pg. 422](https://github.com/rasbt/python-machine-learning-book-3rd-edition/tree/master/ch12)\n",
    "\n",
    "\n",
    "### Implementations and Frameworks\n",
    "\n",
    "- [scikit-learn has an implementation](https://scikit-learn.org/stable/modules/neural_networks_supervised.html) but it isn't intended for large-scale problem since scikit-learn doesn't have GPU support.  \n",
    "- Most common packages/frameworks:  \n",
    "    - [TensorFlow](https://www.tensorflow.org)  \n",
    "    - [Keras](https://keras.io)  \n",
    "    - [PyTorch](https://pytorch.org)  \n",
    "    - [mxnet](https://mxnet.apache.org/versions/1.8.0/)  \n",
    "- We'll show a simple examle using scikit learn's implementation, then focus on `keras`, since the APIs available are relatively simple compared to the other frameworks."
   ]
  },
  {
   "cell_type": "markdown",
   "metadata": {},
   "source": [
    "### Tuning\n",
    "Tuning can be very complicated for ANNs, especially for deep neural networks. Potential hyperparameters:\n",
    "- Number of layers - additional layers instead of more units might be more effective.  \n",
    "- Number of units.  \n",
    "- Activation function `at each layer`.  \n",
    "- Weight initialization (typically random, but can be anything).  \n",
    "- Solver.  \n",
    "- Batch size - if you have a GPU, use the largest batch than fits on the GPU for maximum performance.  \n",
    "- Learning rate - arguably the most important.  \n",
    "- Iterations.  \n",
    "- Shape of deeper layers.  \n",
    "- Convolutions and filters.  \n",
    "- Wide and deep?  \n",
    "- ...  \n",
    "\n",
    "This is why it takes a lot of effort and compute to train certain models. Since there are so many potential levers for performance gains, usually `improvements` are released iteratively.\n",
    "\n",
    "[A Disciplined Approach to Neural Network Hyper-Parameters](https://arxiv.org/abs/1803.09820)"
   ]
  },
  {
   "cell_type": "markdown",
   "metadata": {},
   "source": [
    "## Neural Networks with the MNIST Data\n",
    "We'll baseline with a `logistic regression` so we understand what type of performance gain the neural network is providing us.\n",
    "\n",
    "- 784 input neurons. \n",
    "- 10 output neurons (1 for each class)."
   ]
  },
  {
   "cell_type": "code",
   "execution_count": 1,
   "metadata": {},
   "outputs": [
    {
     "name": "stdout",
     "output_type": "stream",
     "text": [
      "Training examples: 60,000\n",
      "Test examples: 10,000\n"
     ]
    }
   ],
   "source": [
    "from sklearn.datasets import fetch_openml\n",
    "\n",
    "X, y = fetch_openml(\"mnist_784\", version=1, return_X_y=True)\n",
    "X = X / 255.0\n",
    "\n",
    "# rescale the data, use the traditional train/test split\n",
    "X_train, X_test = X[:60000], X[60000:]\n",
    "y_train, y_test = y[:60000], y[60000:]\n",
    "\n",
    "print(f'Training examples: {X_train.shape[0]:,}')\n",
    "print(f'Test examples: {X_test.shape[0]:,}')"
   ]
  },
  {
   "cell_type": "markdown",
   "metadata": {},
   "source": [
    "### Logistic Regression"
   ]
  },
  {
   "cell_type": "code",
   "execution_count": 6,
   "metadata": {},
   "outputs": [
    {
     "name": "stdout",
     "output_type": "stream",
     "text": [
      "Training set score: 92.79%\n",
      "Test score: 92.03%\n"
     ]
    }
   ],
   "source": [
    "from sklearn.linear_model import LogisticRegression\n",
    "\n",
    "lr = LogisticRegression(solver='liblinear')\n",
    "lr = lr.fit(X_train, y_train)\n",
    "\n",
    "print(f'Training set score: {lr.score(X_train, y_train):.2%}')\n",
    "print(f'Test score: {lr.score(X_test, y_test):.2%}')"
   ]
  },
  {
   "cell_type": "markdown",
   "metadata": {},
   "source": [
    "### [scikit-Learn Multi-layer Perceptron](https://scikit-learn.org/stable/modules/neural_networks_supervised.html)\n",
    "Using the MNIST dataset, we'll train a neural net with `1-hidden layer` that contains `50-hidden units`."
   ]
  },
  {
   "cell_type": "code",
   "execution_count": 2,
   "metadata": {},
   "outputs": [
    {
     "name": "stdout",
     "output_type": "stream",
     "text": [
      "Iteration 1, loss = 0.32009978\n",
      "Iteration 2, loss = 0.15347534\n",
      "Iteration 3, loss = 0.11544755\n",
      "Iteration 4, loss = 0.09279764\n",
      "Iteration 5, loss = 0.07889367\n",
      "Iteration 6, loss = 0.07170497\n",
      "Iteration 7, loss = 0.06282111\n",
      "Iteration 8, loss = 0.05530788\n",
      "Iteration 9, loss = 0.04960484\n",
      "Iteration 10, loss = 0.04645355\n",
      "Iteration 11, loss = 0.04082169\n",
      "Iteration 12, loss = 0.03828222\n",
      "Iteration 13, loss = 0.03557957\n",
      "Iteration 14, loss = 0.03054891\n",
      "Iteration 15, loss = 0.02924761\n",
      "Iteration 16, loss = 0.02610471\n",
      "Iteration 17, loss = 0.02363894\n",
      "Iteration 18, loss = 0.02208186\n",
      "Iteration 19, loss = 0.01932900\n",
      "Iteration 20, loss = 0.01830387\n",
      "Iteration 21, loss = 0.01639227\n",
      "Iteration 22, loss = 0.01392950\n",
      "Iteration 23, loss = 0.01270193\n",
      "Iteration 24, loss = 0.01234102\n",
      "Iteration 25, loss = 0.01081313\n",
      "Iteration 26, loss = 0.01028644\n",
      "Iteration 27, loss = 0.00896707\n",
      "Iteration 28, loss = 0.00744908\n",
      "Iteration 29, loss = 0.00707946\n",
      "Iteration 30, loss = 0.00573869\n",
      "Iteration 31, loss = 0.00499554\n",
      "Iteration 32, loss = 0.00477064\n",
      "Iteration 33, loss = 0.00395458\n",
      "Iteration 34, loss = 0.00355619\n",
      "Iteration 35, loss = 0.00375497\n",
      "Iteration 36, loss = 0.00304228\n",
      "Iteration 37, loss = 0.00264245\n",
      "Iteration 38, loss = 0.00241425\n",
      "Iteration 39, loss = 0.00234957\n",
      "Iteration 40, loss = 0.00233803\n",
      "Iteration 41, loss = 0.00204653\n",
      "Iteration 42, loss = 0.00199057\n",
      "Iteration 43, loss = 0.00190567\n",
      "Iteration 44, loss = 0.00180530\n",
      "Iteration 45, loss = 0.00175054\n",
      "Iteration 46, loss = 0.00168160\n",
      "Iteration 47, loss = 0.00162517\n",
      "Iteration 48, loss = 0.00159676\n",
      "Iteration 49, loss = 0.00154993\n",
      "Iteration 50, loss = 0.00152799\n",
      "Iteration 51, loss = 0.00146697\n",
      "Iteration 52, loss = 0.00145257\n",
      "Iteration 53, loss = 0.00143422\n",
      "Iteration 54, loss = 0.00135888\n",
      "Iteration 55, loss = 0.00134281\n",
      "Training loss did not improve more than tol=0.000100 for 10 consecutive epochs. Stopping.\n",
      "Training set score: 100.00%\n",
      "Test score: 97.31%\n",
      "\n",
      "Training completed in 0:01:04.107540\n"
     ]
    }
   ],
   "source": [
    "import matplotlib.pyplot as plt\n",
    "%matplotlib inline\n",
    "from sklearn.exceptions import ConvergenceWarning\n",
    "from sklearn.neural_network import MLPClassifier\n",
    "import datetime\n",
    "\n",
    "st = datetime.datetime.now()\n",
    "mlp = MLPClassifier(\n",
    "    hidden_layer_sizes=(50,),\n",
    "    max_iter=100,\n",
    "    alpha=1e-4,\n",
    "    solver=\"sgd\",\n",
    "    verbose=10,\n",
    "    random_state=1,\n",
    "    learning_rate_init=0.1,\n",
    ")\n",
    "\n",
    "mlp.fit(X_train, y_train)\n",
    "en = datetime.datetime.now()\n",
    "\n",
    "print(f'Training set score: {mlp.score(X_train, y_train):.2%}')\n",
    "print(f'Test score: {mlp.score(X_test, y_test):.2%}')\n",
    "print(f'\\nTraining completed in {en-st}')"
   ]
  },
  {
   "cell_type": "code",
   "execution_count": 3,
   "metadata": {},
   "outputs": [
    {
     "data": {
      "image/png": "[encoded data removed]",
      "text/plain": [
       "<Figure size 432x288 with 1 Axes>"
      ]
     },
     "metadata": {
      "needs_background": "light"
     },
     "output_type": "display_data"
    }
   ],
   "source": [
    "plt.plot(mlp.loss_curve_)\n",
    "plt.xlabel('Iteration')\n",
    "plt.title('Loss Curve')\n",
    "plt.show()"
   ]
  },
  {
   "cell_type": "markdown",
   "metadata": {},
   "source": [
    "> Training stopped because the loss converged."
   ]
  },
  {
   "cell_type": "code",
   "execution_count": 4,
   "metadata": {},
   "outputs": [
    {
     "data": {
      "image/png": "[encoded data removed]",
      "text/plain": [
       "<Figure size 432x288 with 2 Axes>"
      ]
     },
     "metadata": {
      "needs_background": "light"
     },
     "output_type": "display_data"
    }
   ],
   "source": [
    "from sklearn.metrics import ConfusionMatrixDisplay\n",
    "\n",
    "ConfusionMatrixDisplay.from_estimator(mlp, X_test, y_test)\n",
    "plt.show()"
   ]
  },
  {
   "cell_type": "markdown",
   "metadata": {},
   "source": [
    "### \"Deep\" Network on MNIST\n",
    "- ANNs with more than 2 hidden layers are consider `deep` networks.  \n",
    "- The example below will have 3 hidden layers, but it isn't uncommon for more complicated models to have hundreds of hidden layers, including ones that are more complicated than simple direct input/outputs."
   ]
  },
  {
   "cell_type": "code",
   "execution_count": 8,
   "metadata": {},
   "outputs": [
    {
     "name": "stdout",
     "output_type": "stream",
     "text": [
      "Iteration 1, loss = 0.34132625\n",
      "Iteration 2, loss = 0.13385624\n",
      "Iteration 3, loss = 0.10517005\n",
      "Iteration 4, loss = 0.08661185\n",
      "Iteration 5, loss = 0.07296673\n",
      "Iteration 6, loss = 0.06607626\n",
      "Iteration 7, loss = 0.05712624\n",
      "Iteration 8, loss = 0.05096139\n",
      "Iteration 9, loss = 0.04894500\n",
      "Iteration 10, loss = 0.04172744\n",
      "Iteration 11, loss = 0.03804725\n",
      "Iteration 12, loss = 0.03688750\n",
      "Iteration 13, loss = 0.03458147\n",
      "Iteration 14, loss = 0.03590979\n",
      "Iteration 15, loss = 0.03016864\n",
      "Iteration 16, loss = 0.02681141\n",
      "Iteration 17, loss = 0.03102717\n",
      "Iteration 18, loss = 0.02399110\n",
      "Iteration 19, loss = 0.02525154\n",
      "Iteration 20, loss = 0.02813208\n",
      "Iteration 21, loss = 0.02282548\n",
      "Iteration 22, loss = 0.02251492\n",
      "Iteration 23, loss = 0.01943094\n",
      "Iteration 24, loss = 0.02049333\n",
      "Iteration 25, loss = 0.02261149\n",
      "Iteration 26, loss = 0.01836079\n",
      "Iteration 27, loss = 0.02339591\n",
      "Iteration 28, loss = 0.02292981\n",
      "Iteration 29, loss = 0.02181654\n",
      "Iteration 30, loss = 0.01809922\n",
      "Iteration 31, loss = 0.01587740\n",
      "Iteration 32, loss = 0.01817712\n",
      "Iteration 33, loss = 0.02511500\n",
      "Iteration 34, loss = 0.02064954\n",
      "Iteration 35, loss = 0.01626240\n",
      "Iteration 36, loss = 0.01528516\n",
      "Iteration 37, loss = 0.01690475\n",
      "Iteration 38, loss = 0.01631231\n",
      "Iteration 39, loss = 0.01606677\n",
      "Iteration 40, loss = 0.01075543\n",
      "Iteration 41, loss = 0.01446211\n",
      "Iteration 42, loss = 0.01473916\n",
      "Iteration 43, loss = 0.01173432\n",
      "Iteration 44, loss = 0.01028714\n",
      "Iteration 45, loss = 0.01179291\n",
      "Iteration 46, loss = 0.01367663\n",
      "Iteration 47, loss = 0.01623871\n",
      "Iteration 48, loss = 0.02112814\n",
      "Iteration 49, loss = 0.01784254\n",
      "Iteration 50, loss = 0.01665848\n",
      "Iteration 51, loss = 0.01325967\n",
      "Iteration 52, loss = 0.01319229\n",
      "Iteration 53, loss = 0.01443801\n",
      "Iteration 54, loss = 0.01637134\n",
      "Iteration 55, loss = 0.01034395\n",
      "Training loss did not improve more than tol=0.000100 for 10 consecutive epochs. Stopping.\n",
      "Training completed in 0:01:14.106452\n",
      "Training set score: 99.74%\n",
      "Test score: 97.47%\n"
     ]
    }
   ],
   "source": [
    "import matplotlib.pyplot as plt\n",
    "from sklearn.datasets import fetch_openml\n",
    "from sklearn.exceptions import ConvergenceWarning\n",
    "from sklearn.neural_network import MLPClassifier\n",
    "import datetime\n",
    "\n",
    "st = datetime.datetime.now()\n",
    "mlp = MLPClassifier(\n",
    "    hidden_layer_sizes=(50,50,50),\n",
    "    max_iter=100,\n",
    "    alpha=1e-4,\n",
    "    solver=\"sgd\",\n",
    "    verbose=10,\n",
    "    random_state=1,\n",
    "    learning_rate_init=0.1,\n",
    ")\n",
    "\n",
    "mlp.fit(X_train, y_train)\n",
    "en = datetime.datetime.now()\n",
    "\n",
    "print(f'Training completed in {en-st}')\n",
    "print(f'Training set score: {mlp.score(X_train, y_train):.2%}')\n",
    "print(f'Test score: {mlp.score(X_test, y_test):.2%}')"
   ]
  },
  {
   "cell_type": "code",
   "execution_count": 9,
   "metadata": {},
   "outputs": [
    {
     "data": {
      "image/png": "[encoded data removed]",
      "text/plain": [
       "<Figure size 432x288 with 1 Axes>"
      ]
     },
     "metadata": {
      "needs_background": "light"
     },
     "output_type": "display_data"
    }
   ],
   "source": [
    "plt.plot(mlp.loss_curve_)\n",
    "plt.xlabel('Iteration')\n",
    "plt.title('Loss Curve')\n",
    "plt.show()"
   ]
  },
  {
   "cell_type": "code",
   "execution_count": 10,
   "metadata": {},
   "outputs": [
    {
     "data": {
      "text/plain": [
       "5"
      ]
     },
     "execution_count": 10,
     "metadata": {},
     "output_type": "execute_result"
    }
   ],
   "source": [
    "mlp.n_layers_"
   ]
  },
  {
   "cell_type": "markdown",
   "metadata": {},
   "source": [
    "> `Input` + `Hidden Layer 1` + `Hidden Layer 2` + `Hidden Layer 3` + `Output Layer`"
   ]
  },
  {
   "cell_type": "markdown",
   "metadata": {},
   "source": [
    "> The loss function is showing `a lot more roughness` here. Recall it has been smooth when we've looked at other models. If these gyrations where larger, it is possible the model could have gotten stuck in a local minima. The risk of that happening with deep neural networks is substantially larger than for the simpler models we have looked at previously.\n",
    "\n",
    "- Training a model like this wasn't possible 35 years ago."
   ]
  },
  {
   "cell_type": "code",
   "execution_count": 12,
   "metadata": {},
   "outputs": [
    {
     "data": {
      "image/png": "[encoded data removed]",
      "text/plain": [
       "<Figure size 432x288 with 2 Axes>"
      ]
     },
     "metadata": {
      "needs_background": "light"
     },
     "output_type": "display_data"
    }
   ],
   "source": [
    "from sklearn.metrics import ConfusionMatrixDisplay\n",
    "\n",
    "ConfusionMatrixDisplay.from_estimator(mlp, X_test, y_test)\n",
    "plt.show()"
   ]
  },
  {
   "cell_type": "markdown",
   "metadata": {},
   "source": [
    "> Single layer outperformed a multi-layer network. Deep isn't necessarily better - you need to grid search through the layers and units to determine the `best` values. In this case, a single 50-unit hidden layer performed about the same as two 50-unit hidden layers; so simple wins once again."
   ]
  },
  {
   "cell_type": "markdown",
   "metadata": {},
   "source": [
    "## Regression\n",
    "- Similar to many of the models we've talked about, you can also use ANNs for regression problems.  \n",
    "- Probably don't want to use activation functions for the outputs so the values are continuous and unbounded.  \n",
    "- Loss is generally `mean squared error`, but another variant may be better dependent on your data, e.g., lots of outliers may warrant `mean absolute error` as a better choice.  \n",
    "- Most regression problems will require 5 or fewer layers, with most requiring only 1 or 2."
   ]
  },
  {
   "cell_type": "markdown",
   "metadata": {},
   "source": [
    "# [Keras](https://keras.io)\n",
    "One of the more popular frameworks, that can scale to GPUs or TPUs, tl;dr it can run models fast (relatively speaking). Developed by `Francois Chollet`, who literally wrote the book on [Deep Learning with Python](https://www.manning.com/books/deep-learning-with-python).\n",
    "\n",
    "Keras serves as a wrapper on [TensorFlow](https://www.tensorflow.org), but not all of TensorFlow's functionality is available in the Keras API."
   ]
  },
  {
   "cell_type": "markdown",
   "metadata": {},
   "source": [
    "### Simple Regression Example"
   ]
  },
  {
   "cell_type": "code",
   "execution_count": 48,
   "metadata": {},
   "outputs": [
    {
     "data": {
      "image/png": "[encoded data removed]",
      "text/plain": [
       "<Figure size 432x288 with 1 Axes>"
      ]
     },
     "metadata": {
      "needs_background": "light"
     },
     "output_type": "display_data"
    }
   ],
   "source": [
    "import numpy as np\n",
    "import matplotlib.pyplot\n",
    "%matplotlib inline\n",
    "\n",
    "X_train = np.arange(10).reshape((10,1))\n",
    "y_train = np.array([1.0, 1.3, 3.1, 2.0, 5.0, 6.3, 6.6, 7.4, 8.0, 9.0])\n",
    "\n",
    "X_train_norm = (X_train - np.mean(X_train))/np.std(X_train)\n",
    "\n",
    "plt.plot(X_train_norm, y_train, 'ro')\n",
    "plt.show()"
   ]
  },
  {
   "cell_type": "markdown",
   "metadata": {},
   "source": [
    "#### Specify and fit the model\n",
    "Linear regression only one ouput layer."
   ]
  },
  {
   "cell_type": "code",
   "execution_count": 157,
   "metadata": {},
   "outputs": [
    {
     "name": "stdout",
     "output_type": "stream",
     "text": [
      "Model: \"sequential_65\"\n",
      "_________________________________________________________________\n",
      "Layer (type)                 Output Shape              Param #   \n",
      "=================================================================\n",
      "coef (Dense)                 (None, 1)                 2         \n",
      "=================================================================\n",
      "Total params: 2\n",
      "Trainable params: 2\n",
      "Non-trainable params: 0\n",
      "_________________________________________________________________\n",
      "None\n",
      "Train on 10 samples\n",
      "Epoch 1/100\n",
      "10/10 [==============================] - 0s 15ms/sample - loss: 38.0378 - mae: 5.0265 - mse: 38.0378\n",
      "Epoch 2/100\n",
      "10/10 [==============================] - 0s 991us/sample - loss: 25.3785 - mae: 4.0866 - mse: 25.3785\n",
      "Epoch 3/100\n",
      "10/10 [==============================] - 0s 980us/sample - loss: 16.9976 - mae: 3.2937 - mse: 16.9976\n",
      "Epoch 4/100\n",
      "10/10 [==============================] - 0s 1ms/sample - loss: 11.4047 - mae: 2.7812 - mse: 11.4047\n",
      "Epoch 5/100\n",
      "10/10 [==============================] - 0s 1ms/sample - loss: 7.7117 - mae: 2.2918 - mse: 7.7117\n",
      "Epoch 6/100\n",
      "10/10 [==============================] - 0s 1ms/sample - loss: 5.2452 - mae: 1.9288 - mse: 5.2452\n",
      "Epoch 7/100\n",
      "10/10 [==============================] - 0s 1ms/sample - loss: 3.6170 - mae: 1.6381 - mse: 3.6170\n",
      "Epoch 8/100\n",
      "10/10 [==============================] - 0s 1ms/sample - loss: 2.5409 - mae: 1.3951 - mse: 2.5409\n",
      "Epoch 9/100\n",
      "10/10 [==============================] - 0s 2ms/sample - loss: 1.8240 - mae: 1.2077 - mse: 1.8240\n",
      "Epoch 10/100\n",
      "10/10 [==============================] - 0s 1ms/sample - loss: 1.3481 - mae: 1.0495 - mse: 1.3481\n",
      "Epoch 11/100\n",
      "10/10 [==============================] - 0s 1ms/sample - loss: 1.0359 - mae: 0.9257 - mse: 1.0359\n",
      "Epoch 12/100\n",
      "10/10 [==============================] - 0s 1ms/sample - loss: 0.8262 - mae: 0.8261 - mse: 0.8262\n",
      "Epoch 13/100\n",
      "10/10 [==============================] - 0s 1ms/sample - loss: 0.6878 - mae: 0.7465 - mse: 0.6878\n",
      "Epoch 14/100\n",
      "10/10 [==============================] - 0s 1ms/sample - loss: 0.5945 - mae: 0.6835 - mse: 0.5945\n",
      "Epoch 15/100\n",
      "10/10 [==============================] - 0s 1ms/sample - loss: 0.5328 - mae: 0.6286 - mse: 0.5328\n",
      "Epoch 16/100\n",
      "10/10 [==============================] - 0s 1ms/sample - loss: 0.4926 - mae: 0.5756 - mse: 0.4926\n",
      "Epoch 17/100\n",
      "10/10 [==============================] - 0s 1ms/sample - loss: 0.4661 - mae: 0.5550 - mse: 0.4661\n",
      "Epoch 18/100\n",
      "10/10 [==============================] - 0s 1ms/sample - loss: 0.4484 - mae: 0.5178 - mse: 0.4484\n",
      "Epoch 19/100\n",
      "10/10 [==============================] - 0s 1ms/sample - loss: 0.4366 - mae: 0.5014 - mse: 0.4366\n",
      "Epoch 20/100\n",
      "10/10 [==============================] - 0s 1ms/sample - loss: 0.4291 - mae: 0.4945 - mse: 0.4291\n",
      "Epoch 21/100\n",
      "10/10 [==============================] - 0s 1ms/sample - loss: 0.4237 - mae: 0.4862 - mse: 0.4237  \n",
      "Epoch 22/100\n",
      "10/10 [==============================] - 0s 1ms/sample - loss: 0.4200 - mae: 0.4894 - mse: 0.4200\n",
      "Epoch 23/100\n",
      "10/10 [==============================] - 0s 1ms/sample - loss: 0.4181 - mae: 0.4960 - mse: 0.4181\n",
      "Epoch 24/100\n",
      "10/10 [==============================] - 0s 992us/sample - loss: 0.4162 - mae: 0.4874 - mse: 0.4162\n",
      "Epoch 25/100\n",
      "10/10 [==============================] - 0s 1ms/sample - loss: 0.4160 - mae: 0.4911 - mse: 0.4160\n",
      "Epoch 26/100\n",
      "10/10 [==============================] - 0s 1ms/sample - loss: 0.4153 - mae: 0.4883 - mse: 0.4153\n",
      "Epoch 27/100\n",
      "10/10 [==============================] - 0s 1ms/sample - loss: 0.4140 - mae: 0.4931 - mse: 0.4140\n",
      "Epoch 28/100\n",
      "10/10 [==============================] - 0s 1ms/sample - loss: 0.4140 - mae: 0.4857 - mse: 0.4140\n",
      "Epoch 29/100\n",
      "10/10 [==============================] - 0s 1ms/sample - loss: 0.4135 - mae: 0.4863 - mse: 0.4135\n",
      "Epoch 30/100\n",
      "10/10 [==============================] - 0s 1ms/sample - loss: 0.4138 - mae: 0.4892 - mse: 0.4138\n",
      "Epoch 31/100\n",
      "10/10 [==============================] - 0s 1ms/sample - loss: 0.4137 - mae: 0.4860 - mse: 0.4137\n",
      "Epoch 32/100\n",
      "10/10 [==============================] - 0s 886us/sample - loss: 0.4134 - mae: 0.4920 - mse: 0.4134\n",
      "Epoch 33/100\n",
      "10/10 [==============================] - 0s 1ms/sample - loss: 0.4138 - mae: 0.4866 - mse: 0.4138\n",
      "Epoch 34/100\n",
      "10/10 [==============================] - 0s 912us/sample - loss: 0.4137 - mae: 0.4908 - mse: 0.4137\n",
      "Epoch 35/100\n",
      "10/10 [==============================] - 0s 1ms/sample - loss: 0.4134 - mae: 0.4932 - mse: 0.4134\n",
      "Epoch 36/100\n",
      "10/10 [==============================] - 0s 1ms/sample - loss: 0.4132 - mae: 0.4931 - mse: 0.4132\n",
      "Epoch 37/100\n",
      "10/10 [==============================] - 0s 1ms/sample - loss: 0.4136 - mae: 0.4920 - mse: 0.4136\n",
      "Epoch 38/100\n",
      "10/10 [==============================] - 0s 1ms/sample - loss: 0.4139 - mae: 0.4941 - mse: 0.4139\n",
      "Epoch 39/100\n",
      "10/10 [==============================] - 0s 1ms/sample - loss: 0.4138 - mae: 0.4896 - mse: 0.4138\n",
      "Epoch 40/100\n",
      "10/10 [==============================] - 0s 2ms/sample - loss: 0.4139 - mae: 0.4818 - mse: 0.4139\n",
      "Epoch 41/100\n",
      "10/10 [==============================] - 0s 1ms/sample - loss: 0.4138 - mae: 0.4856 - mse: 0.4138\n",
      "Epoch 42/100\n",
      "10/10 [==============================] - 0s 1ms/sample - loss: 0.4135 - mae: 0.4815 - mse: 0.4135\n",
      "Epoch 43/100\n",
      "10/10 [==============================] - 0s 1ms/sample - loss: 0.4138 - mae: 0.4896 - mse: 0.4138\n",
      "Epoch 44/100\n",
      "10/10 [==============================] - 0s 1ms/sample - loss: 0.4137 - mae: 0.4851 - mse: 0.4137\n",
      "Epoch 45/100\n",
      "10/10 [==============================] - 0s 931us/sample - loss: 0.4139 - mae: 0.4891 - mse: 0.4139\n",
      "Epoch 46/100\n",
      "10/10 [==============================] - 0s 1ms/sample - loss: 0.4140 - mae: 0.4914 - mse: 0.4140\n",
      "Epoch 47/100\n",
      "10/10 [==============================] - 0s 1ms/sample - loss: 0.4139 - mae: 0.4888 - mse: 0.4139\n",
      "Epoch 48/100\n",
      "10/10 [==============================] - 0s 1ms/sample - loss: 0.4137 - mae: 0.4910 - mse: 0.4137\n",
      "Epoch 49/100\n",
      "10/10 [==============================] - 0s 1ms/sample - loss: 0.4138 - mae: 0.4878 - mse: 0.4138\n",
      "Epoch 50/100\n",
      "10/10 [==============================] - 0s 2ms/sample - loss: 0.4137 - mae: 0.4961 - mse: 0.4137\n",
      "Epoch 51/100\n",
      "10/10 [==============================] - 0s 1ms/sample - loss: 0.4139 - mae: 0.4869 - mse: 0.4139\n",
      "Epoch 52/100\n",
      "10/10 [==============================] - 0s 1ms/sample - loss: 0.4137 - mae: 0.4933 - mse: 0.4137\n",
      "Epoch 53/100\n",
      "10/10 [==============================] - 0s 1ms/sample - loss: 0.4139 - mae: 0.4922 - mse: 0.4139\n",
      "Epoch 54/100\n",
      "10/10 [==============================] - 0s 1ms/sample - loss: 0.4136 - mae: 0.4845 - mse: 0.4136\n",
      "Epoch 55/100\n",
      "10/10 [==============================] - 0s 1ms/sample - loss: 0.4139 - mae: 0.4911 - mse: 0.4139\n",
      "Epoch 56/100\n",
      "10/10 [==============================] - 0s 1ms/sample - loss: 0.4136 - mae: 0.4844 - mse: 0.4136\n",
      "Epoch 57/100\n",
      "10/10 [==============================] - 0s 1ms/sample - loss: 0.4131 - mae: 0.4840 - mse: 0.4131\n",
      "Epoch 58/100\n",
      "10/10 [==============================] - 0s 1ms/sample - loss: 0.4137 - mae: 0.4891 - mse: 0.4137\n",
      "Epoch 59/100\n",
      "10/10 [==============================] - 0s 1ms/sample - loss: 0.4139 - mae: 0.4912 - mse: 0.4139\n",
      "Epoch 60/100\n",
      "10/10 [==============================] - 0s 1ms/sample - loss: 0.4138 - mae: 0.4974 - mse: 0.4138\n",
      "Epoch 61/100\n",
      "10/10 [==============================] - 0s 1ms/sample - loss: 0.4137 - mae: 0.4951 - mse: 0.4137\n",
      "Epoch 62/100\n",
      "10/10 [==============================] - 0s 1ms/sample - loss: 0.4139 - mae: 0.4937 - mse: 0.4139\n",
      "Epoch 63/100\n",
      "10/10 [==============================] - 0s 1ms/sample - loss: 0.4139 - mae: 0.4897 - mse: 0.4139\n",
      "Epoch 64/100\n",
      "10/10 [==============================] - 0s 962us/sample - loss: 0.4134 - mae: 0.4956 - mse: 0.4134\n",
      "Epoch 65/100\n",
      "10/10 [==============================] - 0s 1ms/sample - loss: 0.4140 - mae: 0.4874 - mse: 0.4140\n",
      "Epoch 66/100\n",
      "10/10 [==============================] - 0s 1ms/sample - loss: 0.4135 - mae: 0.4932 - mse: 0.4135\n",
      "Epoch 67/100\n",
      "10/10 [==============================] - 0s 1ms/sample - loss: 0.4140 - mae: 0.4908 - mse: 0.4140\n",
      "Epoch 68/100\n",
      "10/10 [==============================] - 0s 1ms/sample - loss: 0.4138 - mae: 0.4926 - mse: 0.4138\n",
      "Epoch 69/100\n",
      "10/10 [==============================] - 0s 1ms/sample - loss: 0.4140 - mae: 0.4840 - mse: 0.4140\n",
      "Epoch 70/100\n",
      "10/10 [==============================] - 0s 1ms/sample - loss: 0.4137 - mae: 0.4890 - mse: 0.4137\n",
      "Epoch 71/100\n",
      "10/10 [==============================] - 0s 1ms/sample - loss: 0.4138 - mae: 0.4905 - mse: 0.4138\n",
      "Epoch 72/100\n",
      "10/10 [==============================] - 0s 1ms/sample - loss: 0.4134 - mae: 0.4962 - mse: 0.4134\n",
      "Epoch 73/100\n",
      "10/10 [==============================] - 0s 1ms/sample - loss: 0.4132 - mae: 0.4918 - mse: 0.4132\n",
      "Epoch 74/100\n",
      "10/10 [==============================] - 0s 952us/sample - loss: 0.4140 - mae: 0.4916 - mse: 0.4140\n",
      "Epoch 75/100\n",
      "10/10 [==============================] - 0s 1ms/sample - loss: 0.4140 - mae: 0.4886 - mse: 0.4140\n",
      "Epoch 76/100\n",
      "10/10 [==============================] - 0s 980us/sample - loss: 0.4140 - mae: 0.4830 - mse: 0.4140\n",
      "Epoch 77/100\n",
      "10/10 [==============================] - 0s 1ms/sample - loss: 0.4139 - mae: 0.4843 - mse: 0.4139\n",
      "Epoch 78/100\n",
      "10/10 [==============================] - 0s 1ms/sample - loss: 0.4138 - mae: 0.4908 - mse: 0.4138\n",
      "Epoch 79/100\n",
      "10/10 [==============================] - 0s 1ms/sample - loss: 0.4136 - mae: 0.4915 - mse: 0.4136\n",
      "Epoch 80/100\n",
      "10/10 [==============================] - 0s 1ms/sample - loss: 0.4130 - mae: 0.4801 - mse: 0.4130\n",
      "Epoch 81/100\n",
      "10/10 [==============================] - 0s 1ms/sample - loss: 0.4139 - mae: 0.4874 - mse: 0.4139\n",
      "Epoch 82/100\n",
      "10/10 [==============================] - 0s 1ms/sample - loss: 0.4137 - mae: 0.4881 - mse: 0.4137\n",
      "Epoch 83/100\n",
      "10/10 [==============================] - 0s 922us/sample - loss: 0.4138 - mae: 0.4957 - mse: 0.4138\n",
      "Epoch 84/100\n",
      "10/10 [==============================] - 0s 1ms/sample - loss: 0.4137 - mae: 0.4861 - mse: 0.4137\n",
      "Epoch 85/100\n",
      "10/10 [==============================] - 0s 939us/sample - loss: 0.4134 - mae: 0.4850 - mse: 0.4134\n",
      "Epoch 86/100\n",
      "10/10 [==============================] - 0s 1ms/sample - loss: 0.4131 - mae: 0.4955 - mse: 0.4131\n",
      "Epoch 87/100\n",
      "10/10 [==============================] - 0s 1ms/sample - loss: 0.4139 - mae: 0.4896 - mse: 0.4139\n",
      "Epoch 88/100\n",
      "10/10 [==============================] - 0s 894us/sample - loss: 0.4137 - mae: 0.4869 - mse: 0.4137\n",
      "Epoch 89/100\n",
      "10/10 [==============================] - 0s 1ms/sample - loss: 0.4138 - mae: 0.4875 - mse: 0.4138\n",
      "Epoch 90/100\n",
      "10/10 [==============================] - 0s 1ms/sample - loss: 0.4138 - mae: 0.4871 - mse: 0.4138\n",
      "Epoch 91/100\n",
      "10/10 [==============================] - 0s 1ms/sample - loss: 0.4140 - mae: 0.4917 - mse: 0.4140\n",
      "Epoch 92/100\n",
      "10/10 [==============================] - 0s 1ms/sample - loss: 0.4138 - mae: 0.4906 - mse: 0.4138\n",
      "Epoch 93/100\n",
      "10/10 [==============================] - 0s 1ms/sample - loss: 0.4138 - mae: 0.4852 - mse: 0.4138\n",
      "Epoch 94/100\n",
      "10/10 [==============================] - 0s 1ms/sample - loss: 0.4134 - mae: 0.4835 - mse: 0.4134\n",
      "Epoch 95/100\n",
      "10/10 [==============================] - 0s 1ms/sample - loss: 0.4133 - mae: 0.4906 - mse: 0.4133\n",
      "Epoch 96/100\n",
      "10/10 [==============================] - 0s 1ms/sample - loss: 0.4138 - mae: 0.4880 - mse: 0.4138\n",
      "Epoch 97/100\n",
      "10/10 [==============================] - 0s 1ms/sample - loss: 0.4139 - mae: 0.4881 - mse: 0.4139\n",
      "Epoch 98/100\n",
      "10/10 [==============================] - 0s 1ms/sample - loss: 0.4138 - mae: 0.4966 - mse: 0.4138\n",
      "Epoch 99/100\n",
      "10/10 [==============================] - 0s 1ms/sample - loss: 0.4137 - mae: 0.4834 - mse: 0.4137\n",
      "Epoch 100/100\n",
      "10/10 [==============================] - 0s 1ms/sample - loss: 0.4137 - mae: 0.4914 - mse: 0.4137\n"
     ]
    },
    {
     "data": {
      "image/png": "[encoded data removed]",
      "text/plain": [
       "<Figure size 432x288 with 1 Axes>"
      ]
     },
     "metadata": {
      "needs_background": "light"
     },
     "output_type": "display_data"
    }
   ],
   "source": [
    "from tensorflow import keras\n",
    "from tensorflow.keras import layers\n",
    "\n",
    "lm = keras.Sequential(\n",
    "    [\n",
    "        layers.Dense(1, activation='linear', input_dim=1, name='coef')\n",
    "    ]\n",
    ")\n",
    "\n",
    "print(lm.summary())\n",
    "\n",
    "lm.compile(loss=\"mse\", optimizer=\"sgd\", metrics=['mae', 'mse'])\n",
    "\n",
    "lm.fit(X_train_norm, y_train, epochs=100, batch_size=1, verbose=1)\n",
    "\n",
    "plt.plot(X_train_norm, y_train, 'ro')\n",
    "plt.plot(X_train_norm, lm.predict(X_train_norm), 'b-')\n",
    "plt.xlabel('X')\n",
    "plt.ylabel('y')\n",
    "plt.legend(['Actual', 'Predicted'])\n",
    "plt.show()"
   ]
  },
  {
   "cell_type": "markdown",
   "metadata": {},
   "source": [
    "## Classification with MNIST\n",
    "#### Still using the MNIST data, but sourcing it from Keras, it is stored in a slightly different format, but its the same data as in the scikit-learn example."
   ]
  },
  {
   "cell_type": "code",
   "execution_count": 15,
   "metadata": {},
   "outputs": [],
   "source": [
    "import numpy as np\n",
    "from tensorflow import keras\n",
    "from tensorflow.keras import layers\n",
    "\n",
    "# Model / data parameters\n",
    "num_classes = 10\n",
    "input_shape = (28, 28, 1)\n",
    "# 28 x 28 = 784\n",
    "\n",
    "# the data, split between train and test sets\n",
    "(x_train, y_train), (x_test, y_test) = keras.datasets.mnist.load_data()"
   ]
  },
  {
   "cell_type": "code",
   "execution_count": 16,
   "metadata": {},
   "outputs": [
    {
     "name": "stdout",
     "output_type": "stream",
     "text": [
      "x_train shape: (60000, 28, 28, 1)\n",
      "60000 train samples\n",
      "10000 test samples\n"
     ]
    }
   ],
   "source": [
    "# Scale images to the [0, 1] range\n",
    "x_train = x_train.astype(\"float32\") / 255\n",
    "x_test = x_test.astype(\"float32\") / 255\n",
    "\n",
    "# Make sure images have shape (28, 28, 1)\n",
    "x_train = np.expand_dims(x_train, -1)\n",
    "x_test = np.expand_dims(x_test, -1)\n",
    "print(\"x_train shape:\", x_train.shape)\n",
    "print(x_train.shape[0], \"train samples\")\n",
    "print(x_test.shape[0], \"test samples\")\n",
    "\n",
    "# convert class vectors to binary class matrices\n",
    "y_train = keras.utils.to_categorical(y_train, num_classes)\n",
    "y_test = keras.utils.to_categorical(y_test, num_classes)"
   ]
  },
  {
   "cell_type": "markdown",
   "metadata": {},
   "source": [
    "### Single Layer (aka `Logistic Regression`)\n",
    "We will sequentially add layers to the model.  \n",
    "- Input layer specifies the incoming data, i.e., the pixels.  \n",
    "- The next layer specifies the layers, which includes the number of units and the activation function.  \n",
    "- The final layer is the output layer, which is a `softmax` activation function since this is a multiclass problem."
   ]
  },
  {
   "cell_type": "code",
   "execution_count": 57,
   "metadata": {},
   "outputs": [
    {
     "name": "stdout",
     "output_type": "stream",
     "text": [
      "Model: \"Logistic\"\n",
      "_________________________________________________________________\n",
      "Layer (type)                 Output Shape              Param #   \n",
      "=================================================================\n",
      "Flatten (Flatten)            (None, 784)               0         \n",
      "_________________________________________________________________\n",
      "Softmax (Dense)              (None, 10)                7850      \n",
      "=================================================================\n",
      "Total params: 7,850\n",
      "Trainable params: 7,850\n",
      "Non-trainable params: 0\n",
      "_________________________________________________________________\n"
     ]
    }
   ],
   "source": [
    "model = keras.Sequential(\n",
    "    [\n",
    "        keras.Input(shape=input_shape),\n",
    "        layers.Flatten(name='Flatten'),\n",
    "        layers.Dense(num_classes, activation=\"softmax\", name=\"Softmax\")\n",
    "    ], name='Logistic'\n",
    ")\n",
    "model.summary()"
   ]
  },
  {
   "cell_type": "code",
   "execution_count": 58,
   "metadata": {},
   "outputs": [
    {
     "name": "stdout",
     "output_type": "stream",
     "text": [
      "Train on 54000 samples, validate on 6000 samples\n",
      "Epoch 1/15\n",
      "54000/54000 [==============================] - 1s 12us/sample - loss: 0.7209 - accuracy: 0.8222 - val_loss: 0.3528 - val_accuracy: 0.9145\n",
      "Epoch 2/15\n",
      "54000/54000 [==============================] - 1s 10us/sample - loss: 0.3792 - accuracy: 0.8984 - val_loss: 0.2875 - val_accuracy: 0.9232\n",
      "Epoch 3/15\n",
      "54000/54000 [==============================] - 1s 9us/sample - loss: 0.3321 - accuracy: 0.9092 - val_loss: 0.2647 - val_accuracy: 0.9255\n",
      "Epoch 4/15\n",
      "54000/54000 [==============================] - 0s 8us/sample - loss: 0.3105 - accuracy: 0.9138 - val_loss: 0.2535 - val_accuracy: 0.9288\n",
      "Epoch 5/15\n",
      "54000/54000 [==============================] - 0s 8us/sample - loss: 0.2976 - accuracy: 0.9173 - val_loss: 0.2443 - val_accuracy: 0.9315\n",
      "Epoch 6/15\n",
      "54000/54000 [==============================] - 0s 8us/sample - loss: 0.2886 - accuracy: 0.9192 - val_loss: 0.2380 - val_accuracy: 0.9343\n",
      "Epoch 7/15\n",
      "54000/54000 [==============================] - 0s 8us/sample - loss: 0.2821 - accuracy: 0.9216 - val_loss: 0.2352 - val_accuracy: 0.9353\n",
      "Epoch 8/15\n",
      "54000/54000 [==============================] - 0s 8us/sample - loss: 0.2768 - accuracy: 0.9226 - val_loss: 0.2332 - val_accuracy: 0.9353\n",
      "Epoch 9/15\n",
      "54000/54000 [==============================] - 0s 8us/sample - loss: 0.2732 - accuracy: 0.9236 - val_loss: 0.2291 - val_accuracy: 0.9373\n",
      "Epoch 10/15\n",
      "54000/54000 [==============================] - 0s 8us/sample - loss: 0.2694 - accuracy: 0.9247 - val_loss: 0.2280 - val_accuracy: 0.9377\n",
      "Epoch 11/15\n",
      "54000/54000 [==============================] - 0s 8us/sample - loss: 0.2666 - accuracy: 0.9260 - val_loss: 0.2254 - val_accuracy: 0.9397\n",
      "Epoch 12/15\n",
      "54000/54000 [==============================] - 0s 8us/sample - loss: 0.2638 - accuracy: 0.9264 - val_loss: 0.2252 - val_accuracy: 0.9387\n",
      "Epoch 13/15\n",
      "54000/54000 [==============================] - 0s 8us/sample - loss: 0.2622 - accuracy: 0.9272 - val_loss: 0.2244 - val_accuracy: 0.9395\n",
      "Epoch 14/15\n",
      "54000/54000 [==============================] - 0s 9us/sample - loss: 0.2599 - accuracy: 0.9280 - val_loss: 0.2240 - val_accuracy: 0.9392\n",
      "Epoch 15/15\n",
      "54000/54000 [==============================] - 1s 9us/sample - loss: 0.2583 - accuracy: 0.9282 - val_loss: 0.2238 - val_accuracy: 0.9395\n"
     ]
    },
    {
     "data": {
      "text/plain": [
       "<tensorflow.python.keras.callbacks.History at 0x7f8d6c4d5908>"
      ]
     },
     "execution_count": 58,
     "metadata": {},
     "output_type": "execute_result"
    }
   ],
   "source": [
    "batch_size = 128\n",
    "epochs = 15\n",
    "\n",
    "model.compile(loss=\"categorical_crossentropy\", \n",
    "              optimizer=\"adam\", metrics=[\"accuracy\"])\n",
    "\n",
    "model.fit(x_train, y_train, \n",
    "          batch_size=batch_size, \n",
    "          epochs=epochs, validation_split=0.1)"
   ]
  },
  {
   "cell_type": "code",
   "execution_count": 47,
   "metadata": {},
   "outputs": [
    {
     "name": "stdout",
     "output_type": "stream",
     "text": [
      "Test loss: 0.2640347154378891\n",
      "Test accuracy: 0.9264\n"
     ]
    }
   ],
   "source": [
    "score = model.evaluate(x_test, y_test, verbose=0)\n",
    "print(\"Test loss:\", score[0])\n",
    "print(\"Test accuracy:\", score[1])"
   ]
  },
  {
   "cell_type": "markdown",
   "metadata": {},
   "source": [
    "### Multiple Hidden Layers"
   ]
  },
  {
   "cell_type": "code",
   "execution_count": 56,
   "metadata": {},
   "outputs": [
    {
     "name": "stdout",
     "output_type": "stream",
     "text": [
      "Model: \"2-Hidden Layers\"\n",
      "_________________________________________________________________\n",
      "Layer (type)                 Output Shape              Param #   \n",
      "=================================================================\n",
      "Flatten (Flatten)            (None, 784)               0         \n",
      "_________________________________________________________________\n",
      "Hidden (Dense)               (None, 50)                39250     \n",
      "_________________________________________________________________\n",
      "Second (Dense)               (None, 50)                2550      \n",
      "_________________________________________________________________\n",
      "Output (Dense)               (None, 10)                510       \n",
      "=================================================================\n",
      "Total params: 42,310\n",
      "Trainable params: 42,310\n",
      "Non-trainable params: 0\n",
      "_________________________________________________________________\n"
     ]
    }
   ],
   "source": [
    "model = keras.Sequential(\n",
    "    [\n",
    "        keras.Input(shape=input_shape),\n",
    "        layers.Flatten(name='Flatten'),\n",
    "        layers.Dense(50, activation=\"relu\", name=\"Hidden\"),\n",
    "        layers.Dense(50, activation=\"relu\", name=\"Second\"),\n",
    "        layers.Dense(num_classes, activation=\"softmax\", name='Output'),\n",
    "    ], name='2-Hidden Layers'\n",
    ")\n",
    "model.summary()"
   ]
  },
  {
   "cell_type": "markdown",
   "metadata": {},
   "source": [
    "> Sometimes you will need to normalize the output of the layer prior to moving it into the next layer, which is called `batch normalization`. It zero-centers and normalizes the outputs.\n",
    "\n",
    "```python\n",
    "model = keras.Sequential(\n",
    "    [\n",
    "        keras.Input(shape=input_shape),\n",
    "        layers.Flatten(name='Flatten'),\n",
    "        layers.Dense(50, activation=\"relu\", name=\"Hidden\"),\n",
    "        layers.BatchNormalization(),\n",
    "        layers.Dense(50, activation=\"relu\", name=\"Second\"),\n",
    "        layers.BatchNormalization(),\n",
    "        layers.Dense(num_classes, activation=\"softmax\", name='Output'),\n",
    "    ], name='2-Hidden Layers'\n",
    ")\n",
    "```\n",
    "\n",
    "Unfortunately, `BatchNormalization` has additional hyperparameters."
   ]
  },
  {
   "cell_type": "markdown",
   "metadata": {},
   "source": [
    "> `Need to learn 42,310 parameters!`\n",
    "\n",
    "Potential issues:\n",
    "- Vanishing gradients - they'll get smaller as the number of layers increase. May cause convergence issues.  \n",
    "- In rarer cases, the gradients may increase and explode towards infinity.  \n",
    "- Using ReLU makes these rarer; sigmoid is much more suspectible.  \n",
    "    - It is possible for ReLU to only output `0` and many of the neurons will `die`. Leaky ReLU, $\\phi(z)=max(\\alpha z, z)$ guards against this issue."
   ]
  },
  {
   "cell_type": "code",
   "execution_count": 52,
   "metadata": {},
   "outputs": [
    {
     "name": "stdout",
     "output_type": "stream",
     "text": [
      "Train on 54000 samples, validate on 6000 samples\n",
      "Epoch 1/15\n",
      "54000/54000 [==============================] - 1s 17us/sample - loss: 0.4551 - accuracy: 0.8744 - val_loss: 0.1839 - val_accuracy: 0.9500\n",
      "Epoch 2/15\n",
      "54000/54000 [==============================] - 1s 11us/sample - loss: 0.1963 - accuracy: 0.9430 - val_loss: 0.1481 - val_accuracy: 0.9608\n",
      "Epoch 3/15\n",
      "54000/54000 [==============================] - 1s 11us/sample - loss: 0.1460 - accuracy: 0.9567 - val_loss: 0.1198 - val_accuracy: 0.9673\n",
      "Epoch 4/15\n",
      "54000/54000 [==============================] - 1s 10us/sample - loss: 0.1172 - accuracy: 0.9651 - val_loss: 0.1041 - val_accuracy: 0.9710\n",
      "Epoch 5/15\n",
      "54000/54000 [==============================] - 1s 12us/sample - loss: 0.0980 - accuracy: 0.9706 - val_loss: 0.1001 - val_accuracy: 0.9723\n",
      "Epoch 6/15\n",
      "54000/54000 [==============================] - 1s 10us/sample - loss: 0.0837 - accuracy: 0.9749 - val_loss: 0.0910 - val_accuracy: 0.9745\n",
      "Epoch 7/15\n",
      "54000/54000 [==============================] - 1s 10us/sample - loss: 0.0739 - accuracy: 0.9775 - val_loss: 0.0868 - val_accuracy: 0.9737\n",
      "Epoch 8/15\n",
      "54000/54000 [==============================] - 1s 11us/sample - loss: 0.0635 - accuracy: 0.9804 - val_loss: 0.0851 - val_accuracy: 0.9757\n",
      "Epoch 9/15\n",
      "54000/54000 [==============================] - 1s 10us/sample - loss: 0.0569 - accuracy: 0.9822 - val_loss: 0.0851 - val_accuracy: 0.9745\n",
      "Epoch 10/15\n",
      "54000/54000 [==============================] - 1s 10us/sample - loss: 0.0505 - accuracy: 0.9841 - val_loss: 0.0873 - val_accuracy: 0.9752\n",
      "Epoch 11/15\n",
      "54000/54000 [==============================] - 1s 10us/sample - loss: 0.0463 - accuracy: 0.9857 - val_loss: 0.0888 - val_accuracy: 0.9765\n",
      "Epoch 12/15\n",
      "54000/54000 [==============================] - 1s 10us/sample - loss: 0.0400 - accuracy: 0.9879 - val_loss: 0.0898 - val_accuracy: 0.9750\n",
      "Epoch 13/15\n",
      "54000/54000 [==============================] - 1s 10us/sample - loss: 0.0361 - accuracy: 0.9894 - val_loss: 0.0887 - val_accuracy: 0.9763\n",
      "Epoch 14/15\n",
      "54000/54000 [==============================] - 1s 12us/sample - loss: 0.0336 - accuracy: 0.9899 - val_loss: 0.0950 - val_accuracy: 0.9750\n",
      "Epoch 15/15\n",
      "54000/54000 [==============================] - 1s 10us/sample - loss: 0.0299 - accuracy: 0.9910 - val_loss: 0.0897 - val_accuracy: 0.9778\n"
     ]
    },
    {
     "data": {
      "text/plain": [
       "<tensorflow.python.keras.callbacks.History at 0x7f8d6d6c1438>"
      ]
     },
     "execution_count": 52,
     "metadata": {},
     "output_type": "execute_result"
    }
   ],
   "source": [
    "batch_size = 128\n",
    "epochs = 15\n",
    "\n",
    "model.compile(loss=\"categorical_crossentropy\", \n",
    "              optimizer=\"adam\", metrics=[\"accuracy\"])\n",
    "\n",
    "model.fit(x_train, y_train, \n",
    "          batch_size=batch_size, \n",
    "          epochs=epochs, validation_split=0.1)"
   ]
  },
  {
   "cell_type": "code",
   "execution_count": 53,
   "metadata": {},
   "outputs": [
    {
     "name": "stdout",
     "output_type": "stream",
     "text": [
      "Test loss: 0.0901195648135501\n",
      "Test accuracy: 0.9745\n"
     ]
    }
   ],
   "source": [
    "score = model.evaluate(x_test, y_test, verbose=0)\n",
    "print(\"Test loss:\", score[0])\n",
    "print(\"Test accuracy:\", score[1])"
   ]
  },
  {
   "cell_type": "markdown",
   "metadata": {},
   "source": [
    "> Tip: You can use scikit-learn's GridSearchCV to search for the hyperparameters. Keras also has a tuner, see link in Reading."
   ]
  },
  {
   "cell_type": "markdown",
   "metadata": {},
   "source": [
    "## Regularizing\n",
    "- Each layer has support for $l_2$ or $l_1$ regularization. See [the documentation](https://keras.io/api/layers/regularizers/).  \n",
    "- Can also use `dropout`, which means we will drop a neuron with probability $p$ during a training step.  \n",
    "    - Usually works better for earlier layers.  \n",
    "    - Like $l_1$ and $l_2$, try if the model is overfitting.\n",
    "    \n",
    "<img src='files/diagrams/dropout.png' style='height: 500px'>\n",
    "\n",
    "[Image source](https://www.google.com/url?sa=i&url=https%3A%2F%2Ftowardsdatascience.com%2Fcoding-neural-network-dropout-3095632d25ce&psig=AOvVaw1tKx0tEhXRNLjADg8aVaht&ust=1636245678828000&source=images&cd=vfe&ved=0CAsQjRxqFwoTCIjBi63AgvQCFQAAAAAdAAAAABAD)\n",
    "\n",
    "```python\n",
    "    keras.layers.Dropout(rate=0.2)\n",
    "```\n",
    "\n",
    "If `dropout` after each layer is causing underfitting, try using with last layer only."
   ]
  },
  {
   "cell_type": "markdown",
   "metadata": {},
   "source": [
    "## Additional Types of Advanced Neural Networks\n",
    "- [Convolutional Networks](https://www.ibm.com/cloud/learn/convolutional-neural-networks)  \n",
    "- [Autoencoders](https://en.wikipedia.org/wiki/Autoencoder)  \n",
    "- [Recurrent Neural Networks](https://en.wikipedia.org/wiki/Recurrent_neural_network)  \n",
    "- [Generative Adversarial Networks](https://en.wikipedia.org/wiki/Generative_adversarial_network)  "
   ]
  },
  {
   "cell_type": "markdown",
   "metadata": {},
   "source": [
    "### Convolutional Networks\n",
    "- Common in image processing.  \n",
    "- Way to isolate particular parts of the image, e.g., which section has the cat, which section of the cat has the tail, ....  \n",
    "- Can be viewed as feature extractors, e.g., edges and blobs of images.\n",
    "\n",
    "<img src='files/diagrams/architecture-cnn-en.jpeg' style='height: 500 px'>\n",
    "\n",
    "[Image Source: Stanford CS230 Convolutional Neural Networks cheatsheet](https://stanford.edu/~shervine/teaching/cs-230/cheatsheet-convolutional-neural-networks)\n",
    "\n",
    "- [Convolutional layers](https://keras.io/api/layers/convolution_layers/convolution2d/) detect features by moving across the images in squares and multiplying them against a filter; think of it as scanning the image and \"summarizing\" the blocks.  \n",
    "- Then it pools these scans, usually by taking the average or maximum."
   ]
  },
  {
   "cell_type": "code",
   "execution_count": 19,
   "metadata": {},
   "outputs": [
    {
     "name": "stdout",
     "output_type": "stream",
     "text": [
      "Model: \"sequential_2\"\n",
      "_________________________________________________________________\n",
      "Layer (type)                 Output Shape              Param #   \n",
      "=================================================================\n",
      "conv2d (Conv2D)              (None, 26, 26, 32)        320       \n",
      "_________________________________________________________________\n",
      "max_pooling2d (MaxPooling2D) (None, 13, 13, 32)        0         \n",
      "_________________________________________________________________\n",
      "conv2d_1 (Conv2D)            (None, 11, 11, 64)        18496     \n",
      "_________________________________________________________________\n",
      "max_pooling2d_1 (MaxPooling2 (None, 5, 5, 64)          0         \n",
      "_________________________________________________________________\n",
      "flatten_2 (Flatten)          (None, 1600)              0         \n",
      "_________________________________________________________________\n",
      "dropout (Dropout)            (None, 1600)              0         \n",
      "_________________________________________________________________\n",
      "dense_2 (Dense)              (None, 10)                16010     \n",
      "=================================================================\n",
      "Total params: 34,826\n",
      "Trainable params: 34,826\n",
      "Non-trainable params: 0\n",
      "_________________________________________________________________\n"
     ]
    }
   ],
   "source": [
    "model = keras.Sequential(\n",
    "    [\n",
    "        keras.Input(shape=input_shape),\n",
    "        layers.Conv2D(32, kernel_size=(3, 3), activation=\"relu\"),\n",
    "        layers.MaxPooling2D(pool_size=(2, 2)),\n",
    "        layers.Conv2D(64, kernel_size=(3, 3), activation=\"relu\"),\n",
    "        layers.MaxPooling2D(pool_size=(2, 2)),\n",
    "        layers.Flatten(),\n",
    "        layers.Dropout(0.5),\n",
    "        layers.Dense(num_classes, activation=\"softmax\"),\n",
    "    ], name= 'Convolutional'\n",
    ")\n",
    "\n",
    "model.summary()"
   ]
  },
  {
   "cell_type": "markdown",
   "metadata": {},
   "source": [
    "> Note the difference in the number of parameters the model needs to learn\n",
    "- 34,826 for the Convolutional  \n",
    "- 42,000 for the network with two hidden 50-unit layers.  "
   ]
  },
  {
   "cell_type": "code",
   "execution_count": 20,
   "metadata": {},
   "outputs": [
    {
     "name": "stdout",
     "output_type": "stream",
     "text": [
      "Train on 54000 samples, validate on 6000 samples\n",
      "Epoch 1/15\n",
      "54000/54000 [==============================] - 14s 257us/sample - loss: 0.3739 - accuracy: 0.8861 - val_loss: 0.0829 - val_accuracy: 0.9778\n",
      "Epoch 2/15\n",
      "54000/54000 [==============================] - 14s 251us/sample - loss: 0.1124 - accuracy: 0.9665 - val_loss: 0.0561 - val_accuracy: 0.9852\n",
      "Epoch 3/15\n",
      "54000/54000 [==============================] - 14s 254us/sample - loss: 0.0833 - accuracy: 0.9750 - val_loss: 0.0477 - val_accuracy: 0.9873\n",
      "Epoch 4/15\n",
      "54000/54000 [==============================] - 13s 248us/sample - loss: 0.0696 - accuracy: 0.9784 - val_loss: 0.0404 - val_accuracy: 0.9882\n",
      "Epoch 5/15\n",
      "54000/54000 [==============================] - 13s 245us/sample - loss: 0.0615 - accuracy: 0.9807 - val_loss: 0.0392 - val_accuracy: 0.9895\n",
      "Epoch 6/15\n",
      "54000/54000 [==============================] - 13s 248us/sample - loss: 0.0576 - accuracy: 0.9820 - val_loss: 0.0343 - val_accuracy: 0.9910\n",
      "Epoch 7/15\n",
      "54000/54000 [==============================] - 13s 248us/sample - loss: 0.0518 - accuracy: 0.9839 - val_loss: 0.0321 - val_accuracy: 0.9910\n",
      "Epoch 8/15\n",
      "54000/54000 [==============================] - 13s 247us/sample - loss: 0.0464 - accuracy: 0.9850 - val_loss: 0.0299 - val_accuracy: 0.9918\n",
      "Epoch 9/15\n",
      "54000/54000 [==============================] - 13s 248us/sample - loss: 0.0447 - accuracy: 0.9858 - val_loss: 0.0286 - val_accuracy: 0.9917\n",
      "Epoch 10/15\n",
      "54000/54000 [==============================] - 14s 254us/sample - loss: 0.0407 - accuracy: 0.9865 - val_loss: 0.0297 - val_accuracy: 0.9917\n",
      "Epoch 11/15\n",
      "54000/54000 [==============================] - 13s 245us/sample - loss: 0.0381 - accuracy: 0.9877 - val_loss: 0.0277 - val_accuracy: 0.9925\n",
      "Epoch 12/15\n",
      "54000/54000 [==============================] - 14s 251us/sample - loss: 0.0369 - accuracy: 0.9884 - val_loss: 0.0262 - val_accuracy: 0.9927\n",
      "Epoch 13/15\n",
      "54000/54000 [==============================] - 14s 250us/sample - loss: 0.0360 - accuracy: 0.9890 - val_loss: 0.0268 - val_accuracy: 0.9923\n",
      "Epoch 14/15\n",
      "54000/54000 [==============================] - 14s 250us/sample - loss: 0.0345 - accuracy: 0.9888 - val_loss: 0.0275 - val_accuracy: 0.9922\n",
      "Epoch 15/15\n",
      "54000/54000 [==============================] - 13s 244us/sample - loss: 0.0324 - accuracy: 0.9890 - val_loss: 0.0245 - val_accuracy: 0.9927\n"
     ]
    },
    {
     "data": {
      "text/plain": [
       "<tensorflow.python.keras.callbacks.History at 0x7fcaad869748>"
      ]
     },
     "execution_count": 20,
     "metadata": {},
     "output_type": "execute_result"
    }
   ],
   "source": [
    "batch_size = 128\n",
    "epochs = 15\n",
    "\n",
    "model.compile(loss=\"categorical_crossentropy\", \n",
    "              optimizer=\"adam\", metrics=[\"accuracy\"])\n",
    "\n",
    "model.fit(x_train, y_train, \n",
    "          batch_size=batch_size, \n",
    "          epochs=epochs, validation_split=0.1)"
   ]
  },
  {
   "cell_type": "code",
   "execution_count": 21,
   "metadata": {},
   "outputs": [
    {
     "name": "stdout",
     "output_type": "stream",
     "text": [
      "Test loss: 0.02498205081609776\n",
      "Test accuracy: 0.9908\n"
     ]
    }
   ],
   "source": [
    "score = model.evaluate(x_test, y_test, verbose=0)\n",
    "print(\"Test loss:\", score[0])\n",
    "print(\"Test accuracy:\", score[1])"
   ]
  },
  {
   "cell_type": "markdown",
   "metadata": {},
   "source": [
    "> Superior performance versus other ANNs we've tried on the MNIST data."
   ]
  },
  {
   "cell_type": "markdown",
   "metadata": {},
   "source": [
    "# Reading and Resources \n",
    "- [Origins of Deep Learning](https://arxiv.org/pdf/1702.07800.pdf)  \n",
    "- [Andrew Ng - What is a Neural Network?](https://www.youtube.com/watch?v=n1l-9lIMW7E&list=PLkDaE6sCZn6Ec-XTbcX1uRg2_u4xOEky0&index=3)  \n",
    "- [TensorFlow Clothing Classification](https://www.tensorflow.org/tutorials/keras/classification)  \n",
    "- [TensorFlow Playground](https://playground.tensorflow.org/#activation=tanh&batchSize=10&dataset=xor&regDataset=reg-plane&learningRate=0.03&regularizationRate=0&noise=0&networkShape=7,7,7,7,7&seed=0.02892&showTestData=true&discretize=false&percTrainData=50&x=true&y=true&xTimesY=false&xSquared=true&ySquared=true&cosX=false&sinX=false&cosY=false&sinY=false&collectStats=false&problem=classification&initZero=false&hideText=false&problem_hide=false&batchSize_hide=false&percTrainData_hide=false&numHiddenLayers_hide=false&playButton_hide=false&learningRate_hide=false&regularizationRate_hide=true&regularization_hide=true)  \n",
    "- [MIT Introduction to Deep Learning](http://introtodeeplearning.com/slides/6S191_MIT_DeepLearning_L1.pdf)  \n",
    "- [TensorFlow Data Pipelines](https://www.tensorflow.org/guide/data)  \n",
    "- [Convolutional NN Example](https://www.tensorflow.org/tutorials/images/cnn)  \n",
    "- [Stanford CS 230 on Convolutional Neural Networks](https://stanford.edu/~shervine/teaching/cs-230/cheatsheet-convolutional-neural-networks)\n",
    "- [DeepLearning AI Videos](https://www.youtube.com/channel/UCcIXc5mJsHVYTZR1maL5l9w)  \n",
    "- [Grid Search in Keras](https://keras.io/guides/keras_tuner/getting_started/)  \n",
    "- [Forecasting Principles and Practice, Hyndman, Neural Network Models](https://otexts.com/fpp3/nnetar.html)  \n",
    "- [IBM - What are Recurrent Neural Networks?](https://www.ibm.com/cloud/learn/recurrent-neural-networks)"
   ]
  },
  {
   "cell_type": "code",
   "execution_count": null,
   "metadata": {},
   "outputs": [],
   "source": []
  }
 ],
 "metadata": {
  "kernelspec": {
   "display_name": "Python 3.7.3 64-bit ('base': conda)",
   "language": "python",
   "name": "python37364bitbaseconda3e66817595a24f3b851fad3315f1c145"
  },
  "language_info": {
   "codemirror_mode": {
    "name": "ipython",
    "version": 3
   },
   "file_extension": ".py",
   "mimetype": "text/x-python",
   "name": "python",
   "nbconvert_exporter": "python",
   "pygments_lexer": "ipython3",
   "version": "3.7.3"
  }
 },
 "nbformat": 4,
 "nbformat_minor": 4
}
