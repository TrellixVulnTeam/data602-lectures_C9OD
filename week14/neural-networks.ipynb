{
 "cells": [
  {
   "cell_type": "markdown",
   "metadata": {},
   "source": [
    "# Neural Networks and Deep Learning\n",
    "- This will introduce basic concepts regarding neural networks and is by no-means comprehensive.  \n",
    "- Neural networks can cover multiple full courses, so this only scratches the surface.  \n",
    "- See the readings and resources section for resources for more information.\n",
    "\n",
    "## Artificial Neural Networks (ANN)\n",
    "- Introduced in 1943, based on the concept of biological neurons.  \n",
    "- Generally used for image, speech, and text classification.  \n",
    "- It can be used in similar cases as we've seen for other examples, though the performance is generally similar to other models we've talked about.\n",
    "  \n",
    "## Biological Neurons\n",
    "\n",
    "<img src='files/diagrams/brain.png' style='width: 600px'>\n",
    "\n",
    "[Image source Machine Learning with Python 3rd Edition Pg. 20](https://github.com/rasbt/python-machine-learning-book-3rd-edition/tree/master/ch02/images)\n",
    "\n",
    "- Built upon how the brain works to intake information, process and extrapolate it, and make decisions.  \n",
    "- Neurons can make very complex decisions.  \n",
    "- Artificial neurons perform various logical computations:\n",
    "\n",
    "<img src='files/diagrams/neuron-logic.png' stype='width: 500px'>\n",
    "\n",
    "- The brain uses `neurons`, but neural networks approximate this bahavior with `units` and `layers`.  \n",
    "- Neural networks have been around since the 1940s, but have become more popular in the last 20 years, coinciding with advancements in computing.  \n",
    "- The revolution really started in the 1980s, after a technique called backpropagation was developed, which makes deep neural networks much more efficient to compute.  \n",
    "\n",
    "## The Potential\n",
    "- Realistic potential in changing how humans live their lives:  \n",
    "    - Self-driving cars. \n",
    "    - Universal language translaters.  \n",
    "    - Semi-autonomous robots for manual/menial work.  \n",
    "    - Vaccine development.  \n",
    "    - \"Metaverse\"  \n",
    "    - ...  \n",
    "- Not quite there yet though...   \n",
    "    - Intuition without hard data.  \n",
    "    - Computing.  \n",
    "    - Training data with labels.  \n",
    "    - Ethical decisions.  "
   ]
  },
  {
   "cell_type": "markdown",
   "metadata": {},
   "source": [
    "## Single Layer (aka `Logistic Regression`)\n",
    "- Simpliest ANN architecture.  \n",
    "- Input layer and output layer.  \n",
    "- The activation function normalizes the output. Logistic regression uses a sigmoid function, but there are others that may be more robust for your neural network models.  \n",
    "- Instead of coefficients we will call these weights.  \n",
    "- The constant ($B_0$) is referred to as a `bias unit`.  \n",
    "\n",
    "<img src='files/diagrams/singlelayer.png' style='width: 500px'>\n",
    "\n",
    "\n",
    "[Image source Machine Learning with Python 3rd Edition Pg. 386](https://github.com/rasbt/python-machine-learning-book-3rd-edition/tree/master/ch12)\n",
    "\n",
    "- The logistic regression model we manually created in [Week 6](https://github.com/appliedecon/data602-lectures/tree/main/week06) is essentially a single-layer neural network that uses a sigmoid activation function.\n",
    "\n",
    "We can think of this `single layer` as $y=f(x)$"
   ]
  },
  {
   "cell_type": "markdown",
   "metadata": {},
   "source": [
    "## Hidden Layers\n",
    "<img src='files/diagrams/multilayer.png' style='width: 600px'>\n",
    "\n",
    "\n",
    "[Image source Machine Learning with Python 3rd Edition Pg. 388](https://github.com/rasbt/python-machine-learning-book-3rd-edition/tree/master/ch12)\n",
    "\n",
    "- Many different types of neural networks. This is a feedforward, fully connected network, also called a `Multi-layer Perceptron (MLP)`.  \n",
    "- Think of these as nested functions, with a 3-layer specified as:\n",
    "$$\n",
    "y = f_{NN}(x)=f_3(f_2(f_1(x)))\n",
    "$$\n",
    "\n",
    "- Allows complex, non-linear, relationships to be learned. However, the non-linearity is approximated by a series of nested linear functions.    \n",
    "- $a_0^{(in)}$ and $A_0^{(h)}$ are bias units, and will equal $1$.  \n",
    "- The output of each unit gets passed into an activation function to normalize the output and allow for non-linear approximations.  \n",
    "- If there was not an activation functions, chains of linear combinations will only result in a linear transformation and that wouldn't be able to capture complexities of higher-order problems, i.e., a deep network without activation functions would be the same as a single-layer network.  \n",
    "\n",
    "Recall:\n",
    "$$\n",
    "y = f_{NN}(x)=f_3(f_2(f_1(x)))\n",
    "$$\n",
    "\n",
    "Individually these functions will be represented as:\n",
    "$$\n",
    "f_l(z)=g_l(W_{lz}+b_t)\n",
    "$$\n",
    "\n",
    "- $l$ is the layer\n",
    "- $g_l$ is the activation function, which requires a matrix of weights, $W_l$, and a vector, $b_l$ for each layer. $g_l$ can be any of the functions detailed below.  \n",
    "- Theoretically, a deep neural network can capture any continuous function when activation functions are used.  \n",
    "\n",
    "Linear Activation (regression): \n",
    "$$\n",
    "\\phi(x) = z\n",
    "$$\n",
    "\n",
    "Sigmoid (logistic regression, ANN):\n",
    "$$\n",
    "\\phi(z)=\\frac{1}{1+e^{-z}}\n",
    "$$\n",
    "\n",
    "Hyperbolic tangent - tanh (ANN):\n",
    "$$\n",
    "\\phi(z)=\\frac{e^z-e^{-z}}{e^z+e^{-z}}\n",
    "$$\n",
    "\n",
    "ReLU (ANN):\n",
    "$$\n",
    "\\phi(z)= \\begin{cases}\n",
    "    0, & \\text{if}\\ z<0\\\\\n",
    "    z, & \\text{if}\\ z>0\n",
    "    \\end{cases}\n",
    "$$"
   ]
  },
  {
   "cell_type": "code",
   "execution_count": 1,
   "metadata": {},
   "outputs": [
    {
     "data": {
      "image/png": "[encoded data removed]",
      "text/plain": [
       "<Figure size 432x288 with 1 Axes>"
      ]
     },
     "metadata": {
      "needs_background": "light"
     },
     "output_type": "display_data"
    }
   ],
   "source": [
    "import numpy as np\n",
    "import matplotlib.pyplot as plt\n",
    "%matplotlib inline\n",
    "\n",
    "z = np.arange(-3.0, 3.0, 0.01)\n",
    "\n",
    "def sigmoid(z):\n",
    "    return 1/(1+np.exp(-z))\n",
    "\n",
    "def tanh(z):\n",
    "    return (np.exp(z)-np.exp(-z))/(np.exp(z)+np.exp(-z))\n",
    "\n",
    "def relu(z):\n",
    "    return np.where(z<0, 0, z)\n",
    "    \n",
    "plt.plot(z, sigmoid(z), 'b--')\n",
    "plt.plot(z, tanh(z), 'r--')\n",
    "plt.plot(z, relu(z), 'g--')\n",
    "plt.legend(['Sigmoid','tanh', 'ReLU'])\n",
    "plt.hlines(0, -3, 3)\n",
    "plt.vlines(0, -3, 3)\n",
    "plt.show()"
   ]
  },
  {
   "cell_type": "markdown",
   "metadata": {},
   "source": [
    "- Generally, `ReLu` is the default activation function that you should use, but it really could be treated `hyperparameter`. This is because its derivative is always 1 (derivative of a constant $=1$) for positive values so it addresses issues that arise from gradients that approach zero (`vanishing gradients`).  \n",
    "- The output layer will have a unit per class, which generalizes the `one-versus-all` technique (below image is for a 3-class problem). For a binary class, this output layer would have only one unit.  \n",
    "\n",
    "<img src='files/diagrams/12_03.png' style='width: 500px'>\n",
    "\n",
    "[Image source Machine Learning with Python 3rd Edition Pg. 390](https://github.com/rasbt/python-machine-learning-book-3rd-edition/tree/master/ch12)\n",
    "\n",
    "\n",
    "- `Number of layers` and `number of units` are hyperparameters that will need to be tuned.  \n",
    "\n",
    "#### The `hidden layers` can represent \"concepts\" or \"features\" that aren't explicitly in the data, but the network might discover a latent approximation.\n",
    "You won't know what these are, but the neural net may infer them.\n",
    "\n",
    "<img src='files/diagrams/housing_price.png' style='width: 600px'>\n",
    "\n",
    "[Image source Andrew Ng](https://www.youtube.com/watch?v=n1l-9lIMW7E&list=PLkDaE6sCZn6Ec-XTbcX1uRg2_u4xOEky0&index=3)\n",
    "\n",
    "### Basic Process\n",
    "- Start at input layer, propagate patterns of training data through to the output layer.  \n",
    "- Calculate the error we want to minimize (cost function). Similar to how we implemented the gradient descent algorithm in the past.    \n",
    "- **NEW** - Backpropagate error by finding its derivative to each weight and update the model. The below diagram illusrates backpropagation:  \n",
    "\n",
    "<img src='files/diagrams/12_12-back.png' style='width: 600px'>\n",
    "\n",
    "[Image source Machine Learning with Python 3rd Edition Pg. 421](https://github.com/rasbt/python-machine-learning-book-3rd-edition/tree/master/ch12)\n",
    "\n",
    "- See [numpy's examples](https://numpy.org/numpy-tutorials/content/tutorial-deep-learning-on-mnist.html) for a manual implementation of a neural network.  \n",
    "- Typically use `mini-batch` for training - samples of the data during each weight update.  \n",
    "- Training can be more complicated because there can be millions of weights that need to be trained with deep neural networks. Getting stuck in `local minimas` can be a problem.\n",
    "\n",
    "<img src='files/diagrams/12_13-cost.png' style='width: 500px'>\n",
    "\n",
    "[Image source Machine Learning with Python 3rd Edition Pg. 422](https://github.com/rasbt/python-machine-learning-book-3rd-edition/tree/master/ch12)\n",
    "\n",
    "\n",
    "### Implementations and Frameworks\n",
    "\n",
    "- [scikit-learn has an implementation](https://scikit-learn.org/stable/modules/neural_networks_supervised.html) but it isn't intended for large-scale problem since scikit-learn doesn't have GPU support.  \n",
    "- Most common packages/frameworks:  \n",
    "    - [TensorFlow](https://www.tensorflow.org)  \n",
    "    - [Keras](https://keras.io)  \n",
    "    - [PyTorch](https://pytorch.org)  \n",
    "    - [mxnet](https://mxnet.apache.org/versions/1.8.0/)  \n",
    "- We'll show a simple examle using scikit learn's implementation, then focus on `keras`, since the APIs available are relatively simple compared to the other frameworks.    "
   ]
  },
  {
   "cell_type": "markdown",
   "metadata": {},
   "source": [
    "### Tuning\n",
    "Tuning can be very complicated for ANNs, especially for deep neural networks. Potential hyperparameters:\n",
    "- Number of layers - additional layers instead of more units might be more effective.  \n",
    "- Number of units.  \n",
    "- Activation function `at each layer`.  \n",
    "- Weight initialization (typically random, but can be anything).  \n",
    "- Solver.  \n",
    "- Batch size - if you have a GPU, use the largest batch than fits on the GPU for maximum performance.  \n",
    "- Learning rate - arguably the most important.  \n",
    "- Iterations.  \n",
    "- Shape of deeper layers.  \n",
    "- Convolutions and filters.  \n",
    "- Wide and deep?  \n",
    "- ...  \n",
    "\n",
    "This is why it takes a lot of effort and compute to train certain models. Since there are so many potential levers for performance gains, usually `improvements` are released iteratively.\n",
    "\n",
    "[A Disciplined Approach to Neural Network Hyper-Parameters](https://arxiv.org/abs/1803.09820)  \n",
    "- No perfect way to go about looking for the best hyper-parameters.  \n",
    "- Grid or Random search is an option, but computationally expensive.  \n",
    "- Many cheat by using an existing model, e.g., AlexNet.  \n",
    "- Best practices:\n",
    "    - Look at the loss curves for clues about the suitability of the learning rate (under/over-fitting).  \n",
    "    - Batch size is somewhat constrained by your computing environment (data $\\le$ memory).  \n",
    "    - Smaller batches add a little regularization.  "
   ]
  },
  {
   "cell_type": "markdown",
   "metadata": {},
   "source": [
    "# Simple Implementation\n",
    "[Based on Alex Trask's `Grokking Deep Learning`](https://github.com/iamtrask/Grokking-Deep-Learning)\n",
    "\n",
    "**Learning with Gradient Descent**"
   ]
  },
  {
   "cell_type": "code",
   "execution_count": 2,
   "metadata": {},
   "outputs": [
    {
     "data": {
      "image/png": "[encoded data removed]",
      "text/plain": [
       "<Figure size 432x288 with 1 Axes>"
      ]
     },
     "metadata": {
      "needs_background": "light"
     },
     "output_type": "display_data"
    },
    {
     "data": {
      "image/png": "[encoded data removed]",
      "text/plain": [
       "<Figure size 432x288 with 1 Axes>"
      ]
     },
     "metadata": {
      "needs_background": "light"
     },
     "output_type": "display_data"
    }
   ],
   "source": [
    "import numpy as np\n",
    "import matplotlib.pyplot as plt\n",
    "%matplotlib inline\n",
    "\n",
    "# inital weights\n",
    "weights = np.array([0.5,0.48,-0.7])\n",
    "\n",
    "# learning rate\n",
    "alpha = 0.1\n",
    "\n",
    "# data on street lights\n",
    "streetlights = np.array( [[ 1, 0, 1 ],\n",
    "                          [ 0, 1, 1 ],\n",
    "                          [ 0, 0, 1 ],\n",
    "                          [ 1, 1, 1 ],\n",
    "                          [ 0, 1, 1 ],\n",
    "                          [ 1, 0, 1 ] ] )\n",
    "\n",
    "# target variable: cross the street or not\n",
    "walk_vs_stop = np.array( [ 0, 1, 0, 1, 1, 0 ] )\n",
    "\n",
    "# starting points\n",
    "input = streetlights[0]\n",
    "goal_prediction = walk_vs_stop[0]\n",
    "\n",
    "weights_ = list()\n",
    "preds_   = list()\n",
    "errors_  = list()\n",
    "\n",
    "# gradient descent to learn weights with 40 iterations\n",
    "for iteration in range(40):\n",
    "    \n",
    "    # initial error\n",
    "    error_for_all_lights = 0\n",
    "    \n",
    "    # loop through rows\n",
    "    for row_index in range(len(walk_vs_stop)):\n",
    "        # each observation/epoch will update weights\n",
    "        input = streetlights[row_index]\n",
    "        goal_prediction = walk_vs_stop[row_index]\n",
    "        \n",
    "        # dot product of input and weights\n",
    "        prediction = input.dot(weights)\n",
    "        \n",
    "        # error of prediction against observed\n",
    "        error = (goal_prediction - prediction) ** 2\n",
    "        error_for_all_lights += error\n",
    "        \n",
    "        # gradient and weight update\n",
    "        delta = prediction - goal_prediction\n",
    "        weights = weights - (alpha * (input * delta))\n",
    "\n",
    "        weights_.append(weights)\n",
    "        preds_.append(prediction)\n",
    "        \n",
    "    errors_.append(error_for_all_lights)\n",
    "    \n",
    "plt.plot(weights_)\n",
    "plt.title('Weight Updates - Updates for Each Observation/Epoch', loc='left')\n",
    "plt.legend(['Feature 1', 'Feature 2', 'Feature 3'])\n",
    "plt.xlabel('Update iteration (Observation * Epoch)')\n",
    "plt.show()\n",
    "\n",
    "plt.plot(errors_)\n",
    "plt.title('Loss Curve')\n",
    "plt.show()"
   ]
  },
  {
   "cell_type": "markdown",
   "metadata": {},
   "source": [
    "### Add Hidden Layers and Units\n",
    "- 3 Features x 4 Hidden Units = 12 weights from first layer  \n",
    "- 4 hidden units. \n",
    "\n",
    "> 16 weights for the below example!"
   ]
  },
  {
   "cell_type": "code",
   "execution_count": 3,
   "metadata": {},
   "outputs": [
    {
     "name": "stdout",
     "output_type": "stream",
     "text": [
      "Completed.\n"
     ]
    }
   ],
   "source": [
    "import numpy as np\n",
    "\n",
    "np.random.seed(1)\n",
    "\n",
    "# activation function for each weight\n",
    "def relu(x):\n",
    "    return (x > 0) * x \n",
    "\n",
    "# output function\n",
    "def relu2deriv(output):\n",
    "    return output>0\n",
    "\n",
    "# learning rate and number of hidden units\n",
    "alpha = 0.2\n",
    "hidden_size = 4\n",
    "\n",
    "# training data\n",
    "streetlights = np.array( [[ 1, 0, 1 ],\n",
    "                          [ 0, 1, 1 ],\n",
    "                          [ 0, 0, 1 ],\n",
    "                          [ 1, 1, 1 ] ] )\n",
    "\n",
    "# labels\n",
    "walk_vs_stop = np.array([[ 1, 1, 0, 0]]).T\n",
    "\n",
    "# initial weights for layers\n",
    "weights_0_1 = 2*np.random.random((3, hidden_size)) - 1\n",
    "weights_1_2 = 2*np.random.random((hidden_size, 1)) - 1\n",
    "\n",
    "# input layer, initial hidden layer, output layer\n",
    "layer_0 = streetlights[0]\n",
    "layer_1 = relu(np.dot(layer_0, weights_0_1))\n",
    "layer_2 = np.dot(layer_1, weights_1_2)\n",
    "\n",
    "# epochs and storeage\n",
    "epochs = 60\n",
    "errors_ = list()\n",
    "\n",
    "from collections import defaultdict\n",
    "l2_1_weights_ = defaultdict(list)\n",
    "l1_0_weights_ = defaultdict(list)\n",
    "\n",
    "for iteration in range(epochs):\n",
    "\n",
    "    # initial error\n",
    "    layer_2_error = 0\n",
    "    \n",
    "    for i in range(len(streetlights)):\n",
    "        # weights for each layer (input -> hidden -> output)\n",
    "        layer_0 = streetlights[i:i+1]\n",
    "        layer_1 = relu(np.dot(layer_0,weights_0_1))\n",
    "        layer_2 = np.dot(layer_1,weights_1_2)\n",
    "\n",
    "        # errors\n",
    "        layer_2_error += np.sum((layer_2 - walk_vs_stop[i:i+1]) ** 2)\n",
    "        \n",
    "        # error gradient\n",
    "        layer_2_delta = (walk_vs_stop[i:i+1] - layer_2)\n",
    "        # error gradient in hidden layer\n",
    "        layer_1_delta=layer_2_delta.dot(weights_1_2.T)*relu2deriv(layer_1)\n",
    "        \n",
    "        # update weights (output -> hidden, then hidden -> input, i.e., backwards)\n",
    "        weights_1_2 += alpha * layer_1.T.dot(layer_2_delta)\n",
    "        weights_0_1 += alpha * layer_0.T.dot(layer_1_delta)\n",
    "        \n",
    "        # store weight values\n",
    "        for i in range(np.size(weights_1_2)):\n",
    "            l2_1_weights_[i].append(weights_1_2[i][0])\n",
    "        \n",
    "        for i in range(np.size(weights_0_1)):   \n",
    "            l1_0_weights_[i].append(weights_0_1.reshape(12,)[i])\n",
    "            \n",
    "print('Completed.')"
   ]
  },
  {
   "cell_type": "code",
   "execution_count": 4,
   "metadata": {},
   "outputs": [
    {
     "data": {
      "image/png": "[encoded data removed]",
      "text/plain": [
       "<Figure size 432x288 with 1 Axes>"
      ]
     },
     "metadata": {
      "needs_background": "light"
     },
     "output_type": "display_data"
    }
   ],
   "source": [
    "import pandas as pd\n",
    "\n",
    "l0_1 = pd.DataFrame(l1_0_weights_)\n",
    "l0_1.plot(legend=None)\n",
    "plt.title('Input to Hidden Layer Weights', loc='left')\n",
    "plt.xlabel('Iteration of Weight Update (Example/Epoch)')\n",
    "plt.show()"
   ]
  },
  {
   "cell_type": "code",
   "execution_count": 5,
   "metadata": {},
   "outputs": [
    {
     "data": {
      "image/png": "[encoded data removed]",
      "text/plain": [
       "<Figure size 432x288 with 1 Axes>"
      ]
     },
     "metadata": {
      "needs_background": "light"
     },
     "output_type": "display_data"
    }
   ],
   "source": [
    "l2_1 = pd.DataFrame(l2_1_weights_)\n",
    "l2_1.plot()\n",
    "plt.title('Hidden Unit Weights', loc='left')\n",
    "plt.xlabel('Iteration of Weight Update (Example/Epoch)')\n",
    "plt.show()"
   ]
  },
  {
   "cell_type": "code",
   "execution_count": 6,
   "metadata": {},
   "outputs": [
    {
     "data": {
      "image/png": "[encoded data removed]",
      "text/plain": [
       "<Figure size 432x288 with 1 Axes>"
      ]
     },
     "metadata": {
      "needs_background": "light"
     },
     "output_type": "display_data"
    }
   ],
   "source": [
    "plt.plot(errors_)\n",
    "plt.title('Loss', loc='left')\n",
    "plt.xlabel('Epoch')\n",
    "plt.show()"
   ]
  },
  {
   "cell_type": "markdown",
   "metadata": {},
   "source": [
    "## Neural Networks with the MNIST Data\n",
    "We'll baseline with a `logistic regression` so we understand what type of performance gain the neural network is providing us.\n",
    "\n",
    "- 784 input neurons. \n",
    "- 10 output neurons (1 for each class).  \n",
    "- 7,840 parameters to learn.  "
   ]
  },
  {
   "cell_type": "code",
   "execution_count": 7,
   "metadata": {},
   "outputs": [
    {
     "name": "stdout",
     "output_type": "stream",
     "text": [
      "Fetch time: 0:00:39.025289\n",
      "Training examples: 60,000\n",
      "Test examples: 10,000\n"
     ]
    }
   ],
   "source": [
    "from sklearn.datasets import fetch_openml\n",
    "import datetime\n",
    "\n",
    "st = datetime.datetime.now()\n",
    "\n",
    "X, y = fetch_openml(\"mnist_784\", version=1, return_X_y=True)\n",
    "\n",
    "en = datetime.datetime.now()\n",
    "el = en - st\n",
    "\n",
    "print(f'Fetch time: {el}')\n",
    "\n",
    "X = X / 255.0\n",
    "\n",
    "# rescale the data, use the traditional train/test split\n",
    "X_train, X_test = X[:60000], X[60000:]\n",
    "y_train, y_test = y[:60000], y[60000:]\n",
    "\n",
    "print(f'Training examples: {X_train.shape[0]:,}')\n",
    "print(f'Test examples: {X_test.shape[0]:,}')"
   ]
  },
  {
   "cell_type": "markdown",
   "metadata": {},
   "source": [
    "### Logistic Regression"
   ]
  },
  {
   "cell_type": "code",
   "execution_count": 8,
   "metadata": {},
   "outputs": [
    {
     "name": "stdout",
     "output_type": "stream",
     "text": [
      "Fit time: 0:01:20.129380\n",
      "Training set score: 92.79%\n",
      "Test score: 92.03%\n"
     ]
    }
   ],
   "source": [
    "from sklearn.linear_model import LogisticRegression\n",
    "import datetime\n",
    "\n",
    "st = datetime.datetime.now()\n",
    "\n",
    "lr = LogisticRegression(solver='liblinear')\n",
    "lr = lr.fit(X_train, y_train)\n",
    "\n",
    "en = datetime.datetime.now()\n",
    "el = en - st\n",
    "\n",
    "print(f'Fit time: {el}')\n",
    "print(f'Training set score: {lr.score(X_train, y_train):.2%}')\n",
    "print(f'Test score: {lr.score(X_test, y_test):.2%}')\n"
   ]
  },
  {
   "cell_type": "markdown",
   "metadata": {},
   "source": [
    "### [scikit-Learn Multi-layer Perceptron](https://scikit-learn.org/stable/modules/neural_networks_supervised.html)\n",
    "Using the MNIST dataset, we'll train a neural net with `1-hidden layer` that contains `50-hidden units`."
   ]
  },
  {
   "cell_type": "code",
   "execution_count": 9,
   "metadata": {},
   "outputs": [
    {
     "name": "stdout",
     "output_type": "stream",
     "text": [
      "Iteration 1, loss = 0.32009978\n",
      "Iteration 2, loss = 0.15347534\n",
      "Iteration 3, loss = 0.11544755\n",
      "Iteration 4, loss = 0.09279764\n",
      "Iteration 5, loss = 0.07889367\n",
      "Iteration 6, loss = 0.07170497\n",
      "Iteration 7, loss = 0.06282111\n",
      "Iteration 8, loss = 0.05530788\n",
      "Iteration 9, loss = 0.04960484\n",
      "Iteration 10, loss = 0.04645355\n",
      "Iteration 11, loss = 0.04082169\n",
      "Iteration 12, loss = 0.03828222\n",
      "Iteration 13, loss = 0.03557957\n",
      "Iteration 14, loss = 0.03054891\n",
      "Iteration 15, loss = 0.02924761\n",
      "Iteration 16, loss = 0.02610471\n",
      "Iteration 17, loss = 0.02363894\n",
      "Iteration 18, loss = 0.02208186\n",
      "Iteration 19, loss = 0.01932900\n",
      "Iteration 20, loss = 0.01830387\n",
      "Iteration 21, loss = 0.01639227\n",
      "Iteration 22, loss = 0.01392950\n",
      "Iteration 23, loss = 0.01270193\n",
      "Iteration 24, loss = 0.01234102\n",
      "Iteration 25, loss = 0.01081313\n",
      "Iteration 26, loss = 0.01028644\n",
      "Iteration 27, loss = 0.00896707\n",
      "Iteration 28, loss = 0.00744908\n",
      "Iteration 29, loss = 0.00707946\n",
      "Iteration 30, loss = 0.00573869\n",
      "Iteration 31, loss = 0.00499554\n",
      "Iteration 32, loss = 0.00477064\n",
      "Iteration 33, loss = 0.00395458\n",
      "Iteration 34, loss = 0.00355619\n",
      "Iteration 35, loss = 0.00375497\n",
      "Iteration 36, loss = 0.00304228\n",
      "Iteration 37, loss = 0.00264245\n",
      "Iteration 38, loss = 0.00241425\n",
      "Iteration 39, loss = 0.00234957\n",
      "Iteration 40, loss = 0.00233803\n",
      "Iteration 41, loss = 0.00204653\n",
      "Iteration 42, loss = 0.00199057\n",
      "Iteration 43, loss = 0.00190567\n",
      "Iteration 44, loss = 0.00180530\n",
      "Iteration 45, loss = 0.00175054\n",
      "Iteration 46, loss = 0.00168160\n",
      "Iteration 47, loss = 0.00162517\n",
      "Iteration 48, loss = 0.00159676\n",
      "Iteration 49, loss = 0.00154993\n",
      "Iteration 50, loss = 0.00152799\n",
      "Iteration 51, loss = 0.00146697\n",
      "Iteration 52, loss = 0.00145257\n",
      "Iteration 53, loss = 0.00143422\n",
      "Iteration 54, loss = 0.00135888\n",
      "Iteration 55, loss = 0.00134281\n",
      "Training loss did not improve more than tol=0.000100 for 10 consecutive epochs. Stopping.\n",
      "Training set score: 100.00%\n",
      "Test score: 97.31%\n",
      "\n",
      "Training completed in 0:01:07.868058\n"
     ]
    }
   ],
   "source": [
    "import matplotlib.pyplot as plt\n",
    "%matplotlib inline\n",
    "from sklearn.exceptions import ConvergenceWarning\n",
    "from sklearn.neural_network import MLPClassifier\n",
    "import datetime\n",
    "\n",
    "st = datetime.datetime.now()\n",
    "\n",
    "mlp = MLPClassifier(\n",
    "    hidden_layer_sizes=(50,),\n",
    "    max_iter=100,\n",
    "    alpha=1e-4,\n",
    "    solver=\"sgd\",\n",
    "    verbose=10,\n",
    "    random_state=1,\n",
    "    learning_rate_init=0.1,\n",
    ")\n",
    "\n",
    "mlp.fit(X_train, y_train)\n",
    "en = datetime.datetime.now()\n",
    "\n",
    "print(f'Training set score: {mlp.score(X_train, y_train):.2%}')\n",
    "print(f'Test score: {mlp.score(X_test, y_test):.2%}')\n",
    "print(f'\\nTraining completed in {en-st}')"
   ]
  },
  {
   "cell_type": "code",
   "execution_count": 10,
   "metadata": {},
   "outputs": [
    {
     "data": {
      "image/png": "[encoded data removed]",
      "text/plain": [
       "<Figure size 432x288 with 1 Axes>"
      ]
     },
     "metadata": {
      "needs_background": "light"
     },
     "output_type": "display_data"
    }
   ],
   "source": [
    "plt.plot(mlp.loss_curve_)\n",
    "plt.xlabel('Iteration')\n",
    "plt.title('Loss Curve')\n",
    "plt.show()"
   ]
  },
  {
   "cell_type": "markdown",
   "metadata": {},
   "source": [
    "> Training stopped because the loss converged."
   ]
  },
  {
   "cell_type": "code",
   "execution_count": 11,
   "metadata": {},
   "outputs": [
    {
     "data": {
      "image/png": "[encoded data removed]",
      "text/plain": [
       "<Figure size 432x288 with 2 Axes>"
      ]
     },
     "metadata": {
      "needs_background": "light"
     },
     "output_type": "display_data"
    }
   ],
   "source": [
    "from sklearn.metrics import ConfusionMatrixDisplay\n",
    "\n",
    "ConfusionMatrixDisplay.from_estimator(mlp, X_test, y_test)\n",
    "plt.show()"
   ]
  },
  {
   "cell_type": "markdown",
   "metadata": {},
   "source": [
    "### \"Deep\" Network on MNIST\n",
    "- ANNs with more than 2 hidden layers are consider `deep` networks.  \n",
    "- The example below will have 3 hidden layers, but it isn't uncommon for more complicated models to have hundreds of hidden layers, including ones that are more complicated than simple direct input/outputs."
   ]
  },
  {
   "cell_type": "code",
   "execution_count": 12,
   "metadata": {},
   "outputs": [
    {
     "name": "stdout",
     "output_type": "stream",
     "text": [
      "Iteration 1, loss = 0.34132625\n",
      "Iteration 2, loss = 0.13385624\n",
      "Iteration 3, loss = 0.10517005\n",
      "Iteration 4, loss = 0.08661185\n",
      "Iteration 5, loss = 0.07296673\n",
      "Iteration 6, loss = 0.06607626\n",
      "Iteration 7, loss = 0.05712624\n",
      "Iteration 8, loss = 0.05096139\n",
      "Iteration 9, loss = 0.04894500\n",
      "Iteration 10, loss = 0.04172744\n",
      "Iteration 11, loss = 0.03804725\n",
      "Iteration 12, loss = 0.03688750\n",
      "Iteration 13, loss = 0.03458147\n",
      "Iteration 14, loss = 0.03590979\n",
      "Iteration 15, loss = 0.03016864\n",
      "Iteration 16, loss = 0.02681141\n",
      "Iteration 17, loss = 0.03102717\n",
      "Iteration 18, loss = 0.02399110\n",
      "Iteration 19, loss = 0.02525154\n",
      "Iteration 20, loss = 0.02813208\n",
      "Iteration 21, loss = 0.02282548\n",
      "Iteration 22, loss = 0.02251492\n",
      "Iteration 23, loss = 0.01943094\n",
      "Iteration 24, loss = 0.02049333\n",
      "Iteration 25, loss = 0.02261149\n",
      "Iteration 26, loss = 0.01836079\n",
      "Iteration 27, loss = 0.02339591\n",
      "Iteration 28, loss = 0.02292981\n",
      "Iteration 29, loss = 0.02181654\n",
      "Iteration 30, loss = 0.01809922\n",
      "Iteration 31, loss = 0.01587740\n",
      "Iteration 32, loss = 0.01817712\n",
      "Iteration 33, loss = 0.02511500\n",
      "Iteration 34, loss = 0.02064954\n",
      "Iteration 35, loss = 0.01626240\n",
      "Iteration 36, loss = 0.01528516\n",
      "Iteration 37, loss = 0.01690475\n",
      "Iteration 38, loss = 0.01631231\n",
      "Iteration 39, loss = 0.01606677\n",
      "Iteration 40, loss = 0.01075543\n",
      "Iteration 41, loss = 0.01446211\n",
      "Iteration 42, loss = 0.01473916\n",
      "Iteration 43, loss = 0.01173432\n",
      "Iteration 44, loss = 0.01028714\n",
      "Iteration 45, loss = 0.01179291\n",
      "Iteration 46, loss = 0.01367663\n",
      "Iteration 47, loss = 0.01623871\n",
      "Iteration 48, loss = 0.02112814\n",
      "Iteration 49, loss = 0.01784254\n",
      "Iteration 50, loss = 0.01665848\n",
      "Iteration 51, loss = 0.01325967\n",
      "Iteration 52, loss = 0.01319229\n",
      "Iteration 53, loss = 0.01443801\n",
      "Iteration 54, loss = 0.01637134\n",
      "Iteration 55, loss = 0.01034395\n",
      "Training loss did not improve more than tol=0.000100 for 10 consecutive epochs. Stopping.\n",
      "Training completed in 0:01:20.773188\n",
      "Training set score: 99.74%\n",
      "Test score: 97.47%\n"
     ]
    }
   ],
   "source": [
    "import matplotlib.pyplot as plt\n",
    "from sklearn.datasets import fetch_openml\n",
    "from sklearn.exceptions import ConvergenceWarning\n",
    "from sklearn.neural_network import MLPClassifier\n",
    "import datetime\n",
    "\n",
    "st = datetime.datetime.now()\n",
    "mlp = MLPClassifier(\n",
    "    hidden_layer_sizes=(50,50,50),\n",
    "    max_iter=100,\n",
    "    alpha=1e-4,\n",
    "    solver=\"sgd\",\n",
    "    verbose=10,\n",
    "    random_state=1,\n",
    "    learning_rate_init=0.1\n",
    ")\n",
    "\n",
    "mlp.fit(X_train, y_train)\n",
    "en = datetime.datetime.now()\n",
    "\n",
    "print(f'Training completed in {en-st}')\n",
    "print(f'Training set score: {mlp.score(X_train, y_train):.2%}')\n",
    "print(f'Test score: {mlp.score(X_test, y_test):.2%}')"
   ]
  },
  {
   "cell_type": "code",
   "execution_count": 13,
   "metadata": {},
   "outputs": [
    {
     "data": {
      "image/png": "[encoded data removed]",
      "text/plain": [
       "<Figure size 432x288 with 1 Axes>"
      ]
     },
     "metadata": {
      "needs_background": "light"
     },
     "output_type": "display_data"
    }
   ],
   "source": [
    "plt.plot(mlp.loss_curve_)\n",
    "plt.xlabel('Iteration')\n",
    "plt.title('Loss Curve')\n",
    "plt.show()"
   ]
  },
  {
   "cell_type": "code",
   "execution_count": 14,
   "metadata": {},
   "outputs": [
    {
     "data": {
      "text/plain": [
       "5"
      ]
     },
     "execution_count": 14,
     "metadata": {},
     "output_type": "execute_result"
    }
   ],
   "source": [
    "mlp.n_layers_"
   ]
  },
  {
   "cell_type": "markdown",
   "metadata": {},
   "source": [
    "> `Input` + `Hidden Layer 1` + `Hidden Layer 2` + `Hidden Layer 3` + `Output Layer`"
   ]
  },
  {
   "cell_type": "markdown",
   "metadata": {},
   "source": [
    "> The loss function is showing `a lot more roughness` here. Recall it has been smooth when we've looked at other models. If these gyrations where larger, it is possible the model could have gotten stuck in a local minima. The risk of that happening with deep neural networks is substantially larger than for the simpler models we have looked at previously.\n",
    "\n",
    "- Training a model like this wasn't possible 35 years ago."
   ]
  },
  {
   "cell_type": "code",
   "execution_count": 15,
   "metadata": {},
   "outputs": [
    {
     "data": {
      "image/png": "[encoded data removed]",
      "text/plain": [
       "<Figure size 432x288 with 2 Axes>"
      ]
     },
     "metadata": {
      "needs_background": "light"
     },
     "output_type": "display_data"
    }
   ],
   "source": [
    "from sklearn.metrics import ConfusionMatrixDisplay\n",
    "\n",
    "ConfusionMatrixDisplay.from_estimator(mlp, X_test, y_test)\n",
    "plt.show()"
   ]
  },
  {
   "cell_type": "markdown",
   "metadata": {},
   "source": [
    "> Single layer outperformed a multi-layer network. Deep isn't necessarily better - you need to grid search through the layers and units to determine the `best` values. In this case, a single 50-unit hidden layer performed about the same as two 50-unit hidden layers; so simple wins once again.\n",
    "\n",
    "### Our `Deep Learning` Model Didn't Improve MNIST Performance\n",
    "#### However, there's been significant progress on Deep Learning Models: \n",
    "\n",
    "<img src='files/diagrams/dnn-comparison.png'>\n",
    "\n",
    "#### And Architectures Can be Complicated\n",
    "\n",
    "<img src='files/diagrams/sample-dnn.png'>\n",
    "\n",
    "[AlexNet](https://en.wikipedia.org/wiki/AlexNet)\n",
    "<br>[VGG (Very Deep Convolutional Networks for Large-Scale Image Recognition)](https://arxiv.org/abs/1409.1556)\n",
    "<br>[GoogleNet](https://www.cs.unc.edu/~wliu/papers/GoogLeNet.pdf)\n",
    "> You can download pre-trained versions of these models."
   ]
  },
  {
   "cell_type": "markdown",
   "metadata": {},
   "source": [
    "#### Training Time\n",
    "- Each model took about 1 minute to run.  \n",
    "- Say we want to evaluate up to a 3-layer network.  \n",
    "- We have no prior on the number of units so, we'd need to try several.  \n",
    "- Grid could look like this:  \n",
    "    - {'hidden_layer_sizes': (100,), learning_rate = 0.0001}. \n",
    "    - {'hidden_layer_sizes': (75,), learning_rate = 0.0001}.  \n",
    "    - {'hidden_layer_sizes': (50,), learning_rate = 0.0001}.\n",
    "    - {'hidden_layer_sizes': (100,), learning_rate = 0.001}. \n",
    "    - {'hidden_layer_sizes': (75,), learning_rate = 0.001}.  \n",
    "    - {'hidden_layer_sizes': (50,), learning_rate = 0.001}.\n",
    "    - {'hidden_layer_sizes': (100, 100,), learning_rate = 0.0001}. \n",
    "    - {'hidden_layer_sizes': (75, 75, ), learning_rate = 0.0001}.  \n",
    "    - {'hidden_layer_sizes': (50, 50, ), learning_rate = 0.0001}.\n",
    "    - {'hidden_layer_sizes': (100, 100, ), learning_rate = 0.001}. \n",
    "    - {'hidden_layer_sizes': (75, 75, ), learning_rate = 0.001}.  \n",
    "    - {'hidden_layer_sizes': (50, 50, ), learning_rate = 0.001}.  \n",
    "    - {'hidden_layer_sizes': (100, 75,), learning_rate = 0.0001}. \n",
    "    - {'hidden_layer_sizes': (75, 50, ), learning_rate = 0.0001}.  \n",
    "    - {'hidden_layer_sizes': (50, 25, ), learning_rate = 0.0001}.\n",
    "    - {'hidden_layer_sizes': (100, 75, ), learning_rate = 0.001}. \n",
    "    - {'hidden_layer_sizes': (75, 50, ), learning_rate = 0.001}.  \n",
    "    - {'hidden_layer_sizes': (50, 25, ), learning_rate = 0.001}.  \n",
    "    - ...\n",
    "\n",
    "> Need to look to frameworks that allow for more efficient computation."
   ]
  },
  {
   "cell_type": "markdown",
   "metadata": {},
   "source": [
    "# [Keras](https://keras.io)\n",
    "One of the more popular frameworks, that can scale to GPUs or TPUs, tl;dr it can run models fast (relatively speaking). Developed by `Francois Chollet`, who literally wrote the book on [Deep Learning with Python](https://www.manning.com/books/deep-learning-with-python).\n",
    "\n",
    "Keras serves as a wrapper on [TensorFlow](https://www.tensorflow.org), but not all of TensorFlow's functionality is available in the Keras API.\n",
    "\n",
    "GridSearch and Hyperparameter tuning can be done another package, [KerasTuner](https://keras.io/keras_tuner/)."
   ]
  },
  {
   "cell_type": "markdown",
   "metadata": {},
   "source": [
    "### Simple Regression Example\n",
    "- Similar to many of the models we've talked about, you can also use ANNs for regression problems.  \n",
    "- Probably don't want to use activation functions for the outputs so the values are continuous and unbounded.  \n",
    "- Loss is generally `mean squared error`, but another variant may be better dependent on your data, e.g., lots of outliers may warrant `mean absolute error` as a better choice.  \n",
    "- Most regression problems will require 5 or fewer layers, with most requiring only 1 or 2."
   ]
  },
  {
   "cell_type": "code",
   "execution_count": 16,
   "metadata": {},
   "outputs": [
    {
     "data": {
      "image/png": "[encoded data removed]",
      "text/plain": [
       "<Figure size 432x288 with 1 Axes>"
      ]
     },
     "metadata": {
      "needs_background": "light"
     },
     "output_type": "display_data"
    }
   ],
   "source": [
    "import numpy as np\n",
    "import matplotlib.pyplot\n",
    "%matplotlib inline\n",
    "\n",
    "X_train = np.arange(10).reshape((10,1))\n",
    "y_train = np.array([1.0, 1.3, 3.1, 2.0, 5.0, 6.3, 6.6, 7.4, 8.0, 9.0])\n",
    "\n",
    "X_train_norm = (X_train - np.mean(X_train))/np.std(X_train)\n",
    "\n",
    "plt.plot(X_train_norm, y_train, 'ro')\n",
    "plt.show()"
   ]
  },
  {
   "cell_type": "markdown",
   "metadata": {},
   "source": [
    "#### Specify and fit the model\n",
    "Linear regression only one ouput layer."
   ]
  },
  {
   "cell_type": "code",
   "execution_count": 17,
   "metadata": {},
   "outputs": [
    {
     "name": "stdout",
     "output_type": "stream",
     "text": [
      "Model: \"sequential\"\n",
      "_________________________________________________________________\n",
      "Layer (type)                 Output Shape              Param #   \n",
      "=================================================================\n",
      "coef (Dense)                 (None, 1)                 2         \n",
      "=================================================================\n",
      "Total params: 2\n",
      "Trainable params: 2\n",
      "Non-trainable params: 0\n",
      "_________________________________________________________________\n",
      "None\n",
      "Train on 10 samples\n",
      "Epoch 1/100\n",
      "10/10 [==============================] - 0s 18ms/sample - loss: 32.0158 - mae: 4.6012 - mse: 32.0158\n",
      "Epoch 2/100\n",
      "10/10 [==============================] - 0s 1ms/sample - loss: 21.3796 - mae: 3.7255 - mse: 21.3796\n",
      "Epoch 3/100\n",
      "10/10 [==============================] - 0s 872us/sample - loss: 14.3259 - mae: 3.0589 - mse: 14.3259\n",
      "Epoch 4/100\n",
      "10/10 [==============================] - 0s 908us/sample - loss: 9.6446 - mae: 2.5227 - mse: 9.6446\n",
      "Epoch 5/100\n",
      "10/10 [==============================] - 0s 898us/sample - loss: 6.5510 - mae: 2.0965 - mse: 6.5510\n",
      "Epoch 6/100\n",
      "10/10 [==============================] - 0s 908us/sample - loss: 4.4841 - mae: 1.7747 - mse: 4.4841\n",
      "Epoch 7/100\n",
      "10/10 [==============================] - 0s 907us/sample - loss: 3.1074 - mae: 1.5249 - mse: 3.1074\n",
      "Epoch 8/100\n",
      "10/10 [==============================] - 0s 906us/sample - loss: 2.1958 - mae: 1.3015 - mse: 2.1958\n",
      "Epoch 9/100\n",
      "10/10 [==============================] - 0s 916us/sample - loss: 1.5974 - mae: 1.1481 - mse: 1.5974\n",
      "Epoch 10/100\n",
      "10/10 [==============================] - 0s 877us/sample - loss: 1.2004 - mae: 1.0043 - mse: 1.2004\n",
      "Epoch 11/100\n",
      "10/10 [==============================] - 0s 900us/sample - loss: 0.9367 - mae: 0.8906 - mse: 0.9367\n",
      "Epoch 12/100\n",
      "10/10 [==============================] - 0s 882us/sample - loss: 0.7628 - mae: 0.7979 - mse: 0.7628\n",
      "Epoch 13/100\n",
      "10/10 [==============================] - 0s 862us/sample - loss: 0.6458 - mae: 0.7330 - mse: 0.6458\n",
      "Epoch 14/100\n",
      "10/10 [==============================] - 0s 885us/sample - loss: 0.5667 - mae: 0.6681 - mse: 0.5667\n",
      "Epoch 15/100\n",
      "10/10 [==============================] - 0s 954us/sample - loss: 0.5146 - mae: 0.6064 - mse: 0.5146\n",
      "Epoch 16/100\n",
      "10/10 [==============================] - 0s 881us/sample - loss: 0.4807 - mae: 0.5788 - mse: 0.4807\n",
      "Epoch 17/100\n",
      "10/10 [==============================] - 0s 865us/sample - loss: 0.4576 - mae: 0.5419 - mse: 0.4576\n",
      "Epoch 18/100\n",
      "10/10 [==============================] - 0s 901us/sample - loss: 0.4432 - mae: 0.5113 - mse: 0.4432\n",
      "Epoch 19/100\n",
      "10/10 [==============================] - 0s 871us/sample - loss: 0.4333 - mae: 0.5018 - mse: 0.4333\n",
      "Epoch 20/100\n",
      "10/10 [==============================] - 0s 850us/sample - loss: 0.4261 - mae: 0.4985 - mse: 0.4261\n",
      "Epoch 21/100\n",
      "10/10 [==============================] - 0s 896us/sample - loss: 0.4215 - mae: 0.4925 - mse: 0.4215\n",
      "Epoch 22/100\n",
      "10/10 [==============================] - 0s 924us/sample - loss: 0.4187 - mae: 0.4879 - mse: 0.4187\n",
      "Epoch 23/100\n",
      "10/10 [==============================] - 0s 908us/sample - loss: 0.4174 - mae: 0.4898 - mse: 0.4174\n",
      "Epoch 24/100\n",
      "10/10 [==============================] - 0s 966us/sample - loss: 0.4159 - mae: 0.4839 - mse: 0.4159\n",
      "Epoch 25/100\n",
      "10/10 [==============================] - 0s 886us/sample - loss: 0.4154 - mae: 0.4897 - mse: 0.4154\n",
      "Epoch 26/100\n",
      "10/10 [==============================] - 0s 868us/sample - loss: 0.4148 - mae: 0.4938 - mse: 0.4148\n",
      "Epoch 27/100\n",
      "10/10 [==============================] - 0s 944us/sample - loss: 0.4144 - mae: 0.4957 - mse: 0.4144\n",
      "Epoch 28/100\n",
      "10/10 [==============================] - 0s 871us/sample - loss: 0.4141 - mae: 0.4946 - mse: 0.4141\n",
      "Epoch 29/100\n",
      "10/10 [==============================] - 0s 1ms/sample - loss: 0.4139 - mae: 0.4838 - mse: 0.4139\n",
      "Epoch 30/100\n",
      "10/10 [==============================] - 0s 996us/sample - loss: 0.4139 - mae: 0.4894 - mse: 0.4139\n",
      "Epoch 31/100\n",
      "10/10 [==============================] - 0s 865us/sample - loss: 0.4137 - mae: 0.4895 - mse: 0.4137\n",
      "Epoch 32/100\n",
      "10/10 [==============================] - 0s 906us/sample - loss: 0.4134 - mae: 0.4857 - mse: 0.4134\n",
      "Epoch 33/100\n",
      "10/10 [==============================] - 0s 938us/sample - loss: 0.4138 - mae: 0.4866 - mse: 0.4138\n",
      "Epoch 34/100\n",
      "10/10 [==============================] - 0s 956us/sample - loss: 0.4139 - mae: 0.4951 - mse: 0.4139\n",
      "Epoch 35/100\n",
      "10/10 [==============================] - 0s 867us/sample - loss: 0.4135 - mae: 0.4833 - mse: 0.4135\n",
      "Epoch 36/100\n",
      "10/10 [==============================] - 0s 862us/sample - loss: 0.4136 - mae: 0.4813 - mse: 0.4136\n",
      "Epoch 37/100\n",
      "10/10 [==============================] - 0s 908us/sample - loss: 0.4139 - mae: 0.4982 - mse: 0.4139\n",
      "Epoch 38/100\n",
      "10/10 [==============================] - 0s 865us/sample - loss: 0.4138 - mae: 0.4927 - mse: 0.4138\n",
      "Epoch 39/100\n",
      "10/10 [==============================] - 0s 876us/sample - loss: 0.4137 - mae: 0.4835 - mse: 0.4137\n",
      "Epoch 40/100\n",
      "10/10 [==============================] - 0s 923us/sample - loss: 0.4138 - mae: 0.4863 - mse: 0.4138\n",
      "Epoch 41/100\n",
      "10/10 [==============================] - 0s 830us/sample - loss: 0.4136 - mae: 0.4842 - mse: 0.4136\n",
      "Epoch 42/100\n",
      "10/10 [==============================] - 0s 927us/sample - loss: 0.4137 - mae: 0.4841 - mse: 0.4137\n",
      "Epoch 43/100\n",
      "10/10 [==============================] - 0s 829us/sample - loss: 0.4137 - mae: 0.4958 - mse: 0.4137\n",
      "Epoch 44/100\n",
      "10/10 [==============================] - 0s 959us/sample - loss: 0.4135 - mae: 0.4950 - mse: 0.4135\n",
      "Epoch 45/100\n",
      "10/10 [==============================] - 0s 890us/sample - loss: 0.4135 - mae: 0.4836 - mse: 0.4135\n",
      "Epoch 46/100\n",
      "10/10 [==============================] - 0s 846us/sample - loss: 0.4138 - mae: 0.4902 - mse: 0.4138\n",
      "Epoch 47/100\n",
      "10/10 [==============================] - 0s 901us/sample - loss: 0.4136 - mae: 0.4889 - mse: 0.4136\n",
      "Epoch 48/100\n",
      "10/10 [==============================] - 0s 855us/sample - loss: 0.4138 - mae: 0.4938 - mse: 0.4138\n",
      "Epoch 49/100\n",
      "10/10 [==============================] - 0s 900us/sample - loss: 0.4137 - mae: 0.4824 - mse: 0.4137\n",
      "Epoch 50/100\n",
      "10/10 [==============================] - 0s 887us/sample - loss: 0.4134 - mae: 0.4826 - mse: 0.4134\n",
      "Epoch 51/100\n",
      "10/10 [==============================] - 0s 1ms/sample - loss: 0.4139 - mae: 0.4862 - mse: 0.4139\n",
      "Epoch 52/100\n",
      "10/10 [==============================] - 0s 956us/sample - loss: 0.4140 - mae: 0.4910 - mse: 0.4140\n",
      "Epoch 53/100\n",
      "10/10 [==============================] - 0s 853us/sample - loss: 0.4135 - mae: 0.4820 - mse: 0.4135\n",
      "Epoch 54/100\n",
      "10/10 [==============================] - 0s 952us/sample - loss: 0.4138 - mae: 0.4905 - mse: 0.4138\n",
      "Epoch 55/100\n",
      "10/10 [==============================] - 0s 882us/sample - loss: 0.4139 - mae: 0.4886 - mse: 0.4139\n",
      "Epoch 56/100\n",
      "10/10 [==============================] - 0s 972us/sample - loss: 0.4135 - mae: 0.4810 - mse: 0.4135\n",
      "Epoch 57/100\n",
      "10/10 [==============================] - 0s 961us/sample - loss: 0.4139 - mae: 0.4941 - mse: 0.4139\n",
      "Epoch 58/100\n",
      "10/10 [==============================] - 0s 858us/sample - loss: 0.4131 - mae: 0.4850 - mse: 0.4131\n",
      "Epoch 59/100\n",
      "10/10 [==============================] - 0s 991us/sample - loss: 0.4139 - mae: 0.4912 - mse: 0.4139\n",
      "Epoch 60/100\n",
      "10/10 [==============================] - 0s 903us/sample - loss: 0.4137 - mae: 0.4867 - mse: 0.4137\n",
      "Epoch 61/100\n",
      "10/10 [==============================] - 0s 951us/sample - loss: 0.4131 - mae: 0.4810 - mse: 0.4131\n",
      "Epoch 62/100\n",
      "10/10 [==============================] - 0s 1ms/sample - loss: 0.4139 - mae: 0.4915 - mse: 0.4139\n",
      "Epoch 63/100\n",
      "10/10 [==============================] - 0s 951us/sample - loss: 0.4137 - mae: 0.4884 - mse: 0.4137\n",
      "Epoch 64/100\n",
      "10/10 [==============================] - 0s 925us/sample - loss: 0.4138 - mae: 0.4890 - mse: 0.4138\n",
      "Epoch 65/100\n",
      "10/10 [==============================] - 0s 959us/sample - loss: 0.4138 - mae: 0.4916 - mse: 0.4138\n",
      "Epoch 66/100\n",
      "10/10 [==============================] - 0s 937us/sample - loss: 0.4136 - mae: 0.4865 - mse: 0.4136\n",
      "Epoch 67/100\n",
      "10/10 [==============================] - 0s 971us/sample - loss: 0.4137 - mae: 0.4970 - mse: 0.4137\n",
      "Epoch 68/100\n",
      "10/10 [==============================] - 0s 949us/sample - loss: 0.4140 - mae: 0.4922 - mse: 0.4140\n",
      "Epoch 69/100\n"
     ]
    },
    {
     "name": "stdout",
     "output_type": "stream",
     "text": [
      "10/10 [==============================] - 0s 930us/sample - loss: 0.4137 - mae: 0.4908 - mse: 0.4137\n",
      "Epoch 70/100\n",
      "10/10 [==============================] - 0s 958us/sample - loss: 0.4140 - mae: 0.4916 - mse: 0.4140\n",
      "Epoch 71/100\n",
      "10/10 [==============================] - 0s 971us/sample - loss: 0.4133 - mae: 0.4828 - mse: 0.4133\n",
      "Epoch 72/100\n",
      "10/10 [==============================] - 0s 918us/sample - loss: 0.4138 - mae: 0.4881 - mse: 0.4138\n",
      "Epoch 73/100\n",
      "10/10 [==============================] - 0s 937us/sample - loss: 0.4139 - mae: 0.4911 - mse: 0.4139\n",
      "Epoch 74/100\n",
      "10/10 [==============================] - 0s 965us/sample - loss: 0.4138 - mae: 0.4944 - mse: 0.4138\n",
      "Epoch 75/100\n",
      "10/10 [==============================] - 0s 912us/sample - loss: 0.4140 - mae: 0.4921 - mse: 0.4140\n",
      "Epoch 76/100\n",
      "10/10 [==============================] - 0s 879us/sample - loss: 0.4138 - mae: 0.4874 - mse: 0.4138\n",
      "Epoch 77/100\n",
      "10/10 [==============================] - 0s 928us/sample - loss: 0.4133 - mae: 0.4894 - mse: 0.4133\n",
      "Epoch 78/100\n",
      "10/10 [==============================] - 0s 908us/sample - loss: 0.4139 - mae: 0.4885 - mse: 0.4139\n",
      "Epoch 79/100\n",
      "10/10 [==============================] - 0s 871us/sample - loss: 0.4137 - mae: 0.4931 - mse: 0.4137\n",
      "Epoch 80/100\n",
      "10/10 [==============================] - 0s 914us/sample - loss: 0.4137 - mae: 0.4923 - mse: 0.4137\n",
      "Epoch 81/100\n",
      "10/10 [==============================] - 0s 979us/sample - loss: 0.4136 - mae: 0.4819 - mse: 0.4136\n",
      "Epoch 82/100\n",
      "10/10 [==============================] - 0s 908us/sample - loss: 0.4135 - mae: 0.4932 - mse: 0.4135\n",
      "Epoch 83/100\n",
      "10/10 [==============================] - 0s 974us/sample - loss: 0.4139 - mae: 0.4883 - mse: 0.4139\n",
      "Epoch 84/100\n",
      "10/10 [==============================] - 0s 978us/sample - loss: 0.4137 - mae: 0.4858 - mse: 0.4137\n",
      "Epoch 85/100\n",
      "10/10 [==============================] - 0s 1ms/sample - loss: 0.4140 - mae: 0.4880 - mse: 0.4140\n",
      "Epoch 86/100\n",
      "10/10 [==============================] - 0s 940us/sample - loss: 0.4134 - mae: 0.4930 - mse: 0.4134\n",
      "Epoch 87/100\n",
      "10/10 [==============================] - 0s 975us/sample - loss: 0.4138 - mae: 0.4881 - mse: 0.4138\n",
      "Epoch 88/100\n",
      "10/10 [==============================] - 0s 875us/sample - loss: 0.4138 - mae: 0.4851 - mse: 0.4138\n",
      "Epoch 89/100\n",
      "10/10 [==============================] - 0s 936us/sample - loss: 0.4139 - mae: 0.4873 - mse: 0.4139\n",
      "Epoch 90/100\n",
      "10/10 [==============================] - 0s 974us/sample - loss: 0.4134 - mae: 0.4920 - mse: 0.4134\n",
      "Epoch 91/100\n",
      "10/10 [==============================] - 0s 928us/sample - loss: 0.4135 - mae: 0.4950 - mse: 0.4135\n",
      "Epoch 92/100\n",
      "10/10 [==============================] - 0s 1ms/sample - loss: 0.4137 - mae: 0.4839 - mse: 0.4137\n",
      "Epoch 93/100\n",
      "10/10 [==============================] - 0s 924us/sample - loss: 0.4134 - mae: 0.4977 - mse: 0.4134\n",
      "Epoch 94/100\n",
      "10/10 [==============================] - 0s 975us/sample - loss: 0.4137 - mae: 0.4924 - mse: 0.4137\n",
      "Epoch 95/100\n",
      "10/10 [==============================] - 0s 945us/sample - loss: 0.4138 - mae: 0.4949 - mse: 0.4138\n",
      "Epoch 96/100\n",
      "10/10 [==============================] - 0s 862us/sample - loss: 0.4137 - mae: 0.4893 - mse: 0.4137\n",
      "Epoch 97/100\n",
      "10/10 [==============================] - 0s 980us/sample - loss: 0.4137 - mae: 0.4928 - mse: 0.4137\n",
      "Epoch 98/100\n",
      "10/10 [==============================] - 0s 838us/sample - loss: 0.4140 - mae: 0.4845 - mse: 0.4140\n",
      "Epoch 99/100\n",
      "10/10 [==============================] - 0s 1ms/sample - loss: 0.4133 - mae: 0.4981 - mse: 0.4133\n",
      "Epoch 100/100\n",
      "10/10 [==============================] - 0s 907us/sample - loss: 0.4140 - mae: 0.4919 - mse: 0.4140\n"
     ]
    },
    {
     "data": {
      "image/png": "[encoded data removed]",
      "text/plain": [
       "<Figure size 432x288 with 1 Axes>"
      ]
     },
     "metadata": {
      "needs_background": "light"
     },
     "output_type": "display_data"
    }
   ],
   "source": [
    "from tensorflow import keras\n",
    "from tensorflow.keras import layers\n",
    "\n",
    "lm = keras.Sequential(\n",
    "    [\n",
    "        layers.Dense(1, activation='linear', input_dim=1, name='coef')\n",
    "    ]\n",
    ")\n",
    "\n",
    "print(lm.summary())\n",
    "\n",
    "lm.compile(loss=\"mse\", optimizer=\"sgd\", metrics=['mae', 'mse'])\n",
    "\n",
    "lm.fit(X_train_norm, y_train, epochs=100, batch_size=1, verbose=1)\n",
    "\n",
    "plt.plot(X_train_norm, y_train, 'ro')\n",
    "plt.plot(X_train_norm, lm.predict(X_train_norm), 'b-')\n",
    "plt.xlabel('X')\n",
    "plt.ylabel('y')\n",
    "plt.legend(['Actual', 'Predicted'])\n",
    "plt.show()"
   ]
  },
  {
   "cell_type": "markdown",
   "metadata": {},
   "source": [
    "## Classification with MNIST\n",
    "#### Still using the MNIST data, but sourcing it from Keras, it is stored in a slightly different format, but its the same data as in the scikit-learn example."
   ]
  },
  {
   "cell_type": "code",
   "execution_count": 18,
   "metadata": {},
   "outputs": [],
   "source": [
    "import numpy as np\n",
    "from tensorflow import keras\n",
    "from tensorflow.keras import layers\n",
    "\n",
    "# Model / data parameters\n",
    "num_classes = 10\n",
    "input_shape = (28, 28, 1)\n",
    "# 28 x 28 = 784\n",
    "\n",
    "# the data, split between train and test sets\n",
    "(x_train, y_train), (x_test, y_test) = keras.datasets.mnist.load_data()"
   ]
  },
  {
   "cell_type": "code",
   "execution_count": 19,
   "metadata": {},
   "outputs": [
    {
     "name": "stdout",
     "output_type": "stream",
     "text": [
      "x_train shape: (60000, 28, 28, 1)\n",
      "60000 train samples\n",
      "10000 test samples\n"
     ]
    }
   ],
   "source": [
    "# Scale images to the [0, 1] range\n",
    "x_train = x_train.astype(\"float32\") / 255\n",
    "x_test = x_test.astype(\"float32\") / 255\n",
    "\n",
    "# Make sure images have shape (28, 28, 1)\n",
    "x_train = np.expand_dims(x_train, -1)\n",
    "x_test = np.expand_dims(x_test, -1)\n",
    "print(\"x_train shape:\", x_train.shape)\n",
    "print(x_train.shape[0], \"train samples\")\n",
    "print(x_test.shape[0], \"test samples\")\n",
    "\n",
    "# convert class vectors to binary class matrices\n",
    "y_train = keras.utils.to_categorical(y_train, num_classes)\n",
    "y_test = keras.utils.to_categorical(y_test, num_classes)"
   ]
  },
  {
   "cell_type": "markdown",
   "metadata": {},
   "source": [
    "### Single Layer (aka `Logistic Regression`)\n",
    "We will sequentially add layers to the model.  \n",
    "- Input layer specifies the incoming data, i.e., the pixels.  \n",
    "- The next layer specifies the layers, which includes the number of units and the activation function.  \n",
    "- The final layer is the output layer, which is a `softmax` activation function since this is a multiclass problem."
   ]
  },
  {
   "cell_type": "code",
   "execution_count": 20,
   "metadata": {},
   "outputs": [
    {
     "name": "stdout",
     "output_type": "stream",
     "text": [
      "Model: \"Logistic\"\n",
      "_________________________________________________________________\n",
      "Layer (type)                 Output Shape              Param #   \n",
      "=================================================================\n",
      "Flatten (Flatten)            (None, 784)               0         \n",
      "_________________________________________________________________\n",
      "Softmax (Dense)              (None, 10)                7850      \n",
      "=================================================================\n",
      "Total params: 7,850\n",
      "Trainable params: 7,850\n",
      "Non-trainable params: 0\n",
      "_________________________________________________________________\n"
     ]
    }
   ],
   "source": [
    "model = keras.Sequential(\n",
    "    [\n",
    "        keras.Input(shape=input_shape),\n",
    "        layers.Flatten(name='Flatten'),\n",
    "        layers.Dense(num_classes, activation=\"softmax\", name=\"Softmax\")\n",
    "    ], name='Logistic'\n",
    ")\n",
    "model.summary()"
   ]
  },
  {
   "cell_type": "code",
   "execution_count": 21,
   "metadata": {},
   "outputs": [
    {
     "name": "stdout",
     "output_type": "stream",
     "text": [
      "Train on 54000 samples, validate on 6000 samples\n",
      "Epoch 1/15\n",
      "54000/54000 [==============================] - 1s 12us/sample - loss: 0.7203 - accuracy: 0.8216 - val_loss: 0.3513 - val_accuracy: 0.9122\n",
      "Epoch 2/15\n",
      "54000/54000 [==============================] - 0s 8us/sample - loss: 0.3796 - accuracy: 0.8989 - val_loss: 0.2858 - val_accuracy: 0.9248\n",
      "Epoch 3/15\n",
      "54000/54000 [==============================] - 0s 8us/sample - loss: 0.3324 - accuracy: 0.9088 - val_loss: 0.2611 - val_accuracy: 0.9293\n",
      "Epoch 4/15\n",
      "54000/54000 [==============================] - 0s 8us/sample - loss: 0.3104 - accuracy: 0.9140 - val_loss: 0.2526 - val_accuracy: 0.9315\n",
      "Epoch 5/15\n",
      "54000/54000 [==============================] - 0s 8us/sample - loss: 0.2974 - accuracy: 0.9179 - val_loss: 0.2442 - val_accuracy: 0.9333\n",
      "Epoch 6/15\n",
      "54000/54000 [==============================] - 0s 8us/sample - loss: 0.2884 - accuracy: 0.9196 - val_loss: 0.2365 - val_accuracy: 0.9368\n",
      "Epoch 7/15\n",
      "54000/54000 [==============================] - 0s 8us/sample - loss: 0.2822 - accuracy: 0.9209 - val_loss: 0.2344 - val_accuracy: 0.9367\n",
      "Epoch 8/15\n",
      "54000/54000 [==============================] - 0s 8us/sample - loss: 0.2768 - accuracy: 0.9227 - val_loss: 0.2318 - val_accuracy: 0.9368\n",
      "Epoch 9/15\n",
      "54000/54000 [==============================] - 0s 8us/sample - loss: 0.2725 - accuracy: 0.9242 - val_loss: 0.2291 - val_accuracy: 0.9385\n",
      "Epoch 10/15\n",
      "54000/54000 [==============================] - 0s 8us/sample - loss: 0.2694 - accuracy: 0.9251 - val_loss: 0.2276 - val_accuracy: 0.9388\n",
      "Epoch 11/15\n",
      "54000/54000 [==============================] - 0s 8us/sample - loss: 0.2665 - accuracy: 0.9257 - val_loss: 0.2274 - val_accuracy: 0.9375\n",
      "Epoch 12/15\n",
      "54000/54000 [==============================] - 1s 9us/sample - loss: 0.2643 - accuracy: 0.9264 - val_loss: 0.2256 - val_accuracy: 0.9387\n",
      "Epoch 13/15\n",
      "54000/54000 [==============================] - 0s 8us/sample - loss: 0.2618 - accuracy: 0.9272 - val_loss: 0.2262 - val_accuracy: 0.9388\n",
      "Epoch 14/15\n",
      "54000/54000 [==============================] - 0s 8us/sample - loss: 0.2600 - accuracy: 0.9278 - val_loss: 0.2238 - val_accuracy: 0.9390\n",
      "Epoch 15/15\n",
      "54000/54000 [==============================] - 0s 8us/sample - loss: 0.2580 - accuracy: 0.9279 - val_loss: 0.2226 - val_accuracy: 0.9410\n"
     ]
    },
    {
     "data": {
      "text/plain": [
       "<tensorflow.python.keras.callbacks.History at 0x7fbd6e2339e8>"
      ]
     },
     "execution_count": 21,
     "metadata": {},
     "output_type": "execute_result"
    }
   ],
   "source": [
    "batch_size = 128\n",
    "epochs = 15\n",
    "\n",
    "model.compile(loss=\"categorical_crossentropy\", \n",
    "              optimizer=\"adam\", metrics=[\"accuracy\"])\n",
    "\n",
    "model.fit(x_train, y_train, \n",
    "          batch_size=batch_size, \n",
    "          epochs=epochs, validation_split=0.1)"
   ]
  },
  {
   "cell_type": "code",
   "execution_count": 22,
   "metadata": {},
   "outputs": [
    {
     "name": "stdout",
     "output_type": "stream",
     "text": [
      "Test loss: 0.2629490202844143\n",
      "Test accuracy: 0.928\n"
     ]
    }
   ],
   "source": [
    "score = model.evaluate(x_test, y_test, verbose=0)\n",
    "print(\"Test loss:\", score[0])\n",
    "print(\"Test accuracy:\", score[1])"
   ]
  },
  {
   "cell_type": "markdown",
   "metadata": {},
   "source": [
    "### Multiple Hidden Layers"
   ]
  },
  {
   "cell_type": "code",
   "execution_count": 23,
   "metadata": {},
   "outputs": [
    {
     "name": "stdout",
     "output_type": "stream",
     "text": [
      "Model: \"2_Hidden_Layers\"\n",
      "_________________________________________________________________\n",
      "Layer (type)                 Output Shape              Param #   \n",
      "=================================================================\n",
      "Flatten (Flatten)            (None, 784)               0         \n",
      "_________________________________________________________________\n",
      "Hidden (Dense)               (None, 50)                39250     \n",
      "_________________________________________________________________\n",
      "Second (Dense)               (None, 50)                2550      \n",
      "_________________________________________________________________\n",
      "Output (Dense)               (None, 10)                510       \n",
      "=================================================================\n",
      "Total params: 42,310\n",
      "Trainable params: 42,310\n",
      "Non-trainable params: 0\n",
      "_________________________________________________________________\n"
     ]
    }
   ],
   "source": [
    "model = keras.Sequential(\n",
    "    [\n",
    "        keras.Input(shape=input_shape),\n",
    "        layers.Flatten(name='Flatten'),\n",
    "        layers.Dense(50, activation=\"relu\", name=\"Hidden\"),\n",
    "        layers.Dense(50, activation=\"relu\", name=\"Second\"),\n",
    "        layers.Dense(num_classes, activation=\"softmax\", name='Output'),\n",
    "    ], name='2_Hidden_Layers'\n",
    ")\n",
    "model.summary()"
   ]
  },
  {
   "cell_type": "markdown",
   "metadata": {},
   "source": [
    "> `Need to learn 42,310 parameters!`\n",
    "\n",
    "Potential issues:\n",
    "- Vanishing gradients - they'll get smaller as the number of layers increase. May cause convergence issues.  \n",
    "- In rarer cases, the gradients may increase and explode towards infinity.  \n",
    "- Using ReLU makes these rarer; sigmoid is much more suspectible.  \n",
    "    - It is possible for ReLU to only output `0` and many of the neurons will `die`. Leaky ReLU, $\\phi(z)=max(\\alpha z, z)$ guards against this issue."
   ]
  },
  {
   "cell_type": "markdown",
   "metadata": {},
   "source": [
    "> Sometimes you will need to normalize the output of the layer prior to moving it into the next layer, which is called `batch normalization`. It zero-centers and normalizes the outputs.\n",
    "\n",
    "```python\n",
    "model = keras.Sequential(\n",
    "    [\n",
    "        keras.Input(shape=input_shape),\n",
    "        layers.Flatten(name='Flatten'),\n",
    "        layers.Dense(50, activation=\"relu\", name=\"Hidden\"),\n",
    "        layers.BatchNormalization(),\n",
    "        layers.Dense(50, activation=\"relu\", name=\"Second\"),\n",
    "        layers.BatchNormalization(),\n",
    "        layers.Dense(num_classes, activation=\"softmax\", name='Output'),\n",
    "    ], name='2-Hidden Layers'\n",
    ")\n",
    "```\n",
    "\n",
    "Unfortunately, `BatchNormalization` has additional hyperparameters."
   ]
  },
  {
   "cell_type": "code",
   "execution_count": 24,
   "metadata": {},
   "outputs": [
    {
     "name": "stdout",
     "output_type": "stream",
     "text": [
      "Train on 54000 samples, validate on 6000 samples\n",
      "Epoch 1/15\n",
      "54000/54000 [==============================] - 1s 14us/sample - loss: 0.4430 - accuracy: 0.8745 - val_loss: 0.1899 - val_accuracy: 0.9485\n",
      "Epoch 2/15\n",
      "54000/54000 [==============================] - 1s 9us/sample - loss: 0.2048 - accuracy: 0.9397 - val_loss: 0.1577 - val_accuracy: 0.9535\n",
      "Epoch 3/15\n",
      "54000/54000 [==============================] - 1s 9us/sample - loss: 0.1581 - accuracy: 0.9533 - val_loss: 0.1171 - val_accuracy: 0.9668\n",
      "Epoch 4/15\n",
      "54000/54000 [==============================] - 0s 9us/sample - loss: 0.1303 - accuracy: 0.9610 - val_loss: 0.1097 - val_accuracy: 0.9698\n",
      "Epoch 5/15\n",
      "54000/54000 [==============================] - 0s 9us/sample - loss: 0.1113 - accuracy: 0.9669 - val_loss: 0.1030 - val_accuracy: 0.9700\n",
      "Epoch 6/15\n",
      "54000/54000 [==============================] - 0s 9us/sample - loss: 0.0967 - accuracy: 0.9706 - val_loss: 0.0973 - val_accuracy: 0.9720\n",
      "Epoch 7/15\n",
      "54000/54000 [==============================] - 1s 9us/sample - loss: 0.0846 - accuracy: 0.9743 - val_loss: 0.0932 - val_accuracy: 0.9725\n",
      "Epoch 8/15\n",
      "54000/54000 [==============================] - 0s 9us/sample - loss: 0.0742 - accuracy: 0.9768 - val_loss: 0.0947 - val_accuracy: 0.9728\n",
      "Epoch 9/15\n",
      "54000/54000 [==============================] - 0s 9us/sample - loss: 0.0652 - accuracy: 0.9802 - val_loss: 0.0928 - val_accuracy: 0.9710\n",
      "Epoch 10/15\n",
      "54000/54000 [==============================] - 1s 10us/sample - loss: 0.0588 - accuracy: 0.9816 - val_loss: 0.0996 - val_accuracy: 0.9718\n",
      "Epoch 11/15\n",
      "54000/54000 [==============================] - 1s 9us/sample - loss: 0.0537 - accuracy: 0.9831 - val_loss: 0.0945 - val_accuracy: 0.9747\n",
      "Epoch 12/15\n",
      "54000/54000 [==============================] - 1s 10us/sample - loss: 0.0478 - accuracy: 0.9855 - val_loss: 0.0948 - val_accuracy: 0.9728\n",
      "Epoch 13/15\n",
      "54000/54000 [==============================] - 0s 9us/sample - loss: 0.0429 - accuracy: 0.9873 - val_loss: 0.1034 - val_accuracy: 0.9708\n",
      "Epoch 14/15\n",
      "54000/54000 [==============================] - 0s 9us/sample - loss: 0.0394 - accuracy: 0.9884 - val_loss: 0.1001 - val_accuracy: 0.9705\n",
      "Epoch 15/15\n",
      "54000/54000 [==============================] - 0s 9us/sample - loss: 0.0364 - accuracy: 0.9888 - val_loss: 0.1077 - val_accuracy: 0.9697\n"
     ]
    },
    {
     "data": {
      "text/plain": [
       "<tensorflow.python.keras.callbacks.History at 0x7fbd6e417940>"
      ]
     },
     "execution_count": 24,
     "metadata": {},
     "output_type": "execute_result"
    }
   ],
   "source": [
    "batch_size = 128\n",
    "epochs = 15\n",
    "\n",
    "model.compile(loss=\"categorical_crossentropy\", \n",
    "              optimizer=\"adam\", metrics=[\"accuracy\"])\n",
    "\n",
    "model.fit(x_train, y_train, \n",
    "          batch_size=batch_size, \n",
    "          epochs=epochs, validation_split=0.1)"
   ]
  },
  {
   "cell_type": "code",
   "execution_count": 25,
   "metadata": {},
   "outputs": [
    {
     "name": "stdout",
     "output_type": "stream",
     "text": [
      "Test loss: 0.10492288558410946\n",
      "Test accuracy: 0.9719\n"
     ]
    }
   ],
   "source": [
    "score = model.evaluate(x_test, y_test, verbose=0)\n",
    "print(\"Test loss:\", score[0])\n",
    "print(\"Test accuracy:\", score[1])"
   ]
  },
  {
   "cell_type": "markdown",
   "metadata": {},
   "source": [
    "> Tip: You can use scikit-learn's GridSearchCV to search for the hyperparameters. Keras also has a tuner, see link in Reading."
   ]
  },
  {
   "cell_type": "markdown",
   "metadata": {},
   "source": [
    "## Regularizing\n",
    "- Each layer has support for $l_2$ or $l_1$ regularization. See [the documentation](https://keras.io/api/layers/regularizers/).  \n",
    "- Can also use `dropout`, which means we will drop a neuron with probability $p$ during a training step.  \n",
    "    - Usually works better for earlier layers.  \n",
    "    - Like $l_1$ and $l_2$, try if the model is overfitting.\n",
    "  \n",
    "#### Before\n",
    "<img src='files/diagrams/holdout-before.png'>\n",
    "\n",
    "#### After\n",
    "<img src='files/diagrams/holdout-after.png'>\n",
    "\n",
    "\n",
    "Example code:\n",
    "```python\n",
    "    keras.layers.Dropout(rate=0.2)\n",
    "```\n",
    "\n",
    "- If `dropout` after each layer is causing underfitting, try using with last layer only.  "
   ]
  },
  {
   "cell_type": "markdown",
   "metadata": {},
   "source": [
    "## Additional Types of Advanced Neural Networks\n",
    "- [Convolutional Networks](https://www.ibm.com/cloud/learn/convolutional-neural-networks)  \n",
    "- [Autoencoders](https://en.wikipedia.org/wiki/Autoencoder)  \n",
    "- [Recurrent Neural Networks](https://en.wikipedia.org/wiki/Recurrent_neural_network)  \n",
    "- [Generative Adversarial Networks](https://en.wikipedia.org/wiki/Generative_adversarial_network)  "
   ]
  },
  {
   "cell_type": "markdown",
   "metadata": {},
   "source": [
    "### Convolutional Networks\n",
    "- Common in image processing.  \n",
    "- Deep networks of traditional hidden units grow $(size_{l-1}+1)size_l$ parameters, e.g., adding 1,000-unit layer to an existing NN will add more than 1,000,000 parameters. That would be challenging to solve computationally.  \n",
    "- Way to isolate particular parts of the image, e.g., which section has the cat, which section of the cat has the tail, ....  \n",
    "- With images, most nieghboring pixels represent the same thing, e.g., the individual blue pixels in the sky.  \n",
    "- The edges of the objects, e.g., blue sky and white clouds, will generally be the only parts of the image with different neighbors.  \n",
    "- Convolutional networks are looking to identify these areas of similar information and the edges.\n",
    "- Can be viewed as feature extractors, e.g., edges and blobs of images.  \n",
    "- For color images, generally use 3 versions of the image, one in each of the primary color scales (RGB).  \n",
    "\n",
    "<img src='files/diagrams/architecture-cnn-en.jpeg' style='height: 500 px'>\n",
    "\n",
    "[Image Source: Stanford CS230 Convolutional Neural Networks cheatsheet](https://stanford.edu/~shervine/teaching/cs-230/cheatsheet-convolutional-neural-networks)\n",
    "\n",
    "- [Convolutional layers](https://keras.io/api/layers/convolution_layers/convolution2d/) detect features by moving across the images in squares and multiplying them against a filter; think of it as scanning the image and \"summarizing\" the blocks.  \n",
    "- The filter is specified in the convolution layers, and the matrix of weights are learned. These individual filters are concatonated into a kernel (i.e., matrix of weights).    \n",
    "- Then it (usually) pools these scans, usually by taking the average or maximum - these aren't learnable, they just summarize the convolutional layers."
   ]
  },
  {
   "cell_type": "code",
   "execution_count": 26,
   "metadata": {},
   "outputs": [
    {
     "name": "stdout",
     "output_type": "stream",
     "text": [
      "Model: \"Convolutional\"\n",
      "_________________________________________________________________\n",
      "Layer (type)                 Output Shape              Param #   \n",
      "=================================================================\n",
      "conv2d (Conv2D)              (None, 26, 26, 32)        320       \n",
      "_________________________________________________________________\n",
      "max_pooling2d (MaxPooling2D) (None, 13, 13, 32)        0         \n",
      "_________________________________________________________________\n",
      "conv2d_1 (Conv2D)            (None, 11, 11, 64)        18496     \n",
      "_________________________________________________________________\n",
      "max_pooling2d_1 (MaxPooling2 (None, 5, 5, 64)          0         \n",
      "_________________________________________________________________\n",
      "flatten (Flatten)            (None, 1600)              0         \n",
      "_________________________________________________________________\n",
      "dropout (Dropout)            (None, 1600)              0         \n",
      "_________________________________________________________________\n",
      "dense (Dense)                (None, 10)                16010     \n",
      "=================================================================\n",
      "Total params: 34,826\n",
      "Trainable params: 34,826\n",
      "Non-trainable params: 0\n",
      "_________________________________________________________________\n"
     ]
    }
   ],
   "source": [
    "model = keras.Sequential(\n",
    "    [\n",
    "        keras.Input(shape=input_shape),\n",
    "        layers.Conv2D(32, kernel_size=(3, 3), activation=\"relu\"),\n",
    "        layers.MaxPooling2D(pool_size=(2, 2)),\n",
    "        layers.Conv2D(64, kernel_size=(3, 3), activation=\"relu\"),\n",
    "        layers.MaxPooling2D(pool_size=(2, 2)),\n",
    "        layers.Flatten(),\n",
    "        layers.Dropout(0.5),\n",
    "        layers.Dense(num_classes, activation=\"softmax\"),\n",
    "    ], name= 'Convolutional'\n",
    ")\n",
    "\n",
    "model.summary()"
   ]
  },
  {
   "cell_type": "markdown",
   "metadata": {},
   "source": [
    "> Note the difference in the number of parameters the model needs to learn\n",
    "- 34,826 for the Convolutional despite several more layers than the deep MLP.  \n",
    "- 42,000 for the network with two hidden 50-unit layers.  "
   ]
  },
  {
   "cell_type": "code",
   "execution_count": 27,
   "metadata": {},
   "outputs": [
    {
     "name": "stdout",
     "output_type": "stream",
     "text": [
      "Train on 54000 samples, validate on 6000 samples\n",
      "Epoch 1/15\n",
      "54000/54000 [==============================] - 14s 258us/sample - loss: 0.3682 - accuracy: 0.8871 - val_loss: 0.0811 - val_accuracy: 0.9775\n",
      "Epoch 2/15\n",
      "54000/54000 [==============================] - 14s 256us/sample - loss: 0.1127 - accuracy: 0.9654 - val_loss: 0.0578 - val_accuracy: 0.9848\n",
      "Epoch 3/15\n",
      "54000/54000 [==============================] - 13s 247us/sample - loss: 0.0854 - accuracy: 0.9735 - val_loss: 0.0487 - val_accuracy: 0.9872\n",
      "Epoch 4/15\n",
      "54000/54000 [==============================] - 13s 248us/sample - loss: 0.0719 - accuracy: 0.9776 - val_loss: 0.0410 - val_accuracy: 0.9885\n",
      "Epoch 5/15\n",
      "54000/54000 [==============================] - 13s 246us/sample - loss: 0.0631 - accuracy: 0.9802 - val_loss: 0.0387 - val_accuracy: 0.9892\n",
      "Epoch 6/15\n",
      "54000/54000 [==============================] - 13s 248us/sample - loss: 0.0565 - accuracy: 0.9821 - val_loss: 0.0380 - val_accuracy: 0.9892\n",
      "Epoch 7/15\n",
      "54000/54000 [==============================] - 13s 243us/sample - loss: 0.0513 - accuracy: 0.9840 - val_loss: 0.0382 - val_accuracy: 0.9897\n",
      "Epoch 8/15\n",
      "54000/54000 [==============================] - 14s 250us/sample - loss: 0.0481 - accuracy: 0.9846 - val_loss: 0.0336 - val_accuracy: 0.9898\n",
      "Epoch 9/15\n",
      "54000/54000 [==============================] - 14s 259us/sample - loss: 0.0452 - accuracy: 0.9856 - val_loss: 0.0327 - val_accuracy: 0.9917\n",
      "Epoch 10/15\n",
      "54000/54000 [==============================] - 14s 268us/sample - loss: 0.0412 - accuracy: 0.9869 - val_loss: 0.0319 - val_accuracy: 0.9912\n",
      "Epoch 11/15\n",
      "54000/54000 [==============================] - 14s 266us/sample - loss: 0.0394 - accuracy: 0.9875 - val_loss: 0.0354 - val_accuracy: 0.9907\n",
      "Epoch 12/15\n",
      "54000/54000 [==============================] - 14s 260us/sample - loss: 0.0382 - accuracy: 0.9876 - val_loss: 0.0324 - val_accuracy: 0.9907\n",
      "Epoch 13/15\n",
      "54000/54000 [==============================] - 14s 259us/sample - loss: 0.0361 - accuracy: 0.9882 - val_loss: 0.0279 - val_accuracy: 0.9925\n",
      "Epoch 14/15\n",
      "54000/54000 [==============================] - 14s 260us/sample - loss: 0.0346 - accuracy: 0.9885 - val_loss: 0.0283 - val_accuracy: 0.9917\n",
      "Epoch 15/15\n",
      "54000/54000 [==============================] - 14s 258us/sample - loss: 0.0338 - accuracy: 0.9894 - val_loss: 0.0269 - val_accuracy: 0.9932\n"
     ]
    },
    {
     "data": {
      "text/plain": [
       "<tensorflow.python.keras.callbacks.History at 0x7fbd6e613b00>"
      ]
     },
     "execution_count": 27,
     "metadata": {},
     "output_type": "execute_result"
    }
   ],
   "source": [
    "batch_size = 128\n",
    "epochs = 15\n",
    "\n",
    "model.compile(loss=\"categorical_crossentropy\", \n",
    "              optimizer=\"adam\", metrics=[\"accuracy\"])\n",
    "\n",
    "model.fit(x_train, y_train, \n",
    "          batch_size=batch_size, \n",
    "          epochs=epochs, validation_split=0.1)"
   ]
  },
  {
   "cell_type": "code",
   "execution_count": 28,
   "metadata": {},
   "outputs": [
    {
     "name": "stdout",
     "output_type": "stream",
     "text": [
      "Test loss: 0.025271179190796102\n",
      "Test accuracy: 0.9914\n"
     ]
    }
   ],
   "source": [
    "score = model.evaluate(x_test, y_test, verbose=0)\n",
    "print(\"Test loss:\", score[0])\n",
    "print(\"Test accuracy:\", score[1])"
   ]
  },
  {
   "cell_type": "markdown",
   "metadata": {},
   "source": [
    "> Superior performance versus other ANNs we've tried on the MNIST data."
   ]
  },
  {
   "cell_type": "markdown",
   "metadata": {},
   "source": [
    "## Padding and Strides - Additional Convolutional Hyperparameters\n",
    "\n",
    "Padding will pad zeroes around the raw the area where the filter is being applied. This can help define the boundaries between shapes/objects. This also gives the chance for each pixel to be at the center when the filter is being applied and help with feature detection in those areas of the image.\n",
    "\n",
    "<img src='files/diagrams/padding.png'>\n",
    "\n",
    "[Source: Hundred Page Machine Learning Book](https://www.dropbox.com/s/uh48e6wjs4w13t5/Chapter6.pdf?dl=0)\n",
    "\n",
    "Stride is how much the window moves as it \"scans\" the image. A larger stride will decrease the size of the output and create a similar representation and can be used for compression. Generally, strides are down symmetrically.\n",
    "\n",
    "<img src='files/diagrams/strides.png'>\n",
    "\n",
    "Keras has options for both of these hyperparameters. [See the documentation for the Conv2D layer](https://keras.io/api/layers/convolution_layers/convolution2d/). Padding is implemented in its own layer, [see the documentation for it](https://keras.io/api/layers/reshaping_layers/zero_padding2d/). "
   ]
  },
  {
   "cell_type": "markdown",
   "metadata": {},
   "source": [
    "## Additional Neural Networks\n",
    "- [Recurrent Neural Networks - Time series and language sequences](https://en.wikipedia.org/wiki/Recurrent_neural_network)  \n",
    "- [Graph Neural Networks](https://arxiv.org/pdf/1812.08434.pdf)  \n",
    "- [Autoencoders](https://en.wikipedia.org/wiki/Autoencoder)  \n",
    "- [Generative Adversarial Networks](https://en.wikipedia.org/wiki/Generative_adversarial_network)"
   ]
  },
  {
   "cell_type": "markdown",
   "metadata": {},
   "source": [
    "# Reading and Resources \n",
    "- [Origins of Deep Learning](https://arxiv.org/pdf/1702.07800.pdf)  \n",
    "- [Andrew Ng - What is a Neural Network?](https://www.youtube.com/watch?v=n1l-9lIMW7E&list=PLkDaE6sCZn6Ec-XTbcX1uRg2_u4xOEky0&index=3)  \n",
    "- [TensorFlow Clothing Classification](https://www.tensorflow.org/tutorials/keras/classification)  \n",
    "- [TensorFlow Playground](https://playground.tensorflow.org/#activation=tanh&batchSize=10&dataset=xor&regDataset=reg-plane&learningRate=0.03&regularizationRate=0&noise=0&networkShape=7,7,7,7,7&seed=0.02892&showTestData=true&discretize=false&percTrainData=50&x=true&y=true&xTimesY=false&xSquared=true&ySquared=true&cosX=false&sinX=false&cosY=false&sinY=false&collectStats=false&problem=classification&initZero=false&hideText=false&problem_hide=false&batchSize_hide=false&percTrainData_hide=false&numHiddenLayers_hide=false&playButton_hide=false&learningRate_hide=false&regularizationRate_hide=true&regularization_hide=true)  \n",
    "- [MIT Introduction to Deep Learning](http://introtodeeplearning.com/slides/6S191_MIT_DeepLearning_L1.pdf)  \n",
    "- [TensorFlow Data Pipelines](https://www.tensorflow.org/guide/data)  \n",
    "- [Convolutional NN Example](https://www.tensorflow.org/tutorials/images/cnn)  \n",
    "- [Stanford CS 230 on Convolutional Neural Networks](https://stanford.edu/~shervine/teaching/cs-230/cheatsheet-convolutional-neural-networks)\n",
    "- [DeepLearning AI Videos](https://www.youtube.com/channel/UCcIXc5mJsHVYTZR1maL5l9w)  \n",
    "- [Grid Search in Keras](https://keras.io/guides/keras_tuner/getting_started/)  \n",
    "- [Forecasting Principles and Practice, Hyndman, Neural Network Models](https://otexts.com/fpp3/nnetar.html)  \n",
    "- [IBM - What are Recurrent Neural Networks?](https://www.ibm.com/cloud/learn/recurrent-neural-networks)"
   ]
  },
  {
   "cell_type": "code",
   "execution_count": null,
   "metadata": {},
   "outputs": [],
   "source": []
  }
 ],
 "metadata": {
  "kernelspec": {
   "display_name": "Python 3.7.3 64-bit ('base': conda)",
   "language": "python",
   "name": "python37364bitbaseconda3e66817595a24f3b851fad3315f1c145"
  },
  "language_info": {
   "codemirror_mode": {
    "name": "ipython",
    "version": 3
   },
   "file_extension": ".py",
   "mimetype": "text/x-python",
   "name": "python",
   "nbconvert_exporter": "python",
   "pygments_lexer": "ipython3",
   "version": "3.7.3"
  }
 },
 "nbformat": 4,
 "nbformat_minor": 4
}
