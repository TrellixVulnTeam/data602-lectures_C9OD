{
 "cells": [
  {
   "cell_type": "code",
   "execution_count": 15,
   "metadata": {},
   "outputs": [],
   "source": [
    "import pandas as pd\n",
    "import numpy as np\n",
    "import matplotlib.pyplot as plt\n",
    "%matplotlib inline\n",
    "import seaborn as sns\n",
    "\n",
    "df = pd.read_csv('data/who.csv')"
   ]
  },
  {
   "cell_type": "code",
   "execution_count": 16,
   "metadata": {},
   "outputs": [
    {
     "name": "stdout",
     "output_type": "stream",
     "text": [
      "<class 'pandas.core.frame.DataFrame'>\n",
      "RangeIndex: 7240 entries, 0 to 7239\n",
      "Data columns (total 58 columns):\n",
      " #   Column        Non-Null Count  Dtype  \n",
      "---  ------        --------------  -----  \n",
      " 0   country       7240 non-null   object \n",
      " 1   year          7240 non-null   int64  \n",
      " 2   new_sp_m014   3173 non-null   float64\n",
      " 3   new_sp_m1524  3209 non-null   float64\n",
      " 4   new_sp_m2534  3206 non-null   float64\n",
      " 5   new_sp_m3544  3219 non-null   float64\n",
      " 6   new_sp_m4554  3223 non-null   float64\n",
      " 7   new_sp_m5564  3218 non-null   float64\n",
      " 8   new_sp_m65    3209 non-null   float64\n",
      " 9   new_sp_f014   3174 non-null   float64\n",
      " 10  new_sp_f1524  3194 non-null   float64\n",
      " 11  new_sp_f2534  3200 non-null   float64\n",
      " 12  new_sp_f3544  3199 non-null   float64\n",
      " 13  new_sp_f4554  3204 non-null   float64\n",
      " 14  new_sp_f5564  3195 non-null   float64\n",
      " 15  new_sp_f65    3197 non-null   float64\n",
      " 16  new_sn_m014   1045 non-null   float64\n",
      " 17  new_sn_m1524  1030 non-null   float64\n",
      " 18  new_sn_m2534  1022 non-null   float64\n",
      " 19  new_sn_m3544  1025 non-null   float64\n",
      " 20  new_sn_m4554  1027 non-null   float64\n",
      " 21  new_sn_m5564  1021 non-null   float64\n",
      " 22  new_sn_m65    1020 non-null   float64\n",
      " 23  new_sn_f014   1040 non-null   float64\n",
      " 24  new_sn_f1524  1022 non-null   float64\n",
      " 25  new_sn_f2534  1016 non-null   float64\n",
      " 26  new_sn_f3544  1020 non-null   float64\n",
      " 27  new_sn_f4554  1018 non-null   float64\n",
      " 28  new_sn_f5564  1017 non-null   float64\n",
      " 29  new_sn_f65    1019 non-null   float64\n",
      " 30  new_ep_m014   1038 non-null   float64\n",
      " 31  new_ep_m1524  1026 non-null   float64\n",
      " 32  new_ep_m2534  1020 non-null   float64\n",
      " 33  new_ep_m3544  1024 non-null   float64\n",
      " 34  new_ep_m4554  1020 non-null   float64\n",
      " 35  new_ep_m5564  1015 non-null   float64\n",
      " 36  new_ep_m65    1018 non-null   float64\n",
      " 37  new_ep_f014   1032 non-null   float64\n",
      " 38  new_ep_f1524  1021 non-null   float64\n",
      " 39  new_ep_f2534  1021 non-null   float64\n",
      " 40  new_ep_f3544  1021 non-null   float64\n",
      " 41  new_ep_f4554  1017 non-null   float64\n",
      " 42  new_ep_f5564  1017 non-null   float64\n",
      " 43  new_ep_f65    1014 non-null   float64\n",
      " 44  newrel_m014   190 non-null    float64\n",
      " 45  newrel_m1524  182 non-null    float64\n",
      " 46  newrel_m2534  183 non-null    float64\n",
      " 47  newrel_m3544  184 non-null    float64\n",
      " 48  newrel_m4554  184 non-null    float64\n",
      " 49  newrel_m5564  185 non-null    float64\n",
      " 50  newrel_m65    182 non-null    float64\n",
      " 51  newrel_f014   190 non-null    float64\n",
      " 52  newrel_f1524  184 non-null    float64\n",
      " 53  newrel_f2534  182 non-null    float64\n",
      " 54  newrel_f3544  183 non-null    float64\n",
      " 55  newrel_f4554  183 non-null    float64\n",
      " 56  newrel_f5564  183 non-null    float64\n",
      " 57  newrel_f65    185 non-null    float64\n",
      "dtypes: float64(56), int64(1), object(1)\n",
      "memory usage: 3.2+ MB\n"
     ]
    }
   ],
   "source": [
    "df = df.drop(columns=['iso2', 'iso3'])\n",
    "df.info()"
   ]
  },
  {
   "cell_type": "markdown",
   "metadata": {},
   "source": [
    "#### Question 1. We need to know what's included in this data.\n",
    "- How many countries are present?  \n",
    "- What's the timespan of the data?  \n",
    "- Does each country have a row for every year present?  \n",
    "- Which countries are missing years?  \n",
    "- How many rows have at least 1 non-null values across the columns 3-57?"
   ]
  },
  {
   "cell_type": "code",
   "execution_count": 17,
   "metadata": {},
   "outputs": [
    {
     "name": "stdout",
     "output_type": "stream",
     "text": [
      "Number of countries: 219\n"
     ]
    }
   ],
   "source": [
    "countries = len(set(df['country']))\n",
    "print(f'Number of countries: {countries}')"
   ]
  },
  {
   "cell_type": "code",
   "execution_count": 18,
   "metadata": {},
   "outputs": [
    {
     "data": {
      "image/png": "[encoded data removed]",
      "text/plain": [
       "<Figure size 432x288 with 1 Axes>"
      ]
     },
     "metadata": {
      "needs_background": "light"
     },
     "output_type": "display_data"
    }
   ],
   "source": [
    "df.year.value_counts().sort_index().plot.bar()\n",
    "plt.show()"
   ]
  },
  {
   "cell_type": "code",
   "execution_count": 19,
   "metadata": {},
   "outputs": [
    {
     "data": {
      "image/png": "[encoded data removed]",
      "text/plain": [
       "<Figure size 432x288 with 1 Axes>"
      ]
     },
     "metadata": {
      "needs_background": "light"
     },
     "output_type": "display_data"
    },
    {
     "name": "stdout",
     "output_type": "stream",
     "text": [
      "Country List:\n"
     ]
    },
    {
     "data": {
      "text/plain": [
       "Netherlands Antilles                 30\n",
       "Serbia & Montenegro                  25\n",
       "Timor-Leste                          12\n",
       "Montenegro                            9\n",
       "Serbia                                9\n",
       "Sint Maarten (Dutch part)             4\n",
       "Bonaire, Saint Eustatius and Saba     4\n",
       "Curacao                               4\n",
       "South Sudan                           3\n",
       "Name: country, dtype: int64"
      ]
     },
     "execution_count": 19,
     "metadata": {},
     "output_type": "execute_result"
    }
   ],
   "source": [
    "df['country'].value_counts().hist(bins=10)\n",
    "plt.show()\n",
    "\n",
    "print('Country List:')\n",
    "x = df['country'].value_counts()\n",
    "x[x<x.max()]"
   ]
  },
  {
   "cell_type": "code",
   "execution_count": 20,
   "metadata": {},
   "outputs": [
    {
     "name": "stdout",
     "output_type": "stream",
     "text": [
      "Rows with at all null: 3,756\n"
     ]
    }
   ],
   "source": [
    "nullCount = df.iloc[:, 3:df.shape[1]].isnull().min(axis=1).sum()\n",
    "print(f'Rows with at all null: {nullCount:,}')"
   ]
  },
  {
   "cell_type": "markdown",
   "metadata": {},
   "source": [
    "#### Question 2: Wide data isn't usually helpful.\n",
    "Convert this to a long format with the following columns:  \n",
    "1. country  \n",
    "2. year  \n",
    "3. diagnosis method: mapping should be: \n",
    "\n",
    "  {'newsp':'Pulmonary Smear (+)'\n",
    "  ,'newsn':'Pulmonary Smear (-)'\n",
    "  ,'newep':'Extrapulmonary'\n",
    "  ,'newrel':'Relapse'}   \n",
    "  \n",
    "\n",
    "4. gender: male or female.   \n",
    "5. age: lower_age - higher_age, e.g., 0-14  \n",
    "6. number of cases  "
   ]
  },
  {
   "cell_type": "code",
   "execution_count": 21,
   "metadata": {},
   "outputs": [
    {
     "data": {
      "text/html": [
       "<div>\n",
       "<style scoped>\n",
       "    .dataframe tbody tr th:only-of-type {\n",
       "        vertical-align: middle;\n",
       "    }\n",
       "\n",
       "    .dataframe tbody tr th {\n",
       "        vertical-align: top;\n",
       "    }\n",
       "\n",
       "    .dataframe thead th {\n",
       "        text-align: right;\n",
       "    }\n",
       "</style>\n",
       "<table border=\"1\" class=\"dataframe\">\n",
       "  <thead>\n",
       "    <tr style=\"text-align: right;\">\n",
       "      <th></th>\n",
       "      <th>country</th>\n",
       "      <th>year</th>\n",
       "      <th>variable</th>\n",
       "      <th>value</th>\n",
       "    </tr>\n",
       "  </thead>\n",
       "  <tbody>\n",
       "    <tr>\n",
       "      <th>0</th>\n",
       "      <td>Afghanistan</td>\n",
       "      <td>1980</td>\n",
       "      <td>new_sp_m014</td>\n",
       "      <td>NaN</td>\n",
       "    </tr>\n",
       "    <tr>\n",
       "      <th>1</th>\n",
       "      <td>Afghanistan</td>\n",
       "      <td>1981</td>\n",
       "      <td>new_sp_m014</td>\n",
       "      <td>NaN</td>\n",
       "    </tr>\n",
       "    <tr>\n",
       "      <th>2</th>\n",
       "      <td>Afghanistan</td>\n",
       "      <td>1982</td>\n",
       "      <td>new_sp_m014</td>\n",
       "      <td>NaN</td>\n",
       "    </tr>\n",
       "    <tr>\n",
       "      <th>3</th>\n",
       "      <td>Afghanistan</td>\n",
       "      <td>1983</td>\n",
       "      <td>new_sp_m014</td>\n",
       "      <td>NaN</td>\n",
       "    </tr>\n",
       "    <tr>\n",
       "      <th>4</th>\n",
       "      <td>Afghanistan</td>\n",
       "      <td>1984</td>\n",
       "      <td>new_sp_m014</td>\n",
       "      <td>NaN</td>\n",
       "    </tr>\n",
       "  </tbody>\n",
       "</table>\n",
       "</div>"
      ],
      "text/plain": [
       "       country  year     variable  value\n",
       "0  Afghanistan  1980  new_sp_m014    NaN\n",
       "1  Afghanistan  1981  new_sp_m014    NaN\n",
       "2  Afghanistan  1982  new_sp_m014    NaN\n",
       "3  Afghanistan  1983  new_sp_m014    NaN\n",
       "4  Afghanistan  1984  new_sp_m014    NaN"
      ]
     },
     "execution_count": 21,
     "metadata": {},
     "output_type": "execute_result"
    }
   ],
   "source": [
    "meltDf = (\n",
    "    df.melt(id_vars=['country','year'])\n",
    ")\n",
    "\n",
    "meltDf.head()"
   ]
  },
  {
   "cell_type": "code",
   "execution_count": 22,
   "metadata": {},
   "outputs": [
    {
     "data": {
      "text/plain": [
       "(405440, 4)"
      ]
     },
     "execution_count": 22,
     "metadata": {},
     "output_type": "execute_result"
    }
   ],
   "source": [
    "meltDf.shape"
   ]
  },
  {
   "cell_type": "markdown",
   "metadata": {},
   "source": [
    "Parse newly reformatted data to extract the method, gender, and age groups"
   ]
  },
  {
   "cell_type": "code",
   "execution_count": 23,
   "metadata": {},
   "outputs": [
    {
     "data": {
      "text/html": [
       "<div>\n",
       "<style scoped>\n",
       "    .dataframe tbody tr th:only-of-type {\n",
       "        vertical-align: middle;\n",
       "    }\n",
       "\n",
       "    .dataframe tbody tr th {\n",
       "        vertical-align: top;\n",
       "    }\n",
       "\n",
       "    .dataframe thead th {\n",
       "        text-align: right;\n",
       "    }\n",
       "</style>\n",
       "<table border=\"1\" class=\"dataframe\">\n",
       "  <thead>\n",
       "    <tr style=\"text-align: right;\">\n",
       "      <th></th>\n",
       "      <th>country</th>\n",
       "      <th>year</th>\n",
       "      <th>variable</th>\n",
       "      <th>value</th>\n",
       "      <th>varList</th>\n",
       "      <th>var12</th>\n",
       "      <th>genderAge</th>\n",
       "      <th>ageStr</th>\n",
       "      <th>diagnosis_method</th>\n",
       "      <th>gender</th>\n",
       "      <th>age</th>\n",
       "    </tr>\n",
       "  </thead>\n",
       "  <tbody>\n",
       "    <tr>\n",
       "      <th>0</th>\n",
       "      <td>Afghanistan</td>\n",
       "      <td>1980</td>\n",
       "      <td>new_sp_m014</td>\n",
       "      <td>NaN</td>\n",
       "      <td>[new, sp, m014]</td>\n",
       "      <td>newsp</td>\n",
       "      <td>m014</td>\n",
       "      <td>014</td>\n",
       "      <td>Pulmonary Smear (+)</td>\n",
       "      <td>Male</td>\n",
       "      <td>0-14</td>\n",
       "    </tr>\n",
       "    <tr>\n",
       "      <th>1</th>\n",
       "      <td>Afghanistan</td>\n",
       "      <td>1981</td>\n",
       "      <td>new_sp_m014</td>\n",
       "      <td>NaN</td>\n",
       "      <td>[new, sp, m014]</td>\n",
       "      <td>newsp</td>\n",
       "      <td>m014</td>\n",
       "      <td>014</td>\n",
       "      <td>Pulmonary Smear (+)</td>\n",
       "      <td>Male</td>\n",
       "      <td>0-14</td>\n",
       "    </tr>\n",
       "    <tr>\n",
       "      <th>2</th>\n",
       "      <td>Afghanistan</td>\n",
       "      <td>1982</td>\n",
       "      <td>new_sp_m014</td>\n",
       "      <td>NaN</td>\n",
       "      <td>[new, sp, m014]</td>\n",
       "      <td>newsp</td>\n",
       "      <td>m014</td>\n",
       "      <td>014</td>\n",
       "      <td>Pulmonary Smear (+)</td>\n",
       "      <td>Male</td>\n",
       "      <td>0-14</td>\n",
       "    </tr>\n",
       "    <tr>\n",
       "      <th>3</th>\n",
       "      <td>Afghanistan</td>\n",
       "      <td>1983</td>\n",
       "      <td>new_sp_m014</td>\n",
       "      <td>NaN</td>\n",
       "      <td>[new, sp, m014]</td>\n",
       "      <td>newsp</td>\n",
       "      <td>m014</td>\n",
       "      <td>014</td>\n",
       "      <td>Pulmonary Smear (+)</td>\n",
       "      <td>Male</td>\n",
       "      <td>0-14</td>\n",
       "    </tr>\n",
       "    <tr>\n",
       "      <th>4</th>\n",
       "      <td>Afghanistan</td>\n",
       "      <td>1984</td>\n",
       "      <td>new_sp_m014</td>\n",
       "      <td>NaN</td>\n",
       "      <td>[new, sp, m014]</td>\n",
       "      <td>newsp</td>\n",
       "      <td>m014</td>\n",
       "      <td>014</td>\n",
       "      <td>Pulmonary Smear (+)</td>\n",
       "      <td>Male</td>\n",
       "      <td>0-14</td>\n",
       "    </tr>\n",
       "  </tbody>\n",
       "</table>\n",
       "</div>"
      ],
      "text/plain": [
       "       country  year     variable  value          varList  var12 genderAge  \\\n",
       "0  Afghanistan  1980  new_sp_m014    NaN  [new, sp, m014]  newsp      m014   \n",
       "1  Afghanistan  1981  new_sp_m014    NaN  [new, sp, m014]  newsp      m014   \n",
       "2  Afghanistan  1982  new_sp_m014    NaN  [new, sp, m014]  newsp      m014   \n",
       "3  Afghanistan  1983  new_sp_m014    NaN  [new, sp, m014]  newsp      m014   \n",
       "4  Afghanistan  1984  new_sp_m014    NaN  [new, sp, m014]  newsp      m014   \n",
       "\n",
       "  ageStr     diagnosis_method gender   age  \n",
       "0    014  Pulmonary Smear (+)   Male  0-14  \n",
       "1    014  Pulmonary Smear (+)   Male  0-14  \n",
       "2    014  Pulmonary Smear (+)   Male  0-14  \n",
       "3    014  Pulmonary Smear (+)   Male  0-14  \n",
       "4    014  Pulmonary Smear (+)   Male  0-14  "
      ]
     },
     "execution_count": 23,
     "metadata": {},
     "output_type": "execute_result"
    }
   ],
   "source": [
    "meltDf = (\n",
    "    df.melt(id_vars=['country','year'])\n",
    ")\n",
    "\n",
    "meltDf.head()\n",
    "\n",
    "dMethod = {'newsp': 'Pulmonary Smear (+)',\n",
    "           'newsn': 'Pulmonary Smear (-)',\n",
    "           'newep':'Extrapulmonary',\n",
    "           'newrel':'Relapse'}\n",
    "\n",
    "ageGroups = {'014': '0-14', '1524': '15-24', '2534': '25-34', '3544':'35-44', '4554':'45-54','5564':'55-64','65':'65+'}\n",
    "\n",
    "# split elements into a list\n",
    "meltDf = meltDf.assign(varList = meltDf.variable.apply(lambda x: x.split('_')))\n",
    "\n",
    "# join elements 1 to N-1 together and isolate the age\n",
    "meltDf = meltDf.assign(var12 = meltDf.varList.apply(lambda x: ''.join(x[0:-1])), \n",
    "                       genderAge = meltDf.varList.apply(lambda x: x[-1])\n",
    "                      )\n",
    "\n",
    "# Extract the age\n",
    "meltDf['ageStr'] = meltDf.genderAge.str[1:]\n",
    "\n",
    "# map the diagnosis\n",
    "meltDf['diagnosis_method'] = meltDf.var12.map(dMethod)\n",
    "\n",
    "# Extract the gender\n",
    "meltDf['gender'] = np.where(meltDf.genderAge.str.startswith('m'),'Male','Female')\n",
    "# map the age groups\n",
    "meltDf['age'] = meltDf.ageStr.map(ageGroups)\n",
    "\n",
    "meltDf.head()"
   ]
  },
  {
   "cell_type": "markdown",
   "metadata": {},
   "source": [
    "Clean-up"
   ]
  },
  {
   "cell_type": "code",
   "execution_count": 24,
   "metadata": {},
   "outputs": [
    {
     "data": {
      "text/html": [
       "<div>\n",
       "<style scoped>\n",
       "    .dataframe tbody tr th:only-of-type {\n",
       "        vertical-align: middle;\n",
       "    }\n",
       "\n",
       "    .dataframe tbody tr th {\n",
       "        vertical-align: top;\n",
       "    }\n",
       "\n",
       "    .dataframe thead th {\n",
       "        text-align: right;\n",
       "    }\n",
       "</style>\n",
       "<table border=\"1\" class=\"dataframe\">\n",
       "  <thead>\n",
       "    <tr style=\"text-align: right;\">\n",
       "      <th></th>\n",
       "      <th>country</th>\n",
       "      <th>year</th>\n",
       "      <th>diagnosis_method</th>\n",
       "      <th>gender</th>\n",
       "      <th>age</th>\n",
       "      <th>cases</th>\n",
       "    </tr>\n",
       "  </thead>\n",
       "  <tbody>\n",
       "    <tr>\n",
       "      <th>0</th>\n",
       "      <td>Afghanistan</td>\n",
       "      <td>1980</td>\n",
       "      <td>Pulmonary Smear (+)</td>\n",
       "      <td>Male</td>\n",
       "      <td>0-14</td>\n",
       "      <td>NaN</td>\n",
       "    </tr>\n",
       "    <tr>\n",
       "      <th>1</th>\n",
       "      <td>Afghanistan</td>\n",
       "      <td>1981</td>\n",
       "      <td>Pulmonary Smear (+)</td>\n",
       "      <td>Male</td>\n",
       "      <td>0-14</td>\n",
       "      <td>NaN</td>\n",
       "    </tr>\n",
       "    <tr>\n",
       "      <th>2</th>\n",
       "      <td>Afghanistan</td>\n",
       "      <td>1982</td>\n",
       "      <td>Pulmonary Smear (+)</td>\n",
       "      <td>Male</td>\n",
       "      <td>0-14</td>\n",
       "      <td>NaN</td>\n",
       "    </tr>\n",
       "    <tr>\n",
       "      <th>3</th>\n",
       "      <td>Afghanistan</td>\n",
       "      <td>1983</td>\n",
       "      <td>Pulmonary Smear (+)</td>\n",
       "      <td>Male</td>\n",
       "      <td>0-14</td>\n",
       "      <td>NaN</td>\n",
       "    </tr>\n",
       "    <tr>\n",
       "      <th>4</th>\n",
       "      <td>Afghanistan</td>\n",
       "      <td>1984</td>\n",
       "      <td>Pulmonary Smear (+)</td>\n",
       "      <td>Male</td>\n",
       "      <td>0-14</td>\n",
       "      <td>NaN</td>\n",
       "    </tr>\n",
       "  </tbody>\n",
       "</table>\n",
       "</div>"
      ],
      "text/plain": [
       "       country  year     diagnosis_method gender   age  cases\n",
       "0  Afghanistan  1980  Pulmonary Smear (+)   Male  0-14    NaN\n",
       "1  Afghanistan  1981  Pulmonary Smear (+)   Male  0-14    NaN\n",
       "2  Afghanistan  1982  Pulmonary Smear (+)   Male  0-14    NaN\n",
       "3  Afghanistan  1983  Pulmonary Smear (+)   Male  0-14    NaN\n",
       "4  Afghanistan  1984  Pulmonary Smear (+)   Male  0-14    NaN"
      ]
     },
     "execution_count": 24,
     "metadata": {},
     "output_type": "execute_result"
    }
   ],
   "source": [
    "meltDf = meltDf[['country','year','diagnosis_method','gender','age','value']]\n",
    "meltDf = meltDf.rename(columns={'value':'cases'})\n",
    "meltDf.head()"
   ]
  },
  {
   "cell_type": "code",
   "execution_count": 25,
   "metadata": {},
   "outputs": [
    {
     "name": "stdout",
     "output_type": "stream",
     "text": [
      "<class 'pandas.core.frame.DataFrame'>\n",
      "RangeIndex: 405440 entries, 0 to 405439\n",
      "Data columns (total 6 columns):\n",
      " #   Column            Non-Null Count   Dtype  \n",
      "---  ------            --------------   -----  \n",
      " 0   country           405440 non-null  object \n",
      " 1   year              405440 non-null  int64  \n",
      " 2   diagnosis_method  405440 non-null  object \n",
      " 3   gender            405440 non-null  object \n",
      " 4   age               405440 non-null  object \n",
      " 5   cases             76046 non-null   float64\n",
      "dtypes: float64(1), int64(1), object(4)\n",
      "memory usage: 18.6+ MB\n"
     ]
    }
   ],
   "source": [
    "meltDf.info()"
   ]
  },
  {
   "cell_type": "code",
   "execution_count": 26,
   "metadata": {},
   "outputs": [
    {
     "data": {
      "text/plain": [
       "Male      202720\n",
       "Female    202720\n",
       "Name: gender, dtype: int64"
      ]
     },
     "execution_count": 26,
     "metadata": {},
     "output_type": "execute_result"
    }
   ],
   "source": [
    "meltDf.gender.value_counts()"
   ]
  },
  {
   "cell_type": "code",
   "execution_count": 27,
   "metadata": {},
   "outputs": [
    {
     "data": {
      "text/plain": [
       "15-24    57920\n",
       "0-14     57920\n",
       "55-64    57920\n",
       "65+      57920\n",
       "45-54    57920\n",
       "25-34    57920\n",
       "35-44    57920\n",
       "Name: age, dtype: int64"
      ]
     },
     "execution_count": 27,
     "metadata": {},
     "output_type": "execute_result"
    }
   ],
   "source": [
    "meltDf.age.value_counts()"
   ]
  },
  {
   "cell_type": "code",
   "execution_count": 28,
   "metadata": {},
   "outputs": [
    {
     "data": {
      "text/plain": [
       "Relapse                101360\n",
       "Extrapulmonary         101360\n",
       "Pulmonary Smear (-)    101360\n",
       "Pulmonary Smear (+)    101360\n",
       "Name: diagnosis_method, dtype: int64"
      ]
     },
     "execution_count": 28,
     "metadata": {},
     "output_type": "execute_result"
    }
   ],
   "source": [
    "meltDf.diagnosis_method.value_counts()"
   ]
  },
  {
   "cell_type": "markdown",
   "metadata": {},
   "source": [
    "#### Question 3: Create a graph that shows when countries started to report TB cases."
   ]
  },
  {
   "cell_type": "code",
   "execution_count": 29,
   "metadata": {
    "scrolled": true
   },
   "outputs": [
    {
     "data": {
      "image/png": "[encoded data removed]",
      "text/plain": [
       "<Figure size 432x288 with 1 Axes>"
      ]
     },
     "metadata": {
      "needs_background": "light"
     },
     "output_type": "display_data"
    }
   ],
   "source": [
    "meltDf.query('cases.notna()', engine='python').groupby('country')['year'].min().hist()\n",
    "plt.show()"
   ]
  },
  {
   "cell_type": "code",
   "execution_count": null,
   "metadata": {},
   "outputs": [],
   "source": []
  }
 ],
 "metadata": {
  "kernelspec": {
   "display_name": "Python 3.7.3 64-bit ('base': conda)",
   "language": "python",
   "name": "python37364bitbaseconda3e66817595a24f3b851fad3315f1c145"
  },
  "language_info": {
   "codemirror_mode": {
    "name": "ipython",
    "version": 3
   },
   "file_extension": ".py",
   "mimetype": "text/x-python",
   "name": "python",
   "nbconvert_exporter": "python",
   "pygments_lexer": "ipython3",
   "version": "3.7.3"
  }
 },
 "nbformat": 4,
 "nbformat_minor": 4
}
