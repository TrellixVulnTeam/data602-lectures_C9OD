{
 "cells": [
  {
   "cell_type": "markdown",
   "metadata": {},
   "source": [
    "## Load the iris data"
   ]
  },
  {
   "cell_type": "code",
   "execution_count": 130,
   "metadata": {},
   "outputs": [
    {
     "data": {
      "text/plain": [
       "array([[1. , 5.1, 3.5, 1.4, 0.2],\n",
       "       [1. , 4.9, 3. , 1.4, 0.2],\n",
       "       [1. , 4.7, 3.2, 1.3, 0.2],\n",
       "       [1. , 4.6, 3.1, 1.5, 0.2],\n",
       "       [1. , 5. , 3.6, 1.4, 0.2]])"
      ]
     },
     "execution_count": 130,
     "metadata": {},
     "output_type": "execute_result"
    }
   ],
   "source": [
    "import matplotlib.pyplot as plt\n",
    "%matplotlib inline\n",
    "from sklearn.datasets import load_iris\n",
    "from numpy.linalg import inv\n",
    "import pandas as pd\n",
    "\n",
    "iris = load_iris()\n",
    "iris['data'][:5,:]\n",
    "\n",
    "y = np.where(iris['target'] == 2, 1, 0)\n",
    "X = iris['data']\n",
    "\n",
    "const = np.ones(shape=y.shape).reshape(-1,1)\n",
    "\n",
    "mat = np.concatenate( (const, X), axis=1)\n",
    "mat[:5,:]"
   ]
  },
  {
   "cell_type": "markdown",
   "metadata": {},
   "source": [
    "## Recall the algorithm we created for gradient descent for linear regression\n",
    "Using the following cost function:\n",
    "$$J(w)=\\frac{1}{2}\\sum(y^{(i)} - \\hat{y}^{(i)})^2$$"
   ]
  },
  {
   "cell_type": "code",
   "execution_count": 3,
   "metadata": {},
   "outputs": [],
   "source": [
    "import numpy as np\n",
    "\n",
    "def gradientDescent(x, y, theta, alpha, m, numIterations):\n",
    "    thetaHistory = list()\n",
    "    \n",
    "    xTrans = x.transpose()\n",
    "    costList = list()\n",
    "    \n",
    "    for i in range(0, numIterations):\n",
    "        # data x feature weights = y_hat\n",
    "        hypothesis = np.dot(x, theta)\n",
    "        # how far we are off\n",
    "        loss = hypothesis - y \n",
    "        # mse\n",
    "        cost = np.sum(loss ** 2) / (2 * m)\n",
    "        costList.append(cost)\n",
    "\n",
    "        # avg gradient per example\n",
    "        gradient = np.dot(xTrans, loss) / m \n",
    "\n",
    "        # update\n",
    "        theta = theta - alpha * gradient\n",
    "        thetaHistory.append(theta)\n",
    "        \n",
    "    return thetaHistory, costList"
   ]
  },
  {
   "cell_type": "markdown",
   "metadata": {},
   "source": [
    "## For Logistic regression we replace with our likehihood function:\n",
    "\n",
    "$$\n",
    "J(w)=\\sum{[-y^{(i)}log(\\theta(z^{(i)}))-(1-y^{(i)})log(1-\\theta(z^{(i)})]}\n",
    "$$\n",
    "\n",
    "## And add the sigmoid function to bound $y$ between 0 and 1"
   ]
  },
  {
   "cell_type": "code",
   "execution_count": 136,
   "metadata": {},
   "outputs": [],
   "source": [
    "def gradientDescent(x, y, alpha, numIterations):\n",
    "    def mle(y,yhat):\n",
    "        '''\n",
    "        This replaces the mean squared error\n",
    "        '''\n",
    "        return (-y.dot(np.log(yhat)) - ((1-y)).dot(np.log(1-yhat)))\n",
    "    \n",
    "    def sigmoid(z):\n",
    "        '''\n",
    "        Transforms values to follow the sigmoid function and bound between 0 and 1\n",
    "        '''\n",
    "        return 1./(1. + np.exp(-np.clip(z, -250, 250)))\n",
    "    \n",
    "    m = x.shape[0]\n",
    "\n",
    "    # initialize weights to small random numbers\n",
    "    theta = np.random.normal(loc=0.0, scale=0.1, size=x.shape[1])\n",
    "    \n",
    "    thetaHistory = list()\n",
    "    \n",
    "    xTrans = x.transpose()\n",
    "    costList = list()\n",
    "    \n",
    "    for i in range(0, numIterations):\n",
    "        # data x feature weights = y_hat\n",
    "        hypothesis = np.dot(x, theta)\n",
    "        \n",
    "        # sigmoid transformation\n",
    "        hypothesis = sigmoid(hypothesis)\n",
    "        \n",
    "        # how far we are off\n",
    "        loss = hypothesis - y \n",
    "        \n",
    "        # mle\n",
    "        cost = mle(y, hypothesis)\n",
    "        costList.append(cost)\n",
    "\n",
    "        # avg gradient per example\n",
    "        gradient = np.dot(xTrans, loss) / m \n",
    "\n",
    "        # update\n",
    "        theta = theta - alpha * gradient\n",
    "        thetaHistory.append(theta)\n",
    "        \n",
    "    return thetaHistory, costList"
   ]
  },
  {
   "cell_type": "markdown",
   "metadata": {},
   "source": [
    "## Let's try it out"
   ]
  },
  {
   "cell_type": "code",
   "execution_count": 137,
   "metadata": {},
   "outputs": [
    {
     "name": "stdout",
     "output_type": "stream",
     "text": [
      "Completed in 0:00:16.599883\n"
     ]
    },
    {
     "data": {
      "image/png": "[encoded data removed]",
      "text/plain": [
       "<Figure size 432x288 with 1 Axes>"
      ]
     },
     "metadata": {
      "needs_background": "light"
     },
     "output_type": "display_data"
    },
    {
     "data": {
      "image/png": "[encoded data removed]",
      "text/plain": [
       "<Figure size 432x288 with 1 Axes>"
      ]
     },
     "metadata": {
      "needs_background": "light"
     },
     "output_type": "display_data"
    },
    {
     "data": {
      "image/png": "[encoded data removed]",
      "text/plain": [
       "<Figure size 432x288 with 1 Axes>"
      ]
     },
     "metadata": {
      "needs_background": "light"
     },
     "output_type": "display_data"
    }
   ],
   "source": [
    "iters = 500000\n",
    "\n",
    "import datetime\n",
    "\n",
    "start_ts = datetime.datetime.now()\n",
    "betaHistory, costList = gradientDescent(mat, y, alpha=0.01, numIterations=iters)\n",
    "                                                                 \n",
    "end_ts = datetime.datetime.now()\n",
    "\n",
    "print(f'Completed in {end_ts-start_ts}')\n",
    "\n",
    "# cost history\n",
    "plt.plot(costList)\n",
    "plt.title(f'Final cost: {costList[-1]:,.2f}', loc='left')\n",
    "plt.show()\n",
    "\n",
    "# predict history\n",
    "gs_betas = betaHistory[iters-1]\n",
    "gs_predictions = np.dot(mat, gs_betas)\n",
    "gs_predictions = 1./(1+np.exp(-gs_predictions))\n",
    "\n",
    "plt.plot(y, gs_predictions, 'bo', alpha=0.2)\n",
    "plt.xlabel('Actual')\n",
    "plt.ylabel('Predicted')\n",
    "plt.title('Gradient Descent Regression Fit on Training Data')\n",
    "plt.show()\n",
    "\n",
    "from collections import defaultdict\n",
    "thetas = defaultdict(list)\n",
    "\n",
    "for i in range(len(betaHistory)):\n",
    "    for j in range(len(betaHistory[i])):\n",
    "        thetas[j].append(betaHistory[i][j])\n",
    "        \n",
    "thetasD = pd.DataFrame.from_dict(thetas)\n",
    "thetasD.plot(legend=False)\n",
    "plt.title('Beta Estimates')\n",
    "plt.ylabel('Coefficient')\n",
    "plt.xlabel('Iteration')\n",
    "plt.show()"
   ]
  },
  {
   "cell_type": "markdown",
   "metadata": {},
   "source": [
    "- We can see the loss is decreasing over the iterations.  \n",
    "- Predictions are bounded between 0 and 1 because of the sigmoid function.  \n",
    "- Weights update after each iteration and will eventually stabilize."
   ]
  },
  {
   "cell_type": "code",
   "execution_count": null,
   "metadata": {},
   "outputs": [],
   "source": []
  }
 ],
 "metadata": {
  "kernelspec": {
   "display_name": "Python 3.7.3 64-bit ('base': conda)",
   "language": "python",
   "name": "python37364bitbaseconda3e66817595a24f3b851fad3315f1c145"
  },
  "language_info": {
   "codemirror_mode": {
    "name": "ipython",
    "version": 3
   },
   "file_extension": ".py",
   "mimetype": "text/x-python",
   "name": "python",
   "nbconvert_exporter": "python",
   "pygments_lexer": "ipython3",
   "version": "3.7.3"
  }
 },
 "nbformat": 4,
 "nbformat_minor": 4
}
