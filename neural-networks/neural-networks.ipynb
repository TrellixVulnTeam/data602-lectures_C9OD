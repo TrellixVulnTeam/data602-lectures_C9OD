{
 "cells": [
  {
   "cell_type": "markdown",
   "metadata": {},
   "source": [
    "# Neural Networks and Deep Learning\n",
    "- This will introduce basic concepts regarding neural networks and is by no-means comprehensive.  \n",
    "- Neural networks can cover multiple full courses, so this only scratches the surface.  \n",
    "- See the readings and resources section for resources for more information.\n",
    "\n",
    "## Artificial Neural Networks (ANN)\n",
    "- Introduced in 1943, based on the concept of biological neurons.  \n",
    "- Generally used for image, speech, and text classification.  \n",
    "- It can be used in similar cases as we've seen for other examples, though the performance is generally similar to other models we've talked about.\n",
    "  \n",
    "## Biological Neurons\n",
    "\n",
    "<img src='files/diagrams/brain.png' style='width: 600px'>\n",
    "\n",
    "[Image source Machine Learning with Python 3rd Edition Pg. 20](https://github.com/rasbt/python-machine-learning-book-3rd-edition/tree/master/ch02/images)\n",
    "\n",
    "- Built upon how the brain works to intake information, process and extrapolate it, and make decisions.  \n",
    "- Neurons can make very complex decisions.  \n",
    "- Artificial neurons perform various logical computations:\n",
    "\n",
    "<img src='files/diagrams/neuron-logic.png' stype='width: 500px'>\n",
    "\n",
    "- The brain uses `neurons`, but neural networks approximate this bahavior with `units` and `layers`.  \n",
    "- Neural networks have been around since the 1940s, but have become more popular in the last 20 years, coinciding with advancements in computing.  \n",
    "- The revolution really started in the 1980s, after a technique called backpropagation was developed, which makes deep neural networks much more efficient to compute.  \n",
    "\n",
    "## The Potential\n",
    "- Realistic potential in changing how humans live their lives:  \n",
    "    - Self-driving cars. \n",
    "    - Universal language translaters.  \n",
    "    - Semi-autonomous robots for manual/menial work.  \n",
    "    - Vaccine development.  \n",
    "    - \"Metaverse\"  \n",
    "    - ...  \n",
    "- Not quite there yet though...   \n",
    "    - Intuition without hard data.  \n",
    "    - Computing.  \n",
    "    - Training data with labels.  \n",
    "    - Ethical decisions.  "
   ]
  },
  {
   "cell_type": "markdown",
   "metadata": {},
   "source": [
    "## Single Layer (aka `Logistic Regression`)\n",
    "- Simpliest ANN architecture.  \n",
    "- Input layer and output layer.  \n",
    "- The activation function normalizes the output. Logistic regression uses a sigmoid function, but there are others that may be more robust for your neural network models.  \n",
    "- Instead of coefficients we will call these weights.  \n",
    "- The constant ($B_0$) is referred to as a `bias unit`.  \n",
    "\n",
    "<img src='files/diagrams/singlelayer.png' style='width: 500px'>\n",
    "\n",
    "\n",
    "[Image source Machine Learning with Python 3rd Edition Pg. 386](https://github.com/rasbt/python-machine-learning-book-3rd-edition/tree/master/ch12)\n",
    "\n",
    "- The logistic regression model we manually created in [Week 6](https://github.com/appliedecon/data602-lectures/tree/main/week06) is essentially a single-layer neural network that uses a sigmoid activation function.\n",
    "\n",
    "We can think of this `single layer` as $y=f(x)$"
   ]
  },
  {
   "cell_type": "markdown",
   "metadata": {},
   "source": [
    "## Hidden Layers\n",
    "<img src='files/diagrams/multilayer.png' style='width: 600px'>\n",
    "\n",
    "\n",
    "[Image source Machine Learning with Python 3rd Edition Pg. 388](https://github.com/rasbt/python-machine-learning-book-3rd-edition/tree/master/ch12)\n",
    "\n",
    "- Many different types of neural networks. This is a feedforward, fully connected network, also called a `Multi-layer Perceptron (MLP)`.  \n",
    "- Think of these as nested functions, with a 3-layer specified as:\n",
    "$$\n",
    "y = f_{NN}(x)=f_3(f_2(f_1(x)))\n",
    "$$\n",
    "\n",
    "- Allows complex, non-linear, relationships to be learned. However, the non-linearity is approximated by a series of nested linear functions.    \n",
    "- $a_0^{(in)}$ and $A_0^{(h)}$ are bias units, and will equal $1$.  \n",
    "- The output of each unit gets passed into an activation function to normalize the output and allow for non-linear approximations.  \n",
    "- If there was not an activation functions, chains of linear combinations will only result in a linear transformation and that wouldn't be able to capture complexities of higher-order problems, i.e., a deep network without activation functions would be the same as a single-layer network.  \n",
    "\n",
    "Recall:\n",
    "$$\n",
    "y = f_{NN}(x)=f_3(f_2(f_1(x)))\n",
    "$$\n",
    "\n",
    "Individually these functions will be represented as:\n",
    "$$\n",
    "f_l(z)=g_l(W_{lz}+b_t)\n",
    "$$\n",
    "\n",
    "- $l$ is the layer\n",
    "- $g_l$ is the activation function, which requires a matrix of weights, $W_l$, and a vector, $b_l$ for each layer. $g_l$ can be any of the functions detailed below.  \n",
    "- Theoretically, a deep neural network can capture any continuous function when activation functions are used.  \n",
    "\n",
    "Linear Activation (regression): \n",
    "$$\n",
    "\\phi(x) = z\n",
    "$$\n",
    "\n",
    "Sigmoid (logistic regression, ANN):\n",
    "$$\n",
    "\\phi(z)=\\frac{1}{1+e^{-z}}\n",
    "$$\n",
    "\n",
    "Hyperbolic tangent - tanh (ANN):\n",
    "$$\n",
    "\\phi(z)=\\frac{e^z-e^{-z}}{e^z+e^{-z}}\n",
    "$$\n",
    "\n",
    "ReLU (ANN):\n",
    "$$\n",
    "\\phi(z)= \\begin{cases}\n",
    "    0, & \\text{if}\\ z<0\\\\\n",
    "    z, & \\text{if}\\ z>0\n",
    "    \\end{cases}\n",
    "$$"
   ]
  },
  {
   "cell_type": "code",
   "execution_count": 1,
   "metadata": {},
   "outputs": [
    {
     "data": {
      "image/png": "[encoded data removed]",
      "text/plain": [
       "<Figure size 432x288 with 1 Axes>"
      ]
     },
     "metadata": {
      "needs_background": "light"
     },
     "output_type": "display_data"
    }
   ],
   "source": [
    "import numpy as np\n",
    "import matplotlib.pyplot as plt\n",
    "%matplotlib inline\n",
    "\n",
    "z = np.arange(-3.0, 3.0, 0.01)\n",
    "\n",
    "def sigmoid(z):\n",
    "    return 1/(1+np.exp(-z))\n",
    "\n",
    "def tanh(z):\n",
    "    return (np.exp(z)-np.exp(-z))/(np.exp(z)+np.exp(-z))\n",
    "\n",
    "def relu(z):\n",
    "    return np.where(z<0, 0, z)\n",
    "    \n",
    "plt.plot(z, sigmoid(z), 'b--')\n",
    "plt.plot(z, tanh(z), 'r--')\n",
    "plt.plot(z, relu(z), 'g--')\n",
    "plt.legend(['Sigmoid','tanh', 'ReLU'])\n",
    "plt.hlines(0, -3, 3)\n",
    "plt.vlines(0, -3, 3)\n",
    "plt.show()"
   ]
  },
  {
   "cell_type": "markdown",
   "metadata": {},
   "source": [
    "- Generally, `ReLu` is the default activation function that you should use, but it really could be treated `hyperparameter`. This is because its derivative is always 1 (derivative of a constant $=1$) for positive values so it addresses issues that arise from gradients that approach zero (`vanishing gradients`).  \n",
    "- The output layer will have a unit per class, which generalizes the `one-versus-all` technique (below image is for a 3-class problem). For a binary class, this output layer would have only one unit.  \n",
    "\n",
    "<img src='files/diagrams/12_03.png' style='width: 500px'>\n",
    "\n",
    "[Image source Machine Learning with Python 3rd Edition Pg. 390](https://github.com/rasbt/python-machine-learning-book-3rd-edition/tree/master/ch12)\n",
    "\n",
    "\n",
    "- `Number of layers` and `number of units` are hyperparameters that will need to be tuned.  \n",
    "\n",
    "#### The `hidden layers` can represent \"concepts\" or \"features\" that aren't explicitly in the data, but the network might discover a latent approximation.\n",
    "You won't know what these are, but the neural net may infer them.\n",
    "\n",
    "<img src='files/diagrams/housing_price.png' style='width: 600px'>\n",
    "\n",
    "[Image source Andrew Ng](https://www.youtube.com/watch?v=n1l-9lIMW7E&list=PLkDaE6sCZn6Ec-XTbcX1uRg2_u4xOEky0&index=3)\n",
    "\n",
    "### Basic Process\n",
    "- Start at input layer, propagate patterns of training data through to the output layer.  \n",
    "- Calculate the error we want to minimize (cost function). Similar to how we implemented the gradient descent algorithm in the past.    \n",
    "- **NEW** - Backpropagate error by finding its derivative to each weight and update the model. The below diagram illusrates backpropagation:  \n",
    "\n",
    "<img src='files/diagrams/12_12-back.png' style='width: 600px'>\n",
    "\n",
    "[Image source Machine Learning with Python 3rd Edition Pg. 421](https://github.com/rasbt/python-machine-learning-book-3rd-edition/tree/master/ch12)\n",
    "\n",
    "- See [numpy's examples](https://numpy.org/numpy-tutorials/content/tutorial-deep-learning-on-mnist.html) for a manual implementation of a neural network.  \n",
    "- Typically use `mini-batch` for training - samples of the data during each weight update.  \n",
    "- Training can be more complicated because there can be millions of weights that need to be trained with deep neural networks. Getting stuck in `local minimas` can be a problem.\n",
    "\n",
    "<img src='files/diagrams/12_13-cost.png' style='width: 500px'>\n",
    "\n",
    "[Image source Machine Learning with Python 3rd Edition Pg. 422](https://github.com/rasbt/python-machine-learning-book-3rd-edition/tree/master/ch12)\n",
    "\n",
    "\n",
    "### Implementations and Frameworks\n",
    "\n",
    "- [scikit-learn has an implementation](https://scikit-learn.org/stable/modules/neural_networks_supervised.html) but it isn't intended for large-scale problem since scikit-learn doesn't have GPU support.  \n",
    "- Most common packages/frameworks:  \n",
    "    - [TensorFlow](https://www.tensorflow.org)  \n",
    "    - [Keras](https://keras.io)  \n",
    "    - [PyTorch](https://pytorch.org)  \n",
    "    - [mxnet](https://mxnet.apache.org/versions/1.8.0/)  \n",
    "- We'll show a simple examle using scikit learn's implementation, then focus on `keras`, since the APIs available are relatively simple compared to the other frameworks.    "
   ]
  },
  {
   "cell_type": "markdown",
   "metadata": {},
   "source": [
    "### Tuning\n",
    "Tuning can be very complicated for ANNs, especially for deep neural networks. Potential hyperparameters:\n",
    "- Number of layers - additional layers instead of more units might be more effective.  \n",
    "- Number of units.  \n",
    "- Activation function `at each layer`.  \n",
    "- Weight initialization (typically random, but can be anything).  \n",
    "- Solver.  \n",
    "- Batch size - if you have a GPU, use the largest batch than fits on the GPU for maximum performance.  \n",
    "- Learning rate - arguably the most important.  \n",
    "- Iterations.  \n",
    "- Shape of deeper layers.  \n",
    "- Convolutions and filters.  \n",
    "- Wide and deep?  \n",
    "- ...  \n",
    "\n",
    "This is why it takes a lot of effort and compute to train certain models. Since there are so many potential levers for performance gains, usually `improvements` are released iteratively.\n",
    "\n",
    "[A Disciplined Approach to Neural Network Hyper-Parameters](https://arxiv.org/abs/1803.09820)  \n",
    "- No perfect way to go about looking for the best hyper-parameters.  \n",
    "- Grid or Random search is an option, but computationally expensive.  \n",
    "- Many cheat by using an existing model, e.g., AlexNet.  \n",
    "- Best practices:\n",
    "    - Look at the loss curves for clues about the suitability of the learning rate (under/over-fitting).  \n",
    "    - Batch size is somewhat constrained by your computing environment (data $\\le$ memory).  \n",
    "    - Smaller batches add a little regularization.  "
   ]
  },
  {
   "cell_type": "markdown",
   "metadata": {},
   "source": [
    "# Simple Implementation\n",
    "[Based on Alex Trask's `Grokking Deep Learning`](https://github.com/iamtrask/Grokking-Deep-Learning)\n",
    "\n",
    "**Learning with Gradient Descent**"
   ]
  },
  {
   "cell_type": "code",
   "execution_count": 2,
   "metadata": {},
   "outputs": [
    {
     "data": {
      "image/png": "[encoded data removed]",
      "text/plain": [
       "<Figure size 432x288 with 1 Axes>"
      ]
     },
     "metadata": {
      "needs_background": "light"
     },
     "output_type": "display_data"
    },
    {
     "data": {
      "image/png": "[encoded data removed]",
      "text/plain": [
       "<Figure size 432x288 with 1 Axes>"
      ]
     },
     "metadata": {
      "needs_background": "light"
     },
     "output_type": "display_data"
    }
   ],
   "source": [
    "import numpy as np\n",
    "import matplotlib.pyplot as plt\n",
    "%matplotlib inline\n",
    "\n",
    "# inital weights\n",
    "weights = np.array([0.5,0.48,-0.7])\n",
    "\n",
    "# learning rate\n",
    "alpha = 0.1\n",
    "\n",
    "# data on street lights\n",
    "streetlights = np.array( [[ 1, 0, 1 ],\n",
    "                          [ 0, 1, 1 ],\n",
    "                          [ 0, 0, 1 ],\n",
    "                          [ 1, 1, 1 ],\n",
    "                          [ 0, 1, 1 ],\n",
    "                          [ 1, 0, 1 ] ] )\n",
    "\n",
    "# target variable: cross the street or not\n",
    "walk_vs_stop = np.array( [ 0, 1, 0, 1, 1, 0 ] )\n",
    "\n",
    "# starting points\n",
    "input = streetlights[0]\n",
    "goal_prediction = walk_vs_stop[0]\n",
    "\n",
    "weights_ = list()\n",
    "preds_   = list()\n",
    "errors_  = list()\n",
    "\n",
    "# gradient descent to learn weights with 40 iterations\n",
    "for iteration in range(40):\n",
    "    \n",
    "    # initial error\n",
    "    error_for_all_lights = 0\n",
    "    \n",
    "    # loop through rows\n",
    "    for row_index in range(len(walk_vs_stop)):\n",
    "        # each observation/epoch will update weights\n",
    "        input = streetlights[row_index]\n",
    "        goal_prediction = walk_vs_stop[row_index]\n",
    "        \n",
    "        # dot product of input and weights\n",
    "        prediction = input.dot(weights)\n",
    "        \n",
    "        # error of prediction against observed\n",
    "        error = (goal_prediction - prediction) ** 2\n",
    "        error_for_all_lights += error\n",
    "        \n",
    "        # gradient and weight update\n",
    "        delta = prediction - goal_prediction\n",
    "        weights = weights - (alpha * (input * delta))\n",
    "\n",
    "        weights_.append(weights)\n",
    "        preds_.append(prediction)\n",
    "        \n",
    "    errors_.append(error_for_all_lights)\n",
    "    \n",
    "plt.plot(weights_)\n",
    "plt.title('Weight Updates - Updates for Each Observation/Epoch', loc='left')\n",
    "plt.legend(['Feature 1', 'Feature 2', 'Feature 3'])\n",
    "plt.xlabel('Update iteration (Observation * Epoch)')\n",
    "plt.show()\n",
    "\n",
    "plt.plot(errors_)\n",
    "plt.title('Loss Curve')\n",
    "plt.show()"
   ]
  },
  {
   "cell_type": "markdown",
   "metadata": {},
   "source": [
    "### Add Hidden Layers and Units\n",
    "- 3 Features x 4 Hidden Units = 12 weights from first layer  \n",
    "- 4 hidden units. \n",
    "\n",
    "> 16 weights for the below example!"
   ]
  },
  {
   "cell_type": "code",
   "execution_count": 3,
   "metadata": {},
   "outputs": [
    {
     "name": "stdout",
     "output_type": "stream",
     "text": [
      "Completed.\n"
     ]
    }
   ],
   "source": [
    "import numpy as np\n",
    "\n",
    "np.random.seed(1)\n",
    "\n",
    "# activation function for each weight\n",
    "def relu(x):\n",
    "    return (x > 0) * x \n",
    "\n",
    "# output function\n",
    "def relu2deriv(output):\n",
    "    return output>0\n",
    "\n",
    "# learning rate and number of hidden units\n",
    "alpha = 0.2\n",
    "hidden_size = 4\n",
    "\n",
    "# training data\n",
    "streetlights = np.array( [[ 1, 0, 1 ],\n",
    "                          [ 0, 1, 1 ],\n",
    "                          [ 0, 0, 1 ],\n",
    "                          [ 1, 1, 1 ] ] )\n",
    "\n",
    "# labels\n",
    "walk_vs_stop = np.array([[ 1, 1, 0, 0]]).T\n",
    "\n",
    "# initial weights for layers\n",
    "weights_0_1 = 2*np.random.random((3, hidden_size)) - 1\n",
    "weights_1_2 = 2*np.random.random((hidden_size, 1)) - 1\n",
    "\n",
    "# input layer, initial hidden layer, output layer\n",
    "layer_0 = streetlights[0]\n",
    "layer_1 = relu(np.dot(layer_0, weights_0_1))\n",
    "layer_2 = np.dot(layer_1, weights_1_2)\n",
    "\n",
    "# epochs and storeage\n",
    "epochs = 60\n",
    "errors_ = list()\n",
    "\n",
    "from collections import defaultdict\n",
    "l2_1_weights_ = defaultdict(list)\n",
    "l1_0_weights_ = defaultdict(list)\n",
    "\n",
    "for iteration in range(epochs):\n",
    "\n",
    "    # initial error\n",
    "    layer_2_error = 0\n",
    "    \n",
    "    for i in range(len(streetlights)):\n",
    "        # weights for each layer (input -> hidden -> output)\n",
    "        layer_0 = streetlights[i:i+1]\n",
    "        layer_1 = relu(np.dot(layer_0,weights_0_1))\n",
    "        layer_2 = np.dot(layer_1,weights_1_2)\n",
    "\n",
    "        # errors\n",
    "        layer_2_error += np.sum((layer_2 - walk_vs_stop[i:i+1]) ** 2)\n",
    "        \n",
    "        # error gradient\n",
    "        layer_2_delta = (walk_vs_stop[i:i+1] - layer_2)\n",
    "        # error gradient in hidden layer\n",
    "        layer_1_delta=layer_2_delta.dot(weights_1_2.T)*relu2deriv(layer_1)\n",
    "        \n",
    "        # update weights (output -> hidden, then hidden -> input, i.e., backwards)\n",
    "        weights_1_2 += alpha * layer_1.T.dot(layer_2_delta)\n",
    "        weights_0_1 += alpha * layer_0.T.dot(layer_1_delta)\n",
    "        \n",
    "        errors_.append(layer_2_error)\n",
    "        \n",
    "        # store weight values\n",
    "        for i in range(np.size(weights_1_2)):\n",
    "            l2_1_weights_[i].append(weights_1_2[i][0])\n",
    "        \n",
    "        for i in range(np.size(weights_0_1)):   \n",
    "            l1_0_weights_[i].append(weights_0_1.reshape(12,)[i])\n",
    "            \n",
    "print('Completed.')"
   ]
  },
  {
   "cell_type": "code",
   "execution_count": 4,
   "metadata": {},
   "outputs": [
    {
     "data": {
      "image/png": "[encoded data removed]",
      "text/plain": [
       "<Figure size 432x288 with 1 Axes>"
      ]
     },
     "metadata": {
      "needs_background": "light"
     },
     "output_type": "display_data"
    }
   ],
   "source": [
    "import pandas as pd\n",
    "\n",
    "l0_1 = pd.DataFrame(l1_0_weights_)\n",
    "l0_1.plot(legend=None)\n",
    "plt.title('Input to Hidden Layer Weights', loc='left')\n",
    "plt.xlabel('Iteration of Weight Update (Example/Epoch)')\n",
    "plt.show()"
   ]
  },
  {
   "cell_type": "code",
   "execution_count": 5,
   "metadata": {},
   "outputs": [
    {
     "data": {
      "image/png": "[encoded data removed]",
      "text/plain": [
       "<Figure size 432x288 with 1 Axes>"
      ]
     },
     "metadata": {
      "needs_background": "light"
     },
     "output_type": "display_data"
    }
   ],
   "source": [
    "l2_1 = pd.DataFrame(l2_1_weights_)\n",
    "l2_1.plot()\n",
    "plt.title('Hidden Unit Weights', loc='left')\n",
    "plt.xlabel('Iteration of Weight Update (Example/Epoch)')\n",
    "plt.show()"
   ]
  },
  {
   "cell_type": "code",
   "execution_count": 6,
   "metadata": {},
   "outputs": [
    {
     "data": {
      "image/png": "[encoded data removed]",
      "text/plain": [
       "<Figure size 432x288 with 1 Axes>"
      ]
     },
     "metadata": {
      "needs_background": "light"
     },
     "output_type": "display_data"
    }
   ],
   "source": [
    "plt.plot(errors_)\n",
    "plt.title('Loss', loc='left')\n",
    "plt.xlabel('Epoch')\n",
    "plt.show()"
   ]
  },
  {
   "cell_type": "markdown",
   "metadata": {},
   "source": [
    "## Neural Networks with the MNIST Data\n",
    "We'll baseline with a `logistic regression` so we understand what type of performance gain the neural network is providing us.\n",
    "\n",
    "- 784 input neurons. \n",
    "- 10 output neurons (1 for each class).  \n",
    "- 7,840 parameters to learn.  "
   ]
  },
  {
   "cell_type": "code",
   "execution_count": 7,
   "metadata": {},
   "outputs": [
    {
     "name": "stdout",
     "output_type": "stream",
     "text": [
      "Fetch time: 0:00:35.834334\n",
      "Training examples: 60,000\n",
      "Test examples: 10,000\n"
     ]
    }
   ],
   "source": [
    "from sklearn.datasets import fetch_openml\n",
    "import datetime\n",
    "\n",
    "st = datetime.datetime.now()\n",
    "\n",
    "X, y = fetch_openml(\"mnist_784\", version=1, return_X_y=True)\n",
    "\n",
    "en = datetime.datetime.now()\n",
    "el = en - st\n",
    "\n",
    "print(f'Fetch time: {el}')\n",
    "\n",
    "X = X / 255.0\n",
    "\n",
    "# rescale the data, use the traditional train/test split\n",
    "X_train, X_test = X[:60000], X[60000:]\n",
    "y_train, y_test = y[:60000], y[60000:]\n",
    "\n",
    "print(f'Training examples: {X_train.shape[0]:,}')\n",
    "print(f'Test examples: {X_test.shape[0]:,}')"
   ]
  },
  {
   "cell_type": "markdown",
   "metadata": {},
   "source": [
    "### Logistic Regression\n",
    "Let's get a baseline from a vanilla logistic regression model."
   ]
  },
  {
   "cell_type": "code",
   "execution_count": 8,
   "metadata": {},
   "outputs": [
    {
     "name": "stdout",
     "output_type": "stream",
     "text": [
      "Fit time: 0:01:14.648211\n",
      "Training set score: 92.79%\n",
      "Test score: 92.03%\n"
     ]
    }
   ],
   "source": [
    "from sklearn.linear_model import LogisticRegression\n",
    "import datetime\n",
    "\n",
    "st = datetime.datetime.now()\n",
    "\n",
    "lr = LogisticRegression(solver='liblinear')\n",
    "lr = lr.fit(X_train, y_train)\n",
    "\n",
    "en = datetime.datetime.now()\n",
    "el = en - st\n",
    "\n",
    "print(f'Fit time: {el}')\n",
    "print(f'Training set score: {lr.score(X_train, y_train):.2%}')\n",
    "print(f'Test score: {lr.score(X_test, y_test):.2%}')"
   ]
  },
  {
   "cell_type": "markdown",
   "metadata": {},
   "source": [
    "### [scikit-Learn Multi-layer Perceptron](https://scikit-learn.org/stable/modules/neural_networks_supervised.html)\n",
    "Using the MNIST dataset, we'll train a neural net with `1-hidden layer` that contains `50-hidden units`."
   ]
  },
  {
   "cell_type": "code",
   "execution_count": 9,
   "metadata": {},
   "outputs": [
    {
     "name": "stdout",
     "output_type": "stream",
     "text": [
      "Training set score: 100.00%\n",
      "Test score: 97.31%\n",
      "\n",
      "Training completed in 0:01:06.696911\n"
     ]
    }
   ],
   "source": [
    "import matplotlib.pyplot as plt\n",
    "%matplotlib inline\n",
    "from sklearn.exceptions import ConvergenceWarning\n",
    "from sklearn.neural_network import MLPClassifier\n",
    "import datetime\n",
    "\n",
    "st = datetime.datetime.now()\n",
    "\n",
    "mlp = MLPClassifier(\n",
    "    hidden_layer_sizes=(50,),\n",
    "    max_iter=100,\n",
    "    alpha=1e-4,\n",
    "    solver=\"sgd\",\n",
    "    verbose=0,\n",
    "    random_state=1,\n",
    "    learning_rate_init=0.1,\n",
    ")\n",
    "\n",
    "mlp.fit(X_train, y_train)\n",
    "en = datetime.datetime.now()\n",
    "\n",
    "print(f'Training set score: {mlp.score(X_train, y_train):.2%}')\n",
    "print(f'Test score: {mlp.score(X_test, y_test):.2%}')\n",
    "print(f'\\nTraining completed in {en-st}')"
   ]
  },
  {
   "cell_type": "code",
   "execution_count": 10,
   "metadata": {},
   "outputs": [
    {
     "data": {
      "image/png": "[encoded data removed]",
      "text/plain": [
       "<Figure size 432x288 with 1 Axes>"
      ]
     },
     "metadata": {
      "needs_background": "light"
     },
     "output_type": "display_data"
    }
   ],
   "source": [
    "plt.plot(mlp.loss_curve_)\n",
    "plt.xlabel('Iteration')\n",
    "plt.title('Loss Curve')\n",
    "plt.show()"
   ]
  },
  {
   "cell_type": "markdown",
   "metadata": {},
   "source": [
    "> Training stopped because the loss converged."
   ]
  },
  {
   "cell_type": "code",
   "execution_count": 11,
   "metadata": {},
   "outputs": [
    {
     "data": {
      "image/png": "[encoded data removed]",
      "text/plain": [
       "<Figure size 432x288 with 2 Axes>"
      ]
     },
     "metadata": {
      "needs_background": "light"
     },
     "output_type": "display_data"
    }
   ],
   "source": [
    "from sklearn.metrics import ConfusionMatrixDisplay\n",
    "\n",
    "ConfusionMatrixDisplay.from_estimator(mlp, X_test, y_test)\n",
    "plt.show()"
   ]
  },
  {
   "cell_type": "markdown",
   "metadata": {},
   "source": [
    "### \"Deep\" Network on MNIST\n",
    "- ANNs with more than 2 hidden layers are consider `deep` networks.  \n",
    "- The example below will have 3 hidden layers, but it isn't uncommon for more complicated models to have hundreds of hidden layers, including ones that are more complicated than simple direct input/outputs."
   ]
  },
  {
   "cell_type": "code",
   "execution_count": 12,
   "metadata": {},
   "outputs": [
    {
     "name": "stdout",
     "output_type": "stream",
     "text": [
      "Iteration 1, loss = 0.34132625\n",
      "Iteration 2, loss = 0.13385624\n",
      "Iteration 3, loss = 0.10517005\n",
      "Iteration 4, loss = 0.08661185\n",
      "Iteration 5, loss = 0.07296673\n",
      "Iteration 6, loss = 0.06607626\n",
      "Iteration 7, loss = 0.05712624\n",
      "Iteration 8, loss = 0.05096139\n",
      "Iteration 9, loss = 0.04894500\n",
      "Iteration 10, loss = 0.04172744\n",
      "Iteration 11, loss = 0.03804725\n",
      "Iteration 12, loss = 0.03688750\n",
      "Iteration 13, loss = 0.03458147\n",
      "Iteration 14, loss = 0.03590979\n",
      "Iteration 15, loss = 0.03016864\n",
      "Iteration 16, loss = 0.02681141\n",
      "Iteration 17, loss = 0.03102717\n",
      "Iteration 18, loss = 0.02399110\n",
      "Iteration 19, loss = 0.02525154\n",
      "Iteration 20, loss = 0.02813208\n",
      "Iteration 21, loss = 0.02282548\n",
      "Iteration 22, loss = 0.02251492\n",
      "Iteration 23, loss = 0.01943094\n",
      "Iteration 24, loss = 0.02049333\n",
      "Iteration 25, loss = 0.02261149\n",
      "Iteration 26, loss = 0.01836079\n",
      "Iteration 27, loss = 0.02339591\n",
      "Iteration 28, loss = 0.02292981\n",
      "Iteration 29, loss = 0.02181654\n",
      "Iteration 30, loss = 0.01809922\n",
      "Iteration 31, loss = 0.01587740\n",
      "Iteration 32, loss = 0.01817712\n",
      "Iteration 33, loss = 0.02511500\n",
      "Iteration 34, loss = 0.02064954\n",
      "Iteration 35, loss = 0.01626240\n",
      "Iteration 36, loss = 0.01528516\n",
      "Iteration 37, loss = 0.01690475\n",
      "Iteration 38, loss = 0.01631231\n",
      "Iteration 39, loss = 0.01606677\n",
      "Iteration 40, loss = 0.01075543\n",
      "Iteration 41, loss = 0.01446211\n",
      "Iteration 42, loss = 0.01473916\n",
      "Iteration 43, loss = 0.01173432\n",
      "Iteration 44, loss = 0.01028714\n",
      "Iteration 45, loss = 0.01179291\n",
      "Iteration 46, loss = 0.01367663\n",
      "Iteration 47, loss = 0.01623871\n",
      "Iteration 48, loss = 0.02112814\n",
      "Iteration 49, loss = 0.01784254\n",
      "Iteration 50, loss = 0.01665848\n",
      "Iteration 51, loss = 0.01325967\n",
      "Iteration 52, loss = 0.01319229\n",
      "Iteration 53, loss = 0.01443801\n",
      "Iteration 54, loss = 0.01637134\n",
      "Iteration 55, loss = 0.01034395\n",
      "Training loss did not improve more than tol=0.000100 for 10 consecutive epochs. Stopping.\n",
      "Training completed in 0:01:17.975512\n",
      "Training set score: 99.74%\n",
      "Test score: 97.47%\n"
     ]
    }
   ],
   "source": [
    "import matplotlib.pyplot as plt\n",
    "from sklearn.datasets import fetch_openml\n",
    "from sklearn.exceptions import ConvergenceWarning\n",
    "from sklearn.neural_network import MLPClassifier\n",
    "import datetime\n",
    "\n",
    "st = datetime.datetime.now()\n",
    "mlp = MLPClassifier(\n",
    "    hidden_layer_sizes=(50,50,50),\n",
    "    max_iter=100,\n",
    "    alpha=1e-4,\n",
    "    solver=\"sgd\",\n",
    "    verbose=0,\n",
    "    random_state=1,\n",
    "    learning_rate_init=0.1\n",
    ")\n",
    "\n",
    "mlp.fit(X_train, y_train)\n",
    "en = datetime.datetime.now()\n",
    "\n",
    "print(f'Training completed in {en-st}')\n",
    "print(f'Training set score: {mlp.score(X_train, y_train):.2%}')\n",
    "print(f'Test score: {mlp.score(X_test, y_test):.2%}')"
   ]
  },
  {
   "cell_type": "code",
   "execution_count": 13,
   "metadata": {},
   "outputs": [
    {
     "data": {
      "image/png": "[encoded data removed]",
      "text/plain": [
       "<Figure size 432x288 with 1 Axes>"
      ]
     },
     "metadata": {
      "needs_background": "light"
     },
     "output_type": "display_data"
    }
   ],
   "source": [
    "plt.plot(mlp.loss_curve_)\n",
    "plt.xlabel('Iteration')\n",
    "plt.title('Loss Curve')\n",
    "plt.show()"
   ]
  },
  {
   "cell_type": "code",
   "execution_count": 14,
   "metadata": {},
   "outputs": [
    {
     "data": {
      "text/plain": [
       "5"
      ]
     },
     "execution_count": 14,
     "metadata": {},
     "output_type": "execute_result"
    }
   ],
   "source": [
    "mlp.n_layers_"
   ]
  },
  {
   "cell_type": "markdown",
   "metadata": {},
   "source": [
    "> `Input` + `Hidden Layer 1` + `Hidden Layer 2` + `Hidden Layer 3` + `Output Layer`"
   ]
  },
  {
   "cell_type": "markdown",
   "metadata": {},
   "source": [
    "> The loss function is showing `a lot more roughness` here. Recall it has been smooth when we've looked at other models. If these gyrations where larger, it is possible the model could have gotten stuck in a local minima. The risk of that happening with deep neural networks is substantially larger than for the simpler models we have looked at previously.\n",
    "\n",
    "- Training a model like this wasn't possible 35 years ago."
   ]
  },
  {
   "cell_type": "code",
   "execution_count": 15,
   "metadata": {},
   "outputs": [
    {
     "data": {
      "image/png": "[encoded data removed]",
      "text/plain": [
       "<Figure size 432x288 with 2 Axes>"
      ]
     },
     "metadata": {
      "needs_background": "light"
     },
     "output_type": "display_data"
    }
   ],
   "source": [
    "from sklearn.metrics import ConfusionMatrixDisplay\n",
    "\n",
    "ConfusionMatrixDisplay.from_estimator(mlp, X_test, y_test)\n",
    "plt.show()"
   ]
  },
  {
   "cell_type": "markdown",
   "metadata": {},
   "source": [
    "> Single layer outperformed a multi-layer network. Deep isn't necessarily better - you need to grid search through the layers and units to determine the `best` values. In this case, a single 50-unit hidden layer performed about the same as two 50-unit hidden layers; so simple wins once again.\n",
    "\n",
    "### Our `Deep Learning` Model Didn't Improve MNIST Performance\n",
    "#### However, there's been significant progress on Deep Learning Models: \n",
    "\n",
    "<img src='files/diagrams/dnn-comparison.png'>\n",
    "\n",
    "#### And Architectures Can be Complicated\n",
    "\n",
    "<img src='files/diagrams/sample-dnn.png'>\n",
    "\n",
    "[AlexNet](https://en.wikipedia.org/wiki/AlexNet)\n",
    "<br>[VGG (Very Deep Convolutional Networks for Large-Scale Image Recognition)](https://arxiv.org/abs/1409.1556)\n",
    "<br>[GoogleNet](https://www.cs.unc.edu/~wliu/papers/GoogLeNet.pdf)\n",
    "> You can download pre-trained versions of these models."
   ]
  },
  {
   "cell_type": "markdown",
   "metadata": {},
   "source": [
    "#### Training Time\n",
    "- Each model took about 1 minute to run.  \n",
    "- Say we want to evaluate up to a 3-layer network.  \n",
    "- We have no prior on the number of units so, we'd need to try several.  \n",
    "- Grid could look like this:  \n",
    "    - {'hidden_layer_sizes': (100,), learning_rate = 0.0001}. \n",
    "    - {'hidden_layer_sizes': (75,), learning_rate = 0.0001}.  \n",
    "    - {'hidden_layer_sizes': (50,), learning_rate = 0.0001}.\n",
    "    - {'hidden_layer_sizes': (100,), learning_rate = 0.001}. \n",
    "    - {'hidden_layer_sizes': (75,), learning_rate = 0.001}.  \n",
    "    - {'hidden_layer_sizes': (50,), learning_rate = 0.001}.\n",
    "    - {'hidden_layer_sizes': (100, 100,), learning_rate = 0.0001}. \n",
    "    - {'hidden_layer_sizes': (75, 75, ), learning_rate = 0.0001}.  \n",
    "    - {'hidden_layer_sizes': (50, 50, ), learning_rate = 0.0001}.\n",
    "    - {'hidden_layer_sizes': (100, 100, ), learning_rate = 0.001}. \n",
    "    - {'hidden_layer_sizes': (75, 75, ), learning_rate = 0.001}.  \n",
    "    - {'hidden_layer_sizes': (50, 50, ), learning_rate = 0.001}.  \n",
    "    - {'hidden_layer_sizes': (100, 75,), learning_rate = 0.0001}. \n",
    "    - {'hidden_layer_sizes': (75, 50, ), learning_rate = 0.0001}.  \n",
    "    - {'hidden_layer_sizes': (50, 25, ), learning_rate = 0.0001}.\n",
    "    - {'hidden_layer_sizes': (100, 75, ), learning_rate = 0.001}. \n",
    "    - {'hidden_layer_sizes': (75, 50, ), learning_rate = 0.001}.  \n",
    "    - {'hidden_layer_sizes': (50, 25, ), learning_rate = 0.001}.  \n",
    "    - ...\n",
    "\n",
    "> Need to look to frameworks that allow for more efficient computation."
   ]
  },
  {
   "cell_type": "markdown",
   "metadata": {},
   "source": [
    "# [Keras](https://keras.io)\n",
    "One of the more popular frameworks, that can scale to GPUs or TPUs, tl;dr it can run models fast (relatively speaking). Developed by `Francois Chollet`, who literally wrote the book on [Deep Learning with Python](https://www.manning.com/books/deep-learning-with-python).\n",
    "\n",
    "Keras serves as a wrapper on [TensorFlow](https://www.tensorflow.org), but not all of TensorFlow's functionality is available in the Keras API.\n",
    "\n",
    "GridSearch and Hyperparameter tuning can be done another package, [KerasTuner](https://keras.io/keras_tuner/)."
   ]
  },
  {
   "cell_type": "markdown",
   "metadata": {},
   "source": [
    "### Simple Regression Example\n",
    "- Similar to many of the models we've talked about, you can also use ANNs for regression problems.  \n",
    "- Probably don't want to use activation functions for the outputs so the values are continuous and unbounded.  \n",
    "- Loss is generally `mean squared error`, but another variant may be better dependent on your data, e.g., lots of outliers may warrant `mean absolute error` as a better choice.  \n",
    "- Most regression problems will require 5 or fewer layers, with most requiring only 1 or 2."
   ]
  },
  {
   "cell_type": "code",
   "execution_count": 2,
   "metadata": {},
   "outputs": [
    {
     "data": {
      "image/png": "[encoded data removed]",
      "text/plain": [
       "<Figure size 432x288 with 1 Axes>"
      ]
     },
     "metadata": {
      "needs_background": "light"
     },
     "output_type": "display_data"
    }
   ],
   "source": [
    "import numpy as np\n",
    "import matplotlib.pyplot as plt\n",
    "%matplotlib inline\n",
    "\n",
    "X_train = np.arange(10).reshape((10,1))\n",
    "y_train = np.array([1.0, 1.3, 3.1, 2.0, 5.0, 6.3, 6.6, 7.4, 8.0, 9.0])\n",
    "\n",
    "X_train_norm = (X_train - np.mean(X_train))/np.std(X_train)\n",
    "\n",
    "plt.plot(X_train_norm, y_train, 'ro')\n",
    "plt.show()"
   ]
  },
  {
   "cell_type": "markdown",
   "metadata": {},
   "source": [
    "#### Specify and fit the model\n",
    "Linear regression only one ouput layer."
   ]
  },
  {
   "cell_type": "code",
   "execution_count": 3,
   "metadata": {},
   "outputs": [
    {
     "name": "stdout",
     "output_type": "stream",
     "text": [
      "Model: \"sequential\"\n",
      "_________________________________________________________________\n",
      "Layer (type)                 Output Shape              Param #   \n",
      "=================================================================\n",
      "coef (Dense)                 (None, 1)                 2         \n",
      "=================================================================\n",
      "Total params: 2\n",
      "Trainable params: 2\n",
      "Non-trainable params: 0\n",
      "_________________________________________________________________\n",
      "None\n",
      "Train on 10 samples\n",
      "Epoch 1/100\n",
      "10/10 [==============================] - 0s 13ms/sample - loss: 30.6057 - mae: 4.5919 - mse: 30.6057\n",
      "Epoch 2/100\n",
      "10/10 [==============================] - 0s 980us/sample - loss: 20.4686 - mae: 3.7639 - mse: 20.4686\n",
      "Epoch 3/100\n",
      "10/10 [==============================] - 0s 1ms/sample - loss: 13.7219 - mae: 3.0692 - mse: 13.7219\n",
      "Epoch 4/100\n",
      "10/10 [==============================] - 0s 1ms/sample - loss: 9.2430 - mae: 2.4905 - mse: 9.2430\n",
      "Epoch 5/100\n",
      "10/10 [==============================] - 0s 1ms/sample - loss: 6.2700 - mae: 2.0485 - mse: 6.2700\n",
      "Epoch 6/100\n",
      "10/10 [==============================] - 0s 949us/sample - loss: 4.2972 - mae: 1.7579 - mse: 4.2972\n",
      "Epoch 7/100\n",
      "10/10 [==============================] - 0s 1ms/sample - loss: 2.9947 - mae: 1.5087 - mse: 2.9947\n",
      "Epoch 8/100\n",
      "10/10 [==============================] - 0s 1ms/sample - loss: 2.1311 - mae: 1.2980 - mse: 2.1311\n",
      "Epoch 9/100\n",
      "10/10 [==============================] - 0s 998us/sample - loss: 1.5550 - mae: 1.1321 - mse: 1.5550\n",
      "Epoch 10/100\n",
      "10/10 [==============================] - 0s 1ms/sample - loss: 1.1726 - mae: 0.9955 - mse: 1.1726\n",
      "Epoch 11/100\n",
      "10/10 [==============================] - 0s 1ms/sample - loss: 0.9140 - mae: 0.8806 - mse: 0.9140\n",
      "Epoch 12/100\n",
      "10/10 [==============================] - 0s 1ms/sample - loss: 0.7455 - mae: 0.7893 - mse: 0.7455\n",
      "Epoch 13/100\n",
      "10/10 [==============================] - 0s 878us/sample - loss: 0.6340 - mae: 0.7125 - mse: 0.6340\n",
      "Epoch 14/100\n",
      "10/10 [==============================] - 0s 1ms/sample - loss: 0.5592 - mae: 0.6572 - mse: 0.5592\n",
      "Epoch 15/100\n",
      "10/10 [==============================] - 0s 1ms/sample - loss: 0.5090 - mae: 0.6104 - mse: 0.5090\n",
      "Epoch 16/100\n",
      "10/10 [==============================] - 0s 1ms/sample - loss: 0.4758 - mae: 0.5683 - mse: 0.4758\n",
      "Epoch 17/100\n",
      "10/10 [==============================] - 0s 1ms/sample - loss: 0.4543 - mae: 0.5310 - mse: 0.4543\n",
      "Epoch 18/100\n",
      "10/10 [==============================] - 0s 957us/sample - loss: 0.4409 - mae: 0.5146 - mse: 0.4409\n",
      "Epoch 19/100\n",
      "10/10 [==============================] - 0s 971us/sample - loss: 0.4315 - mae: 0.4932 - mse: 0.4315\n",
      "Epoch 20/100\n",
      "10/10 [==============================] - 0s 1ms/sample - loss: 0.4254 - mae: 0.4997 - mse: 0.4254\n",
      "Epoch 21/100\n",
      "10/10 [==============================] - 0s 951us/sample - loss: 0.4216 - mae: 0.4973 - mse: 0.4216\n",
      "Epoch 22/100\n",
      "10/10 [==============================] - 0s 1ms/sample - loss: 0.4189 - mae: 0.4979 - mse: 0.4189\n",
      "Epoch 23/100\n",
      "10/10 [==============================] - 0s 891us/sample - loss: 0.4171 - mae: 0.4892 - mse: 0.4171\n",
      "Epoch 24/100\n",
      "10/10 [==============================] - 0s 1ms/sample - loss: 0.4159 - mae: 0.4878 - mse: 0.4159\n",
      "Epoch 25/100\n",
      "10/10 [==============================] - 0s 1ms/sample - loss: 0.4153 - mae: 0.4952 - mse: 0.4153\n",
      "Epoch 26/100\n",
      "10/10 [==============================] - 0s 888us/sample - loss: 0.4147 - mae: 0.4873 - mse: 0.4147\n",
      "Epoch 27/100\n",
      "10/10 [==============================] - 0s 1ms/sample - loss: 0.4146 - mae: 0.4938 - mse: 0.4146\n",
      "Epoch 28/100\n",
      "10/10 [==============================] - 0s 1ms/sample - loss: 0.4136 - mae: 0.4907 - mse: 0.4136\n",
      "Epoch 29/100\n",
      "10/10 [==============================] - 0s 859us/sample - loss: 0.4139 - mae: 0.4836 - mse: 0.4139\n",
      "Epoch 30/100\n",
      "10/10 [==============================] - 0s 1ms/sample - loss: 0.4140 - mae: 0.4884 - mse: 0.4140\n",
      "Epoch 31/100\n",
      "10/10 [==============================] - 0s 1ms/sample - loss: 0.4140 - mae: 0.4884 - mse: 0.4140\n",
      "Epoch 32/100\n",
      "10/10 [==============================] - 0s 906us/sample - loss: 0.4138 - mae: 0.4846 - mse: 0.4138\n",
      "Epoch 33/100\n",
      "10/10 [==============================] - 0s 1ms/sample - loss: 0.4136 - mae: 0.4836 - mse: 0.4136\n",
      "Epoch 34/100\n",
      "10/10 [==============================] - 0s 1ms/sample - loss: 0.4137 - mae: 0.4900 - mse: 0.4137\n",
      "Epoch 35/100\n",
      "10/10 [==============================] - 0s 847us/sample - loss: 0.4140 - mae: 0.4891 - mse: 0.4140\n",
      "Epoch 36/100\n",
      "10/10 [==============================] - 0s 1ms/sample - loss: 0.4139 - mae: 0.4867 - mse: 0.4139\n",
      "Epoch 37/100\n",
      "10/10 [==============================] - 0s 1ms/sample - loss: 0.4139 - mae: 0.4930 - mse: 0.4139\n",
      "Epoch 38/100\n",
      "10/10 [==============================] - 0s 941us/sample - loss: 0.4138 - mae: 0.4889 - mse: 0.4138\n",
      "Epoch 39/100\n",
      "10/10 [==============================] - 0s 1ms/sample - loss: 0.4135 - mae: 0.4896 - mse: 0.4135\n",
      "Epoch 40/100\n",
      "10/10 [==============================] - 0s 1ms/sample - loss: 0.4136 - mae: 0.4830 - mse: 0.4136\n",
      "Epoch 41/100\n",
      "10/10 [==============================] - 0s 973us/sample - loss: 0.4135 - mae: 0.4912 - mse: 0.4135\n",
      "Epoch 42/100\n",
      "10/10 [==============================] - 0s 1ms/sample - loss: 0.4139 - mae: 0.4916 - mse: 0.4139\n",
      "Epoch 43/100\n",
      "10/10 [==============================] - 0s 1ms/sample - loss: 0.4139 - mae: 0.4885 - mse: 0.4139\n",
      "Epoch 44/100\n",
      "10/10 [==============================] - 0s 1ms/sample - loss: 0.4137 - mae: 0.4929 - mse: 0.4137\n",
      "Epoch 45/100\n",
      "10/10 [==============================] - 0s 1ms/sample - loss: 0.4137 - mae: 0.4953 - mse: 0.4137\n",
      "Epoch 46/100\n",
      "10/10 [==============================] - 0s 991us/sample - loss: 0.4136 - mae: 0.4870 - mse: 0.4136\n",
      "Epoch 47/100\n",
      "10/10 [==============================] - 0s 974us/sample - loss: 0.4135 - mae: 0.4944 - mse: 0.4135\n",
      "Epoch 48/100\n",
      "10/10 [==============================] - 0s 1ms/sample - loss: 0.4140 - mae: 0.4893 - mse: 0.4140\n",
      "Epoch 49/100\n",
      "10/10 [==============================] - 0s 1ms/sample - loss: 0.4138 - mae: 0.4899 - mse: 0.4138\n",
      "Epoch 50/100\n",
      "10/10 [==============================] - 0s 1ms/sample - loss: 0.4131 - mae: 0.4814 - mse: 0.4131\n",
      "Epoch 51/100\n",
      "10/10 [==============================] - 0s 1ms/sample - loss: 0.4137 - mae: 0.4934 - mse: 0.4137\n",
      "Epoch 52/100\n",
      "10/10 [==============================] - 0s 1ms/sample - loss: 0.4133 - mae: 0.4786 - mse: 0.4133\n",
      "Epoch 53/100\n",
      "10/10 [==============================] - 0s 2ms/sample - loss: 0.4138 - mae: 0.4857 - mse: 0.4138\n",
      "Epoch 54/100\n",
      "10/10 [==============================] - 0s 2ms/sample - loss: 0.4139 - mae: 0.4889 - mse: 0.4139\n",
      "Epoch 55/100\n",
      "10/10 [==============================] - 0s 1ms/sample - loss: 0.4138 - mae: 0.4930 - mse: 0.4138\n",
      "Epoch 56/100\n",
      "10/10 [==============================] - 0s 1ms/sample - loss: 0.4138 - mae: 0.4903 - mse: 0.4138\n",
      "Epoch 57/100\n",
      "10/10 [==============================] - 0s 1ms/sample - loss: 0.4136 - mae: 0.4842 - mse: 0.4136\n",
      "Epoch 58/100\n",
      "10/10 [==============================] - 0s 1ms/sample - loss: 0.4138 - mae: 0.4863 - mse: 0.4138\n",
      "Epoch 59/100\n",
      "10/10 [==============================] - 0s 1ms/sample - loss: 0.4135 - mae: 0.4896 - mse: 0.4135\n",
      "Epoch 60/100\n",
      "10/10 [==============================] - 0s 1ms/sample - loss: 0.4138 - mae: 0.4880 - mse: 0.4138\n",
      "Epoch 61/100\n",
      "10/10 [==============================] - 0s 1ms/sample - loss: 0.4136 - mae: 0.4847 - mse: 0.4136\n",
      "Epoch 62/100\n",
      "10/10 [==============================] - 0s 1ms/sample - loss: 0.4139 - mae: 0.4909 - mse: 0.4139\n",
      "Epoch 63/100\n",
      "10/10 [==============================] - 0s 1ms/sample - loss: 0.4140 - mae: 0.4893 - mse: 0.4140\n",
      "Epoch 64/100\n",
      "10/10 [==============================] - 0s 943us/sample - loss: 0.4138 - mae: 0.4968 - mse: 0.4138\n",
      "Epoch 65/100\n",
      "10/10 [==============================] - 0s 1ms/sample - loss: 0.4138 - mae: 0.4911 - mse: 0.4138\n",
      "Epoch 66/100\n",
      "10/10 [==============================] - 0s 1ms/sample - loss: 0.4135 - mae: 0.4935 - mse: 0.4135\n",
      "Epoch 67/100\n",
      "10/10 [==============================] - 0s 1ms/sample - loss: 0.4137 - mae: 0.4840 - mse: 0.4137\n",
      "Epoch 68/100\n",
      "10/10 [==============================] - 0s 1ms/sample - loss: 0.4132 - mae: 0.4880 - mse: 0.4132\n",
      "Epoch 69/100\n",
      "10/10 [==============================] - 0s 1ms/sample - loss: 0.4139 - mae: 0.4900 - mse: 0.4139\n",
      "Epoch 70/100\n"
     ]
    },
    {
     "name": "stdout",
     "output_type": "stream",
     "text": [
      "10/10 [==============================] - 0s 1ms/sample - loss: 0.4138 - mae: 0.4863 - mse: 0.4138\n",
      "Epoch 71/100\n",
      "10/10 [==============================] - 0s 858us/sample - loss: 0.4137 - mae: 0.4909 - mse: 0.4137\n",
      "Epoch 72/100\n",
      "10/10 [==============================] - 0s 908us/sample - loss: 0.4135 - mae: 0.4852 - mse: 0.4135\n",
      "Epoch 73/100\n",
      "10/10 [==============================] - 0s 1ms/sample - loss: 0.4140 - mae: 0.4910 - mse: 0.4140\n",
      "Epoch 74/100\n",
      "10/10 [==============================] - 0s 903us/sample - loss: 0.4139 - mae: 0.4881 - mse: 0.4139\n",
      "Epoch 75/100\n",
      "10/10 [==============================] - 0s 1ms/sample - loss: 0.4139 - mae: 0.4945 - mse: 0.4139\n",
      "Epoch 76/100\n",
      "10/10 [==============================] - 0s 959us/sample - loss: 0.4138 - mae: 0.4905 - mse: 0.4138\n",
      "Epoch 77/100\n",
      "10/10 [==============================] - 0s 1ms/sample - loss: 0.4129 - mae: 0.4927 - mse: 0.4129\n",
      "Epoch 78/100\n",
      "10/10 [==============================] - 0s 1ms/sample - loss: 0.4138 - mae: 0.4925 - mse: 0.4138\n",
      "Epoch 79/100\n",
      "10/10 [==============================] - 0s 1ms/sample - loss: 0.4137 - mae: 0.4860 - mse: 0.4137\n",
      "Epoch 80/100\n",
      "10/10 [==============================] - 0s 1ms/sample - loss: 0.4137 - mae: 0.4901 - mse: 0.4137\n",
      "Epoch 81/100\n",
      "10/10 [==============================] - 0s 925us/sample - loss: 0.4137 - mae: 0.4854 - mse: 0.4137\n",
      "Epoch 82/100\n",
      "10/10 [==============================] - 0s 975us/sample - loss: 0.4135 - mae: 0.4849 - mse: 0.4135\n",
      "Epoch 83/100\n",
      "10/10 [==============================] - 0s 1ms/sample - loss: 0.4139 - mae: 0.4908 - mse: 0.4139\n",
      "Epoch 84/100\n",
      "10/10 [==============================] - 0s 988us/sample - loss: 0.4137 - mae: 0.4938 - mse: 0.4137\n",
      "Epoch 85/100\n",
      "10/10 [==============================] - 0s 917us/sample - loss: 0.4137 - mae: 0.4845 - mse: 0.4137\n",
      "Epoch 86/100\n",
      "10/10 [==============================] - 0s 1ms/sample - loss: 0.4136 - mae: 0.4942 - mse: 0.4136\n",
      "Epoch 87/100\n",
      "10/10 [==============================] - 0s 1ms/sample - loss: 0.4135 - mae: 0.4936 - mse: 0.4135\n",
      "Epoch 88/100\n",
      "10/10 [==============================] - 0s 952us/sample - loss: 0.4140 - mae: 0.4913 - mse: 0.4140\n",
      "Epoch 89/100\n",
      "10/10 [==============================] - 0s 1ms/sample - loss: 0.4138 - mae: 0.4826 - mse: 0.4138\n",
      "Epoch 90/100\n",
      "10/10 [==============================] - 0s 872us/sample - loss: 0.4138 - mae: 0.4918 - mse: 0.4138\n",
      "Epoch 91/100\n",
      "10/10 [==============================] - 0s 1ms/sample - loss: 0.4139 - mae: 0.4914 - mse: 0.4139\n",
      "Epoch 92/100\n",
      "10/10 [==============================] - 0s 964us/sample - loss: 0.4138 - mae: 0.4825 - mse: 0.4138\n",
      "Epoch 93/100\n",
      "10/10 [==============================] - 0s 1ms/sample - loss: 0.4139 - mae: 0.4897 - mse: 0.4139\n",
      "Epoch 94/100\n",
      "10/10 [==============================] - 0s 1ms/sample - loss: 0.4135 - mae: 0.4917 - mse: 0.4135\n",
      "Epoch 95/100\n",
      "10/10 [==============================] - 0s 999us/sample - loss: 0.4137 - mae: 0.4942 - mse: 0.4137\n",
      "Epoch 96/100\n",
      "10/10 [==============================] - 0s 964us/sample - loss: 0.4139 - mae: 0.4837 - mse: 0.4139\n",
      "Epoch 97/100\n",
      "10/10 [==============================] - 0s 1ms/sample - loss: 0.4139 - mae: 0.4822 - mse: 0.4139\n",
      "Epoch 98/100\n",
      "10/10 [==============================] - 0s 901us/sample - loss: 0.4135 - mae: 0.4825 - mse: 0.4135\n",
      "Epoch 99/100\n",
      "10/10 [==============================] - 0s 1ms/sample - loss: 0.4135 - mae: 0.4953 - mse: 0.4135\n",
      "Epoch 100/100\n",
      "10/10 [==============================] - 0s 901us/sample - loss: 0.4138 - mae: 0.4929 - mse: 0.4138\n"
     ]
    }
   ],
   "source": [
    "from tensorflow import keras\n",
    "from tensorflow.keras import layers\n",
    "\n",
    "lm = keras.Sequential(\n",
    "    [\n",
    "        layers.Dense(1, activation='linear', input_dim=1, name='coef')\n",
    "    ]\n",
    ")\n",
    "\n",
    "print(lm.summary())\n",
    "\n",
    "lm.compile(loss=\"mse\", optimizer=\"sgd\", metrics=['mae', 'mse'])\n",
    "\n",
    "history = lm.fit(X_train_norm, y_train, epochs=100, batch_size=1, verbose=0)"
   ]
  },
  {
   "cell_type": "code",
   "execution_count": 10,
   "metadata": {},
   "outputs": [
    {
     "data": {
      "image/png": "[encoded data removed]",
      "text/plain": [
       "<Figure size 432x288 with 1 Axes>"
      ]
     },
     "metadata": {
      "needs_background": "light"
     },
     "output_type": "display_data"
    }
   ],
   "source": [
    "h_loss, h_mse = history.history['loss'], history.history['mse']\n",
    "\n",
    "plt.plot(h_loss)\n",
    "plt.title('Loss', loc='left')\n",
    "plt.show()"
   ]
  },
  {
   "cell_type": "code",
   "execution_count": 11,
   "metadata": {},
   "outputs": [
    {
     "data": {
      "image/png": "[encoded data removed]",
      "text/plain": [
       "<Figure size 432x288 with 1 Axes>"
      ]
     },
     "metadata": {
      "needs_background": "light"
     },
     "output_type": "display_data"
    }
   ],
   "source": [
    "plt.plot(X_train_norm, y_train, 'ro')\n",
    "plt.plot(X_train_norm, lm.predict(X_train_norm), 'b-')\n",
    "plt.xlabel('X')\n",
    "plt.ylabel('y')\n",
    "plt.legend(['Actual', 'Predicted'])\n",
    "plt.show()"
   ]
  },
  {
   "cell_type": "markdown",
   "metadata": {},
   "source": [
    "## Classification with MNIST\n",
    "#### Still using the MNIST data, but sourcing it from Keras, it is stored in a slightly different format, but its the same data as in the scikit-learn example."
   ]
  },
  {
   "cell_type": "code",
   "execution_count": 15,
   "metadata": {},
   "outputs": [],
   "source": [
    "import numpy as np\n",
    "from tensorflow import keras\n",
    "from tensorflow.keras import layers\n",
    "\n",
    "# Model / data parameters\n",
    "num_classes = 10\n",
    "input_shape = (28, 28, 1)\n",
    "# 28 x 28 = 784\n",
    "\n",
    "# the data, split between train and test sets\n",
    "(x_train, y_train), (x_test, y_test) = keras.datasets.mnist.load_data()"
   ]
  },
  {
   "cell_type": "code",
   "execution_count": 16,
   "metadata": {},
   "outputs": [
    {
     "name": "stdout",
     "output_type": "stream",
     "text": [
      "x_train shape: (60000, 28, 28, 1)\n",
      "60000 train samples\n",
      "10000 test samples\n"
     ]
    }
   ],
   "source": [
    "# Scale images to the [0, 1] range\n",
    "x_train = x_train.astype(\"float32\") / 255\n",
    "x_test = x_test.astype(\"float32\") / 255\n",
    "\n",
    "# Make sure images have shape (28, 28, 1)\n",
    "x_train = np.expand_dims(x_train, -1)\n",
    "x_test = np.expand_dims(x_test, -1)\n",
    "print(\"x_train shape:\", x_train.shape)\n",
    "print(x_train.shape[0], \"train samples\")\n",
    "print(x_test.shape[0], \"test samples\")\n",
    "\n",
    "# convert class vectors to binary class matrices\n",
    "y_train = keras.utils.to_categorical(y_train, num_classes)\n",
    "y_test = keras.utils.to_categorical(y_test, num_classes)"
   ]
  },
  {
   "cell_type": "markdown",
   "metadata": {},
   "source": [
    "### Single Layer (aka `Logistic Regression`)\n",
    "We will sequentially add layers to the model.  \n",
    "- Input layer specifies the incoming data, i.e., the pixels.  \n",
    "- The next layer specifies the layers, which includes the number of units and the activation function.  \n",
    "- The final layer is the output layer, which is a `softmax` activation function since this is a multiclass problem."
   ]
  },
  {
   "cell_type": "code",
   "execution_count": 40,
   "metadata": {},
   "outputs": [
    {
     "name": "stdout",
     "output_type": "stream",
     "text": [
      "Model: \"Logistic\"\n",
      "_________________________________________________________________\n",
      "Layer (type)                 Output Shape              Param #   \n",
      "=================================================================\n",
      "Flatten (Flatten)            (None, 784)               0         \n",
      "_________________________________________________________________\n",
      "Softmax (Dense)              (None, 10)                7850      \n",
      "=================================================================\n",
      "Total params: 7,850\n",
      "Trainable params: 7,850\n",
      "Non-trainable params: 0\n",
      "_________________________________________________________________\n"
     ]
    }
   ],
   "source": [
    "model = keras.Sequential(\n",
    "    [\n",
    "        keras.Input(shape=input_shape),\n",
    "        layers.Flatten(name='Flatten'),\n",
    "        layers.Dense(num_classes, activation=\"softmax\", name=\"Softmax\")\n",
    "    ], name='Logistic'\n",
    ")\n",
    "model.summary()"
   ]
  },
  {
   "cell_type": "markdown",
   "metadata": {},
   "source": [
    "## Loss Functions for Neural Networks\n",
    "\n",
    "- Sigmoid or softmax are the output layers (binary/multiclass) which output class probabilities.  \n",
    "- Without them, you'd output logits.  \n",
    "- Cross-entropy (binary/categorical) is the loss, but need to specify it dependent on your output:\n",
    "\n",
    "<img src='diagrams/14_11_loss.png'>"
   ]
  },
  {
   "cell_type": "code",
   "execution_count": 41,
   "metadata": {},
   "outputs": [
    {
     "name": "stdout",
     "output_type": "stream",
     "text": [
      "Elapsed time: 0:00:11.873336\n"
     ]
    },
    {
     "data": {
      "image/png": "[encoded data removed]",
      "text/plain": [
       "<Figure size 432x288 with 1 Axes>"
      ]
     },
     "metadata": {
      "needs_background": "light"
     },
     "output_type": "display_data"
    },
    {
     "data": {
      "image/png": "[encoded data removed]",
      "text/plain": [
       "<Figure size 432x288 with 1 Axes>"
      ]
     },
     "metadata": {
      "needs_background": "light"
     },
     "output_type": "display_data"
    }
   ],
   "source": [
    "import datetime\n",
    "\n",
    "batch_size = 128\n",
    "epochs = 30\n",
    "\n",
    "model.compile(loss=\"categorical_crossentropy\", \n",
    "              optimizer=\"adam\", metrics=[\"accuracy\"])\n",
    "\n",
    "st = datetime.datetime.now()\n",
    "\n",
    "history = model.fit(x_train, y_train, \n",
    "          batch_size=batch_size, \n",
    "          epochs=epochs, validation_split=0.1, verbose=0)\n",
    "\n",
    "en = datetime.datetime.now()\n",
    "el = en - st\n",
    "\n",
    "print(f'Elapsed time: {el}')\n",
    "\n",
    "plt.plot(history.history['loss'])\n",
    "plt.title('Loss', loc='left')\n",
    "plt.ylim((0, 1))\n",
    "plt.show()\n",
    "\n",
    "plt.plot(history.history['accuracy'])\n",
    "plt.title('Accuracy', loc='left')\n",
    "plt.ylim((0.7, 1))\n",
    "plt.show()"
   ]
  },
  {
   "cell_type": "code",
   "execution_count": 35,
   "metadata": {},
   "outputs": [
    {
     "name": "stdout",
     "output_type": "stream",
     "text": [
      "Test loss: 0.263\n",
      "Test accuracy: 0.927\n"
     ]
    }
   ],
   "source": [
    "score = model.evaluate(x_test, y_test, verbose=0)\n",
    "print(f'Test loss: {score[0]:.3f}')\n",
    "print(f'Test accuracy: {score[1]:.3f}')"
   ]
  },
  {
   "cell_type": "markdown",
   "metadata": {},
   "source": [
    "### Multiple Hidden Layers"
   ]
  },
  {
   "cell_type": "code",
   "execution_count": 43,
   "metadata": {},
   "outputs": [
    {
     "name": "stdout",
     "output_type": "stream",
     "text": [
      "Model: \"2_Hidden_Layers\"\n",
      "_________________________________________________________________\n",
      "Layer (type)                 Output Shape              Param #   \n",
      "=================================================================\n",
      "Flatten (Flatten)            (None, 784)               0         \n",
      "_________________________________________________________________\n",
      "Hidden (Dense)               (None, 50)                39250     \n",
      "_________________________________________________________________\n",
      "Second (Dense)               (None, 50)                2550      \n",
      "_________________________________________________________________\n",
      "Output (Dense)               (None, 10)                510       \n",
      "=================================================================\n",
      "Total params: 42,310\n",
      "Trainable params: 42,310\n",
      "Non-trainable params: 0\n",
      "_________________________________________________________________\n"
     ]
    }
   ],
   "source": [
    "model = keras.Sequential(\n",
    "    [\n",
    "        keras.Input(shape=input_shape),\n",
    "        layers.Flatten(name='Flatten'),\n",
    "        layers.Dense(50, activation=\"relu\", name=\"Hidden\"),\n",
    "        layers.Dense(50, activation=\"relu\", name=\"Second\"),\n",
    "        layers.Dense(num_classes, activation=\"softmax\", name='Output'),\n",
    "    ], name='2_Hidden_Layers'\n",
    ")\n",
    "model.summary()"
   ]
  },
  {
   "cell_type": "markdown",
   "metadata": {},
   "source": [
    "> `Need to learn 42,310 parameters!`\n",
    "\n",
    "Potential issues:\n",
    "- Vanishing gradients - they'll get smaller as the number of layers increase. May cause convergence issues.  \n",
    "- In rarer cases, the gradients may increase and explode towards infinity.  \n",
    "- Using ReLU makes these rarer; sigmoid is much more suspectible.  \n",
    "    - It is possible for ReLU to only output `0` and many of the neurons will `die`. Leaky ReLU, $\\phi(z)=max(\\alpha z, z)$ guards against this issue."
   ]
  },
  {
   "cell_type": "markdown",
   "metadata": {},
   "source": [
    "> Sometimes you will need to normalize the output of the layer prior to moving it into the next layer, which is called `batch normalization`. It zero-centers and normalizes the outputs.\n",
    "\n",
    "```python\n",
    "model = keras.Sequential(\n",
    "    [\n",
    "        keras.Input(shape=input_shape),\n",
    "        layers.Flatten(name='Flatten'),\n",
    "        layers.Dense(50, activation=\"relu\", name=\"Hidden\"),\n",
    "        layers.BatchNormalization(),\n",
    "        layers.Dense(50, activation=\"relu\", name=\"Second\"),\n",
    "        layers.BatchNormalization(),\n",
    "        layers.Dense(num_classes, activation=\"softmax\", name='Output'),\n",
    "    ], name='2-Hidden Layers'\n",
    ")\n",
    "```\n",
    "\n",
    "Unfortunately, `BatchNormalization` has additional hyperparameters."
   ]
  },
  {
   "cell_type": "code",
   "execution_count": 44,
   "metadata": {},
   "outputs": [
    {
     "name": "stdout",
     "output_type": "stream",
     "text": [
      "Elapsed time: 0:00:15.035827\n"
     ]
    },
    {
     "data": {
      "image/png": "[encoded data removed]",
      "text/plain": [
       "<Figure size 432x288 with 1 Axes>"
      ]
     },
     "metadata": {
      "needs_background": "light"
     },
     "output_type": "display_data"
    },
    {
     "data": {
      "image/png": "[encoded data removed]",
      "text/plain": [
       "<Figure size 432x288 with 1 Axes>"
      ]
     },
     "metadata": {
      "needs_background": "light"
     },
     "output_type": "display_data"
    }
   ],
   "source": [
    "import datetime\n",
    "\n",
    "batch_size = 128\n",
    "epochs = 30\n",
    "\n",
    "model.compile(loss=\"categorical_crossentropy\", \n",
    "              optimizer=\"adam\", metrics=[\"accuracy\"])\n",
    "\n",
    "st = datetime.datetime.now()\n",
    "\n",
    "history = model.fit(x_train, y_train, \n",
    "          batch_size=batch_size, \n",
    "          epochs=epochs, validation_split=0.1, verbose=0)\n",
    "\n",
    "en = datetime.datetime.now()\n",
    "\n",
    "el = en - st\n",
    "print(f'Elapsed time: {el}')\n",
    "\n",
    "plt.plot(history.history['loss'])\n",
    "plt.title('Loss', loc='left')\n",
    "plt.ylim((0,1))\n",
    "plt.show()\n",
    "\n",
    "plt.plot(history.history['accuracy'])\n",
    "plt.title('Accuracy', loc='left')\n",
    "plt.ylim((0,1))\n",
    "plt.show()"
   ]
  },
  {
   "cell_type": "code",
   "execution_count": 45,
   "metadata": {},
   "outputs": [
    {
     "name": "stdout",
     "output_type": "stream",
     "text": [
      "Test loss: 0.128\n",
      "Test accuracy: 0.974\n"
     ]
    }
   ],
   "source": [
    "score = model.evaluate(x_test, y_test, verbose=0)\n",
    "print(f'Test loss: {score[0]:.3f}')\n",
    "print(f'Test accuracy: {score[1]:.3f}')"
   ]
  },
  {
   "cell_type": "markdown",
   "metadata": {},
   "source": [
    "## Regularizing\n",
    "- Each layer has support for $l_2$ or $l_1$ regularization. See [the documentation](https://keras.io/api/layers/regularizers/).  \n",
    "- Can also use `dropout`, which means we will drop a neuron with probability $p$ during a training step.  \n",
    "    - Usually works better for earlier layers.  \n",
    "    - Like $l_1$ and $l_2$, try if the model is overfitting.\n",
    "  \n",
    "#### Before\n",
    "<img src='files/diagrams/holdout-before.png' style='height: 300px'>\n",
    "\n",
    "#### After\n",
    "<img src='files/diagrams/holdout-after.png' style='height: 300px'>\n",
    "\n",
    "\n",
    "Example code:\n",
    "```python\n",
    "    keras.layers.Dropout(rate=0.2)\n",
    "```\n",
    "\n",
    "- If `dropout` after each layer is causing underfitting, try using with last layer only.  "
   ]
  },
  {
   "cell_type": "code",
   "execution_count": 51,
   "metadata": {},
   "outputs": [
    {
     "name": "stdout",
     "output_type": "stream",
     "text": [
      "Elapsed time: 0:00:24.709013\n"
     ]
    },
    {
     "data": {
      "image/png": "[encoded data removed]",
      "text/plain": [
       "<Figure size 432x288 with 1 Axes>"
      ]
     },
     "metadata": {
      "needs_background": "light"
     },
     "output_type": "display_data"
    },
    {
     "data": {
      "image/png": "[encoded data removed]",
      "text/plain": [
       "<Figure size 432x288 with 1 Axes>"
      ]
     },
     "metadata": {
      "needs_background": "light"
     },
     "output_type": "display_data"
    }
   ],
   "source": [
    "import datetime\n",
    "\n",
    "model = keras.Sequential(\n",
    "    [\n",
    "        keras.Input(shape=input_shape),\n",
    "        layers.Flatten(name='Flatten'),\n",
    "        layers.Dense(50, activation=\"relu\", name=\"Hidden\"),\n",
    "        layers.Dense(50, activation=\"relu\", name=\"Second\"),\n",
    "        layers.Dropout(0.5),\n",
    "        layers.Dense(num_classes, activation=\"softmax\", name='Output'),\n",
    "    ], name='2_Hidden_Layers'\n",
    ")\n",
    "\n",
    "batch_size = 128\n",
    "epochs = 50\n",
    "\n",
    "model.compile(loss=\"categorical_crossentropy\", \n",
    "              optimizer=\"adam\", metrics=[\"accuracy\"])\n",
    "\n",
    "st = datetime.datetime.now()\n",
    "\n",
    "history = model.fit(x_train, y_train, \n",
    "          batch_size=batch_size, \n",
    "          epochs=epochs, validation_split=0.1, verbose=0)\n",
    "\n",
    "en = datetime.datetime.now()\n",
    "\n",
    "el = en - st\n",
    "print(f'Elapsed time: {el}')\n",
    "\n",
    "plt.plot(history.history['loss'])\n",
    "plt.title('Loss', loc='left')\n",
    "plt.ylim((0,1))\n",
    "plt.show()\n",
    "\n",
    "plt.plot(history.history['accuracy'])\n",
    "plt.title('Accuracy', loc='left')\n",
    "plt.ylim((0,1))\n",
    "plt.show()"
   ]
  },
  {
   "cell_type": "code",
   "execution_count": 52,
   "metadata": {},
   "outputs": [
    {
     "name": "stdout",
     "output_type": "stream",
     "text": [
      "Test loss: 0.158\n",
      "Test accuracy: 0.971\n"
     ]
    }
   ],
   "source": [
    "score = model.evaluate(x_test, y_test, verbose=0)\n",
    "print(f'Test loss: {score[0]:.3f}')\n",
    "print(f'Test accuracy: {score[1]:.3f}')"
   ]
  },
  {
   "cell_type": "markdown",
   "metadata": {},
   "source": [
    "# Nonsequential Networks (Wide & Deep)\n",
    "Allows for learning simple and deep rules.\n",
    "\n",
    "- [Example on Keras's website](https://keras.io/examples/structured_data/wide_deep_cross_networks/)  \n",
    "- [Wide and Deep for Recommendation Systems](https://arxiv.org/abs/1606.07792)  \n",
    "- [Google Article on Wide & Deep](https://ai.googleblog.com/2016/06/wide-deep-learning-better-together-with.html)\n",
    "\n",
    "<img src='diagrams/wide_deep.png' style='width: 900px'>\n",
    "\n",
    "[Image Source: Google AI Blog: Wide & Deep Learning: Better Together](https://ai.googleblog.com/2016/06/wide-deep-learning-better-together-with.html)\n",
    "\n"
   ]
  },
  {
   "cell_type": "markdown",
   "metadata": {},
   "source": [
    "### Wide & Deep on California Housing Data (Regression)\n",
    "Pages 307-310, Hands-on Machine Learning with Scikit-Learn, Keras & TensorFlow"
   ]
  },
  {
   "cell_type": "code",
   "execution_count": 1,
   "metadata": {},
   "outputs": [
    {
     "data": {
      "text/plain": [
       "(20640, 8)"
      ]
     },
     "execution_count": 1,
     "metadata": {},
     "output_type": "execute_result"
    }
   ],
   "source": [
    "from sklearn.datasets import fetch_california_housing\n",
    "from sklearn.model_selection import train_test_split\n",
    "from sklearn.preprocessing import StandardScaler\n",
    "\n",
    "housing = fetch_california_housing()\n",
    "housing.data.shape"
   ]
  },
  {
   "cell_type": "markdown",
   "metadata": {},
   "source": [
    "#### Split into training, validation, test"
   ]
  },
  {
   "cell_type": "code",
   "execution_count": 2,
   "metadata": {},
   "outputs": [
    {
     "name": "stdout",
     "output_type": "stream",
     "text": [
      "Training examples: 13,209\n",
      "Validation examples: 3,303\n",
      "Test examples: 4,128\n"
     ]
    }
   ],
   "source": [
    "X_train, X_test, y_train, y_test = train_test_split(housing.data, housing.target, test_size = 0.20)\n",
    "X_train, X_val, y_train, y_val = train_test_split(X_train, y_train, test_size = 0.20)\n",
    "\n",
    "print(f'Training examples: {X_train.shape[0]:,}')\n",
    "print(f'Validation examples: {X_val.shape[0]:,}')\n",
    "print(f'Test examples: {X_test.shape[0]:,}')"
   ]
  },
  {
   "cell_type": "markdown",
   "metadata": {},
   "source": [
    "#### Standardize - rules determined on training and applied to validation and test data"
   ]
  },
  {
   "cell_type": "code",
   "execution_count": 3,
   "metadata": {},
   "outputs": [],
   "source": [
    "scaler = StandardScaler()\n",
    "X_train = scaler.fit_transform(X_train)\n",
    "X_val = scaler.transform(X_val)\n",
    "X_tes = scaler.transform(X_test)"
   ]
  },
  {
   "cell_type": "markdown",
   "metadata": {},
   "source": [
    "#### Wide & Deep Model"
   ]
  },
  {
   "cell_type": "code",
   "execution_count": 4,
   "metadata": {},
   "outputs": [
    {
     "name": "stdout",
     "output_type": "stream",
     "text": [
      "Model: \"model\"\n",
      "__________________________________________________________________________________________________\n",
      "Layer (type)                    Output Shape         Param #     Connected to                     \n",
      "==================================================================================================\n",
      "input_1 (InputLayer)            [(None, 8)]          0                                            \n",
      "__________________________________________________________________________________________________\n",
      "dense (Dense)                   (None, 30)           270         input_1[0][0]                    \n",
      "__________________________________________________________________________________________________\n",
      "dense_1 (Dense)                 (None, 30)           930         dense[0][0]                      \n",
      "__________________________________________________________________________________________________\n",
      "dense_2 (Dense)                 (None, 30)           930         dense_1[0][0]                    \n",
      "__________________________________________________________________________________________________\n",
      "concatenate (Concatenate)       (None, 38)           0           input_1[0][0]                    \n",
      "                                                                 dense_2[0][0]                    \n",
      "__________________________________________________________________________________________________\n",
      "dense_3 (Dense)                 (None, 1)            39          concatenate[0][0]                \n",
      "==================================================================================================\n",
      "Total params: 2,169\n",
      "Trainable params: 2,169\n",
      "Non-trainable params: 0\n",
      "__________________________________________________________________________________________________\n"
     ]
    }
   ],
   "source": [
    "from tensorflow import keras\n",
    "from tensorflow.keras import layers\n",
    "\n",
    "input_  = layers.Input(shape=X_train.shape[1:])\n",
    "hidden1 = layers.Dense(30, activation=\"relu\")(input_)\n",
    "hidden2 = layers.Dense(30, activation=\"relu\")(hidden1)\n",
    "hidden3 = layers.Dense(30, activation=\"relu\")(hidden2)\n",
    "concat  = layers.Concatenate()([input_, hidden3])\n",
    "output  = layers.Dense(1)(concat)\n",
    "\n",
    "model = keras.Model(inputs=[input_], outputs=[output])\n",
    "model.summary()"
   ]
  },
  {
   "cell_type": "markdown",
   "metadata": {},
   "source": [
    "> Input funnels to 1st, 2nd, and 3rd Hidden Layer; then is concatenated back with the input."
   ]
  },
  {
   "cell_type": "code",
   "execution_count": 5,
   "metadata": {},
   "outputs": [
    {
     "name": "stdout",
     "output_type": "stream",
     "text": [
      "Elapsed time: 0:00:10.657027\n"
     ]
    },
    {
     "data": {
      "image/png": "[encoded data removed]",
      "text/plain": [
       "<Figure size 432x288 with 1 Axes>"
      ]
     },
     "metadata": {
      "needs_background": "light"
     },
     "output_type": "display_data"
    }
   ],
   "source": [
    "import datetime\n",
    "\n",
    "model.compile(loss='mse', optimizer='adam')\n",
    "\n",
    "st = datetime.datetime.now()\n",
    "\n",
    "history = model.fit(X_train, y_train, epochs=30, validation_data=(X_val, y_val), verbose=0)\n",
    "\n",
    "en = datetime.datetime.now()\n",
    "el = en-st\n",
    "\n",
    "print(f'Elapsed time: {el}')\n",
    "import matplotlib.pyplot as plt\n",
    "%matplotlib inline\n",
    "\n",
    "plt.plot(history.history['loss'])\n",
    "plt.title('Loss', loc='left')\n",
    "plt.show()"
   ]
  },
  {
   "cell_type": "markdown",
   "metadata": {},
   "source": [
    "> Different inputs can be used for the simple and shallow rules.  \n",
    "\n",
    "> You can also have multiple outputs."
   ]
  },
  {
   "cell_type": "markdown",
   "metadata": {},
   "source": [
    "### Saving and loading Models"
   ]
  },
  {
   "cell_type": "code",
   "execution_count": 27,
   "metadata": {},
   "outputs": [
    {
     "name": "stdout",
     "output_type": "stream",
     "text": [
      "neural-networks-recurrent.ipynb\n",
      ".DS_Store\n",
      "diagrams\n",
      "neural-networks-convolutions.ipynb\n",
      ".ipynb_checkpoints\n",
      "neural-networks.ipynb\n",
      "data\n",
      "california-housing.h5\n"
     ]
    }
   ],
   "source": [
    "model.save('california-housing.h5')\n",
    "\n",
    "import os\n",
    "print(*os.listdir(), sep='\\n')"
   ]
  },
  {
   "cell_type": "code",
   "execution_count": 28,
   "metadata": {},
   "outputs": [
    {
     "name": "stdout",
     "output_type": "stream",
     "text": [
      "Model: \"model_1\"\n",
      "__________________________________________________________________________________________________\n",
      "Layer (type)                    Output Shape         Param #     Connected to                     \n",
      "==================================================================================================\n",
      "input_2 (InputLayer)            [(None, 8)]          0                                            \n",
      "__________________________________________________________________________________________________\n",
      "dense_4 (Dense)                 (None, 30)           270         input_2[0][0]                    \n",
      "__________________________________________________________________________________________________\n",
      "dense_5 (Dense)                 (None, 30)           930         dense_4[0][0]                    \n",
      "__________________________________________________________________________________________________\n",
      "dense_6 (Dense)                 (None, 30)           930         dense_5[0][0]                    \n",
      "__________________________________________________________________________________________________\n",
      "concatenate_1 (Concatenate)     (None, 38)           0           input_2[0][0]                    \n",
      "                                                                 dense_6[0][0]                    \n",
      "__________________________________________________________________________________________________\n",
      "dense_7 (Dense)                 (None, 1)            39          concatenate_1[0][0]              \n",
      "==================================================================================================\n",
      "Total params: 2,169\n",
      "Trainable params: 2,169\n",
      "Non-trainable params: 0\n",
      "__________________________________________________________________________________________________\n"
     ]
    }
   ],
   "source": [
    "model = keras.models.load_model('california-housing.h5')\n",
    "model.summary()"
   ]
  },
  {
   "cell_type": "markdown",
   "metadata": {},
   "source": [
    "> Really long training can use callbacks/check-points to save your models periodically."
   ]
  },
  {
   "cell_type": "markdown",
   "metadata": {},
   "source": [
    "## Tuning Parameters\n",
    "- The amount of hyperparameters and architecture options making tuning difficult and time consuming.  \n",
    "- Simple forward-feed model will have:\n",
    "    - number of layers. \n",
    "    - number of neurons per layer.  \n",
    "    - type of activation function per layer.  \n",
    "    - initialization logic.  \n",
    "    - learning rate.  \n",
    "    - ...\n",
    "- Can use scikit-learn's grid search to make some of this easier.  \n",
    "- You can use inspect part of a space, see if it looks promising and explore around it.  \n",
    "- Packages that can help:  \n",
    "    - Hyperopt  \n",
    "    - Hyperas  \n",
    "    - Keras Tuner  \n",
    "    - Scikit-Optimize  \n",
    "    - Spearmint  \n",
    "    - Sklearn-Deep\n",
    "    - Google Cloud has also options for tuning.  \n",
    "    \n",
    "[Paper on Uber's Evolutionary Approach](https://eng.uber.com/deep-neuroevolution/)"
   ]
  },
  {
   "cell_type": "code",
   "execution_count": 6,
   "metadata": {},
   "outputs": [],
   "source": [
    "def build_model(n_hidden=1, n_neurons=30, learning_rate=3e-3, input_shape=[8]):\n",
    "    '''\n",
    "    Source page 320, Hands-on Machine Learning with Scikit-Learn, Keras & TensorFlow\n",
    "    '''\n",
    "    model = keras.models.Sequential()\n",
    "    model.add(keras.layers.InputLayer(input_shape=input_shape))\n",
    "    \n",
    "    for layer in range(n_hidden):\n",
    "        model.add(keras.layers.Dense(n_neurons, activation=\"relu\"))\n",
    "        \n",
    "    model.add(keras.layers.Dense(1))\n",
    "    optimizer = keras.optimizers.SGD(lr=learning_rate)\n",
    "    model.compile(loss='mse', optimizer=optimizer)\n",
    "    return model\n",
    "\n",
    "keras_reg = keras.wrappers.scikit_learn.KerasRegressor(build_model)"
   ]
  },
  {
   "cell_type": "markdown",
   "metadata": {},
   "source": [
    "### Using Randomized Search"
   ]
  },
  {
   "cell_type": "code",
   "execution_count": 11,
   "metadata": {},
   "outputs": [
    {
     "name": "stdout",
     "output_type": "stream",
     "text": [
      "4403/4403 [==============================] - 0s 15us/sample - loss: 0.3818\n",
      "4403/4403 [==============================] - 0s 15us/sample - loss: 0.4275\n",
      "4403/4403 [==============================] - 0s 17us/sample - loss: 0.3754\n",
      "4403/4403 [==============================] - 0s 18us/sample - loss: 0.3936\n",
      "4403/4403 [==============================] - 0s 17us/sample - loss: 0.4890\n",
      "4403/4403 [==============================] - 0s 17us/sample - loss: 0.4024\n",
      "4403/4403 [==============================] - 0s 17us/sample - loss: 0.3570\n",
      "4403/4403 [==============================] - 0s 17us/sample - loss: 0.4028\n",
      "4403/4403 [==============================] - 0s 18us/sample - loss: 0.3487\n",
      "4403/4403 [==============================] - 0s 21us/sample - loss: 0.3947\n",
      "4403/4403 [==============================] - 0s 14us/sample - loss: 0.4758\n",
      "4403/4403 [==============================] - 0s 15us/sample - loss: 0.3910\n",
      "4403/4403 [==============================] - 0s 18us/sample - loss: 0.3919\n",
      "4403/4403 [==============================] - 0s 18us/sample - loss: 0.4135\n",
      "4403/4403 [==============================] - 0s 14us/sample - loss: 0.3845\n",
      "Elapsed time: 0:03:10.846895\n"
     ]
    }
   ],
   "source": [
    "from scipy.stats import reciprocal\n",
    "from sklearn.model_selection import RandomizedSearchCV\n",
    "import numpy as np\n",
    "import datetime\n",
    "\n",
    "params = {\n",
    "    'n_hidden': (1, 2),\n",
    "    'n_neurons': (1,2,3,4,5,6,7,9,10,11,12,13,14,15,16,17,18,19,20)\n",
    "}\n",
    "\n",
    "st = datetime.datetime.now()\n",
    "rnd_search_cv = RandomizedSearchCV(keras_reg, params, n_iter=5, cv=3)\n",
    "rnd_search_cv = rnd_search_cv.fit(X_train, y_train, epochs=50, validation_data=(X_val, y_val), verbose=0)\n",
    "\n",
    "en = datetime.datetime.now()\n",
    "el = en - st\n",
    "print(f'Elapsed time: {el}')"
   ]
  },
  {
   "cell_type": "code",
   "execution_count": 16,
   "metadata": {},
   "outputs": [
    {
     "data": {
      "text/plain": [
       "{'n_neurons': 20, 'n_hidden': 2}"
      ]
     },
     "execution_count": 16,
     "metadata": {},
     "output_type": "execute_result"
    }
   ],
   "source": [
    "rnd_search_cv.best_params_"
   ]
  },
  {
   "cell_type": "markdown",
   "metadata": {},
   "source": [
    "## Additional Types of Advanced Neural Networks\n",
    "- [Convolutional Networks](https://www.ibm.com/cloud/learn/convolutional-neural-networks)  \n",
    "- [Autoencoders](https://en.wikipedia.org/wiki/Autoencoder)  \n",
    "- [Recurrent Neural Networks](https://en.wikipedia.org/wiki/Recurrent_neural_network)  \n",
    "- [Generative Adversarial Networks](https://en.wikipedia.org/wiki/Generative_adversarial_network) \n",
    "- [Graph Neural Networks](https://arxiv.org/pdf/1812.08434.pdf)  \n",
    "- [Autoencoders](https://en.wikipedia.org/wiki/Autoencoder)  "
   ]
  }
 ],
 "metadata": {
  "kernelspec": {
   "display_name": "Python 3.7.3 64-bit ('base': conda)",
   "language": "python",
   "name": "python37364bitbaseconda3e66817595a24f3b851fad3315f1c145"
  },
  "language_info": {
   "codemirror_mode": {
    "name": "ipython",
    "version": 3
   },
   "file_extension": ".py",
   "mimetype": "text/x-python",
   "name": "python",
   "nbconvert_exporter": "python",
   "pygments_lexer": "ipython3",
   "version": "3.7.3"
  }
 },
 "nbformat": 4,
 "nbformat_minor": 4
}
