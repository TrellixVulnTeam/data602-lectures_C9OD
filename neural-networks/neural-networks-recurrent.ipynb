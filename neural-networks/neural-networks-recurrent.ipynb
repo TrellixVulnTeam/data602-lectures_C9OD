{
 "cells": [
  {
   "cell_type": "markdown",
   "metadata": {},
   "source": [
    "# Sequential Data and Recurrent Neural Networks (RNN)\n",
    "- Neural networks for sequences of data, e.g., speech, time series data, essentially anything that generates itself in a sequence. All time series data is sequential, but not all sequential data is time series, e.g., DNA sequences.    \n",
    "- Order of the data is important, i.e., $t$ is dependent on $t_{-1}$. Normally our models demand (assume) the data is independently and identically distributed, so this is a departure which requires different techniques and models.  \n",
    "- See the [Keras RNN Guide](https://keras.io/guides/working_with_rnns/) for more info.\n",
    "\n",
    "<img src='files/diagrams/sequences.png' style='width: 600 px'>\n",
    "\n",
    "### Use cases:\n",
    "- Time series (e.g., electricity forecasting). \n",
    "- Speech processing.  \n",
    "- Signal analysis.  \n",
    "- Gene sequences.  \n",
    "- Music generation."
   ]
  },
  {
   "cell_type": "markdown",
   "metadata": {},
   "source": [
    "### Simple Time Series Example\n",
    "\n",
    "> Data is the S&P500 stock index, a very time series data set."
   ]
  },
  {
   "cell_type": "code",
   "execution_count": 1,
   "metadata": {},
   "outputs": [
    {
     "name": "stdout",
     "output_type": "stream",
     "text": [
      "<class 'pandas.core.frame.DataFrame'>\n",
      "RangeIndex: 16467 entries, 0 to 16466\n",
      "Data columns (total 7 columns):\n",
      " #   Column     Non-Null Count  Dtype  \n",
      "---  ------     --------------  -----  \n",
      " 0   Date       16467 non-null  object \n",
      " 1   Open       16467 non-null  float64\n",
      " 2   High       16467 non-null  float64\n",
      " 3   Low        16467 non-null  float64\n",
      " 4   Close      16467 non-null  float64\n",
      " 5   Volume     16467 non-null  int64  \n",
      " 6   Adj Close  16467 non-null  float64\n",
      "dtypes: float64(5), int64(1), object(1)\n",
      "memory usage: 900.7+ KB\n"
     ]
    }
   ],
   "source": [
    "import pandas as pd\n",
    "import numpy as np\n",
    "import matplotlib.pyplot as plt\n",
    "%matplotlib inline\n",
    "\n",
    "stocks = pd.read_csv('data/stocks.csv')\n",
    "stocks.info()"
   ]
  },
  {
   "cell_type": "code",
   "execution_count": 2,
   "metadata": {},
   "outputs": [
    {
     "data": {
      "text/html": [
       "<div>\n",
       "<style scoped>\n",
       "    .dataframe tbody tr th:only-of-type {\n",
       "        vertical-align: middle;\n",
       "    }\n",
       "\n",
       "    .dataframe tbody tr th {\n",
       "        vertical-align: top;\n",
       "    }\n",
       "\n",
       "    .dataframe thead th {\n",
       "        text-align: right;\n",
       "    }\n",
       "</style>\n",
       "<table border=\"1\" class=\"dataframe\">\n",
       "  <thead>\n",
       "    <tr style=\"text-align: right;\">\n",
       "      <th></th>\n",
       "      <th>Open</th>\n",
       "      <th>High</th>\n",
       "      <th>Low</th>\n",
       "      <th>Close</th>\n",
       "      <th>Volume</th>\n",
       "      <th>Adj Close</th>\n",
       "    </tr>\n",
       "    <tr>\n",
       "      <th>Date</th>\n",
       "      <th></th>\n",
       "      <th></th>\n",
       "      <th></th>\n",
       "      <th></th>\n",
       "      <th></th>\n",
       "      <th></th>\n",
       "    </tr>\n",
       "  </thead>\n",
       "  <tbody>\n",
       "    <tr>\n",
       "      <th>2015-06-12</th>\n",
       "      <td>2107.429932</td>\n",
       "      <td>2107.429932</td>\n",
       "      <td>2091.330078</td>\n",
       "      <td>2094.110107</td>\n",
       "      <td>2719400000</td>\n",
       "      <td>2094.110107</td>\n",
       "    </tr>\n",
       "    <tr>\n",
       "      <th>2015-06-11</th>\n",
       "      <td>2106.239990</td>\n",
       "      <td>2115.020020</td>\n",
       "      <td>2106.239990</td>\n",
       "      <td>2108.860107</td>\n",
       "      <td>3128600000</td>\n",
       "      <td>2108.860107</td>\n",
       "    </tr>\n",
       "    <tr>\n",
       "      <th>2015-06-10</th>\n",
       "      <td>2081.120117</td>\n",
       "      <td>2108.500000</td>\n",
       "      <td>2081.120117</td>\n",
       "      <td>2105.199951</td>\n",
       "      <td>3414320000</td>\n",
       "      <td>2105.199951</td>\n",
       "    </tr>\n",
       "    <tr>\n",
       "      <th>2015-06-09</th>\n",
       "      <td>2079.070068</td>\n",
       "      <td>2085.620117</td>\n",
       "      <td>2072.139893</td>\n",
       "      <td>2080.149902</td>\n",
       "      <td>3034580000</td>\n",
       "      <td>2080.149902</td>\n",
       "    </tr>\n",
       "    <tr>\n",
       "      <th>2015-06-08</th>\n",
       "      <td>2092.340088</td>\n",
       "      <td>2093.010010</td>\n",
       "      <td>2079.110107</td>\n",
       "      <td>2079.280029</td>\n",
       "      <td>2917150000</td>\n",
       "      <td>2079.280029</td>\n",
       "    </tr>\n",
       "  </tbody>\n",
       "</table>\n",
       "</div>"
      ],
      "text/plain": [
       "                   Open         High          Low        Close      Volume  \\\n",
       "Date                                                                         \n",
       "2015-06-12  2107.429932  2107.429932  2091.330078  2094.110107  2719400000   \n",
       "2015-06-11  2106.239990  2115.020020  2106.239990  2108.860107  3128600000   \n",
       "2015-06-10  2081.120117  2108.500000  2081.120117  2105.199951  3414320000   \n",
       "2015-06-09  2079.070068  2085.620117  2072.139893  2080.149902  3034580000   \n",
       "2015-06-08  2092.340088  2093.010010  2079.110107  2079.280029  2917150000   \n",
       "\n",
       "              Adj Close  \n",
       "Date                     \n",
       "2015-06-12  2094.110107  \n",
       "2015-06-11  2108.860107  \n",
       "2015-06-10  2105.199951  \n",
       "2015-06-09  2080.149902  \n",
       "2015-06-08  2079.280029  "
      ]
     },
     "execution_count": 2,
     "metadata": {},
     "output_type": "execute_result"
    }
   ],
   "source": [
    "stocks['Date'] = pd.to_datetime(stocks['Date'])\n",
    "stocks = stocks.set_index('Date')\n",
    "stocks.head()"
   ]
  },
  {
   "cell_type": "code",
   "execution_count": 3,
   "metadata": {
    "scrolled": true
   },
   "outputs": [
    {
     "data": {
      "image/png": "[encoded data removed]",
      "text/plain": [
       "<Figure size 432x288 with 1 Axes>"
      ]
     },
     "metadata": {
      "needs_background": "light"
     },
     "output_type": "display_data"
    }
   ],
   "source": [
    "closePrice = stocks['Close'].resample('Q').mean()\n",
    "closePrice = np.log(closePrice)\n",
    "closePrice = closePrice.diff()\n",
    "closePrice = closePrice[closePrice.notna()]\n",
    "\n",
    "closePrice.plot()\n",
    "plt.title('Average Close Price Returns')\n",
    "plt.xlabel('')\n",
    "plt.ylabel('')\n",
    "plt.show()"
   ]
  },
  {
   "cell_type": "markdown",
   "metadata": {},
   "source": [
    "> Might be valuable if we could predict future values?\n",
    "\n",
    "\n",
    "> If you are forecasting time series, there are special considerations you need to take into account! Your time series needs to be mean/co-variance stationary. Usually when forecasting, what we'll actually be forecasting is some type of rate of change or log-difference.\n",
    "\n",
    "\n",
    "### Differences from ANNs\n",
    "> Not feed-forward, RNNs have loops!\n",
    "\n",
    "> Looking at blocks (units) of memory versus neurons. \n",
    "\n",
    "<img src='files/diagrams/ann-vs-recurrent.png' style='height: 200 px'>\n",
    "\n",
    "[Source: Raschka Chapter 16](https://github.com/rasbt/python-machine-learning-book-3rd-edition/tree/master/ch16/images)\n",
    "\n",
    "#### Activations Computed with a Weight Matrix that takes $t0$ `and` $t_{-1}$\n",
    "\n",
    "\n",
    "<img src='files/diagrams/recurrent-form.png' style='height: 200 px'>\n",
    "\n",
    "[Source: Raschka Chapter 16](https://github.com/rasbt/python-machine-learning-book-3rd-edition/tree/master/ch16/images)\n",
    "\n",
    "\n",
    "- Read the read sequentially, either by time or sequence ($t$).  \n",
    "- At $t$, we update the state $h_{l,u}$ by calcuating the linear combination of the input feature vector and the $t-1$ state vector.  \n",
    "- $h^t_{l,u}$ is calculated using $w_{l,u}$ and $u_{l,u}$ and the parameter $b_{l,u}$. $h^t_{l,u}$ is obtained after applying an activation function.  \n",
    "- The activation functions can have the vanishing gradient problem, the cause and effect can be lost from longer sequences.  \n",
    "- Gated RNNs protect against vanishing gradients and retain the short/long-term memory. These long short-term memory (LSTM) networks can store history more efficiently. What information that is used is learned by the network.  \n",
    "- Common gates are comprised at least of memory and forget gates and the history retained is learned from these, e.g., how many lags are important in time series analysis with data that contains unknown seasonality."
   ]
  },
  {
   "cell_type": "code",
   "execution_count": 4,
   "metadata": {},
   "outputs": [
    {
     "data": {
      "text/plain": [
       "(261, 1)"
      ]
     },
     "execution_count": 4,
     "metadata": {},
     "output_type": "execute_result"
    }
   ],
   "source": [
    "import tensorflow as tf\n",
    "from tensorflow import keras\n",
    "from tensorflow.keras import layers\n",
    "from keras.models import Sequential\n",
    "from keras.layers import Dense\n",
    "from keras.layers import LSTM\n",
    "from sklearn.metrics import mean_squared_error\n",
    "import numpy as np\n",
    "\n",
    "# Suppress silly warnings\n",
    "tf.autograph.set_verbosity(\n",
    "    5, alsologtostdout=False\n",
    ")\n",
    "\n",
    "np.random.seed(10)\n",
    "\n",
    "# Need to scale the data\n",
    "cP = np.array(closePrice)\n",
    "cP = cP.reshape(-1,1)\n",
    "cP.shape"
   ]
  },
  {
   "cell_type": "markdown",
   "metadata": {},
   "source": [
    "#### Split into training and test"
   ]
  },
  {
   "cell_type": "code",
   "execution_count": 5,
   "metadata": {},
   "outputs": [
    {
     "name": "stdout",
     "output_type": "stream",
     "text": [
      "208 53\n"
     ]
    }
   ],
   "source": [
    "train_size = int(len(cP) * 0.80)\n",
    "test_size = len(cP) - train_size\n",
    "\n",
    "train, test = cP[0:train_size,:], cP[train_size:len(cP),:]\n",
    "print(len(train), len(test))"
   ]
  },
  {
   "cell_type": "markdown",
   "metadata": {},
   "source": [
    "### Function to create the data set\n",
    "Pieces borrowed from: [Machine Learning Mastery Time Series Blog](https://machinelearningmastery.com/time-series-prediction-lstm-recurrent-neural-networks-python-keras/)"
   ]
  },
  {
   "cell_type": "code",
   "execution_count": 6,
   "metadata": {},
   "outputs": [],
   "source": [
    "def create_dataset(dataset, look_back=1):\n",
    "    \n",
    "    dataX, dataY = [], []\n",
    "\n",
    "    for i in range(len(dataset)-look_back-1):\n",
    "        a = dataset[i:(i+look_back), 0]\n",
    "        dataX.append(a)\n",
    "        dataY.append(dataset[i + look_back, 0])\n",
    "    return np.array(dataX), np.array(dataY)\n",
    "\n",
    "look_back = 1\n",
    "trainX, trainY = create_dataset(train, look_back)\n",
    "testX, testY = create_dataset(test, look_back)"
   ]
  },
  {
   "cell_type": "code",
   "execution_count": 7,
   "metadata": {},
   "outputs": [],
   "source": [
    "trainX = np.reshape(trainX, (trainX.shape[0], 1, trainX.shape[1]))\n",
    "testX = np.reshape(testX, (testX.shape[0], 1, testX.shape[1]))"
   ]
  },
  {
   "cell_type": "markdown",
   "metadata": {},
   "source": [
    "### Build Models\n",
    "> Notice we are using `Long-term Short-term` (LSTM) layers for recurrent networks."
   ]
  },
  {
   "cell_type": "code",
   "execution_count": 8,
   "metadata": {},
   "outputs": [],
   "source": [
    "import os\n",
    "os.environ['TF_CPP_MIN_LOG_LEVEL'] = '2'\n",
    "import tensorflow as tf\n",
    "tf.compat.v1.logging.set_verbosity(tf.compat.v1.logging.ERROR)"
   ]
  },
  {
   "cell_type": "code",
   "execution_count": 9,
   "metadata": {},
   "outputs": [
    {
     "data": {
      "text/plain": [
       "<keras.callbacks.History at 0x7fed6f3ca550>"
      ]
     },
     "execution_count": 9,
     "metadata": {},
     "output_type": "execute_result"
    }
   ],
   "source": [
    "model = Sequential()\n",
    "model.add(LSTM(10, input_shape=(1, look_back)))\n",
    "model.add(Dense(1))\n",
    "model.compile(loss='mean_squared_error', optimizer='adam')\n",
    "model.fit(trainX, trainY, epochs=50, batch_size=1, verbose=0)"
   ]
  },
  {
   "cell_type": "markdown",
   "metadata": {},
   "source": [
    "### Evaluate Predictions"
   ]
  },
  {
   "cell_type": "code",
   "execution_count": 10,
   "metadata": {},
   "outputs": [
    {
     "data": {
      "text/plain": [
       "((206, 1), (51, 1))"
      ]
     },
     "execution_count": 10,
     "metadata": {},
     "output_type": "execute_result"
    }
   ],
   "source": [
    "import math \n",
    "trainPredict = model.predict(trainX)\n",
    "testPredict = model.predict(testX)\n",
    "\n",
    "trainPredict.shape, testPredict.shape"
   ]
  },
  {
   "cell_type": "code",
   "execution_count": 11,
   "metadata": {},
   "outputs": [
    {
     "data": {
      "text/plain": [
       "(206, 1)"
      ]
     },
     "execution_count": 11,
     "metadata": {},
     "output_type": "execute_result"
    }
   ],
   "source": [
    "trainY = trainY.reshape(-1,1)\n",
    "trainY.shape"
   ]
  },
  {
   "cell_type": "code",
   "execution_count": 12,
   "metadata": {},
   "outputs": [
    {
     "data": {
      "text/plain": [
       "(51, 1)"
      ]
     },
     "execution_count": 12,
     "metadata": {},
     "output_type": "execute_result"
    }
   ],
   "source": [
    "testY = testY.reshape(-1,1)\n",
    "testY.shape"
   ]
  },
  {
   "cell_type": "code",
   "execution_count": 13,
   "metadata": {},
   "outputs": [
    {
     "name": "stdout",
     "output_type": "stream",
     "text": [
      "Train Score: 0.05 RMSE\n",
      "Test Score: 0.07 RMSE\n"
     ]
    }
   ],
   "source": [
    "# Calculate root mean squared error\n",
    "import math\n",
    "\n",
    "trainScore = math.sqrt(mean_squared_error(trainY, trainPredict))\n",
    "print('Train Score: %.2f RMSE' % (trainScore))\n",
    "testScore = math.sqrt(mean_squared_error(testY, testPredict))\n",
    "print('Test Score: %.2f RMSE' % (testScore))"
   ]
  },
  {
   "cell_type": "code",
   "execution_count": 14,
   "metadata": {},
   "outputs": [
    {
     "data": {
      "text/plain": [
       "(257, 1)"
      ]
     },
     "execution_count": 14,
     "metadata": {},
     "output_type": "execute_result"
    }
   ],
   "source": [
    "results = np.concatenate((trainY, testY), axis=0)\n",
    "results.shape"
   ]
  },
  {
   "cell_type": "code",
   "execution_count": 15,
   "metadata": {},
   "outputs": [
    {
     "data": {
      "image/png": "[encoded data removed]",
      "text/plain": [
       "<Figure size 432x288 with 1 Axes>"
      ]
     },
     "metadata": {
      "needs_background": "light"
     },
     "output_type": "display_data"
    }
   ],
   "source": [
    "# shift train predictions for plotting\n",
    "trainPredictPlot = np.empty_like(cP)\n",
    "trainPredictPlot[:, :] = np.nan\n",
    "trainPredictPlot[look_back:len(trainPredict)+look_back, :] = trainPredict\n",
    "\n",
    "# shift test predictions for plotting\n",
    "testPredictPlot = np.empty_like(cP)\n",
    "testPredictPlot[:, :] = np.nan\n",
    "testPredictPlot[len(trainPredict)+(look_back*2)+1:len(cP)-1, :] = testPredict\n",
    "\n",
    "# plot baseline and predictions\n",
    "plt.plot(cP)\n",
    "plt.plot(testPredictPlot)\n",
    "plt.vlines(train_size,-0.5,0.5)\n",
    "plt.show()"
   ]
  },
  {
   "cell_type": "markdown",
   "metadata": {},
   "source": [
    "> There are many methods for time series, see [Hyndman's Text](https://otexts.com/fpp2/) for techniques and additional non-neural network models."
   ]
  },
  {
   "cell_type": "markdown",
   "metadata": {},
   "source": [
    "### IMDB (yes, again `:)` ) for Sentiment Analysis\n",
    "<img src='files/diagrams/manymany.png' style='height: 200 px'>\n",
    "\n",
    "[Source: Raschka Chapter 16](https://github.com/rasbt/python-machine-learning-book-3rd-edition/tree/master/ch16/images)"
   ]
  },
  {
   "cell_type": "markdown",
   "metadata": {},
   "source": [
    "### Load the IMDB Data\n",
    "Recall it's 50,000 observations of reviews and the corresponding sentiment."
   ]
  },
  {
   "cell_type": "code",
   "execution_count": 17,
   "metadata": {},
   "outputs": [
    {
     "name": "stdout",
     "output_type": "stream",
     "text": [
      "25000 Training sequences\n",
      "25000 Validation sequences\n"
     ]
    }
   ],
   "source": [
    "vocab_size = 20000  # Only consider the top 20k words\n",
    "maxlen = 200  # Only consider the first 200 words of each movie review\n",
    "(x_train, y_train), (x_val, y_val) = keras.datasets.imdb.load_data(num_words=vocab_size)\n",
    "print(len(x_train), \"Training sequences\")\n",
    "print(len(x_val), \"Validation sequences\")\n",
    "x_train = keras.preprocessing.sequence.pad_sequences(x_train, maxlen=maxlen)\n",
    "x_val = keras.preprocessing.sequence.pad_sequences(x_val, maxlen=maxlen)"
   ]
  },
  {
   "cell_type": "code",
   "execution_count": 18,
   "metadata": {},
   "outputs": [
    {
     "data": {
      "text/plain": [
       "(25000, 200)"
      ]
     },
     "execution_count": 18,
     "metadata": {},
     "output_type": "execute_result"
    }
   ],
   "source": [
    "x_train.shape"
   ]
  },
  {
   "cell_type": "markdown",
   "metadata": {},
   "source": [
    "> Returns array with indices for the vocabulary\n",
    "\n",
    "The index is where that word occurred. If it didn't occur, it'll be a zero."
   ]
  },
  {
   "cell_type": "code",
   "execution_count": 19,
   "metadata": {},
   "outputs": [
    {
     "data": {
      "text/plain": [
       "array([[   5,   25,  100, ...,   19,  178,   32],\n",
       "       [   0,    0,    0, ...,   16,  145,   95],\n",
       "       [   0,    0,    0, ...,    7,  129,  113],\n",
       "       ...,\n",
       "       [   0,    0,    0, ...,    4, 3586,    2],\n",
       "       [   0,    0,    0, ...,   12,    9,   23],\n",
       "       [   0,    0,    0, ...,  204,  131,    9]], dtype=int32)"
      ]
     },
     "execution_count": 19,
     "metadata": {},
     "output_type": "execute_result"
    }
   ],
   "source": [
    "x_train"
   ]
  },
  {
   "cell_type": "markdown",
   "metadata": {},
   "source": [
    "## Sparse Word Vector Data\n",
    "\n",
    "Recall most reviews don't use the same set of words, so the matrix is going to be very sparse. We can convert the sequences to real-valued vectors that will approximate the original sparse data but be more usable for machine learning purposes. This will be more useful for longer sequences, simple categorical data likely won't have much of a benefit,\n",
    "\n",
    "Below adds an embedding layer that is 32 dimensions (features) of a real-valued vector. It maps the data to a higher dimensional space and produces those corresponding coordinates.\n",
    "\n",
    "[Explanation on Embeddings](https://machinelearningmastery.com/use-word-embedding-layers-deep-learning-keras/)\n",
    "\n",
    "[TensorFlow Guide to Work Embeddings](https://www.tensorflow.org/text/guide/word_embeddings)"
   ]
  },
  {
   "cell_type": "markdown",
   "metadata": {},
   "source": [
    "### Embedding Alternative, the Autoencoder\n",
    "> Same output as simple embedding, but uses a encoder-decoder neural network to produce an embedding layer. Another option for creating a dense feature set from sparse data.\n",
    "\n",
    "<img src='files/diagrams/autoencoder2.png' style='height: 200 px'>\n",
    "\n",
    "[Source: The Hundred-Page Machine Learning Book](https://www.dropbox.com/s/esprbgjm0wc5afz/Chapter7.pdf?dl=0)"
   ]
  },
  {
   "cell_type": "markdown",
   "metadata": {},
   "source": [
    "> Example mapping a 5x1 array..."
   ]
  },
  {
   "cell_type": "code",
   "execution_count": 20,
   "metadata": {},
   "outputs": [
    {
     "data": {
      "text/plain": [
       "array([[[ 0.01913018, -0.01928743],\n",
       "        [-0.01919758,  0.02942536],\n",
       "        [ 0.02796857, -0.03568695],\n",
       "        [ 0.01913018, -0.01928743],\n",
       "        [-0.03900032, -0.03623945]]], dtype=float32)"
      ]
     },
     "execution_count": 20,
     "metadata": {},
     "output_type": "execute_result"
    }
   ],
   "source": [
    "import numpy as np\n",
    "from keras.models import Sequential\n",
    "from keras.layers import Embedding\n",
    "input_array = np.array([4, 1, 3, 3, 3])\n",
    "\n",
    "model = Sequential()\n",
    "model.add(Embedding(5, 2, input_length=5))\n",
    "\n",
    "input_array = np.random.randint(5, size=(1, 5))\n",
    "\n",
    "model.compile('rmsprop', 'mse')\n",
    "output_array = model.predict(input_array)\n",
    "\n",
    "output_array"
   ]
  },
  {
   "cell_type": "markdown",
   "metadata": {},
   "source": [
    "## Back to IMDB\n",
    "- Input will be the sparse vocabulary but use embedding layers to create dense features.  \n",
    "- Baseline using a SimpleRNN, which is a fully connected recurrent neural network."
   ]
  },
  {
   "cell_type": "code",
   "execution_count": 24,
   "metadata": {},
   "outputs": [
    {
     "name": "stdout",
     "output_type": "stream",
     "text": [
      "Model: \"sequential_4\"\n",
      "_________________________________________________________________\n",
      " Layer (type)                Output Shape              Param #   \n",
      "=================================================================\n",
      " embedding_3 (Embedding)     (None, None, 32)          640000    \n",
      "                                                                 \n",
      " simple_rnn_2 (SimpleRNN)    (None, None, 32)          2080      \n",
      "                                                                 \n",
      " simple_rnn_3 (SimpleRNN)    (None, 32)                2080      \n",
      "                                                                 \n",
      " dense_2 (Dense)             (None, 1)                 33        \n",
      "                                                                 \n",
      "=================================================================\n",
      "Total params: 644,193\n",
      "Trainable params: 644,193\n",
      "Non-trainable params: 0\n",
      "_________________________________________________________________\n"
     ]
    }
   ],
   "source": [
    "from tensorflow.keras import Sequential\n",
    "from tensorflow.keras.layers import Embedding\n",
    "from tensorflow.keras.layers import SimpleRNN\n",
    "from tensorflow.keras.layers import Dense\n",
    "\n",
    "model = Sequential()\n",
    "model.add(Embedding(input_dim=vocab_size, output_dim=32))\n",
    "model.add(SimpleRNN(32, return_sequences=True))\n",
    "model.add(SimpleRNN(32))\n",
    "model.add(Dense(1))\n",
    "model.summary()"
   ]
  },
  {
   "cell_type": "code",
   "execution_count": 30,
   "metadata": {},
   "outputs": [
    {
     "name": "stdout",
     "output_type": "stream",
     "text": [
      "Epoch 1/15\n",
      "100/100 [==============================] - 9s 79ms/step - loss: 0.0481 - accuracy: 0.9965 - val_loss: 2.6998 - val_accuracy: 0.7417\n",
      "Epoch 2/15\n",
      "100/100 [==============================] - 8s 80ms/step - loss: 0.0466 - accuracy: 0.9964 - val_loss: 2.8362 - val_accuracy: 0.7370\n",
      "Epoch 3/15\n",
      "100/100 [==============================] - 8s 78ms/step - loss: 0.2055 - accuracy: 0.9714 - val_loss: 2.5163 - val_accuracy: 0.7669\n",
      "Epoch 4/15\n",
      "100/100 [==============================] - 8s 78ms/step - loss: 0.1788 - accuracy: 0.9723 - val_loss: 2.5153 - val_accuracy: 0.7499\n",
      "Epoch 5/15\n",
      "100/100 [==============================] - 8s 78ms/step - loss: 0.0804 - accuracy: 0.9880 - val_loss: 2.5003 - val_accuracy: 0.7601\n",
      "Epoch 6/15\n",
      "100/100 [==============================] - 8s 78ms/step - loss: 0.1871 - accuracy: 0.9722 - val_loss: 3.6758 - val_accuracy: 0.6575\n",
      "Epoch 7/15\n",
      "100/100 [==============================] - 8s 78ms/step - loss: 0.0968 - accuracy: 0.9844 - val_loss: 2.5921 - val_accuracy: 0.7368\n",
      "Epoch 8/15\n",
      "100/100 [==============================] - 8s 79ms/step - loss: 0.0445 - accuracy: 0.9958 - val_loss: 2.5420 - val_accuracy: 0.7457\n",
      "Epoch 9/15\n",
      "100/100 [==============================] - 8s 79ms/step - loss: 0.0395 - accuracy: 0.9972 - val_loss: 2.5704 - val_accuracy: 0.7456\n",
      "Epoch 10/15\n",
      "100/100 [==============================] - 8s 81ms/step - loss: 0.0374 - accuracy: 0.9974 - val_loss: 2.5959 - val_accuracy: 0.7439\n",
      "Epoch 11/15\n",
      "100/100 [==============================] - 8s 84ms/step - loss: 0.0370 - accuracy: 0.9976 - val_loss: 2.6120 - val_accuracy: 0.7445\n",
      "Epoch 12/15\n",
      "100/100 [==============================] - 8s 84ms/step - loss: 0.0368 - accuracy: 0.9976 - val_loss: 2.6162 - val_accuracy: 0.7450\n",
      "Epoch 13/15\n",
      "100/100 [==============================] - 8s 78ms/step - loss: 0.0368 - accuracy: 0.9976 - val_loss: 2.6189 - val_accuracy: 0.7448\n",
      "Epoch 14/15\n",
      "100/100 [==============================] - 8s 80ms/step - loss: 0.0368 - accuracy: 0.9976 - val_loss: 2.6214 - val_accuracy: 0.7446\n",
      "Epoch 15/15\n",
      "100/100 [==============================] - 8s 85ms/step - loss: 0.0368 - accuracy: 0.9976 - val_loss: 2.6222 - val_accuracy: 0.7446\n",
      "Elapsed time: 0:02:00.723862\n"
     ]
    },
    {
     "data": {
      "image/png": "[encoded data removed]",
      "text/plain": [
       "<Figure size 432x288 with 1 Axes>"
      ]
     },
     "metadata": {
      "needs_background": "light"
     },
     "output_type": "display_data"
    }
   ],
   "source": [
    "import datetime\n",
    "\n",
    "st = datetime.datetime.now()\n",
    "\n",
    "model.compile(optimizer=\"adam\", loss=\"BinaryCrossentropy\", metrics=[\"accuracy\"])\n",
    "history = model.fit(\n",
    "    x_train, y_train, batch_size=250, epochs=15, validation_data=(x_val, y_val)\n",
    ")\n",
    "\n",
    "en = datetime.datetime.now()\n",
    "\n",
    "el = en - st\n",
    "print(f'Elapsed time: {el}')\n",
    "\n",
    "plt.plot(history.history['loss'])\n",
    "plt.title('Loss', loc='left')\n",
    "plt.ylim((0,1))\n",
    "plt.show()"
   ]
  },
  {
   "cell_type": "markdown",
   "metadata": {},
   "source": [
    "> Definitely looks like we are overfitting - training accuracy > 98% and validation accuracy about 75%."
   ]
  },
  {
   "cell_type": "markdown",
   "metadata": {},
   "source": [
    "### Trying a LSTM model inside a Bidirectional Layer\n",
    "- The Bidirectional layer makes two passes, a forward then a reverse."
   ]
  },
  {
   "cell_type": "code",
   "execution_count": 32,
   "metadata": {},
   "outputs": [
    {
     "name": "stdout",
     "output_type": "stream",
     "text": [
      "Model: \"sequential_6\"\n",
      "_________________________________________________________________\n",
      " Layer (type)                Output Shape              Param #   \n",
      "=================================================================\n",
      " embedding_5 (Embedding)     (None, None, 32)          640000    \n",
      "                                                                 \n",
      " bidirectional_1 (Bidirectio  (None, 128)              49664     \n",
      " nal)                                                            \n",
      "                                                                 \n",
      " dense_4 (Dense)             (None, 64)                8256      \n",
      "                                                                 \n",
      " dense_5 (Dense)             (None, 1)                 65        \n",
      "                                                                 \n",
      "=================================================================\n",
      "Total params: 697,985\n",
      "Trainable params: 697,985\n",
      "Non-trainable params: 0\n",
      "_________________________________________________________________\n"
     ]
    }
   ],
   "source": [
    "from tensorflow.keras import Sequential\n",
    "from tensorflow.keras.layers import Embedding\n",
    "from tensorflow.keras.layers import LSTM\n",
    "from tensorflow.keras.layers import Bidirectional\n",
    "from tensorflow.keras.layers import Dense\n",
    "\n",
    "model = Sequential()\n",
    "model.add(Embedding(input_dim=vocab_size, output_dim=32))\n",
    "model.add(Bidirectional(LSTM(64)))\n",
    "model.add(Dense(64, activation='relu'))\n",
    "model.add(Dense(1, activation='sigmoid'))\n",
    "model.summary()"
   ]
  },
  {
   "cell_type": "code",
   "execution_count": 33,
   "metadata": {},
   "outputs": [
    {
     "name": "stdout",
     "output_type": "stream",
     "text": [
      "Epoch 1/15\n",
      "100/100 [==============================] - 44s 418ms/step - loss: 0.5107 - accuracy: 0.7332 - val_loss: 0.3052 - val_accuracy: 0.8696\n",
      "Epoch 2/15\n",
      "100/100 [==============================] - 37s 373ms/step - loss: 0.2291 - accuracy: 0.9108 - val_loss: 0.3090 - val_accuracy: 0.8707\n",
      "Epoch 3/15\n",
      "100/100 [==============================] - 38s 383ms/step - loss: 0.1403 - accuracy: 0.9495 - val_loss: 0.3623 - val_accuracy: 0.8672\n",
      "Epoch 4/15\n",
      "100/100 [==============================] - 38s 377ms/step - loss: 0.0903 - accuracy: 0.9710 - val_loss: 0.4374 - val_accuracy: 0.8606\n",
      "Epoch 5/15\n",
      "100/100 [==============================] - 38s 386ms/step - loss: 0.0632 - accuracy: 0.9807 - val_loss: 0.4589 - val_accuracy: 0.8532\n",
      "Epoch 6/15\n",
      "100/100 [==============================] - 37s 370ms/step - loss: 0.0534 - accuracy: 0.9838 - val_loss: 0.5430 - val_accuracy: 0.8482\n",
      "Epoch 7/15\n",
      "100/100 [==============================] - 37s 375ms/step - loss: 0.0443 - accuracy: 0.9870 - val_loss: 0.6131 - val_accuracy: 0.8474\n",
      "Epoch 8/15\n",
      "100/100 [==============================] - 37s 367ms/step - loss: 0.0378 - accuracy: 0.9889 - val_loss: 0.6269 - val_accuracy: 0.8466\n",
      "Epoch 9/15\n",
      "100/100 [==============================] - 37s 368ms/step - loss: 0.0283 - accuracy: 0.9922 - val_loss: 0.6374 - val_accuracy: 0.8405\n",
      "Epoch 10/15\n",
      "100/100 [==============================] - 37s 371ms/step - loss: 0.0241 - accuracy: 0.9935 - val_loss: 0.7426 - val_accuracy: 0.8418\n",
      "Epoch 11/15\n",
      "100/100 [==============================] - 37s 369ms/step - loss: 0.0152 - accuracy: 0.9960 - val_loss: 0.9109 - val_accuracy: 0.8312\n",
      "Epoch 12/15\n",
      "100/100 [==============================] - 37s 372ms/step - loss: 0.0286 - accuracy: 0.9906 - val_loss: 0.7693 - val_accuracy: 0.8382\n",
      "Epoch 13/15\n",
      "100/100 [==============================] - 39s 388ms/step - loss: 0.0228 - accuracy: 0.9931 - val_loss: 0.8411 - val_accuracy: 0.8360\n",
      "Epoch 14/15\n",
      "100/100 [==============================] - 41s 414ms/step - loss: 0.0141 - accuracy: 0.9957 - val_loss: 0.9915 - val_accuracy: 0.8371\n",
      "Epoch 15/15\n",
      "100/100 [==============================] - 37s 372ms/step - loss: 0.0204 - accuracy: 0.9928 - val_loss: 0.8973 - val_accuracy: 0.8326\n",
      "Elapsed time: 0:09:30.983156\n"
     ]
    },
    {
     "data": {
      "image/png": "[encoded data removed]",
      "text/plain": [
       "<Figure size 432x288 with 1 Axes>"
      ]
     },
     "metadata": {
      "needs_background": "light"
     },
     "output_type": "display_data"
    }
   ],
   "source": [
    "import datetime\n",
    "\n",
    "st = datetime.datetime.now()\n",
    "\n",
    "model.compile(optimizer=\"adam\", loss=\"BinaryCrossentropy\", metrics=[\"accuracy\"])\n",
    "history = model.fit(\n",
    "    x_train, y_train, batch_size=250, epochs=15, validation_data=(x_val, y_val)\n",
    ")\n",
    "\n",
    "en = datetime.datetime.now()\n",
    "\n",
    "el = en - st\n",
    "print(f'Elapsed time: {el}')\n",
    "\n",
    "plt.plot(history.history['loss'])\n",
    "plt.title('Loss', loc='left')\n",
    "plt.ylim((0,1))\n",
    "plt.show()"
   ]
  },
  {
   "cell_type": "markdown",
   "metadata": {},
   "source": [
    "> Much smoother loss function (that doesn't increase!).  \n",
    "\n",
    "> 10 pt improvement in accuracy over the SimpleRNN"
   ]
  },
  {
   "cell_type": "code",
   "execution_count": null,
   "metadata": {},
   "outputs": [],
   "source": []
  }
 ],
 "metadata": {
  "kernelspec": {
   "display_name": "Python 3.7.3 64-bit ('base': conda)",
   "language": "python",
   "name": "python37364bitbaseconda3e66817595a24f3b851fad3315f1c145"
  },
  "language_info": {
   "codemirror_mode": {
    "name": "ipython",
    "version": 3
   },
   "file_extension": ".py",
   "mimetype": "text/x-python",
   "name": "python",
   "nbconvert_exporter": "python",
   "pygments_lexer": "ipython3",
   "version": "3.7.3"
  }
 },
 "nbformat": 4,
 "nbformat_minor": 4
}
