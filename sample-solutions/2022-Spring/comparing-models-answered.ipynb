{
 "cells": [
  {
   "cell_type": "markdown",
   "metadata": {},
   "source": [
    "# Homework - Comparing Models\n",
    "Run the following code and then answer the numbered questions."
   ]
  },
  {
   "cell_type": "code",
   "execution_count": 1,
   "metadata": {},
   "outputs": [
    {
     "data": {
      "text/html": [
       "<div>\n",
       "<style scoped>\n",
       "    .dataframe tbody tr th:only-of-type {\n",
       "        vertical-align: middle;\n",
       "    }\n",
       "\n",
       "    .dataframe tbody tr th {\n",
       "        vertical-align: top;\n",
       "    }\n",
       "\n",
       "    .dataframe thead th {\n",
       "        text-align: right;\n",
       "    }\n",
       "</style>\n",
       "<table border=\"1\" class=\"dataframe\">\n",
       "  <thead>\n",
       "    <tr style=\"text-align: right;\">\n",
       "      <th></th>\n",
       "      <th>left_company</th>\n",
       "      <th>age</th>\n",
       "      <th>frequency_of_travel</th>\n",
       "      <th>department</th>\n",
       "      <th>commuting_distance</th>\n",
       "      <th>education</th>\n",
       "      <th>satisfaction_with_environment</th>\n",
       "      <th>gender</th>\n",
       "      <th>seniority_level</th>\n",
       "      <th>position</th>\n",
       "      <th>satisfaction_with_job</th>\n",
       "      <th>married_or_single</th>\n",
       "      <th>last_raise_pct</th>\n",
       "      <th>last_performance_rating</th>\n",
       "      <th>total_years_working</th>\n",
       "      <th>years_at_company</th>\n",
       "      <th>years_in_current_job</th>\n",
       "      <th>years_since_last_promotion</th>\n",
       "      <th>years_with_current_supervisor</th>\n",
       "    </tr>\n",
       "  </thead>\n",
       "  <tbody>\n",
       "    <tr>\n",
       "      <th>0</th>\n",
       "      <td>No</td>\n",
       "      <td>37</td>\n",
       "      <td>Travel_Rarely</td>\n",
       "      <td>Sales</td>\n",
       "      <td>16</td>\n",
       "      <td>4</td>\n",
       "      <td>4</td>\n",
       "      <td>Male</td>\n",
       "      <td>2</td>\n",
       "      <td>Sales Executive</td>\n",
       "      <td>3</td>\n",
       "      <td>Divorced</td>\n",
       "      <td>19</td>\n",
       "      <td>3</td>\n",
       "      <td>9</td>\n",
       "      <td>1</td>\n",
       "      <td>0</td>\n",
       "      <td>0</td>\n",
       "      <td>0</td>\n",
       "    </tr>\n",
       "    <tr>\n",
       "      <th>1</th>\n",
       "      <td>No</td>\n",
       "      <td>39</td>\n",
       "      <td>Travel_Rarely</td>\n",
       "      <td>Research &amp; Development</td>\n",
       "      <td>3</td>\n",
       "      <td>2</td>\n",
       "      <td>3</td>\n",
       "      <td>Male</td>\n",
       "      <td>2</td>\n",
       "      <td>Laboratory Technician</td>\n",
       "      <td>3</td>\n",
       "      <td>Divorced</td>\n",
       "      <td>15</td>\n",
       "      <td>3</td>\n",
       "      <td>11</td>\n",
       "      <td>10</td>\n",
       "      <td>8</td>\n",
       "      <td>0</td>\n",
       "      <td>7</td>\n",
       "    </tr>\n",
       "    <tr>\n",
       "      <th>2</th>\n",
       "      <td>No</td>\n",
       "      <td>52</td>\n",
       "      <td>Travel_Frequently</td>\n",
       "      <td>Research &amp; Development</td>\n",
       "      <td>25</td>\n",
       "      <td>4</td>\n",
       "      <td>3</td>\n",
       "      <td>Female</td>\n",
       "      <td>4</td>\n",
       "      <td>Manufacturing Director</td>\n",
       "      <td>4</td>\n",
       "      <td>Married</td>\n",
       "      <td>22</td>\n",
       "      <td>4</td>\n",
       "      <td>31</td>\n",
       "      <td>9</td>\n",
       "      <td>8</td>\n",
       "      <td>0</td>\n",
       "      <td>0</td>\n",
       "    </tr>\n",
       "    <tr>\n",
       "      <th>3</th>\n",
       "      <td>No</td>\n",
       "      <td>50</td>\n",
       "      <td>Non-Travel</td>\n",
       "      <td>Sales</td>\n",
       "      <td>1</td>\n",
       "      <td>3</td>\n",
       "      <td>4</td>\n",
       "      <td>Female</td>\n",
       "      <td>2</td>\n",
       "      <td>Sales Executive</td>\n",
       "      <td>3</td>\n",
       "      <td>Married</td>\n",
       "      <td>12</td>\n",
       "      <td>3</td>\n",
       "      <td>19</td>\n",
       "      <td>18</td>\n",
       "      <td>7</td>\n",
       "      <td>0</td>\n",
       "      <td>13</td>\n",
       "    </tr>\n",
       "    <tr>\n",
       "      <th>4</th>\n",
       "      <td>No</td>\n",
       "      <td>44</td>\n",
       "      <td>Travel_Rarely</td>\n",
       "      <td>Research &amp; Development</td>\n",
       "      <td>4</td>\n",
       "      <td>3</td>\n",
       "      <td>4</td>\n",
       "      <td>Male</td>\n",
       "      <td>2</td>\n",
       "      <td>Healthcare Representative</td>\n",
       "      <td>2</td>\n",
       "      <td>Single</td>\n",
       "      <td>12</td>\n",
       "      <td>3</td>\n",
       "      <td>10</td>\n",
       "      <td>5</td>\n",
       "      <td>2</td>\n",
       "      <td>2</td>\n",
       "      <td>3</td>\n",
       "    </tr>\n",
       "  </tbody>\n",
       "</table>\n",
       "</div>"
      ],
      "text/plain": [
       "  left_company  age frequency_of_travel              department  \\\n",
       "0           No   37       Travel_Rarely                   Sales   \n",
       "1           No   39       Travel_Rarely  Research & Development   \n",
       "2           No   52   Travel_Frequently  Research & Development   \n",
       "3           No   50          Non-Travel                   Sales   \n",
       "4           No   44       Travel_Rarely  Research & Development   \n",
       "\n",
       "   commuting_distance  education  satisfaction_with_environment  gender  \\\n",
       "0                  16          4                              4    Male   \n",
       "1                   3          2                              3    Male   \n",
       "2                  25          4                              3  Female   \n",
       "3                   1          3                              4  Female   \n",
       "4                   4          3                              4    Male   \n",
       "\n",
       "   seniority_level                   position  satisfaction_with_job  \\\n",
       "0                2            Sales Executive                      3   \n",
       "1                2      Laboratory Technician                      3   \n",
       "2                4     Manufacturing Director                      4   \n",
       "3                2            Sales Executive                      3   \n",
       "4                2  Healthcare Representative                      2   \n",
       "\n",
       "  married_or_single  last_raise_pct  last_performance_rating  \\\n",
       "0          Divorced              19                        3   \n",
       "1          Divorced              15                        3   \n",
       "2           Married              22                        4   \n",
       "3           Married              12                        3   \n",
       "4            Single              12                        3   \n",
       "\n",
       "   total_years_working  years_at_company  years_in_current_job  \\\n",
       "0                    9                 1                     0   \n",
       "1                   11                10                     8   \n",
       "2                   31                 9                     8   \n",
       "3                   19                18                     7   \n",
       "4                   10                 5                     2   \n",
       "\n",
       "   years_since_last_promotion  years_with_current_supervisor  \n",
       "0                           0                              0  \n",
       "1                           0                              7  \n",
       "2                           0                              0  \n",
       "3                           0                             13  \n",
       "4                           2                              3  "
      ]
     },
     "execution_count": 1,
     "metadata": {},
     "output_type": "execute_result"
    }
   ],
   "source": [
    "import pandas as pd\n",
    "import numpy as np\n",
    "import matplotlib.pyplot as plt\n",
    "%matplotlib inline\n",
    "\n",
    "df = pd.read_csv('employee-turnover-balanced.csv')\n",
    "df.head()"
   ]
  },
  {
   "cell_type": "code",
   "execution_count": 2,
   "metadata": {},
   "outputs": [
    {
     "name": "stdout",
     "output_type": "stream",
     "text": [
      "<class 'pandas.core.frame.DataFrame'>\n",
      "RangeIndex: 1000 entries, 0 to 999\n",
      "Data columns (total 19 columns):\n",
      " #   Column                         Non-Null Count  Dtype \n",
      "---  ------                         --------------  ----- \n",
      " 0   left_company                   1000 non-null   object\n",
      " 1   age                            1000 non-null   int64 \n",
      " 2   frequency_of_travel            1000 non-null   object\n",
      " 3   department                     1000 non-null   object\n",
      " 4   commuting_distance             1000 non-null   int64 \n",
      " 5   education                      1000 non-null   int64 \n",
      " 6   satisfaction_with_environment  1000 non-null   int64 \n",
      " 7   gender                         1000 non-null   object\n",
      " 8   seniority_level                1000 non-null   int64 \n",
      " 9   position                       1000 non-null   object\n",
      " 10  satisfaction_with_job          1000 non-null   int64 \n",
      " 11  married_or_single              1000 non-null   object\n",
      " 12  last_raise_pct                 1000 non-null   int64 \n",
      " 13  last_performance_rating        1000 non-null   int64 \n",
      " 14  total_years_working            1000 non-null   int64 \n",
      " 15  years_at_company               1000 non-null   int64 \n",
      " 16  years_in_current_job           1000 non-null   int64 \n",
      " 17  years_since_last_promotion     1000 non-null   int64 \n",
      " 18  years_with_current_supervisor  1000 non-null   int64 \n",
      "dtypes: int64(13), object(6)\n",
      "memory usage: 148.6+ KB\n"
     ]
    }
   ],
   "source": [
    "df.info()"
   ]
  },
  {
   "cell_type": "markdown",
   "metadata": {},
   "source": [
    "#### Splitting into training and test sets"
   ]
  },
  {
   "cell_type": "code",
   "execution_count": 3,
   "metadata": {},
   "outputs": [
    {
     "name": "stdout",
     "output_type": "stream",
     "text": [
      "Target: left_company\n",
      "Features:\n",
      "age,\tfrequency_of_travel,\tdepartment,\tcommuting_distance,\teducation,\tsatisfaction_with_environment,\tgender,\tseniority_level,\tposition,\tsatisfaction_with_job,\tmarried_or_single,\tlast_raise_pct,\tlast_performance_rating,\ttotal_years_working,\tyears_at_company,\tyears_in_current_job,\tyears_since_last_promotion,\tyears_with_current_supervisor\n",
      "\n",
      "\n",
      "Training examples: 800\n",
      "Test examples: 200\n"
     ]
    }
   ],
   "source": [
    "from sklearn.model_selection import train_test_split\n",
    "targetCol = 'left_company'\n",
    "featureCols = [x for x in df.columns if x != targetCol]\n",
    "\n",
    "y = df[targetCol]\n",
    "X = df[featureCols]\n",
    "\n",
    "x_train, x_test, y_train, y_test = train_test_split(X, y, test_size=0.2, random_state = 123)\n",
    "\n",
    "print(f'Target: {targetCol}')\n",
    "print('Features:')\n",
    "print(*featureCols, sep=',\\t')\n",
    "print('\\n')\n",
    "print(f'Training examples: {x_train.shape[0]:,}')\n",
    "print(f'Test examples: {x_test.shape[0]:,}')"
   ]
  },
  {
   "cell_type": "markdown",
   "metadata": {},
   "source": [
    "# Question 1\n",
    "- Set-up a feature processing pipeline using the training data.  \n",
    "- While the data doesn't contain missing values, assume the test data could.  \n",
    "- Use the below lists to split the features that should be treated as numerical and categorical variables.  \n",
    "- I would recommend printing out verification output to verify the pipeline transforms the data as expected."
   ]
  },
  {
   "cell_type": "code",
   "execution_count": 4,
   "metadata": {},
   "outputs": [],
   "source": [
    "numericalFeatures = ['age', 'commuting_distance', 'last_raise_pct', 'total_years_working', 'years_at_company',\n",
    "                    'years_in_current_job', 'years_since_last_promotion', 'years_with_current_supervisor']\n",
    "\n",
    "categoricalFeatures = ['frequency_of_travel', 'department', 'education', 'satisfaction_with_environment',\n",
    "                       'gender', 'seniority_level', 'position', 'satisfaction_with_job', 'married_or_single',\n",
    "                      'last_performance_rating']\n",
    "\n"
   ]
  },
  {
   "cell_type": "code",
   "execution_count": 5,
   "metadata": {},
   "outputs": [
    {
     "data": {
      "text/plain": [
       "(800, 38)"
      ]
     },
     "execution_count": 5,
     "metadata": {},
     "output_type": "execute_result"
    }
   ],
   "source": [
    "from sklearn.preprocessing import StandardScaler\n",
    "from sklearn.impute import SimpleImputer\n",
    "from sklearn.preprocessing import OneHotEncoder\n",
    "from sklearn.pipeline import Pipeline\n",
    "from sklearn.compose import ColumnTransformer\n",
    "\n",
    "num_pipe = Pipeline([('impute', SimpleImputer(strategy='median')), \n",
    "                     ('scale', StandardScaler())]\n",
    "                   )\n",
    "\n",
    "cat_pipe = Pipeline([('impute', SimpleImputer(strategy='most_frequent')), \n",
    "                     ('ohe', OneHotEncoder(drop='first'))]\n",
    "                   )\n",
    "\n",
    "proc = ColumnTransformer(transformers=[('nums', num_pipe, numericalFeatures),\n",
    "                                      ('cats', cat_pipe, categoricalFeatures)]\n",
    "                        )\n",
    "\n",
    "proc.fit_transform(x_train).shape"
   ]
  },
  {
   "cell_type": "markdown",
   "metadata": {},
   "source": [
    "# Question 2\n",
    "- Using cross-validation evaluate a logistic regression model, evaluate three (4) different regularization strengths with `l2`, with one model containing no regularization.  \n",
    "- Which regularization strength would be ideal for logistic regression?\n",
    "- Use as much code as you need to defend your opinion.  \n",
    "- Comment on your rationale for your choice."
   ]
  },
  {
   "cell_type": "code",
   "execution_count": 6,
   "metadata": {},
   "outputs": [
    {
     "data": {
      "text/plain": [
       "No     500\n",
       "Yes    500\n",
       "Name: left_company, dtype: int64"
      ]
     },
     "execution_count": 6,
     "metadata": {},
     "output_type": "execute_result"
    }
   ],
   "source": [
    "y.value_counts()"
   ]
  },
  {
   "cell_type": "markdown",
   "metadata": {},
   "source": [
    "> The data is balanced, so will use accuracy to \"optimize\" our hyperparameters."
   ]
  },
  {
   "cell_type": "code",
   "execution_count": 7,
   "metadata": {},
   "outputs": [
    {
     "data": {
      "text/plain": [
       "Pipeline(steps=[('fp',\n",
       "                 ColumnTransformer(transformers=[('nums',\n",
       "                                                  Pipeline(steps=[('impute',\n",
       "                                                                   SimpleImputer(strategy='median')),\n",
       "                                                                  ('scale',\n",
       "                                                                   StandardScaler())]),\n",
       "                                                  ['age', 'commuting_distance',\n",
       "                                                   'last_raise_pct',\n",
       "                                                   'total_years_working',\n",
       "                                                   'years_at_company',\n",
       "                                                   'years_in_current_job',\n",
       "                                                   'years_since_last_promotion',\n",
       "                                                   'years_with_current_supervisor']),\n",
       "                                                 ('cats',\n",
       "                                                  Pipeline(steps=[('impute',\n",
       "                                                                   SimpleImputer(strategy='most_frequent')),\n",
       "                                                                  ('ohe',\n",
       "                                                                   OneHotEncoder(drop='first'))]),\n",
       "                                                  ['frequency_of_travel',\n",
       "                                                   'department', 'education',\n",
       "                                                   'satisfaction_with_environment',\n",
       "                                                   'gender', 'seniority_level',\n",
       "                                                   'position',\n",
       "                                                   'satisfaction_with_job',\n",
       "                                                   'married_or_single',\n",
       "                                                   'last_performance_rating'])])),\n",
       "                ('lg', LogisticRegression(C=0.1, solver='newton-cg'))])"
      ]
     },
     "execution_count": 7,
     "metadata": {},
     "output_type": "execute_result"
    }
   ],
   "source": [
    "from sklearn.linear_model import LogisticRegression\n",
    "from sklearn.model_selection import GridSearchCV\n",
    "import warnings\n",
    "warnings.filterwarnings(\"ignore\")\n",
    "\n",
    "params = {'lg__C': [0.01, 0.1, 1, 10], 'lg__penalty':['l2', 'none']}\n",
    "\n",
    "lg_model = Pipeline([('fp', proc), \n",
    "                     ('lg', LogisticRegression(solver='newton-cg'))\n",
    "                    ])\n",
    "\n",
    "lg = GridSearchCV(lg_model, param_grid=params)\n",
    "lg = lg.fit(x_train, y_train)\n",
    "\n",
    "lg.best_estimator_"
   ]
  },
  {
   "cell_type": "code",
   "execution_count": 8,
   "metadata": {},
   "outputs": [
    {
     "data": {
      "text/plain": [
       "0.7175"
      ]
     },
     "execution_count": 8,
     "metadata": {},
     "output_type": "execute_result"
    }
   ],
   "source": [
    "lg.best_score_"
   ]
  },
  {
   "cell_type": "markdown",
   "metadata": {},
   "source": [
    "> Best validation accuracy is about 72%. Need to determine variances in the CV results."
   ]
  },
  {
   "cell_type": "code",
   "execution_count": 9,
   "metadata": {},
   "outputs": [
    {
     "name": "stdout",
     "output_type": "stream",
     "text": [
      "Regularization: 0.01, lower acc: 63.06%, mean acc:66.88%, upper acc: 70.69%\n",
      "No Regularization:, lower acc: 69.57%, mean acc: 71.12%, upper acc: 72.68%\n",
      "Regularization: 0.1, lower acc: 68.32%, mean acc:71.75%, upper acc: 75.18%\n",
      "Regularization: 1, lower acc: 68.50%, mean acc:70.75%, upper acc: 73.00%\n",
      "Regularization: 10, lower acc: 68.86%, mean acc:70.62%, upper acc: 72.39%\n"
     ]
    }
   ],
   "source": [
    "lg_results = list(zip(lg.cv_results_['params'],\n",
    "                      lg.cv_results_['mean_test_score'],\n",
    "                      lg.cv_results_['std_test_score']\n",
    "                     )\n",
    "                 )\n",
    "\n",
    "noRegCount = 0\n",
    "for i in lg_results:\n",
    "    x = i[0]['lg__C']\n",
    "    y = i[0]['lg__penalty']\n",
    "    if y == 'none' and noRegCount < 1:\n",
    "        print(f'No Regularization:, lower acc: {(i[1]-i[2]):.2%}, mean acc: {i[1]:.2%}, upper acc: {(i[1]+i[2]):.2%}')\n",
    "        noRegCount += 1\n",
    "    if y == 'l2':\n",
    "        print(f'Regularization: {x}, lower acc: {(i[1]-i[2]):.2%}, mean acc:{i[1]:.2%}, upper acc: {(i[1]+i[2]):.2%}')"
   ]
  },
  {
   "cell_type": "markdown",
   "metadata": {},
   "source": [
    "> `C=0.1` provides the best model with the training and validation data as it maximizes accuracy. It does have a slightly higher standard deviation, however, the lower bound range is about the same of `C=10` but its upper range is higher. Its fit time is also in-line with the other models so computationally no different than the other choices. Will need to search around `0.1` to determine if that is the best value."
   ]
  },
  {
   "cell_type": "code",
   "execution_count": 10,
   "metadata": {},
   "outputs": [
    {
     "data": {
      "text/plain": [
       "Pipeline(steps=[('fp',\n",
       "                 ColumnTransformer(transformers=[('nums',\n",
       "                                                  Pipeline(steps=[('impute',\n",
       "                                                                   SimpleImputer(strategy='median')),\n",
       "                                                                  ('scale',\n",
       "                                                                   StandardScaler())]),\n",
       "                                                  ['age', 'commuting_distance',\n",
       "                                                   'last_raise_pct',\n",
       "                                                   'total_years_working',\n",
       "                                                   'years_at_company',\n",
       "                                                   'years_in_current_job',\n",
       "                                                   'years_since_last_promotion',\n",
       "                                                   'years_with_current_supervisor']),\n",
       "                                                 ('cats',\n",
       "                                                  Pipeline(steps=[('impute',\n",
       "                                                                   SimpleImputer(strategy='most_frequent')),\n",
       "                                                                  ('ohe',\n",
       "                                                                   OneHotEncoder(drop='first'))]),\n",
       "                                                  ['frequency_of_travel',\n",
       "                                                   'department', 'education',\n",
       "                                                   'satisfaction_with_environment',\n",
       "                                                   'gender', 'seniority_level',\n",
       "                                                   'position',\n",
       "                                                   'satisfaction_with_job',\n",
       "                                                   'married_or_single',\n",
       "                                                   'last_performance_rating'])])),\n",
       "                ('lg', LogisticRegression(C=0.1, solver='newton-cg'))])"
      ]
     },
     "execution_count": 10,
     "metadata": {},
     "output_type": "execute_result"
    }
   ],
   "source": [
    "from sklearn.linear_model import LogisticRegression\n",
    "from sklearn.model_selection import GridSearchCV\n",
    "import warnings\n",
    "warnings.filterwarnings(\"ignore\")\n",
    "\n",
    "params = {'lg__C': [0.05, 0.08, 0.1, 0.12, 0.15], 'lg__penalty':['l2', 'none']}\n",
    "\n",
    "lg_model = Pipeline([('fp', proc), \n",
    "                     ('lg', LogisticRegression(solver='newton-cg'))\n",
    "                    ])\n",
    "\n",
    "lg = GridSearchCV(lg_model, param_grid=params)\n",
    "lg = lg.fit(x_train, y_train)\n",
    "\n",
    "lg.best_estimator_"
   ]
  },
  {
   "cell_type": "code",
   "execution_count": 11,
   "metadata": {},
   "outputs": [
    {
     "name": "stdout",
     "output_type": "stream",
     "text": [
      "Regularization: 0.05, lower acc: 68.03%, mean acc:70.62%, upper acc: 73.22%\n",
      "No Regularization:, lower acc: 69.57%, mean acc: 71.12%, upper acc: 72.68%\n",
      "Regularization: 0.08, lower acc: 68.83%, mean acc:71.38%, upper acc: 73.92%\n",
      "Regularization: 0.1, lower acc: 68.32%, mean acc:71.75%, upper acc: 75.18%\n",
      "Regularization: 0.12, lower acc: 68.50%, mean acc:71.62%, upper acc: 74.75%\n",
      "Regularization: 0.15, lower acc: 68.46%, mean acc:71.37%, upper acc: 74.29%\n"
     ]
    }
   ],
   "source": [
    "lg_results = list(zip(lg.cv_results_['params'],\n",
    "                      lg.cv_results_['mean_test_score'],\n",
    "                      lg.cv_results_['std_test_score']\n",
    "                     )\n",
    "                 )\n",
    "\n",
    "noRegCount = 0\n",
    "for i in lg_results:\n",
    "    x = i[0]['lg__C']\n",
    "    y = i[0]['lg__penalty']\n",
    "    if y == 'none' and noRegCount < 1:\n",
    "        print(f'No Regularization:, lower acc: {(i[1]-i[2]):.2%}, mean acc: {i[1]:.2%}, upper acc: {(i[1]+i[2]):.2%}')\n",
    "        noRegCount += 1\n",
    "    if y == 'l2':\n",
    "        print(f'Regularization: {x}, lower acc: {(i[1]-i[2]):.2%}, mean acc:{i[1]:.2%}, upper acc: {(i[1]+i[2]):.2%}')"
   ]
  },
  {
   "cell_type": "markdown",
   "metadata": {},
   "source": [
    "> `C=0.1` still showing the \"best\" performance in relation to the accuracy after a secondary targeted hyperparameter search. We'll conclude that is the best parameter to utilize for our modeling."
   ]
  },
  {
   "cell_type": "code",
   "execution_count": 12,
   "metadata": {},
   "outputs": [
    {
     "name": "stdout",
     "output_type": "stream",
     "text": [
      "              precision    recall  f1-score   support\n",
      "\n",
      "          No       0.78      0.72      0.75       101\n",
      "         Yes       0.74      0.79      0.76        99\n",
      "\n",
      "    accuracy                           0.76       200\n",
      "   macro avg       0.76      0.76      0.75       200\n",
      "weighted avg       0.76      0.76      0.75       200\n",
      "\n"
     ]
    }
   ],
   "source": [
    "from sklearn.metrics import classification_report\n",
    "\n",
    "lg_pred_evt = lg.predict(x_test)\n",
    "\n",
    "print(classification_report(y_test, lg_pred_evt, labels=['No','Yes']))"
   ]
  },
  {
   "cell_type": "markdown",
   "metadata": {},
   "source": [
    "> Our estimate of out-of-sample performance is 76% accuracy, which is slightly higher than what we saw on the validation sets during cross-validation, however, as shown below, it performs similar to the entire training data, so no concerns on overfitting."
   ]
  },
  {
   "cell_type": "code",
   "execution_count": 13,
   "metadata": {},
   "outputs": [
    {
     "name": "stdout",
     "output_type": "stream",
     "text": [
      "              precision    recall  f1-score   support\n",
      "\n",
      "          No       0.76      0.73      0.75       399\n",
      "         Yes       0.74      0.77      0.76       401\n",
      "\n",
      "    accuracy                           0.75       800\n",
      "   macro avg       0.75      0.75      0.75       800\n",
      "weighted avg       0.75      0.75      0.75       800\n",
      "\n"
     ]
    }
   ],
   "source": [
    "from sklearn.metrics import classification_report\n",
    "\n",
    "lg_pred_evt = lg.predict(x_train)\n",
    "\n",
    "print(classification_report(y_train, lg_pred_evt, labels=['No','Yes']))"
   ]
  },
  {
   "cell_type": "markdown",
   "metadata": {},
   "source": [
    "# Question 3\n",
    "- Using cross-validation, evaluate a decision tree. Consider at least 3 different `max_depth` and 3 different `min_samples_split`. Use a fraction for the `min_samples_split`.  \n",
    "- Which combination seems to be the ideal for the decision tree? Use performance from the cross-validation and test sets to defend your opinion.  \n",
    "- Use as much code a you need to defend your opinion.  \n",
    "- Comment on your rationale for your choice."
   ]
  },
  {
   "cell_type": "code",
   "execution_count": 14,
   "metadata": {},
   "outputs": [
    {
     "data": {
      "text/plain": [
       "Pipeline(steps=[('fp',\n",
       "                 ColumnTransformer(transformers=[('nums',\n",
       "                                                  Pipeline(steps=[('impute',\n",
       "                                                                   SimpleImputer(strategy='median')),\n",
       "                                                                  ('scale',\n",
       "                                                                   StandardScaler())]),\n",
       "                                                  ['age', 'commuting_distance',\n",
       "                                                   'last_raise_pct',\n",
       "                                                   'total_years_working',\n",
       "                                                   'years_at_company',\n",
       "                                                   'years_in_current_job',\n",
       "                                                   'years_since_last_promotion',\n",
       "                                                   'years_with_current_supervisor']),\n",
       "                                                 ('cats',\n",
       "                                                  Pipeline(steps=[('impute',\n",
       "                                                                   SimpleImputer(strategy='most_frequent')),\n",
       "                                                                  ('ohe',\n",
       "                                                                   OneHotEncoder(drop='first'))]),\n",
       "                                                  ['frequency_of_travel',\n",
       "                                                   'department', 'education',\n",
       "                                                   'satisfaction_with_environment',\n",
       "                                                   'gender', 'seniority_level',\n",
       "                                                   'position',\n",
       "                                                   'satisfaction_with_job',\n",
       "                                                   'married_or_single',\n",
       "                                                   'last_performance_rating'])])),\n",
       "                ('dt',\n",
       "                 DecisionTreeClassifier(max_depth=16, min_samples_split=0.01))])"
      ]
     },
     "execution_count": 14,
     "metadata": {},
     "output_type": "execute_result"
    }
   ],
   "source": [
    "from sklearn.tree import DecisionTreeClassifier\n",
    "from sklearn.model_selection import GridSearchCV\n",
    "\n",
    "params = {'dt__max_depth': [2, 4, 8, 12, 16],\n",
    "          'dt__min_samples_split':[0.01, 0.05, 0.10]\n",
    "         }\n",
    "\n",
    "dt_model = Pipeline([('fp', proc), ('dt', DecisionTreeClassifier())])\n",
    "\n",
    "dt = GridSearchCV(dt_model, param_grid=params)\n",
    "dt = dt.fit(x_train, y_train)\n",
    "\n",
    "dt.best_estimator_"
   ]
  },
  {
   "cell_type": "code",
   "execution_count": 15,
   "metadata": {},
   "outputs": [
    {
     "data": {
      "text/plain": [
       "0.72875"
      ]
     },
     "execution_count": 15,
     "metadata": {},
     "output_type": "execute_result"
    }
   ],
   "source": [
    "dt.best_score_"
   ]
  },
  {
   "cell_type": "code",
   "execution_count": 16,
   "metadata": {},
   "outputs": [
    {
     "name": "stdout",
     "output_type": "stream",
     "text": [
      "Depth/Min Split: 2, 1.00%: 55.43% < 60.75% > 66.07%\n",
      "Depth/Min Split: 2, 5.00%: 55.43% < 60.75% > 66.07%\n",
      "Depth/Min Split: 2, 10.00%: 55.43% < 60.75% > 66.07%\n",
      "Depth/Min Split: 4, 1.00%: 59.85% < 63.38% > 66.90%\n",
      "Depth/Min Split: 4, 5.00%: 59.91% < 63.25% > 66.59%\n",
      "Depth/Min Split: 4, 10.00%: 59.72% < 62.87% > 66.03%\n",
      "Depth/Min Split: 8, 1.00%: 65.85% < 68.62% > 71.40%\n",
      "Depth/Min Split: 8, 5.00%: 64.61% < 67.25% > 69.89%\n",
      "Depth/Min Split: 8, 10.00%: 59.95% < 64.12% > 68.30%\n",
      "Depth/Min Split: 12, 1.00%: 69.17% < 72.00% > 74.83%\n",
      "Depth/Min Split: 12, 5.00%: 65.77% < 68.25% > 70.73%\n",
      "Depth/Min Split: 12, 10.00%: 59.92% < 64.00% > 68.08%\n",
      "Depth/Min Split: 16, 1.00%: 69.90% < 72.88% > 75.85%\n",
      "Depth/Min Split: 16, 5.00%: 66.11% < 68.50% > 70.89%\n",
      "Depth/Min Split: 16, 10.00%: 59.95% < 64.12% > 68.30%\n"
     ]
    }
   ],
   "source": [
    "dt_results = list(zip(dt.cv_results_['params'],\n",
    "                      dt.cv_results_['mean_test_score'],\n",
    "                      dt.cv_results_['std_test_score']\n",
    "                     )\n",
    "                 )\n",
    "\n",
    "for i in dt_results:\n",
    "    x = i[0]['dt__max_depth']\n",
    "    y = i[0]['dt__min_samples_split']\n",
    "    print(f'Depth/Min Split: {x}, {y:.2%}: {(i[1]-i[2]):.2%} < {i[1]:.2%} > {(i[1]+i[2]):.2%}')"
   ]
  },
  {
   "cell_type": "markdown",
   "metadata": {},
   "source": [
    "> Depending on the run, `max_splits` of 12 or 16 could be preferred, both also using 1% minimum sample split. Each is near identical in terms of the lower, mean, and upper bound performance on the validation sets. Since the option with a `max_depth=12`, that will be our choice, defaulting to the simpliest model.\n",
    "\n",
    "> We'll perform a more targeted search to determine a better value for the max splits."
   ]
  },
  {
   "cell_type": "code",
   "execution_count": 17,
   "metadata": {},
   "outputs": [
    {
     "data": {
      "text/plain": [
       "Pipeline(steps=[('fp',\n",
       "                 ColumnTransformer(transformers=[('nums',\n",
       "                                                  Pipeline(steps=[('impute',\n",
       "                                                                   SimpleImputer(strategy='median')),\n",
       "                                                                  ('scale',\n",
       "                                                                   StandardScaler())]),\n",
       "                                                  ['age', 'commuting_distance',\n",
       "                                                   'last_raise_pct',\n",
       "                                                   'total_years_working',\n",
       "                                                   'years_at_company',\n",
       "                                                   'years_in_current_job',\n",
       "                                                   'years_since_last_promotion',\n",
       "                                                   'years_with_current_supervisor']),\n",
       "                                                 ('cats',\n",
       "                                                  Pipeline(steps=[('impute',\n",
       "                                                                   SimpleImputer(strategy='most_frequent')),\n",
       "                                                                  ('ohe',\n",
       "                                                                   OneHotEncoder(drop='first'))]),\n",
       "                                                  ['frequency_of_travel',\n",
       "                                                   'department', 'education',\n",
       "                                                   'satisfaction_with_environment',\n",
       "                                                   'gender', 'seniority_level',\n",
       "                                                   'position',\n",
       "                                                   'satisfaction_with_job',\n",
       "                                                   'married_or_single',\n",
       "                                                   'last_performance_rating'])])),\n",
       "                ('dt',\n",
       "                 DecisionTreeClassifier(max_depth=14, min_samples_split=0.01))])"
      ]
     },
     "execution_count": 17,
     "metadata": {},
     "output_type": "execute_result"
    }
   ],
   "source": [
    "from sklearn.tree import DecisionTreeClassifier\n",
    "from sklearn.model_selection import GridSearchCV\n",
    "\n",
    "params = {'dt__max_depth': [10, 11, 12, 13, 14, 15, 16, 17, 18],\n",
    "          'dt__min_samples_split':[0.01, 0.02, 0.03]\n",
    "         }\n",
    "\n",
    "dt_model = Pipeline([('fp', proc), ('dt', DecisionTreeClassifier())])\n",
    "\n",
    "dt = GridSearchCV(dt_model, param_grid=params)\n",
    "dt = dt.fit(x_train, y_train)\n",
    "\n",
    "dt.best_estimator_"
   ]
  },
  {
   "cell_type": "code",
   "execution_count": 18,
   "metadata": {},
   "outputs": [
    {
     "data": {
      "text/plain": [
       "0.7325"
      ]
     },
     "execution_count": 18,
     "metadata": {},
     "output_type": "execute_result"
    }
   ],
   "source": [
    "dt.best_score_"
   ]
  },
  {
   "cell_type": "code",
   "execution_count": 19,
   "metadata": {},
   "outputs": [
    {
     "name": "stdout",
     "output_type": "stream",
     "text": [
      "Depth/Min Split: 10, 1.00%: 66.22% < 69.88% > 73.53%\n",
      "Depth/Min Split: 10, 2.00%: 67.30% < 69.62% > 71.95%\n",
      "Depth/Min Split: 10, 3.00%: 66.61% < 69.12% > 71.64%\n",
      "Depth/Min Split: 11, 1.00%: 69.22% < 72.00% > 74.78%\n",
      "Depth/Min Split: 11, 2.00%: 69.77% < 72.12% > 74.48%\n",
      "Depth/Min Split: 11, 3.00%: 67.58% < 70.12% > 72.67%\n",
      "Depth/Min Split: 12, 1.00%: 69.80% < 72.38% > 74.95%\n",
      "Depth/Min Split: 12, 2.00%: 69.92% < 71.75% > 73.58%\n",
      "Depth/Min Split: 12, 3.00%: 68.05% < 70.38% > 72.70%\n",
      "Depth/Min Split: 13, 1.00%: 70.06% < 73.12% > 76.19%\n",
      "Depth/Min Split: 13, 2.00%: 70.25% < 71.88% > 73.50%\n",
      "Depth/Min Split: 13, 3.00%: 68.33% < 70.88% > 73.42%\n",
      "Depth/Min Split: 14, 1.00%: 70.68% < 73.25% > 75.82%\n",
      "Depth/Min Split: 14, 2.00%: 68.53% < 70.62% > 72.72%\n",
      "Depth/Min Split: 14, 3.00%: 67.02% < 70.00% > 72.98%\n",
      "Depth/Min Split: 15, 1.00%: 69.78% < 72.00% > 74.22%\n",
      "Depth/Min Split: 15, 2.00%: 70.01% < 72.12% > 74.24%\n",
      "Depth/Min Split: 15, 3.00%: 67.32% < 70.38% > 73.43%\n",
      "Depth/Min Split: 16, 1.00%: 69.03% < 72.50% > 75.97%\n",
      "Depth/Min Split: 16, 2.00%: 69.74% < 72.38% > 75.01%\n",
      "Depth/Min Split: 16, 3.00%: 68.30% < 71.00% > 73.70%\n",
      "Depth/Min Split: 17, 1.00%: 71.03% < 73.25% > 75.47%\n",
      "Depth/Min Split: 17, 2.00%: 70.16% < 72.37% > 74.59%\n",
      "Depth/Min Split: 17, 3.00%: 67.92% < 70.62% > 73.33%\n",
      "Depth/Min Split: 18, 1.00%: 70.01% < 73.00% > 75.99%\n",
      "Depth/Min Split: 18, 2.00%: 68.81% < 71.25% > 73.69%\n",
      "Depth/Min Split: 18, 3.00%: 68.62% < 70.88% > 73.13%\n"
     ]
    }
   ],
   "source": [
    "dt_results = list(zip(dt.cv_results_['params'],\n",
    "                      dt.cv_results_['mean_test_score'],\n",
    "                      dt.cv_results_['std_test_score']\n",
    "                     )\n",
    "                 )\n",
    "\n",
    "for i in dt_results:\n",
    "    x = i[0]['dt__max_depth']\n",
    "    y = i[0]['dt__min_samples_split']\n",
    "    print(f'Depth/Min Split: {x}, {y:.2%}: {(i[1]-i[2]):.2%} < {i[1]:.2%} > {(i[1]+i[2]):.2%}')"
   ]
  },
  {
   "cell_type": "markdown",
   "metadata": {},
   "source": [
    "> After a secondary search, we find that a `max_depth=18` is a better value, with higher accuracy values. The `min_samples_split=0.01` is still the corresponding choice for that hyperparameter."
   ]
  },
  {
   "cell_type": "code",
   "execution_count": 20,
   "metadata": {},
   "outputs": [
    {
     "name": "stdout",
     "output_type": "stream",
     "text": [
      "              precision    recall  f1-score   support\n",
      "\n",
      "          No       0.76      0.68      0.72       101\n",
      "         Yes       0.71      0.78      0.74        99\n",
      "\n",
      "    accuracy                           0.73       200\n",
      "   macro avg       0.73      0.73      0.73       200\n",
      "weighted avg       0.73      0.73      0.73       200\n",
      "\n"
     ]
    }
   ],
   "source": [
    "from sklearn.metrics import classification_report\n",
    "\n",
    "dt_pred_evt = dt.predict(x_test)\n",
    "\n",
    "print(classification_report(y_test, dt_pred_evt, labels=['No','Yes']))"
   ]
  },
  {
   "cell_type": "markdown",
   "metadata": {},
   "source": [
    "> Out-of-sample performance is expected to be 73% accuracy, with 78% recall and 71% precision."
   ]
  },
  {
   "cell_type": "code",
   "execution_count": 21,
   "metadata": {},
   "outputs": [
    {
     "name": "stdout",
     "output_type": "stream",
     "text": [
      "              precision    recall  f1-score   support\n",
      "\n",
      "          No       0.93      0.96      0.95       399\n",
      "         Yes       0.96      0.93      0.94       401\n",
      "\n",
      "    accuracy                           0.94       800\n",
      "   macro avg       0.95      0.95      0.94       800\n",
      "weighted avg       0.95      0.94      0.94       800\n",
      "\n"
     ]
    }
   ],
   "source": [
    "from sklearn.metrics import classification_report\n",
    "\n",
    "dt_pred_evt = dt.predict(x_train)\n",
    "\n",
    "print(classification_report(y_train, dt_pred_evt, labels=['No','Yes']))"
   ]
  },
  {
   "cell_type": "markdown",
   "metadata": {},
   "source": [
    "> However, comparing the performance of the test and training sets, it seems there could be significant overfitting. The above shows 96% accuracy in the training set, which is 20 points higher than the accuracy on the test set. We should be cautious given this and monitor the consistency of the performance results."
   ]
  },
  {
   "cell_type": "markdown",
   "metadata": {},
   "source": [
    "# Question 4\n",
    "- Compare the best logistic regression and best decision tree and decide which is superior.  \n",
    "- Use as much code as you need to defend your opinion. Use performance from the cross-validation and test sets to defend your opinion.  \n",
    "- Comment on your rationale for your choice."
   ]
  },
  {
   "cell_type": "code",
   "execution_count": 22,
   "metadata": {},
   "outputs": [
    {
     "name": "stdout",
     "output_type": "stream",
     "text": [
      "Logistic Regression, Training: 0.7525\n",
      "Logistic Regression, Test: 0.755\n"
     ]
    }
   ],
   "source": [
    "print(f'Logistic Regression, Training: {lg.score(x_train, y_train)}')\n",
    "print(f'Logistic Regression, Test: {lg.score(x_test, y_test)}')"
   ]
  },
  {
   "cell_type": "code",
   "execution_count": 23,
   "metadata": {},
   "outputs": [
    {
     "name": "stdout",
     "output_type": "stream",
     "text": [
      "Decision Tree, Training: 0.945\n",
      "Decision Tree, Test: 0.73\n"
     ]
    }
   ],
   "source": [
    "print(f'Decision Tree, Training: {dt.score(x_train, y_train)}')\n",
    "print(f'Decision Tree, Test: {dt.score(x_test, y_test)}')"
   ]
  },
  {
   "cell_type": "markdown",
   "metadata": {},
   "source": [
    "> Logistic regression has an accuracy on the test set, so strictly by that metric we would prefer that model over the decision tree. Additionally, the decision tree is overfitting, as evidenced by the drop-off in accuracy from the training to test set, i.e., the decision tree is capturing more of the random error term in the training data than the logistic regression, which is something we want to avoid.\n",
    "\n",
    "> To further look at the trade-offs, we can examine the ROC curves, which shows the trade-offs between the false positive rate (FPR) and true positive rate (TPR)."
   ]
  },
  {
   "cell_type": "code",
   "execution_count": 24,
   "metadata": {},
   "outputs": [],
   "source": [
    "from sklearn.metrics import roc_curve\n",
    "\n",
    "lg_pred = lg.predict_proba(x_test)\n",
    "dt_pred = dt.predict_proba(x_test)\n",
    "\n",
    "lg_fpr, lg_tpr, lg_thr = roc_curve(y_test, lg_pred[:,1], pos_label='Yes')\n",
    "dt_fpr, dt_tpr, dt_thr = roc_curve(y_test, dt_pred[:,1], pos_label='Yes')"
   ]
  },
  {
   "cell_type": "code",
   "execution_count": 25,
   "metadata": {},
   "outputs": [
    {
     "data": {
      "image/png": "[encoded data removed]",
      "text/plain": [
       "<Figure size 432x288 with 1 Axes>"
      ]
     },
     "metadata": {
      "needs_background": "light"
     },
     "output_type": "display_data"
    }
   ],
   "source": [
    "plt.plot(lg_fpr, lg_tpr)\n",
    "plt.plot(dt_fpr, dt_tpr)\n",
    "plt.plot(lg_fpr, lg_fpr, color='green', linestyle='dashed')\n",
    "plt.title('ROC Curve', loc='left')\n",
    "plt.xlabel('False Positive Rate')\n",
    "plt.ylabel('True Positive Rate')\n",
    "plt.legend(['Logistic Regression', 'Decision Tree'], loc='lower right')\n",
    "plt.show()"
   ]
  },
  {
   "cell_type": "markdown",
   "metadata": {},
   "source": [
    "> There is a portion of the ROC curve whether we'd prefer the decision tree, given its lower FPR and higher TPR."
   ]
  },
  {
   "cell_type": "code",
   "execution_count": 26,
   "metadata": {},
   "outputs": [
    {
     "data": {
      "text/html": [
       "<div>\n",
       "<style scoped>\n",
       "    .dataframe tbody tr th:only-of-type {\n",
       "        vertical-align: middle;\n",
       "    }\n",
       "\n",
       "    .dataframe tbody tr th {\n",
       "        vertical-align: top;\n",
       "    }\n",
       "\n",
       "    .dataframe thead th {\n",
       "        text-align: right;\n",
       "    }\n",
       "</style>\n",
       "<table border=\"1\" class=\"dataframe\">\n",
       "  <thead>\n",
       "    <tr style=\"text-align: right;\">\n",
       "      <th></th>\n",
       "      <th>FPR</th>\n",
       "      <th>TRP</th>\n",
       "      <th>THRES</th>\n",
       "    </tr>\n",
       "  </thead>\n",
       "  <tbody>\n",
       "    <tr>\n",
       "      <th>8</th>\n",
       "      <td>0.356436</td>\n",
       "      <td>0.898990</td>\n",
       "      <td>0.428571</td>\n",
       "    </tr>\n",
       "    <tr>\n",
       "      <th>7</th>\n",
       "      <td>0.356436</td>\n",
       "      <td>0.858586</td>\n",
       "      <td>0.500000</td>\n",
       "    </tr>\n",
       "    <tr>\n",
       "      <th>6</th>\n",
       "      <td>0.316832</td>\n",
       "      <td>0.777778</td>\n",
       "      <td>0.666667</td>\n",
       "    </tr>\n",
       "    <tr>\n",
       "      <th>5</th>\n",
       "      <td>0.316832</td>\n",
       "      <td>0.757576</td>\n",
       "      <td>0.750000</td>\n",
       "    </tr>\n",
       "    <tr>\n",
       "      <th>4</th>\n",
       "      <td>0.297030</td>\n",
       "      <td>0.737374</td>\n",
       "      <td>0.857143</td>\n",
       "    </tr>\n",
       "    <tr>\n",
       "      <th>3</th>\n",
       "      <td>0.287129</td>\n",
       "      <td>0.717172</td>\n",
       "      <td>0.882353</td>\n",
       "    </tr>\n",
       "    <tr>\n",
       "      <th>2</th>\n",
       "      <td>0.277228</td>\n",
       "      <td>0.666667</td>\n",
       "      <td>0.888889</td>\n",
       "    </tr>\n",
       "  </tbody>\n",
       "</table>\n",
       "</div>"
      ],
      "text/plain": [
       "        FPR       TRP     THRES\n",
       "8  0.356436  0.898990  0.428571\n",
       "7  0.356436  0.858586  0.500000\n",
       "6  0.316832  0.777778  0.666667\n",
       "5  0.316832  0.757576  0.750000\n",
       "4  0.297030  0.737374  0.857143\n",
       "3  0.287129  0.717172  0.882353\n",
       "2  0.277228  0.666667  0.888889"
      ]
     },
     "execution_count": 26,
     "metadata": {},
     "output_type": "execute_result"
    }
   ],
   "source": [
    "dtr = (\n",
    "pd.DataFrame(list(zip(dt_fpr, dt_tpr, dt_thr)), columns=['FPR','TRP','THRES'])\n",
    ".sort_values(by='THRES')    \n",
    ")\n",
    "\n",
    "dtr.query('THRES > 0.4 and THRES < 1')"
   ]
  },
  {
   "cell_type": "markdown",
   "metadata": {},
   "source": [
    "> Overall, the logistic regression appears to be the better model. The accuracy on the test set is higher and the ROC is generally better at most threshold values. However, we can set the threshold for the `Decision Tree` at `0.428` and have a better trade-off between false-positives and true-positives. Eyeballing the ROC chart, for the `Logistic Regression` we might want to consider a threshold of `0.3` since that seems to be the point where we begin to see slowing gains in the FPR/TPR trade-off."
   ]
  },
  {
   "cell_type": "code",
   "execution_count": 27,
   "metadata": {},
   "outputs": [
    {
     "name": "stdout",
     "output_type": "stream",
     "text": [
      "              precision    recall  f1-score   support\n",
      "\n",
      "          No       0.85      0.34      0.48       101\n",
      "         Yes       0.58      0.94      0.72        99\n",
      "\n",
      "    accuracy                           0.64       200\n",
      "   macro avg       0.72      0.64      0.60       200\n",
      "weighted avg       0.72      0.64      0.60       200\n",
      "\n"
     ]
    }
   ],
   "source": [
    "from sklearn.metrics import classification_report\n",
    "\n",
    "lg_pred_evt = lg.predict_proba(x_test)\n",
    "lg_pred_evt = np.where(lg_pred_evt[:,1] < 0.3, 'No', 'Yes')\n",
    "\n",
    "print(classification_report(y_test, lg_pred_evt, labels=['No','Yes']))"
   ]
  },
  {
   "cell_type": "code",
   "execution_count": 28,
   "metadata": {},
   "outputs": [
    {
     "name": "stdout",
     "output_type": "stream",
     "text": [
      "              precision    recall  f1-score   support\n",
      "\n",
      "          No       0.82      0.64      0.72       101\n",
      "         Yes       0.70      0.86      0.77        99\n",
      "\n",
      "    accuracy                           0.75       200\n",
      "   macro avg       0.76      0.75      0.75       200\n",
      "weighted avg       0.76      0.75      0.75       200\n",
      "\n"
     ]
    }
   ],
   "source": [
    "dt_pred_evt = dt.predict_proba(x_test)\n",
    "dt_pred_evt = np.where(dt_pred_evt[:,1] < 0.43, 'No', 'Yes')\n",
    "\n",
    "print(classification_report(y_test, dt_pred_evt, labels=['No','Yes']))"
   ]
  },
  {
   "cell_type": "markdown",
   "metadata": {},
   "source": [
    ">Confirms the lower threshold for the decision tree creates a higher recall and not a significant trade-off to precision; a similar experiment for logistic regression shows a even better recall, but a larger impact to accuracy. If that trade-off is acceptable from a business perspective, we could recommend the `decision tree` with the non-standard threshold value given the apparent \"free lunch\". However, due to the overfitting that we suspect the decision tree is doing, I would be cautious in choosing that without additional testing to determine the stability of the performance results. As of now, the logistic regression seems to provide at least comparable, if not better, performance, than the decision tree, without overfitting, so we can reasonably defend choosing the logistic regression with a `C=0.01` regularization value."
   ]
  },
  {
   "cell_type": "markdown",
   "metadata": {},
   "source": [
    "### Notes\n",
    "- No errors, warnings -- shouldn't see those in the EDA or projects.  \n",
    "- Be thorough -- there isn't a lot of additional work to be thorough.  \n",
    "- Be creative  \n",
    "- Use markdowns to annotate what you are seeing - I don't know if you understand the output without discussing."
   ]
  },
  {
   "cell_type": "code",
   "execution_count": null,
   "metadata": {},
   "outputs": [],
   "source": []
  }
 ],
 "metadata": {
  "kernelspec": {
   "display_name": "Python 3.7.3 64-bit ('base': conda)",
   "language": "python",
   "name": "python37364bitbaseconda3e66817595a24f3b851fad3315f1c145"
  },
  "language_info": {
   "codemirror_mode": {
    "name": "ipython",
    "version": 3
   },
   "file_extension": ".py",
   "mimetype": "text/x-python",
   "name": "python",
   "nbconvert_exporter": "python",
   "pygments_lexer": "ipython3",
   "version": "3.7.3"
  }
 },
 "nbformat": 4,
 "nbformat_minor": 4
}
