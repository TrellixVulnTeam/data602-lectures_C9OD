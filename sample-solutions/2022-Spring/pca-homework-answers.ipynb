{
 "cells": [
  {
   "cell_type": "markdown",
   "metadata": {},
   "source": [
    "# PCA and Dimension Reduction\n",
    "Execute the below code and answer the following questions."
   ]
  },
  {
   "cell_type": "code",
   "execution_count": 1,
   "metadata": {},
   "outputs": [
    {
     "data": {
      "text/html": [
       "<div>\n",
       "<style scoped>\n",
       "    .dataframe tbody tr th:only-of-type {\n",
       "        vertical-align: middle;\n",
       "    }\n",
       "\n",
       "    .dataframe tbody tr th {\n",
       "        vertical-align: top;\n",
       "    }\n",
       "\n",
       "    .dataframe thead th {\n",
       "        text-align: right;\n",
       "    }\n",
       "</style>\n",
       "<table border=\"1\" class=\"dataframe\">\n",
       "  <thead>\n",
       "    <tr style=\"text-align: right;\">\n",
       "      <th></th>\n",
       "      <th>var0</th>\n",
       "      <th>var1</th>\n",
       "      <th>var2</th>\n",
       "      <th>var3</th>\n",
       "      <th>var4</th>\n",
       "      <th>var5</th>\n",
       "      <th>var6</th>\n",
       "      <th>var7</th>\n",
       "      <th>var8</th>\n",
       "      <th>var9</th>\n",
       "      <th>...</th>\n",
       "      <th>var11</th>\n",
       "      <th>var12</th>\n",
       "      <th>var13</th>\n",
       "      <th>var14</th>\n",
       "      <th>var15</th>\n",
       "      <th>var16</th>\n",
       "      <th>var17</th>\n",
       "      <th>var18</th>\n",
       "      <th>var19</th>\n",
       "      <th>target</th>\n",
       "    </tr>\n",
       "  </thead>\n",
       "  <tbody>\n",
       "    <tr>\n",
       "      <th>0</th>\n",
       "      <td>0.922486</td>\n",
       "      <td>1.047879</td>\n",
       "      <td>-2.963721</td>\n",
       "      <td>-0.056906</td>\n",
       "      <td>1.265347</td>\n",
       "      <td>3.858544</td>\n",
       "      <td>0.491978</td>\n",
       "      <td>-0.490947</td>\n",
       "      <td>-4.320868</td>\n",
       "      <td>0.593099</td>\n",
       "      <td>...</td>\n",
       "      <td>0.536582</td>\n",
       "      <td>-0.725250</td>\n",
       "      <td>1.331478</td>\n",
       "      <td>1.185142</td>\n",
       "      <td>-2.963721</td>\n",
       "      <td>1.314720</td>\n",
       "      <td>2.487634</td>\n",
       "      <td>-0.424585</td>\n",
       "      <td>0.995500</td>\n",
       "      <td>1.0</td>\n",
       "    </tr>\n",
       "    <tr>\n",
       "      <th>1</th>\n",
       "      <td>1.210683</td>\n",
       "      <td>-2.384247</td>\n",
       "      <td>2.590403</td>\n",
       "      <td>-2.600047</td>\n",
       "      <td>-1.039447</td>\n",
       "      <td>-0.687409</td>\n",
       "      <td>0.847554</td>\n",
       "      <td>-0.563711</td>\n",
       "      <td>-4.944035</td>\n",
       "      <td>0.357768</td>\n",
       "      <td>...</td>\n",
       "      <td>-1.811372</td>\n",
       "      <td>-1.981515</td>\n",
       "      <td>0.212563</td>\n",
       "      <td>1.569957</td>\n",
       "      <td>2.590403</td>\n",
       "      <td>2.475946</td>\n",
       "      <td>0.866024</td>\n",
       "      <td>1.414244</td>\n",
       "      <td>0.337811</td>\n",
       "      <td>0.0</td>\n",
       "    </tr>\n",
       "    <tr>\n",
       "      <th>2</th>\n",
       "      <td>0.428323</td>\n",
       "      <td>-4.476885</td>\n",
       "      <td>8.180427</td>\n",
       "      <td>-4.260930</td>\n",
       "      <td>-1.435362</td>\n",
       "      <td>-6.440634</td>\n",
       "      <td>4.620321</td>\n",
       "      <td>-1.400001</td>\n",
       "      <td>-7.511350</td>\n",
       "      <td>1.946596</td>\n",
       "      <td>...</td>\n",
       "      <td>-2.506842</td>\n",
       "      <td>0.704681</td>\n",
       "      <td>-2.628639</td>\n",
       "      <td>3.458000</td>\n",
       "      <td>8.180427</td>\n",
       "      <td>3.718988</td>\n",
       "      <td>0.771003</td>\n",
       "      <td>-1.153540</td>\n",
       "      <td>-0.148205</td>\n",
       "      <td>0.0</td>\n",
       "    </tr>\n",
       "    <tr>\n",
       "      <th>3</th>\n",
       "      <td>-0.631406</td>\n",
       "      <td>0.255251</td>\n",
       "      <td>-4.260573</td>\n",
       "      <td>1.140672</td>\n",
       "      <td>-0.738570</td>\n",
       "      <td>5.966119</td>\n",
       "      <td>-5.335446</td>\n",
       "      <td>-0.729138</td>\n",
       "      <td>5.655376</td>\n",
       "      <td>-0.852272</td>\n",
       "      <td>...</td>\n",
       "      <td>-0.733406</td>\n",
       "      <td>1.295768</td>\n",
       "      <td>-1.049316</td>\n",
       "      <td>3.925402</td>\n",
       "      <td>-4.260573</td>\n",
       "      <td>-4.457084</td>\n",
       "      <td>-2.563916</td>\n",
       "      <td>-1.388560</td>\n",
       "      <td>0.179481</td>\n",
       "      <td>2.0</td>\n",
       "    </tr>\n",
       "    <tr>\n",
       "      <th>4</th>\n",
       "      <td>-1.217200</td>\n",
       "      <td>-3.333409</td>\n",
       "      <td>4.420645</td>\n",
       "      <td>1.231249</td>\n",
       "      <td>-0.081330</td>\n",
       "      <td>-2.874278</td>\n",
       "      <td>1.404699</td>\n",
       "      <td>0.680510</td>\n",
       "      <td>4.243968</td>\n",
       "      <td>2.281619</td>\n",
       "      <td>...</td>\n",
       "      <td>2.104220</td>\n",
       "      <td>1.120948</td>\n",
       "      <td>-1.349871</td>\n",
       "      <td>-1.680847</td>\n",
       "      <td>4.420645</td>\n",
       "      <td>-3.035590</td>\n",
       "      <td>-1.190401</td>\n",
       "      <td>-0.421525</td>\n",
       "      <td>-0.883157</td>\n",
       "      <td>0.0</td>\n",
       "    </tr>\n",
       "  </tbody>\n",
       "</table>\n",
       "<p>5 rows × 21 columns</p>\n",
       "</div>"
      ],
      "text/plain": [
       "       var0      var1      var2      var3      var4      var5      var6  \\\n",
       "0  0.922486  1.047879 -2.963721 -0.056906  1.265347  3.858544  0.491978   \n",
       "1  1.210683 -2.384247  2.590403 -2.600047 -1.039447 -0.687409  0.847554   \n",
       "2  0.428323 -4.476885  8.180427 -4.260930 -1.435362 -6.440634  4.620321   \n",
       "3 -0.631406  0.255251 -4.260573  1.140672 -0.738570  5.966119 -5.335446   \n",
       "4 -1.217200 -3.333409  4.420645  1.231249 -0.081330 -2.874278  1.404699   \n",
       "\n",
       "       var7      var8      var9  ...     var11     var12     var13     var14  \\\n",
       "0 -0.490947 -4.320868  0.593099  ...  0.536582 -0.725250  1.331478  1.185142   \n",
       "1 -0.563711 -4.944035  0.357768  ... -1.811372 -1.981515  0.212563  1.569957   \n",
       "2 -1.400001 -7.511350  1.946596  ... -2.506842  0.704681 -2.628639  3.458000   \n",
       "3 -0.729138  5.655376 -0.852272  ... -0.733406  1.295768 -1.049316  3.925402   \n",
       "4  0.680510  4.243968  2.281619  ...  2.104220  1.120948 -1.349871 -1.680847   \n",
       "\n",
       "      var15     var16     var17     var18     var19  target  \n",
       "0 -2.963721  1.314720  2.487634 -0.424585  0.995500     1.0  \n",
       "1  2.590403  2.475946  0.866024  1.414244  0.337811     0.0  \n",
       "2  8.180427  3.718988  0.771003 -1.153540 -0.148205     0.0  \n",
       "3 -4.260573 -4.457084 -2.563916 -1.388560  0.179481     2.0  \n",
       "4  4.420645 -3.035590 -1.190401 -0.421525 -0.883157     0.0  \n",
       "\n",
       "[5 rows x 21 columns]"
      ]
     },
     "execution_count": 1,
     "metadata": {},
     "output_type": "execute_result"
    }
   ],
   "source": [
    "import pandas as pd\n",
    "import matplotlib.pyplot as plt\n",
    "%matplotlib inline\n",
    "import numpy as np\n",
    "\n",
    "df = pd.read_csv('pca-dataset.csv')\n",
    "df.head()"
   ]
  },
  {
   "cell_type": "code",
   "execution_count": 2,
   "metadata": {},
   "outputs": [
    {
     "name": "stdout",
     "output_type": "stream",
     "text": [
      "<class 'pandas.core.frame.DataFrame'>\n",
      "RangeIndex: 1500 entries, 0 to 1499\n",
      "Data columns (total 21 columns):\n",
      " #   Column  Non-Null Count  Dtype  \n",
      "---  ------  --------------  -----  \n",
      " 0   var0    1500 non-null   float64\n",
      " 1   var1    1500 non-null   float64\n",
      " 2   var2    1500 non-null   float64\n",
      " 3   var3    1500 non-null   float64\n",
      " 4   var4    1500 non-null   float64\n",
      " 5   var5    1500 non-null   float64\n",
      " 6   var6    1500 non-null   float64\n",
      " 7   var7    1500 non-null   float64\n",
      " 8   var8    1500 non-null   float64\n",
      " 9   var9    1500 non-null   float64\n",
      " 10  var10   1500 non-null   float64\n",
      " 11  var11   1500 non-null   float64\n",
      " 12  var12   1500 non-null   float64\n",
      " 13  var13   1500 non-null   float64\n",
      " 14  var14   1500 non-null   float64\n",
      " 15  var15   1500 non-null   float64\n",
      " 16  var16   1500 non-null   float64\n",
      " 17  var17   1500 non-null   float64\n",
      " 18  var18   1500 non-null   float64\n",
      " 19  var19   1500 non-null   float64\n",
      " 20  target  1500 non-null   float64\n",
      "dtypes: float64(21)\n",
      "memory usage: 246.2 KB\n"
     ]
    }
   ],
   "source": [
    "df.info()"
   ]
  },
  {
   "cell_type": "code",
   "execution_count": 3,
   "metadata": {},
   "outputs": [
    {
     "name": "stdout",
     "output_type": "stream",
     "text": [
      "Training samples: 1,200\n",
      "Test samples: 300\n",
      "\n",
      "Features:\n",
      "var0\tvar1\tvar2\tvar3\tvar4\tvar5\tvar6\tvar7\tvar8\tvar9\tvar10\tvar11\tvar12\tvar13\tvar14\tvar15\tvar16\tvar17\tvar18\tvar19\n"
     ]
    }
   ],
   "source": [
    "from sklearn.model_selection import train_test_split\n",
    "\n",
    "X = df[[x for x in df.columns if x.startswith('var')]]\n",
    "y = df['target']\n",
    "\n",
    "X_train, X_test, y_train, y_test = train_test_split(X, y, test_size=0.2, random_state=123)\n",
    "\n",
    "print(f'Training samples: {X_train.shape[0]:,}')\n",
    "print(f'Test samples: {X_test.shape[0]:,}')\n",
    "\n",
    "print('\\nFeatures:')\n",
    "print(*X_train, sep='\\t')"
   ]
  },
  {
   "cell_type": "markdown",
   "metadata": {},
   "source": [
    "### Data Description\n",
    "- `var1 - var19`: a feature for the data.  \n",
    "- `target`: variable we wish to be able to predict, which is 1 of 3 classes."
   ]
  },
  {
   "cell_type": "markdown",
   "metadata": {},
   "source": [
    "# Question 1\n",
    "- Use principle components analysis to determine the number of components to reduce the data to by evaluating the explained variance ratio (Use `X_train`).  \n",
    "- Remember to scale the data first.  \n",
    "- What number of components would you recommend based on your analysis?"
   ]
  },
  {
   "cell_type": "code",
   "execution_count": 4,
   "metadata": {},
   "outputs": [],
   "source": [
    "from sklearn.decomposition import PCA\n",
    "from sklearn.preprocessing import StandardScaler\n",
    "\n",
    "s = StandardScaler()\n",
    "X_train_scale = s.fit_transform(X_train)\n",
    "\n",
    "p = PCA()\n",
    "X_train_pca = p.fit_transform(X_train_scale)"
   ]
  },
  {
   "cell_type": "code",
   "execution_count": 5,
   "metadata": {},
   "outputs": [
    {
     "data": {
      "image/png": "[encoded data removed]",
      "text/plain": [
       "<Figure size 432x288 with 1 Axes>"
      ]
     },
     "metadata": {
      "needs_background": "light"
     },
     "output_type": "display_data"
    }
   ],
   "source": [
    "evr = p.explained_variance_ratio_\n",
    "\n",
    "plt.plot(np.cumsum(evr), '-o')\n",
    "plt.bar(np.arange(np.size(evr)), evr, color='red')\n",
    "plt.ylabel('Explained Variance %')\n",
    "plt.xlabel('Components')\n",
    "plt.hlines(.95, 0, np.size(evr))\n",
    "plt.show()"
   ]
  },
  {
   "cell_type": "markdown",
   "metadata": {},
   "source": [
    "> At the 12th component the total variance is 95%, which is what I would recommend using, as 95% is the general rule of thumb."
   ]
  },
  {
   "cell_type": "markdown",
   "metadata": {},
   "source": [
    "<Insert comments>"
   ]
  },
  {
   "cell_type": "markdown",
   "metadata": {},
   "source": [
    "# Question 2\n",
    "- Evaluate the target variable in the `df` object.  \n",
    "- Which metric would you use in evaluating a predictive model. Explain your choice in the markdown cell. "
   ]
  },
  {
   "cell_type": "code",
   "execution_count": 6,
   "metadata": {},
   "outputs": [
    {
     "data": {
      "image/png": "[encoded data removed]",
      "text/plain": [
       "<Figure size 432x288 with 1 Axes>"
      ]
     },
     "metadata": {
      "needs_background": "light"
     },
     "output_type": "display_data"
    }
   ],
   "source": [
    "df['target'].value_counts().plot.bar()\n",
    "plt.title('Distribution of Target Values', loc='left')\n",
    "plt.show()"
   ]
  },
  {
   "cell_type": "markdown",
   "metadata": {},
   "source": [
    "> Since the distribution is skewed, accuracy would be misleading. I would choose either recall or precision, depending on the use-case. Accuracy would skew towards the plurity class and recall would allow us to understand the ability for the model to recall the actual labels, which likely has a higher value then too many false positives."
   ]
  },
  {
   "cell_type": "markdown",
   "metadata": {},
   "source": [
    "# Question 3\n",
    "- Without using PCA, create a logistic regression model using practices discussed in class.  \n",
    "- Which model would you choose? Explain your results in the markdown cells.    \n",
    "- What is the accuracy, precision, and recall for the test data?  "
   ]
  },
  {
   "cell_type": "code",
   "execution_count": 9,
   "metadata": {},
   "outputs": [
    {
     "data": {
      "text/plain": [
       "Pipeline(steps=[('scale', StandardScaler()),\n",
       "                ('glm',\n",
       "                 LogisticRegression(C=0.1, class_weight='balanced',\n",
       "                                    solver='liblinear'))])"
      ]
     },
     "execution_count": 9,
     "metadata": {},
     "output_type": "execute_result"
    }
   ],
   "source": [
    "from sklearn.pipeline import Pipeline\n",
    "from sklearn.preprocessing import StandardScaler\n",
    "from sklearn.linear_model import LogisticRegression\n",
    "from sklearn.model_selection import GridSearchCV\n",
    "\n",
    "rpi = Pipeline([\n",
    "    ('scale', StandardScaler()),\n",
    "    ('glm', LogisticRegression(solver='liblinear'))]\n",
    ")\n",
    "\n",
    "params = {\n",
    "    'glm__C': [0.001, 0.01, 0.1, 1, 10, 100],\n",
    "    'glm__class_weight': [None, 'balanced']\n",
    "}\n",
    "\n",
    "rpi = GridSearchCV(rpi, param_grid = params, scoring='recall_macro')\n",
    "rpi = rpi.fit(X_train, y_train)\n",
    "\n",
    "rpi.best_estimator_"
   ]
  },
  {
   "cell_type": "code",
   "execution_count": 10,
   "metadata": {},
   "outputs": [
    {
     "name": "stdout",
     "output_type": "stream",
     "text": [
      "Validation score: 71.14%\n",
      "Full training score: 72.73%\n",
      "Test score: 70.33%\n"
     ]
    }
   ],
   "source": [
    "print(f'Validation score: {rpi.best_score_:.2%}')\n",
    "print(f'Full training score: {rpi.score(X_train, y_train):.2%}')\n",
    "print(f'Test score: {rpi.score(X_test, y_test):.2%}')"
   ]
  },
  {
   "cell_type": "code",
   "execution_count": 11,
   "metadata": {},
   "outputs": [
    {
     "name": "stdout",
     "output_type": "stream",
     "text": [
      "              precision    recall  f1-score   support\n",
      "\n",
      "         0.0       0.80      0.71      0.75       149\n",
      "         1.0       0.63      0.62      0.63        73\n",
      "         2.0       0.64      0.78      0.70        78\n",
      "\n",
      "    accuracy                           0.71       300\n",
      "   macro avg       0.69      0.70      0.69       300\n",
      "weighted avg       0.72      0.71      0.71       300\n",
      "\n"
     ]
    }
   ],
   "source": [
    "from sklearn.metrics import classification_report\n",
    "\n",
    "print(classification_report(y_test, rpi.predict(X_test)))"
   ]
  },
  {
   "cell_type": "markdown",
   "metadata": {},
   "source": [
    "> Best results so far on `C=0.1` using balanced classes. CV score was 72%, 73% on entire training data, and test 71%. Will search around `C=0.1` using balanced to target a better value."
   ]
  },
  {
   "cell_type": "code",
   "execution_count": 12,
   "metadata": {},
   "outputs": [
    {
     "data": {
      "text/plain": [
       "Pipeline(steps=[('scale', StandardScaler()),\n",
       "                ('glm',\n",
       "                 LogisticRegression(C=0.1, class_weight='balanced',\n",
       "                                    solver='liblinear'))])"
      ]
     },
     "execution_count": 12,
     "metadata": {},
     "output_type": "execute_result"
    }
   ],
   "source": [
    "rpi = Pipeline([\n",
    "    ('scale', StandardScaler()),\n",
    "    ('glm', LogisticRegression(solver='liblinear'))]\n",
    ")\n",
    "\n",
    "params = {\n",
    "    'glm__C': [0.3, 0.7, 0.9, 0.1, 0.25, 0.50, 0.80],\n",
    "    'glm__class_weight': [None, 'balanced']\n",
    "}\n",
    "\n",
    "rpi = GridSearchCV(rpi, param_grid = params, scoring='recall_macro')\n",
    "rpi = rpi.fit(X_train, y_train)\n",
    "\n",
    "rpi.best_estimator_"
   ]
  },
  {
   "cell_type": "markdown",
   "metadata": {},
   "source": [
    "> Refined search finds `C=0.1` as the \"best\", so we'll proceed with that as the non-PCA champion."
   ]
  },
  {
   "cell_type": "markdown",
   "metadata": {},
   "source": [
    "# Question 4\n",
    "- Use PCA within a pipeline to create a logistic regression model using best practices from class.  \n",
    "- Which model performs the best on the training data? Explain your results in markdown cells.  \n",
    "- What is the accuracy, precision, and recall for the test data?\n",
    "- Does this perform better than the original logistic regression model?"
   ]
  },
  {
   "cell_type": "code",
   "execution_count": 13,
   "metadata": {},
   "outputs": [
    {
     "data": {
      "text/plain": [
       "Pipeline(steps=[('scale', StandardScaler()), ('pca', PCA(n_components=14)),\n",
       "                ('glm',\n",
       "                 LogisticRegression(C=0.1, class_weight='balanced',\n",
       "                                    solver='liblinear'))])"
      ]
     },
     "execution_count": 13,
     "metadata": {},
     "output_type": "execute_result"
    }
   ],
   "source": [
    "from sklearn.pipeline import Pipeline\n",
    "from sklearn.decomposition import PCA\n",
    "from sklearn.preprocessing import StandardScaler\n",
    "from sklearn.linear_model import LogisticRegression\n",
    "from sklearn.model_selection import GridSearchCV\n",
    "\n",
    "pi = Pipeline([\n",
    "    ('scale', StandardScaler()),\n",
    "    ('pca', PCA()),\n",
    "    ('glm', LogisticRegression(solver='liblinear'))]\n",
    ")\n",
    "\n",
    "params = {\n",
    "    'pca__n_components': [8, 11, 12, 13, 14],\n",
    "    'glm__C': [0.001, 0.01, 0.1, 1, 10, 100],\n",
    "    'glm__class_weight': [None, 'balanced']\n",
    "}\n",
    "\n",
    "pi = GridSearchCV(pi, param_grid = params, scoring='recall_macro')\n",
    "pi = pi.fit(X_train, y_train)\n",
    "\n",
    "pi.best_estimator_"
   ]
  },
  {
   "cell_type": "code",
   "execution_count": 14,
   "metadata": {},
   "outputs": [
    {
     "name": "stdout",
     "output_type": "stream",
     "text": [
      "Validation score: 71.14%\n",
      "Full training score: 72.73%\n",
      "Test score: 70.33%\n"
     ]
    }
   ],
   "source": [
    "print(f'Validation score: {rpi.best_score_:.2%}')\n",
    "print(f'Full training score: {rpi.score(X_train, y_train):.2%}')\n",
    "print(f'Test score: {rpi.score(X_test, y_test):.2%}')"
   ]
  },
  {
   "cell_type": "markdown",
   "metadata": {},
   "source": [
    "> Best model was regularization strength of 0.1, unweighted classes, and 13 principle components."
   ]
  },
  {
   "cell_type": "code",
   "execution_count": 15,
   "metadata": {},
   "outputs": [
    {
     "name": "stdout",
     "output_type": "stream",
     "text": [
      "              precision    recall  f1-score   support\n",
      "\n",
      "         0.0       0.80      0.71      0.75       149\n",
      "         1.0       0.63      0.62      0.63        73\n",
      "         2.0       0.64      0.78      0.70        78\n",
      "\n",
      "    accuracy                           0.71       300\n",
      "   macro avg       0.69      0.70      0.69       300\n",
      "weighted avg       0.72      0.71      0.71       300\n",
      "\n"
     ]
    }
   ],
   "source": [
    "from sklearn.metrics import classification_report\n",
    "\n",
    "print(classification_report(y_test, pi.predict(X_test)))"
   ]
  },
  {
   "cell_type": "markdown",
   "metadata": {},
   "source": [
    "> Test accuracy is 70% and precision and recall are about 68% each. CV accuracy is 72% and overall training is 73%, so no evidence of overfitting. Performance is nearly identical to the above logistic regression.\n",
    "\n",
    "> More targeted searches around 13 components and the `C=0.1` regularization strength."
   ]
  },
  {
   "cell_type": "code",
   "execution_count": 16,
   "metadata": {},
   "outputs": [
    {
     "data": {
      "text/plain": [
       "Pipeline(steps=[('scale', StandardScaler()), ('pca', PCA(n_components=14)),\n",
       "                ('glm',\n",
       "                 LogisticRegression(C=0.06, class_weight='balanced',\n",
       "                                    solver='liblinear'))])"
      ]
     },
     "execution_count": 16,
     "metadata": {},
     "output_type": "execute_result"
    }
   ],
   "source": [
    "pi = Pipeline([\n",
    "    ('scale', StandardScaler()),\n",
    "    ('pca', PCA()),\n",
    "    ('glm', LogisticRegression(solver='liblinear'))]\n",
    ")\n",
    "\n",
    "params = {\n",
    "    'pca__n_components': [12, 13, 14, 15, 16],\n",
    "    'glm__C': [0.06, 0.08, 0.1, 0.25, 0.60, 0.80],\n",
    "    'glm__class_weight': [None, 'balanced']\n",
    "}\n",
    "\n",
    "pi = GridSearchCV(pi, param_grid = params, scoring='recall_macro')\n",
    "pi = pi.fit(X_train, y_train)\n",
    "\n",
    "pi.best_estimator_"
   ]
  },
  {
   "cell_type": "code",
   "execution_count": 17,
   "metadata": {},
   "outputs": [
    {
     "name": "stdout",
     "output_type": "stream",
     "text": [
      "Validation score: 71.14%\n",
      "Full training score: 72.73%\n",
      "Test score: 70.33%\n"
     ]
    }
   ],
   "source": [
    "print(f'Validation score: {rpi.best_score_:.2%}')\n",
    "print(f'Full training score: {rpi.score(X_train, y_train):.2%}')\n",
    "print(f'Test score: {rpi.score(X_test, y_test):.2%}')"
   ]
  },
  {
   "cell_type": "code",
   "execution_count": 18,
   "metadata": {},
   "outputs": [
    {
     "name": "stdout",
     "output_type": "stream",
     "text": [
      "              precision    recall  f1-score   support\n",
      "\n",
      "         0.0       0.80      0.71      0.75       149\n",
      "         1.0       0.64      0.62      0.63        73\n",
      "         2.0       0.63      0.78      0.70        78\n",
      "\n",
      "    accuracy                           0.71       300\n",
      "   macro avg       0.69      0.70      0.69       300\n",
      "weighted avg       0.72      0.71      0.71       300\n",
      "\n"
     ]
    }
   ],
   "source": [
    "from sklearn.metrics import classification_report\n",
    "\n",
    "print(classification_report(y_test, pi.predict(X_test)))"
   ]
  },
  {
   "cell_type": "markdown",
   "metadata": {},
   "source": [
    "> Seeing no significant difference in the models using the more focused hyperparameters. Statistically irrelevant performance gain with slightly more regularization, but effectively the same."
   ]
  },
  {
   "cell_type": "code",
   "execution_count": 19,
   "metadata": {},
   "outputs": [
    {
     "name": "stdout",
     "output_type": "stream",
     "text": [
      "Regular Logistic Regression:\n",
      "              precision    recall  f1-score   support\n",
      "\n",
      "         0.0       0.80      0.71      0.75       149\n",
      "         1.0       0.63      0.62      0.63        73\n",
      "         2.0       0.64      0.78      0.70        78\n",
      "\n",
      "    accuracy                           0.71       300\n",
      "   macro avg       0.69      0.70      0.69       300\n",
      "weighted avg       0.72      0.71      0.71       300\n",
      "\n"
     ]
    }
   ],
   "source": [
    "from sklearn.metrics import classification_report\n",
    "\n",
    "print('Regular Logistic Regression:')\n",
    "print(classification_report(y_test, rpi.predict(X_test)))"
   ]
  },
  {
   "cell_type": "markdown",
   "metadata": {},
   "source": [
    "In comparing the PCA and non-PCA processing, the accuracies about about the same (71%), but the non-PCA logistic regression has slightly higher recall on the test data, so we'll prefer that model. In addition, it is also more interpretable in case we need to analyze the individual feature importances."
   ]
  },
  {
   "cell_type": "markdown",
   "metadata": {},
   "source": [
    "# Question 5"
   ]
  },
  {
   "cell_type": "markdown",
   "metadata": {},
   "source": [
    "- Without using PCA, create a decision tree model using best practices discussed in class.  \n",
    "- Which model performs the best on the training data? Explain your results in the markdown cells.  \n",
    "- What is the accuracy, precision, and recall for the test data?  \n",
    "- Does this perform better than either of the logistic regression models?"
   ]
  },
  {
   "cell_type": "code",
   "execution_count": 21,
   "metadata": {},
   "outputs": [
    {
     "data": {
      "text/plain": [
       "Pipeline(steps=[('tr',\n",
       "                 DecisionTreeClassifier(class_weight='balanced', max_depth=8,\n",
       "                                        min_samples_split=0.02))])"
      ]
     },
     "execution_count": 21,
     "metadata": {},
     "output_type": "execute_result"
    }
   ],
   "source": [
    "from sklearn.pipeline import Pipeline\n",
    "from sklearn.tree import DecisionTreeClassifier\n",
    "from sklearn.model_selection import GridSearchCV\n",
    "\n",
    "pine = Pipeline([\n",
    "    ('tr', DecisionTreeClassifier())]\n",
    ")\n",
    "\n",
    "pparams = {\n",
    "    'tr__max_depth': [4, 6, 8, 10, 12],\n",
    "    'tr__min_samples_split': [0.01, 0.02, 0.04, 0.06, 0.08],\n",
    "    'tr__class_weight': [None, 'balanced']\n",
    "}\n",
    "\n",
    "pine = GridSearchCV(pine, param_grid = pparams, scoring='recall_macro')\n",
    "pine = pine.fit(X_train, y_train)\n",
    "\n",
    "pine.best_estimator_"
   ]
  },
  {
   "cell_type": "code",
   "execution_count": 22,
   "metadata": {},
   "outputs": [
    {
     "name": "stdout",
     "output_type": "stream",
     "text": [
      "Validation score: 71.89%\n",
      "Full training score: 87.42%\n",
      "Test score: 74.27%\n"
     ]
    }
   ],
   "source": [
    "print(f'Validation score: {pine.best_score_:.2%}')\n",
    "print(f'Full training score: {pine.score(X_train, y_train):.2%}')\n",
    "print(f'Test score: {pine.score(X_test, y_test):.2%}')"
   ]
  },
  {
   "cell_type": "markdown",
   "metadata": {},
   "source": [
    "> Decision trees have 73-74% accuracy on CV and test sets, however, the training has a 84% accuracy, so there is evidence of overfitting."
   ]
  },
  {
   "cell_type": "code",
   "execution_count": 23,
   "metadata": {},
   "outputs": [
    {
     "name": "stdout",
     "output_type": "stream",
     "text": [
      "              precision    recall  f1-score   support\n",
      "\n",
      "         0.0       0.81      0.76      0.78       149\n",
      "         1.0       0.62      0.73      0.67        73\n",
      "         2.0       0.77      0.74      0.76        78\n",
      "\n",
      "    accuracy                           0.75       300\n",
      "   macro avg       0.73      0.74      0.74       300\n",
      "weighted avg       0.75      0.75      0.75       300\n",
      "\n"
     ]
    }
   ],
   "source": [
    "from sklearn.metrics import classification_report\n",
    "\n",
    "print(classification_report(y_test, pine.predict(X_test)))"
   ]
  },
  {
   "cell_type": "markdown",
   "metadata": {},
   "source": [
    "Recall for the base tree is ~72% and precision is ~73%. Performing more targeted search:"
   ]
  },
  {
   "cell_type": "code",
   "execution_count": 24,
   "metadata": {},
   "outputs": [
    {
     "data": {
      "text/plain": [
       "Pipeline(steps=[('tr',\n",
       "                 DecisionTreeClassifier(class_weight='balanced', max_depth=8,\n",
       "                                        min_samples_split=0.02))])"
      ]
     },
     "execution_count": 24,
     "metadata": {},
     "output_type": "execute_result"
    }
   ],
   "source": [
    "pine = Pipeline([\n",
    "    ('tr', DecisionTreeClassifier())]\n",
    ")\n",
    "\n",
    "pparams = {\n",
    "    'tr__max_depth': [4, 5, 6, 7, 8],\n",
    "    'tr__min_samples_split': [0.01, 0.02],\n",
    "    'tr__class_weight': [None, 'balanced']\n",
    "}\n",
    "\n",
    "pine = GridSearchCV(pine, param_grid = pparams, scoring='recall_macro')\n",
    "pine = pine.fit(X_train, y_train)\n",
    "\n",
    "pine.best_estimator_"
   ]
  },
  {
   "cell_type": "code",
   "execution_count": 25,
   "metadata": {},
   "outputs": [
    {
     "name": "stdout",
     "output_type": "stream",
     "text": [
      "Validation score: 72.28%\n",
      "Full training score: 87.42%\n",
      "Test score: 73.82%\n"
     ]
    }
   ],
   "source": [
    "print(f'Validation score: {pine.best_score_:.2%}')\n",
    "print(f'Full training score: {pine.score(X_train, y_train):.2%}')\n",
    "print(f'Test score: {pine.score(X_test, y_test):.2%}')"
   ]
  },
  {
   "cell_type": "markdown",
   "metadata": {},
   "source": [
    "Slightly higher test accuracy using `max depth of 7`, however, the amount of overfitting increased, i.e., delta between training and test accuracy."
   ]
  },
  {
   "cell_type": "code",
   "execution_count": 26,
   "metadata": {},
   "outputs": [
    {
     "name": "stdout",
     "output_type": "stream",
     "text": [
      "              precision    recall  f1-score   support\n",
      "\n",
      "         0.0       0.80      0.74      0.77       149\n",
      "         1.0       0.61      0.73      0.66        73\n",
      "         2.0       0.77      0.74      0.76        78\n",
      "\n",
      "    accuracy                           0.74       300\n",
      "   macro avg       0.73      0.74      0.73       300\n",
      "weighted avg       0.75      0.74      0.74       300\n",
      "\n"
     ]
    }
   ],
   "source": [
    "from sklearn.metrics import classification_report\n",
    "\n",
    "print(classification_report(y_test, pine.predict(X_test)))"
   ]
  },
  {
   "cell_type": "markdown",
   "metadata": {},
   "source": [
    "Performance on the test data is essentially the same between the base and refined decision tree models, so all else constant, we'd prefer the latter model, however, due to the overfitting and performance purity, we'd prefer the logistic regression models."
   ]
  },
  {
   "cell_type": "markdown",
   "metadata": {},
   "source": [
    "# Question 6\n",
    "- Repeat `Question 5` but use PCA.  \n",
    "- Does this perform better than the original Decision Tree or the logistic regression models?"
   ]
  },
  {
   "cell_type": "code",
   "execution_count": 27,
   "metadata": {},
   "outputs": [
    {
     "data": {
      "text/plain": [
       "Pipeline(steps=[('scale', StandardScaler()), ('pca', PCA(n_components=13)),\n",
       "                ('tr',\n",
       "                 DecisionTreeClassifier(class_weight='balanced', max_depth=6,\n",
       "                                        min_samples_split=0.01))])"
      ]
     },
     "execution_count": 27,
     "metadata": {},
     "output_type": "execute_result"
    }
   ],
   "source": [
    "from sklearn.pipeline import Pipeline\n",
    "from sklearn.decomposition import PCA\n",
    "from sklearn.preprocessing import StandardScaler\n",
    "from sklearn.tree import DecisionTreeClassifier\n",
    "from sklearn.model_selection import GridSearchCV\n",
    "\n",
    "pine = Pipeline([\n",
    "    ('scale', StandardScaler()),\n",
    "    ('pca', PCA()),\n",
    "    ('tr', DecisionTreeClassifier())]\n",
    ")\n",
    "\n",
    "pparams = {\n",
    "    'pca__n_components': [4, 8, 11, 12, 13],\n",
    "    'tr__max_depth': [4, 6, 8, 10, 12],\n",
    "    'tr__min_samples_split': [0.01, 0.02, 0.04, 0.06, 0.08],\n",
    "    'tr__class_weight': [None, 'balanced']\n",
    "}\n",
    "\n",
    "pine = GridSearchCV(pine, param_grid = pparams, scoring='recall_macro')\n",
    "pine = pine.fit(X_train, y_train)\n",
    "\n",
    "pine.best_estimator_"
   ]
  },
  {
   "cell_type": "markdown",
   "metadata": {},
   "source": [
    "> Best model was 13 components, depth of 8, a minimum sample split of 2% of samples, and no class weights."
   ]
  },
  {
   "cell_type": "code",
   "execution_count": 45,
   "metadata": {},
   "outputs": [
    {
     "name": "stdout",
     "output_type": "stream",
     "text": [
      "Validation score: 71.67%\n",
      "Full training score: 81.33%\n",
      "Test score: 69.33%\n"
     ]
    }
   ],
   "source": [
    "print(f'Validation score: {pine.best_score_:.2%}')\n",
    "print(f'Full training score: {pine.score(X_train, y_train):.2%}')\n",
    "print(f'Test score: {pine.score(X_test, y_test):.2%}')"
   ]
  },
  {
   "cell_type": "markdown",
   "metadata": {},
   "source": [
    "> There seems to be overfitting, i.e., 15 point accuracy drop-off between training and test. However, there is less overfitting, as expected, when using PCA than not using it, since we have a simpler feature set. The validation and test scores are lower as well, which again is not unexpected."
   ]
  },
  {
   "cell_type": "code",
   "execution_count": 56,
   "metadata": {},
   "outputs": [
    {
     "name": "stdout",
     "output_type": "stream",
     "text": [
      "              precision    recall  f1-score   support\n",
      "\n",
      "         0.0       0.78      0.79      0.78       149\n",
      "         1.0       0.64      0.68      0.66        73\n",
      "         2.0       0.81      0.74      0.77        78\n",
      "\n",
      "    accuracy                           0.75       300\n",
      "   macro avg       0.74      0.74      0.74       300\n",
      "weighted avg       0.75      0.75      0.75       300\n",
      "\n"
     ]
    }
   ],
   "source": [
    "from sklearn.metrics import classification_report\n",
    "\n",
    "print(classification_report(y_test, pine.predict(X_test)))"
   ]
  },
  {
   "cell_type": "markdown",
   "metadata": {},
   "source": [
    "> Accuracy was 68-69% of the test, with precision and recall at 65-68%.\n",
    "\n",
    "> Searching for more targeted values:"
   ]
  },
  {
   "cell_type": "code",
   "execution_count": 57,
   "metadata": {},
   "outputs": [
    {
     "data": {
      "text/plain": [
       "Pipeline(steps=[('scale', StandardScaler()), ('pca', PCA(n_components=15)),\n",
       "                ('tr',\n",
       "                 DecisionTreeClassifier(max_depth=6, min_samples_split=0.02))])"
      ]
     },
     "execution_count": 57,
     "metadata": {},
     "output_type": "execute_result"
    }
   ],
   "source": [
    "pine = Pipeline([\n",
    "    ('scale', StandardScaler()),\n",
    "    ('pca', PCA()),\n",
    "    ('tr', DecisionTreeClassifier())]\n",
    ")\n",
    "\n",
    "pparams = {\n",
    "    'pca__n_components': [11, 12, 13, 14, 15],\n",
    "    'tr__max_depth': [6, 7, 8, 9, 10],\n",
    "    'tr__min_samples_split': [0.01, 0.02, 0.03, 0.04],\n",
    "    'tr__class_weight': [None, 'balanced']\n",
    "}\n",
    "\n",
    "pine = GridSearchCV(pine, param_grid = pparams)\n",
    "pine = pine.fit(X_train, y_train)\n",
    "\n",
    "pine.best_estimator_"
   ]
  },
  {
   "cell_type": "markdown",
   "metadata": {},
   "source": [
    "Refined search comes up with `14 components`, a `max depth of 6` and `minimum samples of 2% in the splits`."
   ]
  },
  {
   "cell_type": "code",
   "execution_count": 46,
   "metadata": {},
   "outputs": [
    {
     "name": "stdout",
     "output_type": "stream",
     "text": [
      "Validation score: 71.67%\n",
      "Full training score: 81.33%\n",
      "Test score: 69.33%\n"
     ]
    }
   ],
   "source": [
    "print(f'Validation score: {pine.best_score_:.2%}')\n",
    "print(f'Full training score: {pine.score(X_train, y_train):.2%}')\n",
    "print(f'Test score: {pine.score(X_test, y_test):.2%}')"
   ]
  },
  {
   "cell_type": "code",
   "execution_count": 58,
   "metadata": {},
   "outputs": [
    {
     "name": "stdout",
     "output_type": "stream",
     "text": [
      "              precision    recall  f1-score   support\n",
      "\n",
      "         0.0       0.75      0.77      0.75       149\n",
      "         1.0       0.61      0.63      0.62        73\n",
      "         2.0       0.68      0.62      0.64        78\n",
      "\n",
      "    accuracy                           0.69       300\n",
      "   macro avg       0.68      0.67      0.67       300\n",
      "weighted avg       0.69      0.69      0.69       300\n",
      "\n"
     ]
    }
   ],
   "source": [
    "from sklearn.metrics import classification_report\n",
    "\n",
    "print(classification_report(y_test, pine.predict(X_test)))"
   ]
  },
  {
   "cell_type": "markdown",
   "metadata": {},
   "source": [
    "More targeted search has minor performance gains versus the original search space, however, neither do as well as the logistic regression - about 2 points less in terms of accuracy while exhibiting overfitting. Within the logistic regressions, I'd prefer the non-PCA version, as we see no evidence of overfitting and the performance marks are about the same, and the underlying model will be more intrepretable."
   ]
  },
  {
   "cell_type": "code",
   "execution_count": null,
   "metadata": {},
   "outputs": [],
   "source": []
  }
 ],
 "metadata": {
  "kernelspec": {
   "display_name": "Python 3.7.3 64-bit ('base': conda)",
   "language": "python",
   "name": "python37364bitbaseconda3e66817595a24f3b851fad3315f1c145"
  },
  "language_info": {
   "codemirror_mode": {
    "name": "ipython",
    "version": 3
   },
   "file_extension": ".py",
   "mimetype": "text/x-python",
   "name": "python",
   "nbconvert_exporter": "python",
   "pygments_lexer": "ipython3",
   "version": "3.7.3"
  }
 },
 "nbformat": 4,
 "nbformat_minor": 4
}
