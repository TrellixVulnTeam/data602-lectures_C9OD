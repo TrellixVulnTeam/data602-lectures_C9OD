{
 "cells": [
  {
   "cell_type": "markdown",
   "metadata": {},
   "source": [
    "# Clustering Homework\n",
    "- Execute the below code and complete the following questions.  "
   ]
  },
  {
   "cell_type": "code",
   "execution_count": 1,
   "metadata": {},
   "outputs": [
    {
     "data": {
      "text/html": [
       "<div>\n",
       "<style scoped>\n",
       "    .dataframe tbody tr th:only-of-type {\n",
       "        vertical-align: middle;\n",
       "    }\n",
       "\n",
       "    .dataframe tbody tr th {\n",
       "        vertical-align: top;\n",
       "    }\n",
       "\n",
       "    .dataframe thead th {\n",
       "        text-align: right;\n",
       "    }\n",
       "</style>\n",
       "<table border=\"1\" class=\"dataframe\">\n",
       "  <thead>\n",
       "    <tr style=\"text-align: right;\">\n",
       "      <th></th>\n",
       "      <th>var0</th>\n",
       "      <th>var1</th>\n",
       "      <th>var2</th>\n",
       "      <th>var3</th>\n",
       "      <th>var4</th>\n",
       "      <th>var5</th>\n",
       "      <th>var6</th>\n",
       "      <th>var7</th>\n",
       "      <th>var8</th>\n",
       "      <th>var9</th>\n",
       "      <th>...</th>\n",
       "      <th>var41</th>\n",
       "      <th>var42</th>\n",
       "      <th>var43</th>\n",
       "      <th>var44</th>\n",
       "      <th>var45</th>\n",
       "      <th>var46</th>\n",
       "      <th>var47</th>\n",
       "      <th>var48</th>\n",
       "      <th>var49</th>\n",
       "      <th>target</th>\n",
       "    </tr>\n",
       "  </thead>\n",
       "  <tbody>\n",
       "    <tr>\n",
       "      <th>0</th>\n",
       "      <td>a</td>\n",
       "      <td>d</td>\n",
       "      <td>g</td>\n",
       "      <td>-0.396805</td>\n",
       "      <td>0.678895</td>\n",
       "      <td>0.726830</td>\n",
       "      <td>-0.640008</td>\n",
       "      <td>-1.039820</td>\n",
       "      <td>-0.934986</td>\n",
       "      <td>-0.098290</td>\n",
       "      <td>...</td>\n",
       "      <td>-0.268735</td>\n",
       "      <td>0.070548</td>\n",
       "      <td>0.808570</td>\n",
       "      <td>1.523755</td>\n",
       "      <td>-0.497207</td>\n",
       "      <td>0.470146</td>\n",
       "      <td>1.095665</td>\n",
       "      <td>-0.339445</td>\n",
       "      <td>0.470146</td>\n",
       "      <td>1.0</td>\n",
       "    </tr>\n",
       "    <tr>\n",
       "      <th>1</th>\n",
       "      <td>a</td>\n",
       "      <td>d</td>\n",
       "      <td>i</td>\n",
       "      <td>-0.991416</td>\n",
       "      <td>2.359730</td>\n",
       "      <td>-0.993249</td>\n",
       "      <td>-2.486560</td>\n",
       "      <td>-3.793524</td>\n",
       "      <td>-3.316669</td>\n",
       "      <td>-0.456288</td>\n",
       "      <td>...</td>\n",
       "      <td>0.500165</td>\n",
       "      <td>0.348498</td>\n",
       "      <td>3.031635</td>\n",
       "      <td>-0.996257</td>\n",
       "      <td>-1.832063</td>\n",
       "      <td>1.907786</td>\n",
       "      <td>4.046193</td>\n",
       "      <td>-1.076047</td>\n",
       "      <td>1.907786</td>\n",
       "      <td>0.0</td>\n",
       "    </tr>\n",
       "    <tr>\n",
       "      <th>2</th>\n",
       "      <td>a</td>\n",
       "      <td>d</td>\n",
       "      <td>g</td>\n",
       "      <td>-2.075731</td>\n",
       "      <td>0.544290</td>\n",
       "      <td>-0.854121</td>\n",
       "      <td>-0.615142</td>\n",
       "      <td>-0.903471</td>\n",
       "      <td>-0.775623</td>\n",
       "      <td>-0.123449</td>\n",
       "      <td>...</td>\n",
       "      <td>0.207872</td>\n",
       "      <td>0.096783</td>\n",
       "      <td>0.734387</td>\n",
       "      <td>0.564490</td>\n",
       "      <td>-0.439069</td>\n",
       "      <td>0.483492</td>\n",
       "      <td>0.971048</td>\n",
       "      <td>-0.231717</td>\n",
       "      <td>0.483492</td>\n",
       "      <td>0.0</td>\n",
       "    </tr>\n",
       "    <tr>\n",
       "      <th>3</th>\n",
       "      <td>b</td>\n",
       "      <td>e</td>\n",
       "      <td>i</td>\n",
       "      <td>0.330885</td>\n",
       "      <td>1.100425</td>\n",
       "      <td>1.468506</td>\n",
       "      <td>0.456396</td>\n",
       "      <td>-0.663287</td>\n",
       "      <td>-1.134611</td>\n",
       "      <td>0.494358</td>\n",
       "      <td>...</td>\n",
       "      <td>0.963910</td>\n",
       "      <td>-0.474539</td>\n",
       "      <td>0.049557</td>\n",
       "      <td>-0.169026</td>\n",
       "      <td>-0.213812</td>\n",
       "      <td>-0.798086</td>\n",
       "      <td>0.419922</td>\n",
       "      <td>-1.142086</td>\n",
       "      <td>-0.798086</td>\n",
       "      <td>1.0</td>\n",
       "    </tr>\n",
       "    <tr>\n",
       "      <th>4</th>\n",
       "      <td>a</td>\n",
       "      <td>d</td>\n",
       "      <td>h</td>\n",
       "      <td>2.245218</td>\n",
       "      <td>1.039071</td>\n",
       "      <td>0.481155</td>\n",
       "      <td>-1.373746</td>\n",
       "      <td>-1.861215</td>\n",
       "      <td>-1.531545</td>\n",
       "      <td>-0.322933</td>\n",
       "      <td>...</td>\n",
       "      <td>0.040232</td>\n",
       "      <td>0.263376</td>\n",
       "      <td>1.570320</td>\n",
       "      <td>0.212608</td>\n",
       "      <td>-0.917244</td>\n",
       "      <td>1.131278</td>\n",
       "      <td>2.034796</td>\n",
       "      <td>-0.363342</td>\n",
       "      <td>1.131278</td>\n",
       "      <td>0.0</td>\n",
       "    </tr>\n",
       "  </tbody>\n",
       "</table>\n",
       "<p>5 rows × 51 columns</p>\n",
       "</div>"
      ],
      "text/plain": [
       "  var0 var1 var2      var3      var4      var5      var6      var7      var8  \\\n",
       "0    a    d    g -0.396805  0.678895  0.726830 -0.640008 -1.039820 -0.934986   \n",
       "1    a    d    i -0.991416  2.359730 -0.993249 -2.486560 -3.793524 -3.316669   \n",
       "2    a    d    g -2.075731  0.544290 -0.854121 -0.615142 -0.903471 -0.775623   \n",
       "3    b    e    i  0.330885  1.100425  1.468506  0.456396 -0.663287 -1.134611   \n",
       "4    a    d    h  2.245218  1.039071  0.481155 -1.373746 -1.861215 -1.531545   \n",
       "\n",
       "       var9  ...     var41     var42     var43     var44     var45     var46  \\\n",
       "0 -0.098290  ... -0.268735  0.070548  0.808570  1.523755 -0.497207  0.470146   \n",
       "1 -0.456288  ...  0.500165  0.348498  3.031635 -0.996257 -1.832063  1.907786   \n",
       "2 -0.123449  ...  0.207872  0.096783  0.734387  0.564490 -0.439069  0.483492   \n",
       "3  0.494358  ...  0.963910 -0.474539  0.049557 -0.169026 -0.213812 -0.798086   \n",
       "4 -0.322933  ...  0.040232  0.263376  1.570320  0.212608 -0.917244  1.131278   \n",
       "\n",
       "      var47     var48     var49  target  \n",
       "0  1.095665 -0.339445  0.470146     1.0  \n",
       "1  4.046193 -1.076047  1.907786     0.0  \n",
       "2  0.971048 -0.231717  0.483492     0.0  \n",
       "3  0.419922 -1.142086 -0.798086     1.0  \n",
       "4  2.034796 -0.363342  1.131278     0.0  \n",
       "\n",
       "[5 rows x 51 columns]"
      ]
     },
     "execution_count": 1,
     "metadata": {},
     "output_type": "execute_result"
    }
   ],
   "source": [
    "import pandas as pd\n",
    "import numpy as np\n",
    "import matplotlib.pyplot as plt\n",
    "\n",
    "df = pd.read_csv('clustering-data.csv')\n",
    "df.head()"
   ]
  },
  {
   "cell_type": "code",
   "execution_count": 2,
   "metadata": {},
   "outputs": [
    {
     "name": "stdout",
     "output_type": "stream",
     "text": [
      "<class 'pandas.core.frame.DataFrame'>\n",
      "RangeIndex: 4000 entries, 0 to 3999\n",
      "Data columns (total 51 columns):\n",
      " #   Column  Non-Null Count  Dtype  \n",
      "---  ------  --------------  -----  \n",
      " 0   var0    4000 non-null   object \n",
      " 1   var1    4000 non-null   object \n",
      " 2   var2    4000 non-null   object \n",
      " 3   var3    4000 non-null   float64\n",
      " 4   var4    4000 non-null   float64\n",
      " 5   var5    4000 non-null   float64\n",
      " 6   var6    4000 non-null   float64\n",
      " 7   var7    4000 non-null   float64\n",
      " 8   var8    4000 non-null   float64\n",
      " 9   var9    4000 non-null   float64\n",
      " 10  var10   4000 non-null   float64\n",
      " 11  var11   4000 non-null   float64\n",
      " 12  var12   4000 non-null   float64\n",
      " 13  var13   4000 non-null   float64\n",
      " 14  var14   4000 non-null   float64\n",
      " 15  var15   4000 non-null   float64\n",
      " 16  var16   4000 non-null   float64\n",
      " 17  var17   4000 non-null   float64\n",
      " 18  var18   4000 non-null   float64\n",
      " 19  var19   4000 non-null   float64\n",
      " 20  var20   4000 non-null   float64\n",
      " 21  var21   4000 non-null   float64\n",
      " 22  var22   4000 non-null   float64\n",
      " 23  var23   4000 non-null   float64\n",
      " 24  var24   4000 non-null   float64\n",
      " 25  var25   4000 non-null   float64\n",
      " 26  var26   4000 non-null   float64\n",
      " 27  var27   4000 non-null   float64\n",
      " 28  var28   4000 non-null   float64\n",
      " 29  var29   4000 non-null   float64\n",
      " 30  var30   4000 non-null   float64\n",
      " 31  var31   4000 non-null   float64\n",
      " 32  var32   4000 non-null   float64\n",
      " 33  var33   4000 non-null   float64\n",
      " 34  var34   4000 non-null   float64\n",
      " 35  var35   4000 non-null   float64\n",
      " 36  var36   4000 non-null   float64\n",
      " 37  var37   4000 non-null   float64\n",
      " 38  var38   4000 non-null   float64\n",
      " 39  var39   4000 non-null   float64\n",
      " 40  var40   4000 non-null   float64\n",
      " 41  var41   4000 non-null   float64\n",
      " 42  var42   4000 non-null   float64\n",
      " 43  var43   4000 non-null   float64\n",
      " 44  var44   4000 non-null   float64\n",
      " 45  var45   4000 non-null   float64\n",
      " 46  var46   4000 non-null   float64\n",
      " 47  var47   4000 non-null   float64\n",
      " 48  var48   4000 non-null   float64\n",
      " 49  var49   4000 non-null   float64\n",
      " 50  target  4000 non-null   float64\n",
      "dtypes: float64(48), object(3)\n",
      "memory usage: 1.6+ MB\n"
     ]
    }
   ],
   "source": [
    "df.info()"
   ]
  },
  {
   "cell_type": "markdown",
   "metadata": {},
   "source": [
    "# Data Definitions\n",
    "- `var0` - `var49`: some feature that could be used to describe the `target`.  \n",
    "- `target`: variable that contains the classes. This is your target variable."
   ]
  },
  {
   "cell_type": "code",
   "execution_count": 3,
   "metadata": {},
   "outputs": [
    {
     "data": {
      "image/png": "[encoded data removed]",
      "text/plain": [
       "<Figure size 432x288 with 1 Axes>"
      ]
     },
     "metadata": {
      "needs_background": "light"
     },
     "output_type": "display_data"
    }
   ],
   "source": [
    "df.target.value_counts().plot.bar()\n",
    "plt.title('Distribution of Target', loc='left')\n",
    "plt.show()"
   ]
  },
  {
   "cell_type": "code",
   "execution_count": 4,
   "metadata": {},
   "outputs": [
    {
     "name": "stdout",
     "output_type": "stream",
     "text": [
      "Training examples: 3200\n",
      "Test examples: 800\n",
      "\n",
      "Feature names:\n",
      "var0\tvar1\tvar2\tvar3\tvar4\tvar5\tvar6\tvar7\tvar8\tvar9\tvar10\tvar11\tvar12\tvar13\tvar14\tvar15\tvar16\tvar17\tvar18\tvar19\tvar20\tvar21\tvar22\tvar23\tvar24\tvar25\tvar26\tvar27\tvar28\tvar29\tvar30\tvar31\tvar32\tvar33\tvar34\tvar35\tvar36\tvar37\tvar38\tvar39\tvar40\tvar41\tvar42\tvar43\tvar44\tvar45\tvar46\tvar47\tvar48\tvar49\n"
     ]
    }
   ],
   "source": [
    "from sklearn.model_selection import train_test_split\n",
    "X = df[[x for x in df.columns if x != 'target']]\n",
    "y = df['target']\n",
    "\n",
    "X_train, X_test, y_train, y_test = train_test_split(X, y, test_size=0.2, random_state=2303)\n",
    "\n",
    "print(f'Training examples: {X_train.shape[0]}')\n",
    "print(f'Test examples: {X_test.shape[0]}')\n",
    "print('\\nFeature names:')\n",
    "print(*X.columns, sep='\\t')"
   ]
  },
  {
   "cell_type": "markdown",
   "metadata": {},
   "source": [
    "# Question 1\n",
    "- Using `X_train`, you will perform k-means clustering using best practices.  \n",
    "- Determine what the \"optimum\" number of clusters is - support your answer.  \n",
    "- Visualize the results of your clustering using PCA.\n",
    "- Based on the visualization, how do you interpret the clustering result?"
   ]
  },
  {
   "cell_type": "code",
   "execution_count": 5,
   "metadata": {},
   "outputs": [
    {
     "data": {
      "image/png": "[encoded data removed]",
      "text/plain": [
       "<Figure size 432x288 with 1 Axes>"
      ]
     },
     "metadata": {
      "needs_background": "light"
     },
     "output_type": "display_data"
    }
   ],
   "source": [
    "from sklearn.cluster import KMeans\n",
    "from sklearn.preprocessing import StandardScaler\n",
    "from sklearn.preprocessing import OneHotEncoder\n",
    "from sklearn.pipeline import Pipeline\n",
    "from sklearn.compose import ColumnTransformer\n",
    "\n",
    "num_vars = X_train.select_dtypes('float').columns\n",
    "cat_vars = X_train.select_dtypes('object').columns\n",
    "\n",
    "n_pip = Pipeline([('sc', StandardScaler())])\n",
    "c_pip = Pipeline([('ohe', OneHotEncoder(drop='first'))])\n",
    "\n",
    "t_pip = ColumnTransformer(transformers=[('n', n_pip, num_vars), ('c', c_pip, cat_vars)])\n",
    "X_chg = t_pip.fit_transform(X_train)\n",
    "\n",
    "distortions = list()\n",
    "\n",
    "n = 20\n",
    "for i in range(1, n):\n",
    "    km = KMeans(n_clusters=i, random_state=0)\n",
    "    km = km.fit(X_chg)\n",
    "    distortions.append(km.inertia_)\n",
    "    \n",
    "plt.plot(range(1, n), distortions, marker='o')\n",
    "plt.xlabel('Number of Clusters')\n",
    "plt.ylabel('Inertia')\n",
    "plt.show()"
   ]
  },
  {
   "cell_type": "markdown",
   "metadata": {},
   "source": [
    "> Looks like the inertia materially flattens around 6 or 7 clusters."
   ]
  },
  {
   "cell_type": "code",
   "execution_count": 6,
   "metadata": {},
   "outputs": [
    {
     "data": {
      "text/plain": [
       "array([5, 4, 1, ..., 0, 3, 1], dtype=int32)"
      ]
     },
     "execution_count": 6,
     "metadata": {},
     "output_type": "execute_result"
    }
   ],
   "source": [
    "km = KMeans(n_clusters=6, random_state=0)\n",
    "km = km.fit(X_chg)\n",
    "pclusters = km.predict(X_chg)\n",
    "pclusters\n"
   ]
  },
  {
   "cell_type": "code",
   "execution_count": 7,
   "metadata": {},
   "outputs": [],
   "source": [
    "from sklearn.decomposition import PCA\n",
    "\n",
    "p = PCA(n_components=2)\n",
    "X_2 = p.fit_transform(X_chg)"
   ]
  },
  {
   "cell_type": "markdown",
   "metadata": {},
   "source": [
    "> Check the explained variance to determine if this is viable..."
   ]
  },
  {
   "cell_type": "code",
   "execution_count": 8,
   "metadata": {},
   "outputs": [
    {
     "name": "stdout",
     "output_type": "stream",
     "text": [
      "First 2 components explain 67.13% of the variance.\n"
     ]
    }
   ],
   "source": [
    "evr = p.explained_variance_ratio_.sum()\n",
    "print(f'First 2 components explain {evr:.2%} of the variance.')"
   ]
  },
  {
   "cell_type": "markdown",
   "metadata": {},
   "source": [
    "> Compressing the visualization into 2-dimensions seems reasonable. About 1/3 of the variation won't be accounted for, so be cautious in determinations."
   ]
  },
  {
   "cell_type": "code",
   "execution_count": 9,
   "metadata": {},
   "outputs": [
    {
     "data": {
      "image/png": "[encoded data removed]",
      "text/plain": [
       "<Figure size 432x288 with 1 Axes>"
      ]
     },
     "metadata": {
      "needs_background": "light"
     },
     "output_type": "display_data"
    }
   ],
   "source": [
    "for i in [0,1,2,3,4,5]:\n",
    "    plt.scatter(X_2[pclusters==i, 0], X_2[pclusters==i, 1], alpha=0.25)\n",
    "plt.show()"
   ]
  },
  {
   "cell_type": "markdown",
   "metadata": {},
   "source": [
    "> Based on 6 clusters, we can observe, in flattened space, that there two clusters in the off-diagonal that are off the main ellipsoid of the data. The main ellipsoid is broken into 4 clusters itself. This graph only accounts for 2/3's of the variation, so we won't make any significant conclusions based on the distance between clusters."
   ]
  },
  {
   "cell_type": "markdown",
   "metadata": {},
   "source": [
    "# Question 2\n",
    "- Using `X_train` and `y_train`, create a logistic regression model. Then evaluate the performance on the test data. The only preprocessing steps you should include are scaling and one hot encoding.    \n",
    "- Using cross-validation and grid search on the regularization strength using best practices.\n",
    "- Provide a ROC chart and provide accuracy, precision, and recall.  \n",
    "- What is your opinion of the model's performance?"
   ]
  },
  {
   "cell_type": "code",
   "execution_count": 10,
   "metadata": {},
   "outputs": [
    {
     "data": {
      "text/plain": [
       "Pipeline(steps=[('f_procs',\n",
       "                 ColumnTransformer(transformers=[('n',\n",
       "                                                  Pipeline(steps=[('sc',\n",
       "                                                                   StandardScaler())]),\n",
       "                                                  Index(['var3', 'var4', 'var5', 'var6', 'var7', 'var8', 'var9', 'var10',\n",
       "       'var11', 'var12', 'var13', 'var14', 'var15', 'var16', 'var17', 'var18',\n",
       "       'var19', 'var20', 'var21', 'var22', 'var23', 'var24', 'var25', 'var26',\n",
       "       'var27', 'var28', 'var29', 'var30', 'var31', 'var32', 'var33', 'var34',\n",
       "       'var35', 'var36', 'var37', 'var38', 'var39', 'var40', 'var41', 'var42',\n",
       "       'var43', 'var44', 'var45', 'var46', 'var47', 'var48', 'var49'],\n",
       "      dtype='object')),\n",
       "                                                 ('c',\n",
       "                                                  Pipeline(steps=[('ohe',\n",
       "                                                                   OneHotEncoder(drop='first'))]),\n",
       "                                                  Index(['var0', 'var1', 'var2'], dtype='object'))])),\n",
       "                ('glm', LogisticRegression(C=1, solver='liblinear'))])"
      ]
     },
     "execution_count": 10,
     "metadata": {},
     "output_type": "execute_result"
    }
   ],
   "source": [
    "from sklearn.linear_model import LogisticRegression\n",
    "from sklearn.model_selection import GridSearchCV\n",
    "from sklearn.preprocessing import StandardScaler\n",
    "from sklearn.preprocessing import OneHotEncoder\n",
    "from sklearn.pipeline import Pipeline\n",
    "from sklearn.compose import ColumnTransformer\n",
    "\n",
    "num_vars = X_train.select_dtypes('float').columns\n",
    "cat_vars = X_train.select_dtypes('object').columns\n",
    "\n",
    "n_pip = Pipeline([('sc', StandardScaler())])\n",
    "c_pip = Pipeline([('ohe', OneHotEncoder(drop='first'))])\n",
    "\n",
    "t_pip = ColumnTransformer(transformers=[('n', n_pip, num_vars), ('c', c_pip, cat_vars)])\n",
    "\n",
    "m_pip = Pipeline([('f_procs', t_pip), ('glm', LogisticRegression(solver='liblinear'))])\n",
    "\n",
    "params = {'glm__C': [0.01, 0.1, 1, 10, 100]}\n",
    "glm_results = GridSearchCV(m_pip, param_grid=params)\n",
    "glm_results = glm_results.fit(X_train, y_train)\n",
    "\n",
    "glm_results.best_estimator_"
   ]
  },
  {
   "cell_type": "code",
   "execution_count": 11,
   "metadata": {},
   "outputs": [
    {
     "data": {
      "text/plain": [
       "0.940625"
      ]
     },
     "execution_count": 11,
     "metadata": {},
     "output_type": "execute_result"
    }
   ],
   "source": [
    "glm_results.best_score_"
   ]
  },
  {
   "cell_type": "code",
   "execution_count": 12,
   "metadata": {},
   "outputs": [
    {
     "data": {
      "text/plain": [
       "0.92875"
      ]
     },
     "execution_count": 12,
     "metadata": {},
     "output_type": "execute_result"
    }
   ],
   "source": [
    "glm_pred = glm_results.predict(X_test)\n",
    "\n",
    "from sklearn.metrics import accuracy_score\n",
    "accuracy_score(y_test, glm_pred)"
   ]
  },
  {
   "cell_type": "code",
   "execution_count": 13,
   "metadata": {},
   "outputs": [
    {
     "name": "stdout",
     "output_type": "stream",
     "text": [
      "              precision    recall  f1-score   support\n",
      "\n",
      "         0.0       0.88      0.99      0.93       394\n",
      "         1.0       0.99      0.86      0.92       406\n",
      "\n",
      "    accuracy                           0.93       800\n",
      "   macro avg       0.94      0.93      0.93       800\n",
      "weighted avg       0.94      0.93      0.93       800\n",
      "\n"
     ]
    }
   ],
   "source": [
    "from sklearn.metrics import classification_report\n",
    "\n",
    "print(classification_report(y_test, glm_pred))"
   ]
  },
  {
   "cell_type": "code",
   "execution_count": 14,
   "metadata": {},
   "outputs": [
    {
     "data": {
      "image/png": "[encoded data removed]",
      "text/plain": [
       "<Figure size 432x288 with 1 Axes>"
      ]
     },
     "metadata": {
      "needs_background": "light"
     },
     "output_type": "display_data"
    }
   ],
   "source": [
    "from sklearn.metrics import roc_curve\n",
    "\n",
    "fpr_test, tpr_test, thr_test = roc_curve(y_test, glm_results.predict_proba(X_test)[:,1])\n",
    "fpr_tr, tpr_tr, thr_tr = roc_curve(y_train, glm_results.predict_proba(X_train)[:,1])\n",
    "\n",
    "plt.plot(fpr_test, tpr_test, 'orange')\n",
    "plt.plot(fpr_tr, tpr_tr, 'blue')\n",
    "plt.plot(fpr_tr, fpr_tr, color='green', linestyle='dashed')\n",
    "plt.xlabel('False Positive Rate')\n",
    "plt.ylabel('True Positive Rate')\n",
    "plt.legend(['Test','Training'])\n",
    "plt.show()"
   ]
  },
  {
   "cell_type": "markdown",
   "metadata": {},
   "source": [
    "> ROC shows the trade-off between the FPR and TPR - aside from very low tolerance values the model doesn't seem to differ in the trade-off at most thresholds beyond 0.5, as visualized by the flatness of the ROC curve."
   ]
  },
  {
   "cell_type": "markdown",
   "metadata": {},
   "source": [
    "> Search finer space for better hyperparameters:"
   ]
  },
  {
   "cell_type": "code",
   "execution_count": 15,
   "metadata": {},
   "outputs": [
    {
     "data": {
      "text/plain": [
       "Pipeline(steps=[('f_procs',\n",
       "                 ColumnTransformer(transformers=[('n',\n",
       "                                                  Pipeline(steps=[('sc',\n",
       "                                                                   StandardScaler())]),\n",
       "                                                  Index(['var3', 'var4', 'var5', 'var6', 'var7', 'var8', 'var9', 'var10',\n",
       "       'var11', 'var12', 'var13', 'var14', 'var15', 'var16', 'var17', 'var18',\n",
       "       'var19', 'var20', 'var21', 'var22', 'var23', 'var24', 'var25', 'var26',\n",
       "       'var27', 'var28', 'var29', 'var30', 'var31', 'var32', 'var33', 'var34',\n",
       "       'var35', 'var36', 'var37', 'var38', 'var39', 'var40', 'var41', 'var42',\n",
       "       'var43', 'var44', 'var45', 'var46', 'var47', 'var48', 'var49'],\n",
       "      dtype='object')),\n",
       "                                                 ('c',\n",
       "                                                  Pipeline(steps=[('ohe',\n",
       "                                                                   OneHotEncoder(drop='first'))]),\n",
       "                                                  Index(['var0', 'var1', 'var2'], dtype='object'))])),\n",
       "                ('glm', LogisticRegression(C=0.75, solver='liblinear'))])"
      ]
     },
     "execution_count": 15,
     "metadata": {},
     "output_type": "execute_result"
    }
   ],
   "source": [
    "from sklearn.linear_model import LogisticRegression\n",
    "from sklearn.model_selection import GridSearchCV\n",
    "from sklearn.preprocessing import StandardScaler\n",
    "from sklearn.preprocessing import OneHotEncoder\n",
    "from sklearn.pipeline import Pipeline\n",
    "from sklearn.compose import ColumnTransformer\n",
    "\n",
    "num_vars = X_train.select_dtypes('float').columns\n",
    "cat_vars = X_train.select_dtypes('object').columns\n",
    "\n",
    "n_pip = Pipeline([('sc', StandardScaler())])\n",
    "c_pip = Pipeline([('ohe', OneHotEncoder(drop='first'))])\n",
    "\n",
    "t_pip = ColumnTransformer(transformers=[('n', n_pip, num_vars), ('c', c_pip, cat_vars)])\n",
    "\n",
    "m_pip = Pipeline([('f_procs', t_pip), ('glm', LogisticRegression(solver='liblinear'))])\n",
    "\n",
    "params = {'glm__C': [0.5, 0.75, 0.1, 2.5, 5, 7.5]}\n",
    "glm_results = GridSearchCV(m_pip, param_grid=params)\n",
    "glm_results = glm_results.fit(X_train, y_train)\n",
    "\n",
    "glm_results.best_estimator_"
   ]
  },
  {
   "cell_type": "code",
   "execution_count": 16,
   "metadata": {},
   "outputs": [
    {
     "data": {
      "text/plain": [
       "0.940625"
      ]
     },
     "execution_count": 16,
     "metadata": {},
     "output_type": "execute_result"
    }
   ],
   "source": [
    "glm_results.best_score_"
   ]
  },
  {
   "cell_type": "markdown",
   "metadata": {},
   "source": [
    "> Slightly higher score using 0.75 as our value for regularization, which indicates more regularization than our initial model."
   ]
  },
  {
   "cell_type": "code",
   "execution_count": 17,
   "metadata": {},
   "outputs": [
    {
     "data": {
      "text/plain": [
       "0.92875"
      ]
     },
     "execution_count": 17,
     "metadata": {},
     "output_type": "execute_result"
    }
   ],
   "source": [
    "glm_pred = glm_results.predict(X_test)\n",
    "\n",
    "from sklearn.metrics import accuracy_score\n",
    "accuracy_score(y_test, glm_pred)"
   ]
  },
  {
   "cell_type": "code",
   "execution_count": 18,
   "metadata": {},
   "outputs": [
    {
     "name": "stdout",
     "output_type": "stream",
     "text": [
      "              precision    recall  f1-score   support\n",
      "\n",
      "         0.0       0.88      0.99      0.93       394\n",
      "         1.0       0.99      0.86      0.92       406\n",
      "\n",
      "    accuracy                           0.93       800\n",
      "   macro avg       0.94      0.93      0.93       800\n",
      "weighted avg       0.94      0.93      0.93       800\n",
      "\n"
     ]
    }
   ],
   "source": [
    "from sklearn.metrics import classification_report\n",
    "\n",
    "print(classification_report(y_test, glm_pred))"
   ]
  },
  {
   "cell_type": "markdown",
   "metadata": {},
   "source": [
    "> No difference in performance on the test set though."
   ]
  },
  {
   "cell_type": "code",
   "execution_count": 19,
   "metadata": {},
   "outputs": [],
   "source": [
    "fpr1_test, tpr1_test, thr1_test = roc_curve(y_test, glm_results.predict_proba(X_test)[:,1])"
   ]
  },
  {
   "cell_type": "markdown",
   "metadata": {},
   "source": [
    "# Question 3\n",
    "- Using `X_train` and `y_train`, create a logistic regression model, that includes a pipeline step that uses PCA.  \n",
    "- Perform a grid search on various number of components and regularization strengths using best practices.\n",
    "- Provide a ROC chart and provide accuracy, precision, and recall.  \n",
    "- What is your opinion of the model's performance?"
   ]
  },
  {
   "cell_type": "code",
   "execution_count": 20,
   "metadata": {},
   "outputs": [
    {
     "data": {
      "text/plain": [
       "Pipeline(steps=[('f_procs',\n",
       "                 ColumnTransformer(transformers=[('n',\n",
       "                                                  Pipeline(steps=[('sc',\n",
       "                                                                   StandardScaler())]),\n",
       "                                                  Index(['var3', 'var4', 'var5', 'var6', 'var7', 'var8', 'var9', 'var10',\n",
       "       'var11', 'var12', 'var13', 'var14', 'var15', 'var16', 'var17', 'var18',\n",
       "       'var19', 'var20', 'var21', 'var22', 'var23', 'var24', 'var25', 'var26',\n",
       "       'var27', 'var28', 'var29', 'var30', 'var31', 'var32', 'var33', 'var34',\n",
       "       'var35', 'var36', 'var37', 'var38', 'var39', 'var40', 'var41', 'var42',\n",
       "       'var43', 'var44', 'var45', 'var46', 'var47', 'var48', 'var49'],\n",
       "      dtype='object')),\n",
       "                                                 ('c',\n",
       "                                                  Pipeline(steps=[('ohe',\n",
       "                                                                   OneHotEncoder(drop='first'))]),\n",
       "                                                  Index(['var0', 'var1', 'var2'], dtype='object'))])),\n",
       "                ('pca', PCA(n_components=5)),\n",
       "                ('glm', LogisticRegression(C=100, solver='liblinear'))])"
      ]
     },
     "execution_count": 20,
     "metadata": {},
     "output_type": "execute_result"
    }
   ],
   "source": [
    "from sklearn.linear_model import LogisticRegression\n",
    "from sklearn.model_selection import GridSearchCV\n",
    "from sklearn.preprocessing import StandardScaler\n",
    "from sklearn.preprocessing import OneHotEncoder\n",
    "from sklearn.pipeline import Pipeline\n",
    "from sklearn.compose import ColumnTransformer\n",
    "from sklearn.decomposition import PCA\n",
    "\n",
    "num_vars = X_train.select_dtypes('float').columns\n",
    "cat_vars = X_train.select_dtypes('object').columns\n",
    "\n",
    "n_pip = Pipeline([('sc', StandardScaler())])\n",
    "c_pip = Pipeline([('ohe', OneHotEncoder(drop='first'))])\n",
    "\n",
    "t_pip = ColumnTransformer(transformers=[('n', n_pip, num_vars), ('c', c_pip, cat_vars)])\n",
    "\n",
    "m_pip = Pipeline([('f_procs', t_pip),\n",
    "                  ('pca', PCA()),\n",
    "                  ('glm', LogisticRegression(solver='liblinear'))])\n",
    "\n",
    "params = {'glm__C': [0.01, 0.1, 1, 10, 100], 'pca__n_components': [2, 5, 10, 15, 20, 25, 30]}\n",
    "glm_results2 = GridSearchCV(m_pip, param_grid=params)\n",
    "glm_results2 = glm_results2.fit(X_train, y_train)\n",
    "\n",
    "glm_results2.best_estimator_"
   ]
  },
  {
   "cell_type": "code",
   "execution_count": 21,
   "metadata": {},
   "outputs": [
    {
     "data": {
      "text/plain": [
       "0.9503125000000001"
      ]
     },
     "execution_count": 21,
     "metadata": {},
     "output_type": "execute_result"
    }
   ],
   "source": [
    "glm_results2.best_score_"
   ]
  },
  {
   "cell_type": "code",
   "execution_count": 22,
   "metadata": {},
   "outputs": [
    {
     "data": {
      "text/plain": [
       "0.93125"
      ]
     },
     "execution_count": 22,
     "metadata": {},
     "output_type": "execute_result"
    }
   ],
   "source": [
    "glm_pred2 = glm_results2.predict(X_test)\n",
    "\n",
    "from sklearn.metrics import accuracy_score\n",
    "accuracy_score(y_test, glm_pred2)"
   ]
  },
  {
   "cell_type": "code",
   "execution_count": 23,
   "metadata": {},
   "outputs": [
    {
     "name": "stdout",
     "output_type": "stream",
     "text": [
      "              precision    recall  f1-score   support\n",
      "\n",
      "         0.0       0.88      0.99      0.93       394\n",
      "         1.0       0.99      0.87      0.93       406\n",
      "\n",
      "    accuracy                           0.93       800\n",
      "   macro avg       0.94      0.93      0.93       800\n",
      "weighted avg       0.94      0.93      0.93       800\n",
      "\n"
     ]
    }
   ],
   "source": [
    "from sklearn.metrics import classification_report\n",
    "\n",
    "print(classification_report(y_test, glm_pred2))"
   ]
  },
  {
   "cell_type": "code",
   "execution_count": 24,
   "metadata": {},
   "outputs": [
    {
     "data": {
      "image/png": "[encoded data removed]",
      "text/plain": [
       "<Figure size 432x288 with 1 Axes>"
      ]
     },
     "metadata": {
      "needs_background": "light"
     },
     "output_type": "display_data"
    }
   ],
   "source": [
    "from sklearn.metrics import roc_curve\n",
    "\n",
    "fpr_test, tpr_test, thr_test = roc_curve(y_test, glm_results2.predict_proba(X_test)[:,1])\n",
    "fpr_tr, tpr_tr, thr_tr = roc_curve(y_train, glm_results2.predict_proba(X_train)[:,1])\n",
    "\n",
    "plt.plot(fpr_test, tpr_test, 'orange')\n",
    "plt.plot(fpr_tr, tpr_tr, 'blue')\n",
    "plt.plot(fpr_tr, fpr_tr, color='green', linestyle='dashed')\n",
    "plt.xlabel('False Positive Rate')\n",
    "plt.ylabel('True Positive Rate')\n",
    "plt.legend(['Test','Training'])\n",
    "plt.show()"
   ]
  },
  {
   "cell_type": "markdown",
   "metadata": {},
   "source": [
    "> Similar shape to the ROC curve as #2. No need to search threshold values as we are observing a very steep and flat ROC curve, i.e., no performance difference across values.  \n",
    "\n",
    "> Perform a more refined hyperparameter search:"
   ]
  },
  {
   "cell_type": "code",
   "execution_count": 25,
   "metadata": {},
   "outputs": [
    {
     "data": {
      "text/plain": [
       "Pipeline(steps=[('f_procs',\n",
       "                 ColumnTransformer(transformers=[('n',\n",
       "                                                  Pipeline(steps=[('sc',\n",
       "                                                                   StandardScaler())]),\n",
       "                                                  Index(['var3', 'var4', 'var5', 'var6', 'var7', 'var8', 'var9', 'var10',\n",
       "       'var11', 'var12', 'var13', 'var14', 'var15', 'var16', 'var17', 'var18',\n",
       "       'var19', 'var20', 'var21', 'var22', 'var23', 'var24', 'var25', 'var26',\n",
       "       'var27', 'var28', 'var29', 'var30', 'var31', 'var32', 'var33', 'var34',\n",
       "       'var35', 'var36', 'var37', 'var38', 'var39', 'var40', 'var41', 'var42',\n",
       "       'var43', 'var44', 'var45', 'var46', 'var47', 'var48', 'var49'],\n",
       "      dtype='object')),\n",
       "                                                 ('c',\n",
       "                                                  Pipeline(steps=[('ohe',\n",
       "                                                                   OneHotEncoder(drop='first'))]),\n",
       "                                                  Index(['var0', 'var1', 'var2'], dtype='object'))])),\n",
       "                ('pca', PCA(n_components=4)),\n",
       "                ('glm', LogisticRegression(C=6, solver='liblinear'))])"
      ]
     },
     "execution_count": 25,
     "metadata": {},
     "output_type": "execute_result"
    }
   ],
   "source": [
    "from sklearn.linear_model import LogisticRegression\n",
    "from sklearn.model_selection import GridSearchCV\n",
    "from sklearn.preprocessing import StandardScaler\n",
    "from sklearn.preprocessing import OneHotEncoder\n",
    "from sklearn.pipeline import Pipeline\n",
    "from sklearn.compose import ColumnTransformer\n",
    "from sklearn.decomposition import PCA\n",
    "\n",
    "num_vars = X_train.select_dtypes('float').columns\n",
    "cat_vars = X_train.select_dtypes('object').columns\n",
    "\n",
    "n_pip = Pipeline([('sc', StandardScaler())])\n",
    "c_pip = Pipeline([('ohe', OneHotEncoder(drop='first'))])\n",
    "\n",
    "t_pip = ColumnTransformer(transformers=[('n', n_pip, num_vars), ('c', c_pip, cat_vars)])\n",
    "\n",
    "m_pip = Pipeline([('f_procs', t_pip),\n",
    "                  ('pca', PCA()),\n",
    "                  ('glm', LogisticRegression(solver='liblinear'))])\n",
    "\n",
    "params = {'glm__C': [2, 3, 4, 5, 6, 7, 8, 9], 'pca__n_components': [3, 4, 5, 6, 7]}\n",
    "glm_results2 = GridSearchCV(m_pip, param_grid=params)\n",
    "glm_results2 = glm_results2.fit(X_train, y_train)\n",
    "\n",
    "glm_results2.best_estimator_"
   ]
  },
  {
   "cell_type": "code",
   "execution_count": 26,
   "metadata": {},
   "outputs": [
    {
     "data": {
      "text/plain": [
       "0.9503125000000001"
      ]
     },
     "execution_count": 26,
     "metadata": {},
     "output_type": "execute_result"
    }
   ],
   "source": [
    "glm_results2.best_score_"
   ]
  },
  {
   "cell_type": "code",
   "execution_count": 27,
   "metadata": {},
   "outputs": [
    {
     "data": {
      "text/plain": [
       "0.93125"
      ]
     },
     "execution_count": 27,
     "metadata": {},
     "output_type": "execute_result"
    }
   ],
   "source": [
    "glm_pred2 = glm_results2.predict(X_test)\n",
    "\n",
    "from sklearn.metrics import accuracy_score\n",
    "accuracy_score(y_test, glm_pred2)"
   ]
  },
  {
   "cell_type": "code",
   "execution_count": 28,
   "metadata": {},
   "outputs": [
    {
     "name": "stdout",
     "output_type": "stream",
     "text": [
      "              precision    recall  f1-score   support\n",
      "\n",
      "         0.0       0.88      0.99      0.93       394\n",
      "         1.0       0.99      0.87      0.93       406\n",
      "\n",
      "    accuracy                           0.93       800\n",
      "   macro avg       0.94      0.93      0.93       800\n",
      "weighted avg       0.94      0.93      0.93       800\n",
      "\n"
     ]
    }
   ],
   "source": [
    "from sklearn.metrics import classification_report\n",
    "\n",
    "print(classification_report(y_test, glm_pred2))"
   ]
  },
  {
   "cell_type": "markdown",
   "metadata": {},
   "source": [
    "> Found slightly different hyperparameters on the second pass, no difference in performance though."
   ]
  },
  {
   "cell_type": "code",
   "execution_count": 29,
   "metadata": {},
   "outputs": [],
   "source": [
    "fpr2_test, tpr2_test, thr_test = roc_curve(y_test, glm_results2.predict_proba(X_test)[:,1])"
   ]
  },
  {
   "cell_type": "markdown",
   "metadata": {},
   "source": [
    "# Question 4\n",
    "- Using `X_train` and `y_train`, create a logistic regression model, that includes a pipeline step that uses k-means clustering as a processing step.  \n",
    "- Use grid search and evaluate multiple cluster numbers and regularization strengths using best practices.\n",
    "- Provide a ROC chart and provide accuracy, precision, and recall.  \n",
    "- What is your opinion of the model's performance?"
   ]
  },
  {
   "cell_type": "code",
   "execution_count": 30,
   "metadata": {},
   "outputs": [
    {
     "data": {
      "text/plain": [
       "Pipeline(steps=[('f_procs',\n",
       "                 ColumnTransformer(transformers=[('n',\n",
       "                                                  Pipeline(steps=[('sc',\n",
       "                                                                   StandardScaler())]),\n",
       "                                                  Index(['var3', 'var4', 'var5', 'var6', 'var7', 'var8', 'var9', 'var10',\n",
       "       'var11', 'var12', 'var13', 'var14', 'var15', 'var16', 'var17', 'var18',\n",
       "       'var19', 'var20', 'var21', 'var22', 'var23', 'var24', 'var25', 'var26',\n",
       "       'var27', 'var28', 'var29', 'var30', 'var31', 'var32', 'var33', 'var34',\n",
       "       'var35', 'var36', 'var37', 'var38', 'var39', 'var40', 'var41', 'var42',\n",
       "       'var43', 'var44', 'var45', 'var46', 'var47', 'var48', 'var49'],\n",
       "      dtype='object')),\n",
       "                                                 ('c',\n",
       "                                                  Pipeline(steps=[('ohe',\n",
       "                                                                   OneHotEncoder(drop='first'))]),\n",
       "                                                  Index(['var0', 'var1', 'var2'], dtype='object'))])),\n",
       "                ('clust', KMeans()),\n",
       "                ('tr', LogisticRegression(C=1, solver='liblinear'))])"
      ]
     },
     "execution_count": 30,
     "metadata": {},
     "output_type": "execute_result"
    }
   ],
   "source": [
    "from sklearn.linear_model import LogisticRegression\n",
    "from sklearn.model_selection import GridSearchCV\n",
    "from sklearn.preprocessing import StandardScaler\n",
    "from sklearn.preprocessing import OneHotEncoder\n",
    "from sklearn.pipeline import Pipeline\n",
    "from sklearn.compose import ColumnTransformer\n",
    "from sklearn.cluster import KMeans\n",
    "\n",
    "num_vars = X_train.select_dtypes('float').columns\n",
    "cat_vars = X_train.select_dtypes('object').columns\n",
    "\n",
    "n_pip = Pipeline([('sc', StandardScaler())])\n",
    "c_pip = Pipeline([('ohe', OneHotEncoder(drop='first'))])\n",
    "\n",
    "t_pip = ColumnTransformer(transformers=[('n', n_pip, num_vars), ('c', c_pip, cat_vars)])\n",
    "\n",
    "m_pip = Pipeline([('f_procs', t_pip),\n",
    "                  ('clust', KMeans()),\n",
    "                  ('tr', LogisticRegression(solver='liblinear'))])\n",
    "\n",
    "params = {'tr__C': [0.01, 0.1, 1, 10, 100],\n",
    "          'clust__n_clusters': [1, 2, 3, 4, 5, 6, 7, 8, 9, 10]\n",
    "         }\n",
    "tr_results = GridSearchCV(m_pip, param_grid=params)\n",
    "tr_results = tr_results.fit(X_train, y_train)\n",
    "\n",
    "tr_results.best_estimator_"
   ]
  },
  {
   "cell_type": "code",
   "execution_count": 31,
   "metadata": {},
   "outputs": [
    {
     "data": {
      "text/plain": [
       "0.9556250000000001"
      ]
     },
     "execution_count": 31,
     "metadata": {},
     "output_type": "execute_result"
    }
   ],
   "source": [
    "tr_results.best_score_"
   ]
  },
  {
   "cell_type": "code",
   "execution_count": 32,
   "metadata": {},
   "outputs": [
    {
     "data": {
      "text/plain": [
       "0.94375"
      ]
     },
     "execution_count": 32,
     "metadata": {},
     "output_type": "execute_result"
    }
   ],
   "source": [
    "tr_pred = tr_results.predict(X_test)\n",
    "\n",
    "from sklearn.metrics import accuracy_score\n",
    "accuracy_score(y_test, tr_pred)"
   ]
  },
  {
   "cell_type": "code",
   "execution_count": 33,
   "metadata": {},
   "outputs": [
    {
     "name": "stdout",
     "output_type": "stream",
     "text": [
      "              precision    recall  f1-score   support\n",
      "\n",
      "         0.0       0.90      0.99      0.95       394\n",
      "         1.0       0.99      0.89      0.94       406\n",
      "\n",
      "    accuracy                           0.94       800\n",
      "   macro avg       0.95      0.94      0.94       800\n",
      "weighted avg       0.95      0.94      0.94       800\n",
      "\n"
     ]
    }
   ],
   "source": [
    "from sklearn.metrics import classification_report\n",
    "\n",
    "print(classification_report(y_test, tr_pred))"
   ]
  },
  {
   "cell_type": "code",
   "execution_count": 34,
   "metadata": {},
   "outputs": [
    {
     "data": {
      "image/png": "[encoded data removed]",
      "text/plain": [
       "<Figure size 432x288 with 1 Axes>"
      ]
     },
     "metadata": {
      "needs_background": "light"
     },
     "output_type": "display_data"
    }
   ],
   "source": [
    "from sklearn.metrics import roc_curve\n",
    "\n",
    "fpr_test, tpr_test, thr_test = roc_curve(y_test, tr_results.predict_proba(X_test)[:,1])\n",
    "fpr_tr, tpr_tr, thr_tr = roc_curve(y_train, tr_results.predict_proba(X_train)[:,1])\n",
    "\n",
    "plt.plot(fpr_test, tpr_test, 'orange')\n",
    "plt.plot(fpr_tr, tpr_tr, 'blue')\n",
    "plt.plot(fpr_tr, fpr_tr, color='green', linestyle='dashed')\n",
    "plt.xlabel('False Positive Rate')\n",
    "plt.ylabel('True Positive Rate')\n",
    "plt.legend(['Test','Training'])\n",
    "plt.show()"
   ]
  },
  {
   "cell_type": "markdown",
   "metadata": {},
   "source": [
    "> Similar to #2 and #3 with regarding to the shape of the ROC curve. Likely little gains in evaluating different parameter values.\n",
    "\n",
    "\n",
    "> Performing refined search:"
   ]
  },
  {
   "cell_type": "code",
   "execution_count": 35,
   "metadata": {},
   "outputs": [
    {
     "data": {
      "text/plain": [
       "Pipeline(steps=[('f_procs',\n",
       "                 ColumnTransformer(transformers=[('n',\n",
       "                                                  Pipeline(steps=[('sc',\n",
       "                                                                   StandardScaler())]),\n",
       "                                                  Index(['var3', 'var4', 'var5', 'var6', 'var7', 'var8', 'var9', 'var10',\n",
       "       'var11', 'var12', 'var13', 'var14', 'var15', 'var16', 'var17', 'var18',\n",
       "       'var19', 'var20', 'var21', 'var22', 'var23', 'var24', 'var25', 'var26',\n",
       "       'var27', 'var28', 'var29', 'var30', 'var31', 'var32', 'var33', 'var34',\n",
       "       'var35', 'var36', 'var37', 'var38', 'var39', 'var40', 'var41', 'var42',\n",
       "       'var43', 'var44', 'var45', 'var46', 'var47', 'var48', 'var49'],\n",
       "      dtype='object')),\n",
       "                                                 ('c',\n",
       "                                                  Pipeline(steps=[('ohe',\n",
       "                                                                   OneHotEncoder(drop='first'))]),\n",
       "                                                  Index(['var0', 'var1', 'var2'], dtype='object'))])),\n",
       "                ('clust', KMeans(n_clusters=7)),\n",
       "                ('tr', LogisticRegression(C=0.35, solver='liblinear'))])"
      ]
     },
     "execution_count": 35,
     "metadata": {},
     "output_type": "execute_result"
    }
   ],
   "source": [
    "from sklearn.linear_model import LogisticRegression\n",
    "from sklearn.model_selection import GridSearchCV\n",
    "from sklearn.preprocessing import StandardScaler\n",
    "from sklearn.preprocessing import OneHotEncoder\n",
    "from sklearn.pipeline import Pipeline\n",
    "from sklearn.compose import ColumnTransformer\n",
    "from sklearn.cluster import KMeans\n",
    "\n",
    "num_vars = X_train.select_dtypes('float').columns\n",
    "cat_vars = X_train.select_dtypes('object').columns\n",
    "\n",
    "n_pip = Pipeline([('sc', StandardScaler())])\n",
    "c_pip = Pipeline([('ohe', OneHotEncoder(drop='first'))])\n",
    "\n",
    "t_pip = ColumnTransformer(transformers=[('n', n_pip, num_vars), ('c', c_pip, cat_vars)])\n",
    "\n",
    "m_pip = Pipeline([('f_procs', t_pip),\n",
    "                  ('clust', KMeans()),\n",
    "                  ('tr', LogisticRegression(solver='liblinear'))])\n",
    "\n",
    "params = {'tr__C': [0.1, 0.35, 0.70, 1, 2, 5, 7, 10],\n",
    "          'clust__n_clusters': [1, 2, 3, 4, 5, 6, 7, 8, 9, 10]\n",
    "         }\n",
    "tr_results = GridSearchCV(m_pip, param_grid=params)\n",
    "tr_results = tr_results.fit(X_train, y_train)\n",
    "\n",
    "tr_results.best_estimator_"
   ]
  },
  {
   "cell_type": "code",
   "execution_count": 36,
   "metadata": {},
   "outputs": [
    {
     "data": {
      "text/plain": [
       "0.9556250000000001"
      ]
     },
     "execution_count": 36,
     "metadata": {},
     "output_type": "execute_result"
    }
   ],
   "source": [
    "tr_results.best_score_"
   ]
  },
  {
   "cell_type": "code",
   "execution_count": 37,
   "metadata": {},
   "outputs": [
    {
     "data": {
      "text/plain": [
       "0.9425"
      ]
     },
     "execution_count": 37,
     "metadata": {},
     "output_type": "execute_result"
    }
   ],
   "source": [
    "tr_pred = tr_results.predict(X_test)\n",
    "\n",
    "from sklearn.metrics import accuracy_score\n",
    "accuracy_score(y_test, tr_pred)"
   ]
  },
  {
   "cell_type": "code",
   "execution_count": 38,
   "metadata": {},
   "outputs": [
    {
     "name": "stdout",
     "output_type": "stream",
     "text": [
      "              precision    recall  f1-score   support\n",
      "\n",
      "         0.0       0.90      0.99      0.94       394\n",
      "         1.0       0.99      0.89      0.94       406\n",
      "\n",
      "    accuracy                           0.94       800\n",
      "   macro avg       0.95      0.94      0.94       800\n",
      "weighted avg       0.95      0.94      0.94       800\n",
      "\n"
     ]
    }
   ],
   "source": [
    "from sklearn.metrics import classification_report\n",
    "\n",
    "print(classification_report(y_test, tr_pred))"
   ]
  },
  {
   "cell_type": "markdown",
   "metadata": {},
   "source": [
    "> No significant differences between searches."
   ]
  },
  {
   "cell_type": "code",
   "execution_count": 39,
   "metadata": {},
   "outputs": [],
   "source": [
    "fpr3_test, tpr3_test, thr_test = roc_curve(y_test, tr_results.predict_proba(X_test)[:,1])"
   ]
  },
  {
   "cell_type": "markdown",
   "metadata": {},
   "source": [
    "# Question 5\n",
    "- Which model, based on the results of `Questions 2-4` would you recommend to use?  \n",
    "- Use as much code as necessary to support your choice."
   ]
  },
  {
   "cell_type": "markdown",
   "metadata": {},
   "source": [
    "> Differences in performance statistics:"
   ]
  },
  {
   "cell_type": "code",
   "execution_count": 40,
   "metadata": {},
   "outputs": [
    {
     "name": "stdout",
     "output_type": "stream",
     "text": [
      "Logistic Regression:\n",
      "              precision    recall  f1-score   support\n",
      "\n",
      "         0.0       0.88      0.99      0.93       394\n",
      "         1.0       0.99      0.86      0.92       406\n",
      "\n",
      "    accuracy                           0.93       800\n",
      "   macro avg       0.94      0.93      0.93       800\n",
      "weighted avg       0.94      0.93      0.93       800\n",
      "\n",
      "Logistic Regression w/ PCA:\n",
      "              precision    recall  f1-score   support\n",
      "\n",
      "         0.0       0.88      0.99      0.93       394\n",
      "         1.0       0.99      0.87      0.93       406\n",
      "\n",
      "    accuracy                           0.93       800\n",
      "   macro avg       0.94      0.93      0.93       800\n",
      "weighted avg       0.94      0.93      0.93       800\n",
      "\n",
      "Logistic Regression w/ Clustering:\n",
      "              precision    recall  f1-score   support\n",
      "\n",
      "         0.0       0.90      0.99      0.94       394\n",
      "         1.0       0.99      0.89      0.94       406\n",
      "\n",
      "    accuracy                           0.94       800\n",
      "   macro avg       0.95      0.94      0.94       800\n",
      "weighted avg       0.95      0.94      0.94       800\n",
      "\n"
     ]
    }
   ],
   "source": [
    "print('Logistic Regression:')\n",
    "print(classification_report(y_test, glm_pred))\n",
    "\n",
    "print('Logistic Regression w/ PCA:')\n",
    "print(classification_report(y_test, glm_pred2))\n",
    "\n",
    "print('Logistic Regression w/ Clustering:')\n",
    "print(classification_report(y_test, tr_pred))"
   ]
  },
  {
   "cell_type": "markdown",
   "metadata": {},
   "source": [
    "The modeling with clustering has slightly higher statistics than the other models, though it likely isn't statistically significant. Precision is essentially identical across models, however, the clustering model as 2-3 point higher recall than the other models."
   ]
  },
  {
   "cell_type": "markdown",
   "metadata": {},
   "source": [
    "> Differences in the ROC curves:"
   ]
  },
  {
   "cell_type": "code",
   "execution_count": 41,
   "metadata": {},
   "outputs": [
    {
     "data": {
      "image/png": "[encoded data removed]",
      "text/plain": [
       "<Figure size 432x288 with 1 Axes>"
      ]
     },
     "metadata": {
      "needs_background": "light"
     },
     "output_type": "display_data"
    }
   ],
   "source": [
    "plt.plot(fpr1_test, tpr1_test, 'orange')\n",
    "plt.plot(fpr2_test, tpr2_test, 'blue')\n",
    "plt.plot(fpr3_test, tpr3_test, 'black')\n",
    "plt.plot(fpr_tr, fpr_tr, color='green', linestyle='dashed')\n",
    "plt.xlabel('False Positive Rate')\n",
    "plt.ylabel('True Positive Rate')\n",
    "plt.legend(['Vanilla LR','LR w/ PCA', 'LR w/ k-Means'])\n",
    "plt.show()"
   ]
  },
  {
   "cell_type": "markdown",
   "metadata": {},
   "source": [
    "ROC curves are almost identical, slightly bigger AUC for the LR that used k-Means."
   ]
  },
  {
   "cell_type": "code",
   "execution_count": 42,
   "metadata": {},
   "outputs": [
    {
     "name": "stdout",
     "output_type": "stream",
     "text": [
      "Vanilla LR AUC: 93.93%\n",
      "LR w/ PCA AUC: 93.38%\n",
      "LR w/ k-Means AUC: 95.01%\n"
     ]
    }
   ],
   "source": [
    "from sklearn.metrics import roc_auc_score\n",
    "\n",
    "vanilla = roc_auc_score(y_test, glm_results.predict_proba(X_test)[:,1]) \n",
    "w_pca = roc_auc_score(y_test, glm_results2.predict_proba(X_test)[:,1])\n",
    "w_kmn = roc_auc_score(y_test, tr_results.predict_proba(X_test)[:,1])\n",
    "\n",
    "print(f'Vanilla LR AUC: {vanilla:.2%}')\n",
    "print(f'LR w/ PCA AUC: {w_pca:.2%}')\n",
    "print(f'LR w/ k-Means AUC: {w_kmn:.2%}')"
   ]
  },
  {
   "cell_type": "markdown",
   "metadata": {},
   "source": [
    "> Based on slightly better performance statistics (accuracy and recall) and larger AUC for the ROC curves, the k-means preprocessing seems to produce the best model, though the others are close. Since there wasn't a significant runtime difference, we should go with the k-Means model."
   ]
  },
  {
   "cell_type": "code",
   "execution_count": null,
   "metadata": {},
   "outputs": [],
   "source": []
  }
 ],
 "metadata": {
  "kernelspec": {
   "display_name": "Python 3.7.3 64-bit ('base': conda)",
   "language": "python",
   "name": "python37364bitbaseconda3e66817595a24f3b851fad3315f1c145"
  },
  "language_info": {
   "codemirror_mode": {
    "name": "ipython",
    "version": 3
   },
   "file_extension": ".py",
   "mimetype": "text/x-python",
   "name": "python",
   "nbconvert_exporter": "python",
   "pygments_lexer": "ipython3",
   "version": "3.7.3"
  }
 },
 "nbformat": 4,
 "nbformat_minor": 4
}
